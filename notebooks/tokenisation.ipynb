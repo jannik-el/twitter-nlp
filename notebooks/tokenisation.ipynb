{
 "cells": [
  {
   "cell_type": "markdown",
   "source": "## Tokenisation Notebook",
   "metadata": {
    "cell_id": "bfc52e454f5c431999de40ab0bedbc32",
    "tags": [],
    "deepnote_cell_type": "markdown",
    "deepnote_cell_height": 69.9375
   }
  },
  {
   "cell_type": "markdown",
   "source": "##### Example Hate\nhttps://huggingface.co/cardiffnlp/twitter-roberta-base-hate?text=I+like+you.+I+love+you\n\n##### Example Emojis\nhttps://huggingface.co/cardiffnlp/twitter-roberta-base-emoji",
   "metadata": {
    "cell_id": "236b439e34944097853bebe6159fe993",
    "tags": [],
    "deepnote_cell_type": "markdown",
    "deepnote_cell_height": 166.71875
   }
  },
  {
   "cell_type": "markdown",
   "source": "Christian's tokeniser code:",
   "metadata": {
    "cell_id": "cb942ffed7904bde90b6ed436128e79f",
    "tags": [],
    "deepnote_cell_type": "markdown",
    "deepnote_cell_height": 52.328125
   }
  },
  {
   "cell_type": "code",
   "metadata": {
    "cell_id": "bd99fbf3b0df42a095a8501ca08a45e0",
    "tags": [],
    "deepnote_to_be_reexecuted": false,
    "source_hash": "8eab353f",
    "execution_start": 1650969156868,
    "execution_millis": 1244,
    "deepnote_cell_type": "code",
    "deepnote_cell_height": 80.9375
   },
   "source": "from nltk.tokenize import word_tokenize",
   "execution_count": null,
   "outputs": []
  },
  {
   "cell_type": "code",
   "metadata": {
    "cell_id": "000863f853214f9d9fcf626bda17ccdd",
    "tags": [],
    "deepnote_to_be_reexecuted": false,
    "source_hash": "a165e8f2",
    "execution_start": 1650959900329,
    "execution_millis": 20,
    "owner_user_id": "9623fb47-3762-4ef5-9146-5aaf0f397ef0",
    "deepnote_cell_type": "code",
    "deepnote_cell_height": 800.921875
   },
   "source": "import re\n\nline = 'A cat sat on the mat. His name was Måns.'\n\ndef tokenize(line):\n    # Initialise lists\n    tokens = []\n    unmatchable = []\n\n    # Compile patterns for speedup\n    token_pat = re.compile(r'\\w+')\n    skippable_pat = re.compile(r'\\s+')  # typically spaces\n\n    # As long as there's any material left...\n    while line:\n        # Try finding a skippable token delimiter first.\n        skippable_match = re.search(skippable_pat, line)\n        if skippable_match and skippable_match.start() == 0:\n            # If there is one at the beginning of the line, just skip it.\n            line = line[skippable_match.end():]\n        else:\n            # Else try finding a real token.\n            token_match = re.search(token_pat, line)\n            if token_match and token_match.start() == 0:\n                # If there is one at the beginning of the line, tokenise it.\n                tokens.append(line[:token_match.end()])\n                line = line[token_match.end():]\n            else:\n                # Else there is unmatchable material here.\n                # It ends where a skippable or token match starts, or at the end of the line.\n                unmatchable_end = len(line)\n                if skippable_match:\n                    unmatchable_end = skippable_match.start()\n                if token_match:\n                    unmatchable_end = min(unmatchable_end, token_match.start())\n                # Add it to unmatchable and discard from line.\n                unmatchable.append(line[:unmatchable_end])\n                line = line[unmatchable_end:]\n\n    print(tokens)\n    print(unmatchable)",
   "execution_count": null,
   "outputs": []
  },
  {
   "cell_type": "code",
   "metadata": {
    "cell_id": "4c8404d6a7b141b99798b9dad57a56a4",
    "tags": [],
    "deepnote_to_be_reexecuted": false,
    "source_hash": "935b615",
    "execution_start": 1650959900354,
    "execution_millis": 46,
    "owner_user_id": "e1e4b2ef-b70d-4b00-91da-fa585f52d0ab",
    "deepnote_cell_type": "code",
    "deepnote_cell_height": 154.140625
   },
   "source": "line2= \"~40 million SSI numbers have been stolen & used by Illegal Aliens to get work, according to agency records!\"\"~Obama stopped sending notice to employers notifying them when numbers don't match their identity!@realDonaldTrump! #BuildTheWall #DeportThemAll!\"\ntokenize(line2)",
   "execution_count": null,
   "outputs": [
    {
     "name": "stdout",
     "text": "['40', 'million', 'SSI', 'numbers', 'have', 'been', 'stolen', 'used', 'by', 'Illegal', 'Aliens', 'to', 'get', 'work', 'according', 'to', 'agency', 'records', 'Obama', 'stopped', 'sending', 'notice', 'to', 'employers', 'notifying', 'them', 'when', 'numbers', 'don', 't', 'match', 'their', 'identity', 'realDonaldTrump', 'BuildTheWall', 'DeportThemAll']\n['~', '&', ',', '!~', \"'\", '!@', '!', '#', '#', '!']\n",
     "output_type": "stream"
    }
   ]
  },
  {
   "cell_type": "markdown",
   "source": "### Tokenisation Features we want to look out for:\n- \"..\"\n    - two or more dots (ignore spaces), mean ending of sentence or verbal pause\n- \"#topic\"\n    - one token block\n    - if at end of sentence, create new sentence with topic list (not part of the \"speech\")\n- \"@username\"\n    - one token block, shows directed speech\n- emojis\n    - convert to words\n- \" | \"\n    - news header to the left of the line, comment on news comes afterwards\n- \"https:\"/\"http:\"\n    - link, ignore\n- email address\n    - remove\n\n",
   "metadata": {
    "cell_id": "d1a9e0f991a041898fc648c01e35046f",
    "tags": [],
    "owner_user_id": "45a6018d-478f-44a5-9821-6cf675d1fe14",
    "deepnote_cell_type": "markdown",
    "deepnote_cell_height": 535.796875
   }
  },
  {
   "cell_type": "markdown",
   "source": "Jannik's Implementation:",
   "metadata": {
    "cell_id": "d2ba161329254f37809b66b0cff23601",
    "tags": [],
    "deepnote_cell_type": "markdown",
    "deepnote_cell_height": 52.328125
   }
  },
  {
   "cell_type": "code",
   "metadata": {
    "cell_id": "ced060f9a91c4edaa50631cefaa47020",
    "tags": [],
    "deepnote_to_be_reexecuted": false,
    "source_hash": "9ddd58cf",
    "execution_start": 1650959918713,
    "execution_millis": 19,
    "deepnote_cell_type": "code",
    "deepnote_cell_height": 183.9375
   },
   "source": "import re\n\nstring = \"test one two three four. well this is stupid. hahaha\"\nmatch = re.split(r'(?<!\\w\\.\\w.)(?<![A-Z][a-z]\\.)(?<=\\.|\\?)\\s', string)\nprint(match)",
   "execution_count": null,
   "outputs": [
    {
     "name": "stdout",
     "text": "['test one two three four.', 'well this is stupid.', 'hahaha']\n",
     "output_type": "stream"
    }
   ]
  },
  {
   "cell_type": "code",
   "metadata": {
    "cell_id": "dba1669393bd45b292019b80d3fb763b",
    "tags": [],
    "deepnote_to_be_reexecuted": false,
    "source_hash": "fb578703",
    "execution_start": 1650959950794,
    "execution_millis": 1,
    "deepnote_cell_type": "code",
    "deepnote_cell_height": 98.921875
   },
   "source": "'''Skipping: e-mail addresses, links, spaces'''\nskippable_pat = re.compile(r'\\s+|https.*|www.*|http.*|[a-zA-Z0-9_.+-]+@[a-zA-Z0-9-]+\\.[a-zA-Z0-9-.]+')  ",
   "execution_count": null,
   "outputs": []
  },
  {
   "cell_type": "markdown",
   "source": "Emoji and emoticon conversion:",
   "metadata": {
    "cell_id": "7bfec103ed2e4e96b92e0b9c77b4dd31",
    "tags": [],
    "deepnote_cell_type": "markdown",
    "deepnote_cell_height": 52.328125
   }
  },
  {
   "cell_type": "code",
   "metadata": {
    "cell_id": "184ad58fd18e4f3bb388a1a696786682",
    "tags": [],
    "deepnote_to_be_reexecuted": true,
    "source_hash": "e11a3871",
    "execution_start": 1650537337369,
    "execution_millis": 428,
    "owner_user_id": "d412078e-b60c-4eb9-a4b6-2f0edcac48d2",
    "deepnote_cell_type": "code",
    "deepnote_cell_height": 316.09375,
    "deepnote_output_heights": [
     21.1875
    ]
   },
   "source": "from emot.emo_unicode import UNICODE_EMOJI, UNICODE_EMOJI_ALIAS, EMOTICONS_EMO\nfrom flashtext import KeywordProcessor\n\n## formatting\nall_emoji_emoticons = {**EMOTICONS_EMO,**UNICODE_EMOJI_ALIAS, **UNICODE_EMOJI_ALIAS}\nall_emoji_emoticons = {k:v.replace(\":\",\"\").replace(\"_\",\" \").strip() for k,v in all_emoji_emoticons.items()}\n\nkp_all_emoji_emoticons = KeywordProcessor()\nfor k,v in all_emoji_emoticons.items():\n    kp_all_emoji_emoticons.add_keyword(k, v)\nkp_all_emoji_emoticons.replace_keywords('I am an 👽 hehe :-)). Lets try another one 😲. It seems 👌')\n",
   "execution_count": null,
   "outputs": [
    {
     "output_type": "execute_result",
     "execution_count": 3,
     "data": {
      "text/plain": "'I am an alien hehe Very happy. Lets try another one astonished. It seems ok hand'"
     },
     "metadata": {}
    }
   ]
  },
  {
   "cell_type": "markdown",
   "source": "<a style='text-decoration:none;line-height:16px;display:flex;color:#5B5B62;padding:10px;justify-content:end;' href='https://deepnote.com?utm_source=created-in-deepnote-cell&projectId=bf1f20fb-a6c0-4ea2-8567-a5a41eea1d8a' target=\"_blank\">\n<img alt='Created in deepnote.com' style='display:inline;max-height:16px;margin:0px;margin-right:7.5px;' src='data:image/svg+xml;base64,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' > </img>\nCreated in <span style='font-weight:600;margin-left:4px;'>Deepnote</span></a>",
   "metadata": {
    "tags": [],
    "created_in_deepnote_cell": true,
    "deepnote_cell_type": "markdown"
   }
  }
 ],
 "nbformat": 4,
 "nbformat_minor": 2,
 "metadata": {
  "orig_nbformat": 2,
  "deepnote": {},
  "deepnote_notebook_id": "8f91618a-136c-40cc-b70c-3236e6b6b954",
  "deepnote_execution_queue": []
 }
}