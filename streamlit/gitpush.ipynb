{
 "cells": [
  {
   "cell_type": "markdown",
   "source": "# Git Push Notebook",
   "metadata": {
    "formattedRanges": [],
    "cell_id": "29595284aa574c6bb40f62ed4641a02b",
    "tags": [],
    "is_collapsed": false,
    "deepnote_cell_type": "text-cell-h1"
   }
  },
  {
   "cell_type": "markdown",
   "source": "Notebook for pushing updates made to the streamlit scripts",
   "metadata": {
    "formattedRanges": [],
    "cell_id": "4aeffac2d4ee4ea6aecd9f96ad298738",
    "tags": [],
    "is_collapsed": false,
    "deepnote_cell_type": "text-cell-p"
   }
  },
  {
   "cell_type": "code",
   "metadata": {
    "tags": [],
    "cell_id": "226d8c22-3074-4d14-9c0e-55c0a6beaab3",
    "deepnote_to_be_reexecuted": false,
    "source_hash": "2d343090",
    "execution_start": 1655207203418,
    "execution_millis": 2056,
    "deepnote_cell_type": "code",
    "deepnote_cell_height": 489.3125
   },
   "source": "%%bash\ncd /work/twitter-nlp\ngit add -A\ngit commit -m \"manual deepnote streamlit update commit\"\ngit push",
   "execution_count": 1,
   "outputs": [
    {
     "name": "stdout",
     "text": "[main 6ace89b] manual deepnote streamlit update commit\n Committer: root <root@p-bf1f20fb-a6c0-4ea2-8567-a5a41eea1d8a.projects-domain.projects.svc.cluster.local>\nYour name and email address were configured automatically based\non your username and hostname. Please check that they are accurate.\nYou can suppress this message by setting them explicitly. Run the\nfollowing command and follow the instructions in your editor to edit\nyour configuration file:\n\n    git config --global --edit\n\nAfter doing this, you may fix the identity used for this commit with:\n\n    git commit --amend --reset-author\n\n 1 file changed, 11 insertions(+), 11 deletions(-)\nTo https://github.com/jannik-el/twitter-nlp.git\n   eaa32ed..6ace89b  main -> main\n",
     "output_type": "stream"
    }
   ]
  },
  {
   "cell_type": "markdown",
   "source": "https://share.streamlit.io/jannik-el/twitter-nlp/main/streamlit/main.py",
   "metadata": {
    "cell_id": "e11086767f064faba7aa8199f5bf5af8",
    "tags": [],
    "owner_user_id": "9623fb47-3762-4ef5-9146-5aaf0f397ef0",
    "deepnote_cell_type": "markdown",
    "deepnote_cell_height": 75.03125
   }
  },
  {
   "cell_type": "markdown",
   "source": "",
   "metadata": {
    "cell_id": "aaa1d7c2d3e74d77bd02f8fe9b7b4921",
    "tags": [],
    "deepnote_cell_type": "markdown",
    "deepnote_cell_height": 46.3125
   }
  },
  {
   "cell_type": "code",
   "source": "import pandas as pd",
   "metadata": {
    "cell_id": "d6db7ef728ee4f99ba17eeb664059e96",
    "tags": [],
    "deepnote_to_be_reexecuted": false,
    "source_hash": "9b82ee11",
    "execution_start": 1655207205474,
    "execution_millis": 6,
    "deepnote_cell_type": "code",
    "deepnote_cell_height": 81.3125
   },
   "outputs": [],
   "execution_count": 2
  },
  {
   "cell_type": "code",
   "source": "map_df = pd.DataFrame()\nemoji_map = ['❤', '😍', '😂', '💕', '🔥', '😊', '😎', '✨', '💙', '😘', '📷', '🇺🇸', '☀', '💜', '😉', '💯', '😁', '🎄', '📸', '😜']\nno_map = [i for i in range(0, 20)]\nmap_df[\"Emoji\"] = emoji_map\nmap_df[\"Mapping\"] = no_map\nmap_df",
   "metadata": {
    "cell_id": "0417dd8005d14858881f82f4a0182f48",
    "tags": [],
    "deepnote_to_be_reexecuted": false,
    "source_hash": "1037b4e3",
    "execution_start": 1655207236640,
    "execution_millis": 8,
    "owner_user_id": "45a6018d-478f-44a5-9821-6cf675d1fe14",
    "deepnote_cell_type": "code",
    "deepnote_cell_height": 714.09375
   },
   "outputs": [
    {
     "output_type": "execute_result",
     "execution_count": 4,
     "data": {
      "application/vnd.deepnote.dataframe.v3+json": {
       "column_count": 2,
       "row_count": 20,
       "columns": [
        {
         "name": "Emoji",
         "dtype": "object",
         "stats": {
          "unique_count": 20,
          "nan_count": 0,
          "categories": [
           {
            "name": "❤",
            "count": 1
           },
           {
            "name": "😍",
            "count": 1
           },
           {
            "name": "18 others",
            "count": 18
           }
          ]
         }
        },
        {
         "name": "Mapping",
         "dtype": "int64",
         "stats": {
          "unique_count": 20,
          "nan_count": 0,
          "min": "0",
          "max": "19",
          "histogram": [
           {
            "bin_start": 0,
            "bin_end": 1.9,
            "count": 2
           },
           {
            "bin_start": 1.9,
            "bin_end": 3.8,
            "count": 2
           },
           {
            "bin_start": 3.8,
            "bin_end": 5.699999999999999,
            "count": 2
           },
           {
            "bin_start": 5.699999999999999,
            "bin_end": 7.6,
            "count": 2
           },
           {
            "bin_start": 7.6,
            "bin_end": 9.5,
            "count": 2
           },
           {
            "bin_start": 9.5,
            "bin_end": 11.399999999999999,
            "count": 2
           },
           {
            "bin_start": 11.399999999999999,
            "bin_end": 13.299999999999999,
            "count": 2
           },
           {
            "bin_start": 13.299999999999999,
            "bin_end": 15.2,
            "count": 2
           },
           {
            "bin_start": 15.2,
            "bin_end": 17.099999999999998,
            "count": 2
           },
           {
            "bin_start": 17.099999999999998,
            "bin_end": 19,
            "count": 2
           }
          ]
         }
        },
        {
         "name": "_deepnote_index_column",
         "dtype": "int64"
        }
       ],
       "rows": [
        {
         "Emoji": "❤",
         "Mapping": 0,
         "_deepnote_index_column": 0
        },
        {
         "Emoji": "😍",
         "Mapping": 1,
         "_deepnote_index_column": 1
        },
        {
         "Emoji": "😂",
         "Mapping": 2,
         "_deepnote_index_column": 2
        },
        {
         "Emoji": "💕",
         "Mapping": 3,
         "_deepnote_index_column": 3
        },
        {
         "Emoji": "🔥",
         "Mapping": 4,
         "_deepnote_index_column": 4
        },
        {
         "Emoji": "😊",
         "Mapping": 5,
         "_deepnote_index_column": 5
        },
        {
         "Emoji": "😎",
         "Mapping": 6,
         "_deepnote_index_column": 6
        },
        {
         "Emoji": "✨",
         "Mapping": 7,
         "_deepnote_index_column": 7
        },
        {
         "Emoji": "💙",
         "Mapping": 8,
         "_deepnote_index_column": 8
        },
        {
         "Emoji": "😘",
         "Mapping": 9,
         "_deepnote_index_column": 9
        }
       ]
      },
      "text/plain": "   Emoji  Mapping\n0      ❤        0\n1      😍        1\n2      😂        2\n3      💕        3\n4      🔥        4\n5      😊        5\n6      😎        6\n7      ✨        7\n8      💙        8\n9      😘        9\n10     📷       10\n11    🇺🇸       11\n12     ☀       12\n13     💜       13\n14     😉       14\n15     💯       15\n16     😁       16\n17     🎄       17\n18     📸       18\n19     😜       19",
      "text/html": "<div>\n<style scoped>\n    .dataframe tbody tr th:only-of-type {\n        vertical-align: middle;\n    }\n\n    .dataframe tbody tr th {\n        vertical-align: top;\n    }\n\n    .dataframe thead th {\n        text-align: right;\n    }\n</style>\n<table border=\"1\" class=\"dataframe\">\n  <thead>\n    <tr style=\"text-align: right;\">\n      <th></th>\n      <th>Emoji</th>\n      <th>Mapping</th>\n    </tr>\n  </thead>\n  <tbody>\n    <tr>\n      <th>0</th>\n      <td>❤</td>\n      <td>0</td>\n    </tr>\n    <tr>\n      <th>1</th>\n      <td>😍</td>\n      <td>1</td>\n    </tr>\n    <tr>\n      <th>2</th>\n      <td>😂</td>\n      <td>2</td>\n    </tr>\n    <tr>\n      <th>3</th>\n      <td>💕</td>\n      <td>3</td>\n    </tr>\n    <tr>\n      <th>4</th>\n      <td>🔥</td>\n      <td>4</td>\n    </tr>\n    <tr>\n      <th>5</th>\n      <td>😊</td>\n      <td>5</td>\n    </tr>\n    <tr>\n      <th>6</th>\n      <td>😎</td>\n      <td>6</td>\n    </tr>\n    <tr>\n      <th>7</th>\n      <td>✨</td>\n      <td>7</td>\n    </tr>\n    <tr>\n      <th>8</th>\n      <td>💙</td>\n      <td>8</td>\n    </tr>\n    <tr>\n      <th>9</th>\n      <td>😘</td>\n      <td>9</td>\n    </tr>\n    <tr>\n      <th>10</th>\n      <td>📷</td>\n      <td>10</td>\n    </tr>\n    <tr>\n      <th>11</th>\n      <td>🇺🇸</td>\n      <td>11</td>\n    </tr>\n    <tr>\n      <th>12</th>\n      <td>☀</td>\n      <td>12</td>\n    </tr>\n    <tr>\n      <th>13</th>\n      <td>💜</td>\n      <td>13</td>\n    </tr>\n    <tr>\n      <th>14</th>\n      <td>😉</td>\n      <td>14</td>\n    </tr>\n    <tr>\n      <th>15</th>\n      <td>💯</td>\n      <td>15</td>\n    </tr>\n    <tr>\n      <th>16</th>\n      <td>😁</td>\n      <td>16</td>\n    </tr>\n    <tr>\n      <th>17</th>\n      <td>🎄</td>\n      <td>17</td>\n    </tr>\n    <tr>\n      <th>18</th>\n      <td>📸</td>\n      <td>18</td>\n    </tr>\n    <tr>\n      <th>19</th>\n      <td>😜</td>\n      <td>19</td>\n    </tr>\n  </tbody>\n</table>\n</div>"
     },
     "metadata": {}
    }
   ],
   "execution_count": 4
  },
  {
   "cell_type": "code",
   "source": "",
   "metadata": {
    "cell_id": "8ba78be5b26e40338abae8906625c3f9",
    "tags": [],
    "deepnote_to_be_reexecuted": false,
    "source_hash": "b623e53d",
    "execution_start": 1655207205567,
    "execution_millis": 0,
    "deepnote_cell_type": "code",
    "deepnote_cell_height": 81.3125
   },
   "outputs": [],
   "execution_count": 3
  },
  {
   "cell_type": "markdown",
   "source": "<a style='text-decoration:none;line-height:16px;display:flex;color:#5B5B62;padding:10px;justify-content:end;' href='https://deepnote.com?utm_source=created-in-deepnote-cell&projectId=bf1f20fb-a6c0-4ea2-8567-a5a41eea1d8a' target=\"_blank\">\n<img alt='Created in deepnote.com' style='display:inline;max-height:16px;margin:0px;margin-right:7.5px;' src='data:image/svg+xml;base64,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' > </img>\nCreated in <span style='font-weight:600;margin-left:4px;'>Deepnote</span></a>",
   "metadata": {
    "tags": [],
    "created_in_deepnote_cell": true,
    "deepnote_cell_type": "markdown"
   }
  }
 ],
 "nbformat": 4,
 "nbformat_minor": 2,
 "metadata": {
  "orig_nbformat": 2,
  "deepnote": {},
  "deepnote_notebook_id": "389eb558-53b3-428a-83ee-7a6faef129ab",
  "deepnote_execution_queue": []
 }
}