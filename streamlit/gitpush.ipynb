{
 "cells": [
  {
   "cell_type": "markdown",
   "source": "# Git Push Notebook",
   "metadata": {
    "formattedRanges": [],
    "cell_id": "29595284aa574c6bb40f62ed4641a02b",
    "tags": [],
    "is_collapsed": false,
    "deepnote_cell_type": "text-cell-h1"
   }
  },
  {
   "cell_type": "markdown",
   "source": "Notebook for pushing updates made to the streamlit scripts",
   "metadata": {
    "formattedRanges": [],
    "cell_id": "4aeffac2d4ee4ea6aecd9f96ad298738",
    "tags": [],
    "is_collapsed": false,
    "deepnote_cell_type": "text-cell-p"
   }
  },
  {
   "cell_type": "code",
   "metadata": {
    "tags": [],
    "cell_id": "226d8c22-3074-4d14-9c0e-55c0a6beaab3",
    "deepnote_to_be_reexecuted": false,
    "source_hash": "2d343090",
    "execution_start": 1655207129950,
    "execution_millis": 2423,
    "deepnote_cell_type": "code",
    "deepnote_cell_height": 489.3125
   },
   "source": "%%bash\ncd /work/twitter-nlp\ngit add -A\ngit commit -m \"manual deepnote streamlit update commit\"\ngit push",
   "execution_count": 2,
   "outputs": [
    {
     "name": "stdout",
     "text": "[main 73c69e9] manual deepnote streamlit update commit\n Committer: root <root@p-bf1f20fb-a6c0-4ea2-8567-a5a41eea1d8a.projects-domain.projects.svc.cluster.local>\nYour name and email address were configured automatically based\non your username and hostname. Please check that they are accurate.\nYou can suppress this message by setting them explicitly. Run the\nfollowing command and follow the instructions in your editor to edit\nyour configuration file:\n\n    git config --global --edit\n\nAfter doing this, you may fix the identity used for this commit with:\n\n    git commit --amend --reset-author\n\n 1 file changed, 7 insertions(+), 7 deletions(-)\nTo https://github.com/jannik-el/twitter-nlp.git\n   2a546b5..73c69e9  main -> main\n",
     "output_type": "stream"
    }
   ]
  },
  {
   "cell_type": "markdown",
   "source": "https://share.streamlit.io/jannik-el/twitter-nlp/main/streamlit/main.py",
   "metadata": {
    "cell_id": "e11086767f064faba7aa8199f5bf5af8",
    "tags": [],
    "owner_user_id": "9623fb47-3762-4ef5-9146-5aaf0f397ef0",
    "deepnote_cell_type": "markdown",
    "deepnote_cell_height": 75.03125
   }
  },
  {
   "cell_type": "markdown",
   "source": "",
   "metadata": {
    "cell_id": "aaa1d7c2d3e74d77bd02f8fe9b7b4921",
    "tags": [],
    "deepnote_cell_type": "markdown",
    "deepnote_cell_height": 46.3125
   }
  },
  {
   "cell_type": "code",
   "source": "import pandas as pd",
   "metadata": {
    "cell_id": "d6db7ef728ee4f99ba17eeb664059e96",
    "tags": [],
    "deepnote_to_be_reexecuted": false,
    "source_hash": "9b82ee11",
    "execution_start": 1655207165566,
    "execution_millis": 0,
    "deepnote_cell_type": "code",
    "deepnote_cell_height": 81.3125
   },
   "outputs": [],
   "execution_count": 4
  },
  {
   "cell_type": "code",
   "source": "map_df = pd.DataFrame()\nemoji_map = ['❤', '😍', '😂', '💕', '🔥', '😊', '😎', '✨', '💙', '😘', '📷', '🇺🇸', '☀', '💜', '😉', '💯', '😁', '🎄', '📸', '😜']\nno_map = [i for i in range(0, 20)]\nmap_df[\"Emoji\"] = emoji_map\nmap_df[\"Mapping\"] = no_map\nmap_df = map_df.T\nmap_df",
   "metadata": {
    "cell_id": "0417dd8005d14858881f82f4a0182f48",
    "tags": [],
    "deepnote_to_be_reexecuted": false,
    "source_hash": "9e3d97a5",
    "execution_start": 1655207174003,
    "execution_millis": 42,
    "deepnote_cell_type": "code",
    "deepnote_cell_height": 171.3125
   },
   "outputs": [
    {
     "output_type": "execute_result",
     "execution_count": 6,
     "data": {
      "application/vnd.deepnote.dataframe.v3+json": {
       "column_count": 20,
       "row_count": 2,
       "columns": [
        {
         "name": 0,
         "dtype": "object",
         "stats": {
          "unique_count": 2,
          "nan_count": 0,
          "categories": [
           {
            "name": "❤",
            "count": 1
           },
           {
            "name": "0",
            "count": 1
           }
          ]
         }
        },
        {
         "name": 1,
         "dtype": "object",
         "stats": {
          "unique_count": 2,
          "nan_count": 0,
          "categories": [
           {
            "name": "😍",
            "count": 1
           },
           {
            "name": "1",
            "count": 1
           }
          ]
         }
        },
        {
         "name": 2,
         "dtype": "object",
         "stats": {
          "unique_count": 2,
          "nan_count": 0,
          "categories": [
           {
            "name": "😂",
            "count": 1
           },
           {
            "name": "2",
            "count": 1
           }
          ]
         }
        },
        {
         "name": 3,
         "dtype": "object",
         "stats": {
          "unique_count": 2,
          "nan_count": 0,
          "categories": [
           {
            "name": "💕",
            "count": 1
           },
           {
            "name": "3",
            "count": 1
           }
          ]
         }
        },
        {
         "name": 4,
         "dtype": "object",
         "stats": {
          "unique_count": 2,
          "nan_count": 0,
          "categories": [
           {
            "name": "🔥",
            "count": 1
           },
           {
            "name": "4",
            "count": 1
           }
          ]
         }
        },
        {
         "name": 5,
         "dtype": "object",
         "stats": {
          "unique_count": 2,
          "nan_count": 0,
          "categories": [
           {
            "name": "😊",
            "count": 1
           },
           {
            "name": "5",
            "count": 1
           }
          ]
         }
        },
        {
         "name": 6,
         "dtype": "object",
         "stats": {
          "unique_count": 2,
          "nan_count": 0,
          "categories": [
           {
            "name": "😎",
            "count": 1
           },
           {
            "name": "6",
            "count": 1
           }
          ]
         }
        },
        {
         "name": 7,
         "dtype": "object",
         "stats": {
          "unique_count": 2,
          "nan_count": 0,
          "categories": [
           {
            "name": "✨",
            "count": 1
           },
           {
            "name": "7",
            "count": 1
           }
          ]
         }
        },
        {
         "name": 8,
         "dtype": "object",
         "stats": {
          "unique_count": 2,
          "nan_count": 0,
          "categories": [
           {
            "name": "💙",
            "count": 1
           },
           {
            "name": "8",
            "count": 1
           }
          ]
         }
        },
        {
         "name": 9,
         "dtype": "object",
         "stats": {
          "unique_count": 2,
          "nan_count": 0,
          "categories": [
           {
            "name": "😘",
            "count": 1
           },
           {
            "name": "9",
            "count": 1
           }
          ]
         }
        },
        {
         "name": 10,
         "dtype": "object",
         "stats": {
          "unique_count": 2,
          "nan_count": 0,
          "categories": [
           {
            "name": "📷",
            "count": 1
           },
           {
            "name": "10",
            "count": 1
           }
          ]
         }
        },
        {
         "name": 11,
         "dtype": "object",
         "stats": {
          "unique_count": 2,
          "nan_count": 0,
          "categories": [
           {
            "name": "🇺🇸",
            "count": 1
           },
           {
            "name": "11",
            "count": 1
           }
          ]
         }
        },
        {
         "name": 12,
         "dtype": "object",
         "stats": {
          "unique_count": 2,
          "nan_count": 0,
          "categories": [
           {
            "name": "☀",
            "count": 1
           },
           {
            "name": "12",
            "count": 1
           }
          ]
         }
        },
        {
         "name": 13,
         "dtype": "object",
         "stats": {
          "unique_count": 2,
          "nan_count": 0,
          "categories": [
           {
            "name": "💜",
            "count": 1
           },
           {
            "name": "13",
            "count": 1
           }
          ]
         }
        },
        {
         "name": 14,
         "dtype": "object",
         "stats": {
          "unique_count": 2,
          "nan_count": 0,
          "categories": [
           {
            "name": "😉",
            "count": 1
           },
           {
            "name": "14",
            "count": 1
           }
          ]
         }
        },
        {
         "name": 15,
         "dtype": "object",
         "stats": {
          "unique_count": 2,
          "nan_count": 0,
          "categories": [
           {
            "name": "💯",
            "count": 1
           },
           {
            "name": "15",
            "count": 1
           }
          ]
         }
        },
        {
         "name": 16,
         "dtype": "object",
         "stats": {
          "unique_count": 2,
          "nan_count": 0,
          "categories": [
           {
            "name": "😁",
            "count": 1
           },
           {
            "name": "16",
            "count": 1
           }
          ]
         }
        },
        {
         "name": 17,
         "dtype": "object",
         "stats": {
          "unique_count": 2,
          "nan_count": 0,
          "categories": [
           {
            "name": "🎄",
            "count": 1
           },
           {
            "name": "17",
            "count": 1
           }
          ]
         }
        },
        {
         "name": 18,
         "dtype": "object",
         "stats": {
          "unique_count": 2,
          "nan_count": 0,
          "categories": [
           {
            "name": "📸",
            "count": 1
           },
           {
            "name": "18",
            "count": 1
           }
          ]
         }
        },
        {
         "name": 19,
         "dtype": "object",
         "stats": {
          "unique_count": 2,
          "nan_count": 0,
          "categories": [
           {
            "name": "😜",
            "count": 1
           },
           {
            "name": "19",
            "count": 1
           }
          ]
         }
        },
        {
         "name": "_deepnote_index_column",
         "dtype": "object"
        }
       ],
       "rows": [
        {
         "0": "❤",
         "1": "😍",
         "2": "😂",
         "3": "💕",
         "4": "🔥",
         "5": "😊",
         "6": "😎",
         "7": "✨",
         "8": "💙",
         "9": "😘",
         "10": "📷",
         "11": "🇺🇸",
         "12": "☀",
         "13": "💜",
         "14": "😉",
         "15": "💯",
         "16": "😁",
         "17": "🎄",
         "18": "📸",
         "19": "😜",
         "_deepnote_index_column": "Emoji"
        },
        {
         "0": "0",
         "1": "1",
         "2": "2",
         "3": "3",
         "4": "4",
         "5": "5",
         "6": "6",
         "7": "7",
         "8": "8",
         "9": "9",
         "10": "10",
         "11": "11",
         "12": "12",
         "13": "13",
         "14": "14",
         "15": "15",
         "16": "16",
         "17": "17",
         "18": "18",
         "19": "19",
         "_deepnote_index_column": "Mapping"
        }
       ]
      },
      "text/plain": "        0  1  2  3  4  5  6  7  8  9   10  11  12  13  14  15  16  17  18  19\nEmoji    ❤  😍  😂  💕  🔥  😊  😎  ✨  💙  😘   📷  🇺🇸   ☀   💜   😉   💯   😁   🎄   📸   😜\nMapping  0  1  2  3  4  5  6  7  8  9  10  11  12  13  14  15  16  17  18  19",
      "text/html": "<div>\n<style scoped>\n    .dataframe tbody tr th:only-of-type {\n        vertical-align: middle;\n    }\n\n    .dataframe tbody tr th {\n        vertical-align: top;\n    }\n\n    .dataframe thead th {\n        text-align: right;\n    }\n</style>\n<table border=\"1\" class=\"dataframe\">\n  <thead>\n    <tr style=\"text-align: right;\">\n      <th></th>\n      <th>0</th>\n      <th>1</th>\n      <th>2</th>\n      <th>3</th>\n      <th>4</th>\n      <th>5</th>\n      <th>6</th>\n      <th>7</th>\n      <th>8</th>\n      <th>9</th>\n      <th>10</th>\n      <th>11</th>\n      <th>12</th>\n      <th>13</th>\n      <th>14</th>\n      <th>15</th>\n      <th>16</th>\n      <th>17</th>\n      <th>18</th>\n      <th>19</th>\n    </tr>\n  </thead>\n  <tbody>\n    <tr>\n      <th>Emoji</th>\n      <td>❤</td>\n      <td>😍</td>\n      <td>😂</td>\n      <td>💕</td>\n      <td>🔥</td>\n      <td>😊</td>\n      <td>😎</td>\n      <td>✨</td>\n      <td>💙</td>\n      <td>😘</td>\n      <td>📷</td>\n      <td>🇺🇸</td>\n      <td>☀</td>\n      <td>💜</td>\n      <td>😉</td>\n      <td>💯</td>\n      <td>😁</td>\n      <td>🎄</td>\n      <td>📸</td>\n      <td>😜</td>\n    </tr>\n    <tr>\n      <th>Mapping</th>\n      <td>0</td>\n      <td>1</td>\n      <td>2</td>\n      <td>3</td>\n      <td>4</td>\n      <td>5</td>\n      <td>6</td>\n      <td>7</td>\n      <td>8</td>\n      <td>9</td>\n      <td>10</td>\n      <td>11</td>\n      <td>12</td>\n      <td>13</td>\n      <td>14</td>\n      <td>15</td>\n      <td>16</td>\n      <td>17</td>\n      <td>18</td>\n      <td>19</td>\n    </tr>\n  </tbody>\n</table>\n</div>"
     },
     "metadata": {}
    }
   ],
   "execution_count": 6
  },
  {
   "cell_type": "code",
   "source": "",
   "metadata": {
    "cell_id": "8ba78be5b26e40338abae8906625c3f9",
    "tags": [],
    "owner_user_id": "45a6018d-478f-44a5-9821-6cf675d1fe14",
    "deepnote_cell_type": "code",
    "deepnote_cell_height": 66.3125
   },
   "outputs": [],
   "execution_count": null
  },
  {
   "cell_type": "markdown",
   "source": "<a style='text-decoration:none;line-height:16px;display:flex;color:#5B5B62;padding:10px;justify-content:end;' href='https://deepnote.com?utm_source=created-in-deepnote-cell&projectId=bf1f20fb-a6c0-4ea2-8567-a5a41eea1d8a' target=\"_blank\">\n<img alt='Created in deepnote.com' style='display:inline;max-height:16px;margin:0px;margin-right:7.5px;' src='data:image/svg+xml;base64,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' > </img>\nCreated in <span style='font-weight:600;margin-left:4px;'>Deepnote</span></a>",
   "metadata": {
    "tags": [],
    "created_in_deepnote_cell": true,
    "deepnote_cell_type": "markdown"
   }
  }
 ],
 "nbformat": 4,
 "nbformat_minor": 2,
 "metadata": {
  "orig_nbformat": 2,
  "deepnote": {},
  "deepnote_notebook_id": "389eb558-53b3-428a-83ee-7a6faef129ab",
  "deepnote_execution_queue": []
 }
}