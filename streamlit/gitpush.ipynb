{
 "cells": [
  {
   "cell_type": "markdown",
   "source": "# Git Push Notebook",
   "metadata": {
    "formattedRanges": [],
    "cell_id": "29595284aa574c6bb40f62ed4641a02b",
    "tags": [],
    "is_collapsed": false,
    "deepnote_cell_type": "text-cell-h1"
   }
  },
  {
   "cell_type": "markdown",
   "source": "Notebook for pushing updates made to the streamlit scripts",
   "metadata": {
    "formattedRanges": [],
    "cell_id": "4aeffac2d4ee4ea6aecd9f96ad298738",
    "tags": [],
    "is_collapsed": false,
    "deepnote_cell_type": "text-cell-p"
   }
  },
  {
   "cell_type": "code",
   "metadata": {
    "tags": [],
    "cell_id": "226d8c22-3074-4d14-9c0e-55c0a6beaab3",
    "deepnote_to_be_reexecuted": false,
    "source_hash": "2d343090",
    "execution_start": 1655207712814,
    "execution_millis": 2150,
    "deepnote_cell_type": "code",
    "deepnote_cell_height": 489.3125
   },
   "source": "%%bash\ncd /work/twitter-nlp\ngit add -A\ngit commit -m \"manual deepnote streamlit update commit\"\ngit push",
   "execution_count": 4,
   "outputs": [
    {
     "name": "stdout",
     "text": "[main 833f634] manual deepnote streamlit update commit\n Committer: root <root@p-bf1f20fb-a6c0-4ea2-8567-a5a41eea1d8a.projects-domain.projects.svc.cluster.local>\nYour name and email address were configured automatically based\non your username and hostname. Please check that they are accurate.\nYou can suppress this message by setting them explicitly. Run the\nfollowing command and follow the instructions in your editor to edit\nyour configuration file:\n\n    git config --global --edit\n\nAfter doing this, you may fix the identity used for this commit with:\n\n    git commit --amend --reset-author\n\n 2 files changed, 23 insertions(+), 18 deletions(-)\nTo https://github.com/jannik-el/twitter-nlp.git\n   86f1558..833f634  main -> main\n",
     "output_type": "stream"
    }
   ]
  },
  {
   "cell_type": "markdown",
   "source": "https://share.streamlit.io/jannik-el/twitter-nlp/main/streamlit/main.py",
   "metadata": {
    "cell_id": "e11086767f064faba7aa8199f5bf5af8",
    "tags": [],
    "owner_user_id": "9623fb47-3762-4ef5-9146-5aaf0f397ef0",
    "deepnote_cell_type": "markdown",
    "deepnote_cell_height": 75.03125
   }
  },
  {
   "cell_type": "markdown",
   "source": "",
   "metadata": {
    "cell_id": "aaa1d7c2d3e74d77bd02f8fe9b7b4921",
    "tags": [],
    "deepnote_cell_type": "markdown",
    "deepnote_cell_height": 46.3125
   }
  },
  {
   "cell_type": "code",
   "source": "import pandas as pd",
   "metadata": {
    "cell_id": "d6db7ef728ee4f99ba17eeb664059e96",
    "tags": [],
    "deepnote_to_be_reexecuted": false,
    "source_hash": "9b82ee11",
    "execution_start": 1655207685713,
    "execution_millis": 2,
    "deepnote_cell_type": "code",
    "deepnote_cell_height": 81.3125
   },
   "outputs": [],
   "execution_count": 2
  },
  {
   "cell_type": "code",
   "source": "",
   "metadata": {
    "cell_id": "8ba78be5b26e40338abae8906625c3f9",
    "tags": [],
    "deepnote_to_be_reexecuted": false,
    "source_hash": "54ff17fa",
    "execution_start": 1655207685732,
    "execution_millis": 50,
    "owner_user_id": "45a6018d-478f-44a5-9821-6cf675d1fe14",
    "deepnote_cell_type": "code",
    "deepnote_cell_height": 255.15625
   },
   "outputs": [
    {
     "output_type": "execute_result",
     "execution_count": 3,
     "data": {
      "application/vnd.deepnote.dataframe.v3+json": {
       "column_count": 4,
       "row_count": 1,
       "columns": [
        {
         "name": "Regex",
         "dtype": "int64",
         "stats": {
          "unique_count": 1,
          "nan_count": 0,
          "min": "185976",
          "max": "185976",
          "histogram": [
           {
            "bin_start": 185975.5,
            "bin_end": 185975.6,
            "count": 0
           },
           {
            "bin_start": 185975.6,
            "bin_end": 185975.7,
            "count": 0
           },
           {
            "bin_start": 185975.7,
            "bin_end": 185975.8,
            "count": 0
           },
           {
            "bin_start": 185975.8,
            "bin_end": 185975.9,
            "count": 0
           },
           {
            "bin_start": 185975.9,
            "bin_end": 185976,
            "count": 0
           },
           {
            "bin_start": 185976,
            "bin_end": 185976.1,
            "count": 1
           },
           {
            "bin_start": 185976.1,
            "bin_end": 185976.2,
            "count": 0
           },
           {
            "bin_start": 185976.2,
            "bin_end": 185976.3,
            "count": 0
           },
           {
            "bin_start": 185976.3,
            "bin_end": 185976.4,
            "count": 0
           },
           {
            "bin_start": 185976.4,
            "bin_end": 185976.5,
            "count": 0
           }
          ]
         }
        },
        {
         "name": "NLTKTweetModified",
         "dtype": "int64",
         "stats": {
          "unique_count": 1,
          "nan_count": 0,
          "min": "197307",
          "max": "197307",
          "histogram": [
           {
            "bin_start": 197306.5,
            "bin_end": 197306.6,
            "count": 0
           },
           {
            "bin_start": 197306.6,
            "bin_end": 197306.7,
            "count": 0
           },
           {
            "bin_start": 197306.7,
            "bin_end": 197306.8,
            "count": 0
           },
           {
            "bin_start": 197306.8,
            "bin_end": 197306.9,
            "count": 0
           },
           {
            "bin_start": 197306.9,
            "bin_end": 197307,
            "count": 0
           },
           {
            "bin_start": 197307,
            "bin_end": 197307.1,
            "count": 1
           },
           {
            "bin_start": 197307.1,
            "bin_end": 197307.2,
            "count": 0
           },
           {
            "bin_start": 197307.2,
            "bin_end": 197307.3,
            "count": 0
           },
           {
            "bin_start": 197307.3,
            "bin_end": 197307.4,
            "count": 0
           },
           {
            "bin_start": 197307.4,
            "bin_end": 197307.5,
            "count": 0
           }
          ]
         }
        },
        {
         "name": "NLTKTweet",
         "dtype": "int64",
         "stats": {
          "unique_count": 1,
          "nan_count": 0,
          "min": "213182",
          "max": "213182",
          "histogram": [
           {
            "bin_start": 213181.5,
            "bin_end": 213181.6,
            "count": 0
           },
           {
            "bin_start": 213181.6,
            "bin_end": 213181.7,
            "count": 0
           },
           {
            "bin_start": 213181.7,
            "bin_end": 213181.8,
            "count": 0
           },
           {
            "bin_start": 213181.8,
            "bin_end": 213181.9,
            "count": 0
           },
           {
            "bin_start": 213181.9,
            "bin_end": 213182,
            "count": 0
           },
           {
            "bin_start": 213182,
            "bin_end": 213182.1,
            "count": 1
           },
           {
            "bin_start": 213182.1,
            "bin_end": 213182.2,
            "count": 0
           },
           {
            "bin_start": 213182.2,
            "bin_end": 213182.3,
            "count": 0
           },
           {
            "bin_start": 213182.3,
            "bin_end": 213182.4,
            "count": 0
           },
           {
            "bin_start": 213182.4,
            "bin_end": 213182.5,
            "count": 0
           }
          ]
         }
        },
        {
         "name": "NLTKTreeBank",
         "dtype": "int64",
         "stats": {
          "unique_count": 1,
          "nan_count": 0,
          "min": "218934",
          "max": "218934",
          "histogram": [
           {
            "bin_start": 218933.5,
            "bin_end": 218933.6,
            "count": 0
           },
           {
            "bin_start": 218933.6,
            "bin_end": 218933.7,
            "count": 0
           },
           {
            "bin_start": 218933.7,
            "bin_end": 218933.8,
            "count": 0
           },
           {
            "bin_start": 218933.8,
            "bin_end": 218933.9,
            "count": 0
           },
           {
            "bin_start": 218933.9,
            "bin_end": 218934,
            "count": 0
           },
           {
            "bin_start": 218934,
            "bin_end": 218934.1,
            "count": 1
           },
           {
            "bin_start": 218934.1,
            "bin_end": 218934.2,
            "count": 0
           },
           {
            "bin_start": 218934.2,
            "bin_end": 218934.3,
            "count": 0
           },
           {
            "bin_start": 218934.3,
            "bin_end": 218934.4,
            "count": 0
           },
           {
            "bin_start": 218934.4,
            "bin_end": 218934.5,
            "count": 0
           }
          ]
         }
        },
        {
         "name": "_deepnote_index_column",
         "dtype": "int64"
        }
       ],
       "rows": [
        {
         "Regex": 185976,
         "NLTKTweetModified": 197307,
         "NLTKTweet": 213182,
         "NLTKTreeBank": 218934,
         "_deepnote_index_column": 0
        }
       ]
      },
      "text/plain": "    Regex  NLTKTweetModified  NLTKTweet  NLTKTreeBank\n0  185976             197307     213182        218934",
      "text/html": "<div>\n<style scoped>\n    .dataframe tbody tr th:only-of-type {\n        vertical-align: middle;\n    }\n\n    .dataframe tbody tr th {\n        vertical-align: top;\n    }\n\n    .dataframe thead th {\n        text-align: right;\n    }\n</style>\n<table border=\"1\" class=\"dataframe\">\n  <thead>\n    <tr style=\"text-align: right;\">\n      <th></th>\n      <th>Regex</th>\n      <th>NLTKTweetModified</th>\n      <th>NLTKTweet</th>\n      <th>NLTKTreeBank</th>\n    </tr>\n  </thead>\n  <tbody>\n    <tr>\n      <th>0</th>\n      <td>185976</td>\n      <td>197307</td>\n      <td>213182</td>\n      <td>218934</td>\n    </tr>\n  </tbody>\n</table>\n</div>"
     },
     "metadata": {}
    }
   ],
   "execution_count": 3
  },
  {
   "cell_type": "code",
   "source": "",
   "metadata": {
    "cell_id": "10a45b7ccc2f462cafe06f9f2f20a9b9",
    "tags": [],
    "deepnote_to_be_reexecuted": false,
    "source_hash": "b623e53d",
    "execution_start": 1655207685783,
    "execution_millis": 1,
    "deepnote_cell_type": "code",
    "deepnote_cell_height": 81.3125
   },
   "outputs": [],
   "execution_count": 3
  },
  {
   "cell_type": "markdown",
   "source": "<a style='text-decoration:none;line-height:16px;display:flex;color:#5B5B62;padding:10px;justify-content:end;' href='https://deepnote.com?utm_source=created-in-deepnote-cell&projectId=bf1f20fb-a6c0-4ea2-8567-a5a41eea1d8a' target=\"_blank\">\n<img alt='Created in deepnote.com' style='display:inline;max-height:16px;margin:0px;margin-right:7.5px;' src='data:image/svg+xml;base64,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' > </img>\nCreated in <span style='font-weight:600;margin-left:4px;'>Deepnote</span></a>",
   "metadata": {
    "tags": [],
    "created_in_deepnote_cell": true,
    "deepnote_cell_type": "markdown"
   }
  }
 ],
 "nbformat": 4,
 "nbformat_minor": 2,
 "metadata": {
  "orig_nbformat": 2,
  "deepnote": {},
  "deepnote_notebook_id": "389eb558-53b3-428a-83ee-7a6faef129ab",
  "deepnote_execution_queue": []
 }
}