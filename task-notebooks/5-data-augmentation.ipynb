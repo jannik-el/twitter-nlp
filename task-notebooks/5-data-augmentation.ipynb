{
 "cells": [
  {
   "cell_type": "markdown",
   "source": "# 5. Data Augmentation",
   "metadata": {
    "cell_id": "b3ce63ebe8444cab9bb7902dd5347f3b",
    "tags": [],
    "is_collapsed": false,
    "deepnote_cell_type": "text-cell-h1"
   }
  },
  {
   "cell_type": "markdown",
   "source": "- [ ] Run at least one experiment with an augmented dataset that includes additional data selected based on training data perplexity under a language model trained the task you’ve selected.",
   "metadata": {
    "cell_id": "73e153ec748742bb861e9764cc7f3b3f",
    "tags": [],
    "deepnote_cell_type": "markdown",
    "deepnote_cell_height": 91.796875
   }
  },
  {
   "cell_type": "markdown",
   "source": "Possible Sources: \n\n- [ ] the training sets of the other tasks\n- [ ] the Broad Twitter Dataset (https://github.com/GateNLP/broad_twitter_corpus),\n- [ ] any other dataset we can think of (any creative ideas?)\n- [ ] Trump's offensive tweets?",
   "metadata": {
    "cell_id": "2d22f510a81443fca64942a0614ee919",
    "tags": [],
    "deepnote_cell_type": "markdown",
    "deepnote_cell_height": 179
   }
  },
  {
   "cell_type": "code",
   "metadata": {
    "cell_id": "def246fe67fd4f47b64eecbd65027844",
    "tags": [],
    "deepnote_to_be_reexecuted": false,
    "source_hash": "7eab13ef",
    "execution_start": 1654169788744,
    "execution_millis": 36,
    "deepnote_cell_type": "code",
    "deepnote_cell_height": 207
   },
   "source": "import pandas as pd\nimport pickle\nfrom sklearn.feature_extraction.text import CountVectorizer\nfrom sklearn.metrics import accuracy_score,confusion_matrix,roc_auc_score,classification_report\nimport sys\nsys.path.insert(0, '/work/twitter-nlp')\nfrom boilerplate import load_and_tokenize, pickling, open_jar, func_regex\nimport numpy as np",
   "outputs": [],
   "execution_count": null
  },
  {
   "cell_type": "code",
   "metadata": {
    "cell_id": "c3741d541f904e7a8ebfd843b8986b6e",
    "tags": [],
    "deepnote_to_be_reexecuted": false,
    "source_hash": "7487a5a4",
    "execution_start": 1654169790097,
    "execution_millis": 988,
    "deepnote_cell_type": "code",
    "deepnote_cell_height": 207
   },
   "source": "train_txt_emoji = open_jar('/work/twitter-nlp/data/pickle/tweeteval/emoji/pickled_train_text.pkl')\ntrain_labels_emoji = pd.DataFrame(open_jar('/work/twitter-nlp/data/pickle/tweeteval/emoji/pickled_train_labels.pkl'))\nval_txt_emoji = open_jar('/work/twitter-nlp/data/pickle/tweeteval/emoji/pickled_val_text.pkl')\nval_labels_emoji = pd.DataFrame(open_jar('/work/twitter-nlp/data/pickle/tweeteval/emoji/pickled_val_labels.pkl'))\nX_train_txt_emoji = train_txt_emoji.copy()\nX_train_txt_emoji.extend(val_txt_emoji)\ny_train_emoji = pd.concat([train_labels_emoji,val_labels_emoji], ignore_index=True).astype(int)\nemoji_classes = pd.read_csv(\"/work/twitter-nlp/data/tweeteval/datasets/emoji/mapping.txt\", sep = \"\t\", header=None)",
   "outputs": [],
   "execution_count": null
  },
  {
   "cell_type": "code",
   "metadata": {
    "cell_id": "3591574d4d37491f8ad21912220c9777",
    "tags": [],
    "deepnote_to_be_reexecuted": false,
    "source_hash": "b05c88db",
    "execution_start": 1654169791096,
    "execution_millis": 219,
    "deepnote_cell_type": "code",
    "deepnote_cell_height": 112
   },
   "source": "print(len(X_train_txt_emoji), len(list(y_train_emoji[0])))",
   "outputs": [
    {
     "name": "stdout",
     "text": "50000 50000\n",
     "output_type": "stream"
    }
   ],
   "execution_count": null
  },
  {
   "cell_type": "code",
   "metadata": {
    "cell_id": "9e6ba480b15c4bd99d0f64747aa73e16",
    "tags": [],
    "deepnote_to_be_reexecuted": false,
    "source_hash": "f5c44fb0",
    "execution_start": 1654169791790,
    "execution_millis": 658,
    "deepnote_cell_type": "code",
    "deepnote_cell_height": 81
   },
   "source": "merged = pd.DataFrame(zip(X_train_txt_emoji, list(y_train_emoji[0])))",
   "outputs": [],
   "execution_count": null
  },
  {
   "cell_type": "code",
   "metadata": {
    "cell_id": "5100a5f243b34797992825396137260b",
    "tags": [],
    "deepnote_to_be_reexecuted": false,
    "source_hash": "eb79f390",
    "execution_start": 1654169792455,
    "execution_millis": 124,
    "deepnote_cell_type": "code",
    "deepnote_cell_height": 616.796875
   },
   "source": "merged[merged[1] == 18]",
   "outputs": [
    {
     "output_type": "execute_result",
     "execution_count": 27,
     "data": {
      "application/vnd.deepnote.dataframe.v3+json": {
       "column_count": 2,
       "row_count": 1639,
       "columns": [
        {
         "name": 0,
         "dtype": "object",
         "stats": {
          "unique_count": 1639,
          "nan_count": 0,
          "categories": [
           {
            "name": "['Hyangle', 'Photography', '8212016', '__________________________#nikon_photography', '#photo', '#Sunday']",
            "count": 4
           },
           {
            "name": "['david_beatz', '@', 'Los', 'Angeles', 'California']",
            "count": 4
           },
           {
            "name": "1615 others",
            "count": 1631
           }
          ]
         }
        },
        {
         "name": 1,
         "dtype": "int64",
         "stats": {
          "unique_count": 1,
          "nan_count": 0,
          "min": "18",
          "max": "18",
          "histogram": [
           {
            "bin_start": 17.5,
            "bin_end": 17.6,
            "count": 0
           },
           {
            "bin_start": 17.6,
            "bin_end": 17.7,
            "count": 0
           },
           {
            "bin_start": 17.7,
            "bin_end": 17.8,
            "count": 0
           },
           {
            "bin_start": 17.8,
            "bin_end": 17.9,
            "count": 0
           },
           {
            "bin_start": 17.9,
            "bin_end": 18,
            "count": 0
           },
           {
            "bin_start": 18,
            "bin_end": 18.1,
            "count": 1639
           },
           {
            "bin_start": 18.1,
            "bin_end": 18.2,
            "count": 0
           },
           {
            "bin_start": 18.2,
            "bin_end": 18.3,
            "count": 0
           },
           {
            "bin_start": 18.3,
            "bin_end": 18.4,
            "count": 0
           },
           {
            "bin_start": 18.4,
            "bin_end": 18.5,
            "count": 0
           }
          ]
         }
        },
        {
         "name": "_deepnote_index_column",
         "dtype": "int64"
        }
       ],
       "rows": [
        {
         "0": "['In', 'the', 'zone', '|', '@user', '#colorsworldwide', '#RnBOnly', '@', 'The', 'Regent']",
         "1": 18,
         "_deepnote_index_column": 36
        },
        {
         "0": "['Getting', 'up', 'that', 'ice', 'wall', 'one', 'ax', 'at', 'a', 'time', 'pechoi11', '@', 'Mount', 'Shasta', 'California']",
         "1": 18,
         "_deepnote_index_column": 59
        },
        {
         "0": "['Caught', 'by', 'the', 'lens', 'of', 'Yc', 'Wong', 'photo', 'by', '8888tiger8888', 'suit', 'by', 'virginblak', '#ljifff']",
         "1": 18,
         "_deepnote_index_column": 96
        },
        {
         "0": "['Photoshooting', 'with', 'the', 'babe', '@user', '#sundayfunday', '@', 'Downtown', 'Container', 'Park']",
         "1": 18,
         "_deepnote_index_column": 108
        },
        {
         "0": "['We', 'had', 'a', 'lot', 'of', 'office', 'volunteers', 'for', 'this', 'event', 'nicolempawlak', '#teamwass', '#extramileca', '@user']",
         "1": 18,
         "_deepnote_index_column": 122
        },
        {
         "0": "['We', 'be', 'touristy', 'in', 'the', '#sisco', 'bossman', '@', 'Palace', 'of', 'Fine', 'Arts']",
         "1": 18,
         "_deepnote_index_column": 134
        },
        {
         "0": "['Forever', 'a', 'Brooklyn', 'girl', '@user', '@', 'The', 'Dragonfly']",
         "1": 18,
         "_deepnote_index_column": 138
        },
        {
         "0": "['(', 'PLDM', 'Trademark)', '@', 'Downtown', 'Sacramento']",
         "1": 18,
         "_deepnote_index_column": 140
        },
        {
         "0": "['Day', 'job', '#FilmComposer', 'amandacomander', '@', 'Los', 'Angeles', 'California']",
         "1": 18,
         "_deepnote_index_column": 144
        },
        {
         "0": "['Gotta', 'love', 'family', 'thee_counsela8', '___rht_', '@user', 'nothing', 'like', 'family', 'supporting', 'your', 'dreams']",
         "1": 18,
         "_deepnote_index_column": 161
        }
       ]
      },
      "text/plain": "                                                       0   1\n36     [In, the, zone, |, @user, #colorsworldwide, #R...  18\n59     [Getting, up, that, ice, wall, one, ax, at, a,...  18\n96     [Caught, by, the, lens, of, Yc, Wong, photo, b...  18\n108    [Photoshooting, with, the, babe, @user, #sunda...  18\n122    [We, had, a, lot, of, office, volunteers, for,...  18\n...                                                  ...  ..\n49734  [#EmptyStates, Day, 3, @user, @user, @, San, F...  18\n49740  [instant, human, just, add, coffee, lavenderch...  18\n49766  [#Day2, #, #TouristMode, #Views, @, The, Coit,...  18\n49909  [ONLINE, Americana, Hat, in, camo, or, grey, D...  18\n49968  [#dirtbikesforpresident, jwtfmx, @user, @, Jim...  18\n\n[1639 rows x 2 columns]",
      "text/html": "<div>\n<style scoped>\n    .dataframe tbody tr th:only-of-type {\n        vertical-align: middle;\n    }\n\n    .dataframe tbody tr th {\n        vertical-align: top;\n    }\n\n    .dataframe thead th {\n        text-align: right;\n    }\n</style>\n<table border=\"1\" class=\"dataframe\">\n  <thead>\n    <tr style=\"text-align: right;\">\n      <th></th>\n      <th>0</th>\n      <th>1</th>\n    </tr>\n  </thead>\n  <tbody>\n    <tr>\n      <th>36</th>\n      <td>[In, the, zone, |, @user, #colorsworldwide, #R...</td>\n      <td>18</td>\n    </tr>\n    <tr>\n      <th>59</th>\n      <td>[Getting, up, that, ice, wall, one, ax, at, a,...</td>\n      <td>18</td>\n    </tr>\n    <tr>\n      <th>96</th>\n      <td>[Caught, by, the, lens, of, Yc, Wong, photo, b...</td>\n      <td>18</td>\n    </tr>\n    <tr>\n      <th>108</th>\n      <td>[Photoshooting, with, the, babe, @user, #sunda...</td>\n      <td>18</td>\n    </tr>\n    <tr>\n      <th>122</th>\n      <td>[We, had, a, lot, of, office, volunteers, for,...</td>\n      <td>18</td>\n    </tr>\n    <tr>\n      <th>...</th>\n      <td>...</td>\n      <td>...</td>\n    </tr>\n    <tr>\n      <th>49734</th>\n      <td>[#EmptyStates, Day, 3, @user, @user, @, San, F...</td>\n      <td>18</td>\n    </tr>\n    <tr>\n      <th>49740</th>\n      <td>[instant, human, just, add, coffee, lavenderch...</td>\n      <td>18</td>\n    </tr>\n    <tr>\n      <th>49766</th>\n      <td>[#Day2, #, #TouristMode, #Views, @, The, Coit,...</td>\n      <td>18</td>\n    </tr>\n    <tr>\n      <th>49909</th>\n      <td>[ONLINE, Americana, Hat, in, camo, or, grey, D...</td>\n      <td>18</td>\n    </tr>\n    <tr>\n      <th>49968</th>\n      <td>[#dirtbikesforpresident, jwtfmx, @user, @, Jim...</td>\n      <td>18</td>\n    </tr>\n  </tbody>\n</table>\n<p>1639 rows × 2 columns</p>\n</div>"
     },
     "metadata": {}
    }
   ],
   "execution_count": null
  },
  {
   "cell_type": "markdown",
   "source": "## Labeling Trumps Twitter Insults\nWe took trumps insults (provided by the New York Times) and combined those with all his other tweets. ",
   "metadata": {
    "cell_id": "bf4d360ccb6241298d2108e52ba63a22",
    "tags": [],
    "deepnote_cell_type": "markdown",
    "deepnote_cell_height": 108.390625
   }
  },
  {
   "cell_type": "code",
   "metadata": {
    "cell_id": "fcd4ab6d34eb4854961abc1bf438aed3",
    "tags": [],
    "deepnote_to_be_reexecuted": false,
    "source_hash": "c4162f1d",
    "execution_start": 1654169793021,
    "execution_millis": 301,
    "deepnote_table_state": {
     "pageSize": 10,
     "pageIndex": 0,
     "filters": [
      {
       "id": "date",
       "value": "2015-01-01",
       "type": "contains"
      }
     ],
     "sortBy": []
    },
    "deepnote_table_loading": false,
    "deepnote_cell_type": "code",
    "deepnote_cell_height": 243
   },
   "source": "# loading in trump's twitter insults\n# the insult data is a collection of all insults from 2015 to 2021 (until trump was banned)\ninsult_data = pd.read_csv(\"/work/twitter-nlp/data/trumptwitterinsults/trump_insult_tweets_2014_to_2021.csv\")\n\n# only using the tokens data, and dropping all duplicates, adding a hatespeech label (all are marked as hatespeech)\ntweets = insult_data[\"tweet\"]\ntweets = tweets.drop_duplicates()\ninsult_tokens = pd.DataFrame(columns=[\"Labels\", \"Tweets\"])\ninsult_tokens[\"Tweets\"] = tweets\ninsult_tokens[\"Labels\"] = [1 for _ in range(0, len(insult_tokens))]",
   "outputs": [],
   "execution_count": null
  },
  {
   "cell_type": "code",
   "metadata": {
    "cell_id": "f7b809b7fd5c4109a1a0527aa5052058",
    "tags": [],
    "deepnote_to_be_reexecuted": false,
    "source_hash": "e02f6528",
    "execution_start": 1654169794965,
    "execution_millis": 898,
    "deepnote_cell_type": "code",
    "deepnote_cell_height": 243
   },
   "source": "# the standard data is a collection of all of trumps tweets from 2009 to 2021 (until trump was banned)\nstandard_data = pd.read_csv(\"/work/twitter-nlp/data/trumptwitterinsults/tweets.csv\")\n\n# shortening the data from 2015 to 2009 only, using only tweets, dropping duplcates, adding label\nstandard_data = standard_data[39087:-1]\nk_tweets = standard_data[\"text\"]\nk_tweets = k_tweets.drop_duplicates()\ncontrol_tokens = pd.DataFrame(columns=[\"Labels\", \"Tweets\"])\ncontrol_tokens[\"Tweets\"] = k_tweets\ncontrol_tokens[\"Labels\"] = [0 for _ in range(0, len(control_tokens))]",
   "outputs": [],
   "execution_count": null
  },
  {
   "cell_type": "code",
   "metadata": {
    "cell_id": "e47c39de52a242868ada87520fc480e7",
    "tags": [],
    "deepnote_to_be_reexecuted": false,
    "source_hash": "e5590af1",
    "execution_start": 1654169795875,
    "execution_millis": 484,
    "deepnote_table_state": {
     "pageSize": 10,
     "pageIndex": 0,
     "filters": [],
     "sortBy": []
    },
    "deepnote_table_loading": false,
    "deepnote_cell_type": "code",
    "deepnote_cell_height": 670.796875
   },
   "source": "# combining the two df\ncombined_df = pd.concat([insult_tokens, control_tokens])\ntext = list(combined_df[\"Tweets\"])\ncombined_df",
   "outputs": [
    {
     "output_type": "execute_result",
     "execution_count": 30,
     "data": {
      "application/vnd.deepnote.dataframe.v3+json": {
       "column_count": 2,
       "row_count": 23030,
       "columns": [
        {
         "name": "Labels",
         "dtype": "int64",
         "stats": {
          "unique_count": 2,
          "nan_count": 0,
          "min": "0",
          "max": "1",
          "histogram": [
           {
            "bin_start": 0,
            "bin_end": 0.1,
            "count": 17357
           },
           {
            "bin_start": 0.1,
            "bin_end": 0.2,
            "count": 0
           },
           {
            "bin_start": 0.2,
            "bin_end": 0.30000000000000004,
            "count": 0
           },
           {
            "bin_start": 0.30000000000000004,
            "bin_end": 0.4,
            "count": 0
           },
           {
            "bin_start": 0.4,
            "bin_end": 0.5,
            "count": 0
           },
           {
            "bin_start": 0.5,
            "bin_end": 0.6000000000000001,
            "count": 0
           },
           {
            "bin_start": 0.6000000000000001,
            "bin_end": 0.7000000000000001,
            "count": 0
           },
           {
            "bin_start": 0.7000000000000001,
            "bin_end": 0.8,
            "count": 0
           },
           {
            "bin_start": 0.8,
            "bin_end": 0.9,
            "count": 0
           },
           {
            "bin_start": 0.9,
            "bin_end": 1,
            "count": 5673
           }
          ]
         }
        },
        {
         "name": "Tweets",
         "dtype": "object",
         "stats": {
          "unique_count": 20799,
          "nan_count": 0,
          "categories": [
           {
            "name": ".@JebBush is a sad case. A total embarrassment to both himself and his family, he just announced he will continue to spend on Trump hit ads!",
            "count": 2
           },
           {
            "name": "Hillary Clinton doesn't have the strength or stamina to be president. Jeb Bush is a low energy individual, but Hillary is not much better!",
            "count": 2
           },
           {
            "name": "20797 others",
            "count": 23026
           }
          ]
         }
        },
        {
         "name": "_deepnote_index_column",
         "dtype": "int64"
        }
       ],
       "rows": [
        {
         "Labels": 1,
         "Tweets": "Can you believe this fool, Dr. Thomas Frieden of CDC, just stated, \"anyone with fever should be asked if they have been in West Africa\" DOPE",
         "_deepnote_index_column": 0
        },
        {
         "Labels": 1,
         "Tweets": "Big time in U.S. today - MAKE AMERICA GREAT AGAIN! Politicians are all talk and no action - they can never bring us back.",
         "_deepnote_index_column": 2
        },
        {
         "Labels": 1,
         "Tweets": "Politician @SenatorCardin didn't like that I said Baltimore needs jobs & spirit. It's politicians like Cardin that have destroyed Baltimore.",
         "_deepnote_index_column": 3
        },
        {
         "Labels": 1,
         "Tweets": "For the nonbeliever, here is a photo of @Neilyoung in my office and his $$ request—total hypocrite. http://t.co/Xm4BJvetIa",
         "_deepnote_index_column": 4
        },
        {
         "Labels": 1,
         "Tweets": ".@Neilyoung’s song, “Rockin’ In The Free World” was just one of 10 songs used as background music. Didn’t love it anyway.",
         "_deepnote_index_column": 5
        },
        {
         "Labels": 1,
         "Tweets": "Uncomfortable looking NBC reporter Willie Geist calls me to ask for favors and then mockingly smiles when he is told of my high poll numbers",
         "_deepnote_index_column": 6
        },
        {
         "Labels": 1,
         "Tweets": "Just out, the new nationwide @FoxNews poll has me alone in 2nd place, closely behind Jeb Bush-but Bush will NEVER Make America Great Again!",
         "_deepnote_index_column": 7
        },
        {
         "Labels": 1,
         "Tweets": "The ratings for The View are really low. Nicole Wallace and Molly Sims are a disaster. Get new cast or just put it to sleep. Dead T.V.",
         "_deepnote_index_column": 8
        },
        {
         "Labels": 1,
         "Tweets": ".@WhoopiGoldberg had better surround herself with better hosts than Nicole Wallace, who doesn't have a clue. The show is close to death!",
         "_deepnote_index_column": 12
        },
        {
         "Labels": 1,
         "Tweets": "I hear that dopey political pundit, Lawrence O'Donnell, one of the dumber people on television, is about to lose his show-no ratings?Too bad",
         "_deepnote_index_column": 14
        }
       ]
      },
      "text/plain": "       Labels                                             Tweets\n0           1  Can you believe this fool, Dr. Thomas Frieden ...\n2           1  Big time in U.S. today - MAKE AMERICA GREAT AG...\n3           1  Politician @SenatorCardin didn't like that I s...\n4           1  For the nonbeliever, here is a photo of @Neily...\n5           1  .@Neilyoung’s song, “Rockin’ In The Free World...\n...       ...                                                ...\n56565       0  RT @heatherjones333: 'We Have Taken Appropriat...\n56566       0  RT @RandPaul: I don’t know why @JoeBiden think...\n56567       0  RT @EliseStefanik: President @realDonaldTrump ...\n56568       0  RT @TeamTrump: LIVE: Presidential Debate #Deba...\n56569       0  Just signed an order to support the workers of...\n\n[23030 rows x 2 columns]",
      "text/html": "<div>\n<style scoped>\n    .dataframe tbody tr th:only-of-type {\n        vertical-align: middle;\n    }\n\n    .dataframe tbody tr th {\n        vertical-align: top;\n    }\n\n    .dataframe thead th {\n        text-align: right;\n    }\n</style>\n<table border=\"1\" class=\"dataframe\">\n  <thead>\n    <tr style=\"text-align: right;\">\n      <th></th>\n      <th>Labels</th>\n      <th>Tweets</th>\n    </tr>\n  </thead>\n  <tbody>\n    <tr>\n      <th>0</th>\n      <td>1</td>\n      <td>Can you believe this fool, Dr. Thomas Frieden ...</td>\n    </tr>\n    <tr>\n      <th>2</th>\n      <td>1</td>\n      <td>Big time in U.S. today - MAKE AMERICA GREAT AG...</td>\n    </tr>\n    <tr>\n      <th>3</th>\n      <td>1</td>\n      <td>Politician @SenatorCardin didn't like that I s...</td>\n    </tr>\n    <tr>\n      <th>4</th>\n      <td>1</td>\n      <td>For the nonbeliever, here is a photo of @Neily...</td>\n    </tr>\n    <tr>\n      <th>5</th>\n      <td>1</td>\n      <td>.@Neilyoung’s song, “Rockin’ In The Free World...</td>\n    </tr>\n    <tr>\n      <th>...</th>\n      <td>...</td>\n      <td>...</td>\n    </tr>\n    <tr>\n      <th>56565</th>\n      <td>0</td>\n      <td>RT @heatherjones333: 'We Have Taken Appropriat...</td>\n    </tr>\n    <tr>\n      <th>56566</th>\n      <td>0</td>\n      <td>RT @RandPaul: I don’t know why @JoeBiden think...</td>\n    </tr>\n    <tr>\n      <th>56567</th>\n      <td>0</td>\n      <td>RT @EliseStefanik: President @realDonaldTrump ...</td>\n    </tr>\n    <tr>\n      <th>56568</th>\n      <td>0</td>\n      <td>RT @TeamTrump: LIVE: Presidential Debate #Deba...</td>\n    </tr>\n    <tr>\n      <th>56569</th>\n      <td>0</td>\n      <td>Just signed an order to support the workers of...</td>\n    </tr>\n  </tbody>\n</table>\n<p>23030 rows × 2 columns</p>\n</div>"
     },
     "metadata": {}
    }
   ],
   "execution_count": null
  },
  {
   "cell_type": "markdown",
   "source": "### Predicting based on our previously trained model:",
   "metadata": {
    "cell_id": "6ffca7e815f94cc89aec1e6b5d1b2a1e",
    "tags": [],
    "is_collapsed": false,
    "deepnote_cell_type": "text-cell-h3"
   }
  },
  {
   "cell_type": "code",
   "metadata": {
    "cell_id": "0dedf2174d1d4d9b98a4d7385b7829b5",
    "tags": [],
    "deepnote_to_be_reexecuted": false,
    "source_hash": "9bef1ce7",
    "execution_start": 1654169946891,
    "execution_millis": 7,
    "deepnote_cell_type": "code",
    "deepnote_cell_height": 135
   },
   "source": "def classify_sentence(text):\n    classifier = open_jar('/work/twitter-nlp/data/pickle/models/hatespeech_model_MultinomialNB.sav')\n    cv = open_jar('/work/twitter-nlp/data/pickle/models/hate/vectorizer.pkl')\n    return classifier.predict_proba(cv.transform(text).toarray())",
   "outputs": [],
   "execution_count": null
  },
  {
   "cell_type": "code",
   "source": "[str(combined_df[\"Tweets\"][0])]",
   "metadata": {
    "cell_id": "f165a774a21b4db69c162c4cb206d68c",
    "tags": [],
    "deepnote_to_be_reexecuted": false,
    "source_hash": "f6f95b56",
    "execution_start": 1654171346136,
    "execution_millis": 12,
    "deepnote_cell_type": "code",
    "deepnote_cell_height": 118.1875,
    "deepnote_output_heights": [
     21.1875
    ]
   },
   "outputs": [
    {
     "output_type": "execute_result",
     "execution_count": 75,
     "data": {
      "text/plain": "['Can you believe this fool, Dr. Thomas Frieden of CDC, just stated, \"anyone with fever should be asked if they have been in West Africa\" DOPE']"
     },
     "metadata": {}
    }
   ],
   "execution_count": null
  },
  {
   "cell_type": "code",
   "source": "predict_list = []\n\nfor i in combined_df[\"Tweets\"][0:100]:\n    line_data = classify_sentence([str(i)])\n    predict_list.append(line_data.tolist())\n\npredict_list",
   "metadata": {
    "cell_id": "bf714995af90437aaf3c883bb99345e2",
    "tags": [],
    "deepnote_to_be_reexecuted": false,
    "source_hash": "7a801d14",
    "execution_start": 1654171462062,
    "execution_millis": 2287,
    "owner_user_id": "45a6018d-478f-44a5-9821-6cf675d1fe14",
    "deepnote_cell_type": "code",
    "deepnote_cell_height": 816,
    "deepnote_output_heights": [
     611
    ]
   },
   "outputs": [
    {
     "output_type": "execute_result",
     "execution_count": 77,
     "data": {
      "text/plain": "[[[0.943201918603514, 0.056798081396488655]],\n [[0.09583791432069015, 0.9041620856793162]],\n [[0.8647822810031661, 0.13521771899683838]],\n [[0.999632340792054, 0.00036765920795125636]],\n [[0.9955275156159974, 0.004472484384002976]],\n [[0.8727209557419747, 0.1272790442580165]],\n [[0.7818805785544442, 0.2181194214455524]],\n [[0.09410591495534859, 0.9058940850446472]],\n [[0.9649049721566286, 0.03509502784338398]],\n [[0.8199098371940978, 0.1800901628058909]],\n [[0.8371694835282447, 0.16283051647175684]],\n [[0.9707822279353352, 0.02921777206465968]],\n [[0.6846809279341322, 0.31531907206586957]],\n [[0.8581667698699806, 0.14183323013001747]],\n [[0.9962900108796845, 0.0037099891203276505]],\n [[0.050910534095024364, 0.949089465904978]],\n [[0.20894228269711276, 0.7910577173028831]],\n [[0.0494898109888614, 0.950510189011137]],\n [[0.4019431636804088, 0.5980568363195855]],\n [[0.7552670544524318, 0.24473294554756497]],\n [[0.9924835063386216, 0.007516493661378405]],\n [[0.42500715861182065, 0.5749928413881792]],\n [[0.9993243960908604, 0.0006756039091482746]],\n [[0.9960325483639756, 0.003967451636026648]],\n [[0.9859130124701022, 0.014086987529895359]],\n [[0.06085042786827385, 0.9391495721317255]],\n [[0.7337387472087801, 0.2662612527912277]],\n [[0.4964321003465535, 0.5035678996534558]],\n [[0.015592449568996894, 0.9844075504310087]],\n [[0.18464692244753228, 0.8153530775524573]],\n [[0.036532813823221905, 0.9634671861767905]],\n [[0.1468356431182002, 0.8531643568818068]],\n [[0.5217769853941876, 0.4782230146058146]],\n [[0.8230593193312938, 0.17694068066871954]],\n [[0.5156500977793059, 0.4843499022206875]],\n [[0.9985296992917947, 0.0014703007082155245]],\n [[0.991756095560935, 0.008243904439058413]],\n [[0.8962457784142391, 0.10375422158576549]],\n [[0.9989227149301254, 0.0010772850698755059]],\n [[0.9747469435438233, 0.02525305645616735]],\n [[0.9929768222216259, 0.007023177778367686]],\n [[0.9985261252518991, 0.0014738747480985625]],\n [[0.8365471817633291, 0.16345281823667523]],\n [[0.5979439341026606, 0.40205606589733967]],\n [[0.02086873091973015, 0.9791312690802679]],\n [[0.9974985076929266, 0.0025014923070721703]],\n [[0.952116372921236, 0.047883627078766096]],\n [[0.033798093530886926, 0.9662019064691073]],\n [[0.9655157533116514, 0.03448424668834456]],\n [[0.480628250760088, 0.5193717492399063]],\n [[0.41362928182682535, 0.5863707181731758]],\n [[0.6044238070480051, 0.39557619295199564]],\n [[0.986044609740932, 0.013955390259078163]],\n [[0.8283227184243114, 0.17167728157568712]],\n [[0.9544533205396679, 0.04554667946033604]],\n [[0.5777573013315499, 0.42224269866846204]],\n [[0.2925388313895903, 0.7074611686104092]],\n [[0.8128009316564132, 0.1871990683435876]],\n [[0.5612049209380864, 0.4387950790619185]],\n [[0.7935176754744042, 0.20648232452559212]],\n [[0.9593516453327376, 0.04064835466726151]],\n [[0.9940638730353126, 0.005936126964691904]],\n [[0.024476654011799246, 0.9755233459882064]],\n [[0.9750236952644346, 0.02497630473556874]],\n [[0.18126655202432748, 0.8187334479756844]],\n [[0.8953227412187238, 0.10467725878128172]],\n [[0.25942569817771177, 0.7405743018222868]],\n [[0.9106645631175301, 0.08933543688245746]],\n [[0.9991130688908327, 0.000886931109158419]],\n [[0.0005677550349509949, 0.9994322449650567]],\n [[0.7263926017402845, 0.2736073982597202]],\n [[0.7210671599663084, 0.27893284003369817]],\n [[0.31668189902266847, 0.683318100977344]],\n [[0.8788909777892622, 0.12110902221074796]],\n [[0.7339869465570524, 0.2660130534429618]],\n [[0.9894908203971443, 0.010509179602852222]],\n [[0.04137473661124265, 0.9586252633887623]],\n [[0.983095913438109, 0.016904086561890692]],\n [[0.9989854548336756, 0.001014545166314762]],\n [[0.9753927107546445, 0.024607289245355796]],\n [[0.9984754329512479, 0.0015245670487626121]],\n [[0.9993625015086287, 0.0006374984913719813]],\n [[0.222378838686263, 0.7776211613137299]],\n [[0.8015650653764805, 0.1984349346235267]],\n [[0.6939412612575473, 0.3060587387424598]],\n [[0.7119231233516061, 0.28807687664839265]],\n [[0.9217093307349222, 0.07829066926508946]],\n [[0.23388663591935074, 0.7661133640806562]],\n [[0.9999920703643337, 7.929635665464222e-06]],\n [[0.9996750933207478, 0.000324906679243192]],\n [[0.022573061163034425, 0.9774269388369782]],\n [[0.9986816053722696, 0.00131839462773652]],\n [[0.9884705151470963, 0.011529484852893759]],\n [[0.7361926762675532, 0.26380732373243343]],\n [[0.10118080734085846, 0.898819192659147]],\n [[0.4203110390336037, 0.5796889609663942]],\n [[0.9869705855927896, 0.013029414407206463]],\n [[0.9948734790609617, 0.005126520939034706]],\n [[0.43396513033372647, 0.5660348696662787]],\n [[0.042190848470379835, 0.9578091515296339]]]"
     },
     "metadata": {}
    }
   ],
   "execution_count": null
  },
  {
   "cell_type": "code",
   "source": "classify_sentence(['hey you useless piece of shit'])",
   "metadata": {
    "cell_id": "602e056797ad43508a6b2730d0ed3e1b",
    "tags": [],
    "deepnote_to_be_reexecuted": false,
    "source_hash": "c2294f2a",
    "execution_start": 1654169859675,
    "execution_millis": 78,
    "deepnote_cell_type": "code",
    "deepnote_cell_height": 118.1875,
    "deepnote_output_heights": [
     21.1875
    ]
   },
   "outputs": [
    {
     "output_type": "execute_result",
     "execution_count": 37,
     "data": {
      "text/plain": "array([[0.40414146, 0.59585854]])"
     },
     "metadata": {}
    }
   ],
   "execution_count": null
  },
  {
   "cell_type": "code",
   "metadata": {
    "cell_id": "7d32bd586f6b4f81be3ab005f9fb4a56",
    "tags": [],
    "deepnote_to_be_reexecuted": true,
    "source_hash": "73a678ff",
    "execution_start": 1654168033336,
    "execution_millis": 467,
    "deepnote_cell_type": "code",
    "deepnote_cell_height": 162.1875
   },
   "source": "pred = classifier.predict(X)\n",
   "outputs": [
    {
     "output_type": "error",
     "ename": "ValueError",
     "evalue": "X has 4 features, but DecisionTreeClassifier is expecting 5000 features as input.",
     "traceback": [
      "\u001b[0;31m---------------------------------------------------------------------------\u001b[0m",
      "\u001b[0;31mValueError\u001b[0m                                Traceback (most recent call last)",
      "\u001b[0;32m<ipython-input-14-12f390496011>\u001b[0m in \u001b[0;36m<module>\u001b[0;34m\u001b[0m\n\u001b[0;32m----> 1\u001b[0;31m \u001b[0mpred\u001b[0m \u001b[0;34m=\u001b[0m \u001b[0mclassifier\u001b[0m\u001b[0;34m.\u001b[0m\u001b[0mpredict\u001b[0m\u001b[0;34m(\u001b[0m\u001b[0mX\u001b[0m\u001b[0;34m)\u001b[0m\u001b[0;34m\u001b[0m\u001b[0;34m\u001b[0m\u001b[0m\n\u001b[0m",
      "\u001b[0;32m/shared-libs/python3.7/py/lib/python3.7/site-packages/sklearn/tree/_classes.py\u001b[0m in \u001b[0;36mpredict\u001b[0;34m(self, X, check_input)\u001b[0m\n\u001b[1;32m    465\u001b[0m         \"\"\"\n\u001b[1;32m    466\u001b[0m         \u001b[0mcheck_is_fitted\u001b[0m\u001b[0;34m(\u001b[0m\u001b[0mself\u001b[0m\u001b[0;34m)\u001b[0m\u001b[0;34m\u001b[0m\u001b[0;34m\u001b[0m\u001b[0m\n\u001b[0;32m--> 467\u001b[0;31m         \u001b[0mX\u001b[0m \u001b[0;34m=\u001b[0m \u001b[0mself\u001b[0m\u001b[0;34m.\u001b[0m\u001b[0m_validate_X_predict\u001b[0m\u001b[0;34m(\u001b[0m\u001b[0mX\u001b[0m\u001b[0;34m,\u001b[0m \u001b[0mcheck_input\u001b[0m\u001b[0;34m)\u001b[0m\u001b[0;34m\u001b[0m\u001b[0;34m\u001b[0m\u001b[0m\n\u001b[0m\u001b[1;32m    468\u001b[0m         \u001b[0mproba\u001b[0m \u001b[0;34m=\u001b[0m \u001b[0mself\u001b[0m\u001b[0;34m.\u001b[0m\u001b[0mtree_\u001b[0m\u001b[0;34m.\u001b[0m\u001b[0mpredict\u001b[0m\u001b[0;34m(\u001b[0m\u001b[0mX\u001b[0m\u001b[0;34m)\u001b[0m\u001b[0;34m\u001b[0m\u001b[0;34m\u001b[0m\u001b[0m\n\u001b[1;32m    469\u001b[0m         \u001b[0mn_samples\u001b[0m \u001b[0;34m=\u001b[0m \u001b[0mX\u001b[0m\u001b[0;34m.\u001b[0m\u001b[0mshape\u001b[0m\u001b[0;34m[\u001b[0m\u001b[0;36m0\u001b[0m\u001b[0;34m]\u001b[0m\u001b[0;34m\u001b[0m\u001b[0;34m\u001b[0m\u001b[0m\n",
      "\u001b[0;32m/shared-libs/python3.7/py/lib/python3.7/site-packages/sklearn/tree/_classes.py\u001b[0m in \u001b[0;36m_validate_X_predict\u001b[0;34m(self, X, check_input)\u001b[0m\n\u001b[1;32m    431\u001b[0m         \u001b[0;34m\"\"\"Validate the training data on predict (probabilities).\"\"\"\u001b[0m\u001b[0;34m\u001b[0m\u001b[0;34m\u001b[0m\u001b[0m\n\u001b[1;32m    432\u001b[0m         \u001b[0;32mif\u001b[0m \u001b[0mcheck_input\u001b[0m\u001b[0;34m:\u001b[0m\u001b[0;34m\u001b[0m\u001b[0;34m\u001b[0m\u001b[0m\n\u001b[0;32m--> 433\u001b[0;31m             \u001b[0mX\u001b[0m \u001b[0;34m=\u001b[0m \u001b[0mself\u001b[0m\u001b[0;34m.\u001b[0m\u001b[0m_validate_data\u001b[0m\u001b[0;34m(\u001b[0m\u001b[0mX\u001b[0m\u001b[0;34m,\u001b[0m \u001b[0mdtype\u001b[0m\u001b[0;34m=\u001b[0m\u001b[0mDTYPE\u001b[0m\u001b[0;34m,\u001b[0m \u001b[0maccept_sparse\u001b[0m\u001b[0;34m=\u001b[0m\u001b[0;34m\"csr\"\u001b[0m\u001b[0;34m,\u001b[0m \u001b[0mreset\u001b[0m\u001b[0;34m=\u001b[0m\u001b[0;32mFalse\u001b[0m\u001b[0;34m)\u001b[0m\u001b[0;34m\u001b[0m\u001b[0;34m\u001b[0m\u001b[0m\n\u001b[0m\u001b[1;32m    434\u001b[0m             if issparse(X) and (\n\u001b[1;32m    435\u001b[0m                 \u001b[0mX\u001b[0m\u001b[0;34m.\u001b[0m\u001b[0mindices\u001b[0m\u001b[0;34m.\u001b[0m\u001b[0mdtype\u001b[0m \u001b[0;34m!=\u001b[0m \u001b[0mnp\u001b[0m\u001b[0;34m.\u001b[0m\u001b[0mintc\u001b[0m \u001b[0;32mor\u001b[0m \u001b[0mX\u001b[0m\u001b[0;34m.\u001b[0m\u001b[0mindptr\u001b[0m\u001b[0;34m.\u001b[0m\u001b[0mdtype\u001b[0m \u001b[0;34m!=\u001b[0m \u001b[0mnp\u001b[0m\u001b[0;34m.\u001b[0m\u001b[0mintc\u001b[0m\u001b[0;34m\u001b[0m\u001b[0;34m\u001b[0m\u001b[0m\n",
      "\u001b[0;32m/shared-libs/python3.7/py/lib/python3.7/site-packages/sklearn/base.py\u001b[0m in \u001b[0;36m_validate_data\u001b[0;34m(self, X, y, reset, validate_separately, **check_params)\u001b[0m\n\u001b[1;32m    583\u001b[0m \u001b[0;34m\u001b[0m\u001b[0m\n\u001b[1;32m    584\u001b[0m         \u001b[0;32mif\u001b[0m \u001b[0;32mnot\u001b[0m \u001b[0mno_val_X\u001b[0m \u001b[0;32mand\u001b[0m \u001b[0mcheck_params\u001b[0m\u001b[0;34m.\u001b[0m\u001b[0mget\u001b[0m\u001b[0;34m(\u001b[0m\u001b[0;34m\"ensure_2d\"\u001b[0m\u001b[0;34m,\u001b[0m \u001b[0;32mTrue\u001b[0m\u001b[0;34m)\u001b[0m\u001b[0;34m:\u001b[0m\u001b[0;34m\u001b[0m\u001b[0;34m\u001b[0m\u001b[0m\n\u001b[0;32m--> 585\u001b[0;31m             \u001b[0mself\u001b[0m\u001b[0;34m.\u001b[0m\u001b[0m_check_n_features\u001b[0m\u001b[0;34m(\u001b[0m\u001b[0mX\u001b[0m\u001b[0;34m,\u001b[0m \u001b[0mreset\u001b[0m\u001b[0;34m=\u001b[0m\u001b[0mreset\u001b[0m\u001b[0;34m)\u001b[0m\u001b[0;34m\u001b[0m\u001b[0;34m\u001b[0m\u001b[0m\n\u001b[0m\u001b[1;32m    586\u001b[0m \u001b[0;34m\u001b[0m\u001b[0m\n\u001b[1;32m    587\u001b[0m         \u001b[0;32mreturn\u001b[0m \u001b[0mout\u001b[0m\u001b[0;34m\u001b[0m\u001b[0;34m\u001b[0m\u001b[0m\n",
      "\u001b[0;32m/shared-libs/python3.7/py/lib/python3.7/site-packages/sklearn/base.py\u001b[0m in \u001b[0;36m_check_n_features\u001b[0;34m(self, X, reset)\u001b[0m\n\u001b[1;32m    399\u001b[0m         \u001b[0;32mif\u001b[0m \u001b[0mn_features\u001b[0m \u001b[0;34m!=\u001b[0m \u001b[0mself\u001b[0m\u001b[0;34m.\u001b[0m\u001b[0mn_features_in_\u001b[0m\u001b[0;34m:\u001b[0m\u001b[0;34m\u001b[0m\u001b[0;34m\u001b[0m\u001b[0m\n\u001b[1;32m    400\u001b[0m             raise ValueError(\n\u001b[0;32m--> 401\u001b[0;31m                 \u001b[0;34mf\"X has {n_features} features, but {self.__class__.__name__} \"\u001b[0m\u001b[0;34m\u001b[0m\u001b[0;34m\u001b[0m\u001b[0m\n\u001b[0m\u001b[1;32m    402\u001b[0m                 \u001b[0;34mf\"is expecting {self.n_features_in_} features as input.\"\u001b[0m\u001b[0;34m\u001b[0m\u001b[0;34m\u001b[0m\u001b[0m\n\u001b[1;32m    403\u001b[0m             )\n",
      "\u001b[0;31mValueError\u001b[0m: X has 4 features, but DecisionTreeClassifier is expecting 5000 features as input."
     ]
    }
   ],
   "execution_count": null
  },
  {
   "cell_type": "code",
   "metadata": {
    "cell_id": "efa1b8895c8742118e5c53a2f39cfbc9",
    "tags": [],
    "deepnote_to_be_reexecuted": true,
    "source_hash": "ec49968b",
    "execution_start": 1654159993847,
    "execution_millis": 15,
    "deepnote_table_state": {
     "pageSize": 10,
     "pageIndex": 8,
     "filters": [],
     "sortBy": []
    },
    "deepnote_table_loading": false,
    "deepnote_cell_type": "code",
    "deepnote_cell_height": 162.1875
   },
   "source": "combined_df[\"Predicted hs\"] = list(pred)\ncombined_df",
   "outputs": [
    {
     "output_type": "error",
     "ename": "NameError",
     "evalue": "name 'pred' is not defined",
     "traceback": [
      "\u001b[0;31m---------------------------------------------------------------------------\u001b[0m",
      "\u001b[0;31mNameError\u001b[0m                                 Traceback (most recent call last)",
      "\u001b[0;32m<ipython-input-18-90c51820269f>\u001b[0m in \u001b[0;36m<module>\u001b[0;34m\u001b[0m\n\u001b[1;32m      1\u001b[0m \u001b[0m_deepnote_current_table_attrs\u001b[0m \u001b[0;34m=\u001b[0m \u001b[0;34m'''{\"pageSize\":10,\"pageIndex\":8,\"filters\":[],\"sortBy\":[]}'''\u001b[0m\u001b[0;34m\u001b[0m\u001b[0;34m\u001b[0m\u001b[0m\n\u001b[0;32m----> 2\u001b[0;31m \u001b[0mcombined_df\u001b[0m\u001b[0;34m[\u001b[0m\u001b[0;34m\"Predicted hs\"\u001b[0m\u001b[0;34m]\u001b[0m \u001b[0;34m=\u001b[0m \u001b[0mlist\u001b[0m\u001b[0;34m(\u001b[0m\u001b[0mpred\u001b[0m\u001b[0;34m)\u001b[0m\u001b[0;34m\u001b[0m\u001b[0;34m\u001b[0m\u001b[0m\n\u001b[0m\u001b[1;32m      3\u001b[0m \u001b[0mcombined_df\u001b[0m\u001b[0;34m\u001b[0m\u001b[0;34m\u001b[0m\u001b[0m\n",
      "\u001b[0;31mNameError\u001b[0m: name 'pred' is not defined"
     ]
    }
   ],
   "execution_count": null
  },
  {
   "cell_type": "code",
   "metadata": {
    "cell_id": "507ebf8f687748d8ade11f0337bdc6a9",
    "tags": [],
    "deepnote_to_be_reexecuted": true,
    "source_hash": "e988ee6e",
    "execution_start": 1654159995288,
    "execution_millis": 14,
    "deepnote_cell_type": "code",
    "deepnote_cell_height": 180.1875
   },
   "source": "acc_score = accuracy_score(y, pred)\n\nacc_score",
   "outputs": [
    {
     "output_type": "error",
     "ename": "NameError",
     "evalue": "name 'y' is not defined",
     "traceback": [
      "\u001b[0;31m---------------------------------------------------------------------------\u001b[0m",
      "\u001b[0;31mNameError\u001b[0m                                 Traceback (most recent call last)",
      "\u001b[0;32m<ipython-input-19-fbef73bdc743>\u001b[0m in \u001b[0;36m<module>\u001b[0;34m\u001b[0m\n\u001b[0;32m----> 1\u001b[0;31m \u001b[0macc_score\u001b[0m \u001b[0;34m=\u001b[0m \u001b[0maccuracy_score\u001b[0m\u001b[0;34m(\u001b[0m\u001b[0my\u001b[0m\u001b[0;34m,\u001b[0m \u001b[0mpred\u001b[0m\u001b[0;34m)\u001b[0m\u001b[0;34m\u001b[0m\u001b[0;34m\u001b[0m\u001b[0m\n\u001b[0m\u001b[1;32m      2\u001b[0m \u001b[0;34m\u001b[0m\u001b[0m\n\u001b[1;32m      3\u001b[0m \u001b[0macc_score\u001b[0m\u001b[0;34m\u001b[0m\u001b[0;34m\u001b[0m\u001b[0m\n",
      "\u001b[0;31mNameError\u001b[0m: name 'y' is not defined"
     ]
    }
   ],
   "execution_count": null
  },
  {
   "cell_type": "code",
   "source": "",
   "metadata": {
    "cell_id": "9b3c1e933fce42d8b77e2b989ada6052",
    "tags": [],
    "deepnote_to_be_reexecuted": true,
    "source_hash": "b623e53d",
    "deepnote_cell_type": "code",
    "deepnote_cell_height": 66
   },
   "outputs": [],
   "execution_count": null
  },
  {
   "cell_type": "markdown",
   "source": "<a style='text-decoration:none;line-height:16px;display:flex;color:#5B5B62;padding:10px;justify-content:end;' href='https://deepnote.com?utm_source=created-in-deepnote-cell&projectId=bf1f20fb-a6c0-4ea2-8567-a5a41eea1d8a' target=\"_blank\">\n<img alt='Created in deepnote.com' style='display:inline;max-height:16px;margin:0px;margin-right:7.5px;' src='data:image/svg+xml;base64,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' > </img>\nCreated in <span style='font-weight:600;margin-left:4px;'>Deepnote</span></a>",
   "metadata": {
    "tags": [],
    "created_in_deepnote_cell": true,
    "deepnote_cell_type": "markdown"
   }
  }
 ],
 "nbformat": 4,
 "nbformat_minor": 2,
 "metadata": {
  "orig_nbformat": 2,
  "deepnote": {},
  "deepnote_notebook_id": "a3f029ac-60d1-4c99-8be1-d879d8dfa37b",
  "deepnote_execution_queue": []
 }
}