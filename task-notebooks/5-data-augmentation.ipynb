{
 "cells": [
  {
   "cell_type": "markdown",
   "source": "# 5. Data Augmentation",
   "metadata": {
    "cell_id": "b3ce63ebe8444cab9bb7902dd5347f3b",
    "tags": [],
    "is_collapsed": false,
    "deepnote_cell_type": "text-cell-h1"
   }
  },
  {
   "cell_type": "markdown",
   "source": "- [ ] Run at least one experiment with an augmented dataset that includes additional data selected based on training data perplexity under a language model trained the task you’ve selected.",
   "metadata": {
    "cell_id": "73e153ec748742bb861e9764cc7f3b3f",
    "tags": [],
    "deepnote_cell_type": "markdown",
    "deepnote_cell_height": 91.78125
   }
  },
  {
   "cell_type": "markdown",
   "source": "Possible Sources: \n\n- [ ] the training sets of the other tasks\n- [ ] the Broad Twitter Dataset (https://github.com/GateNLP/broad_twitter_corpus),\n- [ ] any other dataset we can think of (any creative ideas?)\n- [ ] Trump's offensive tweets?",
   "metadata": {
    "cell_id": "2d22f510a81443fca64942a0614ee919",
    "tags": [],
    "deepnote_cell_type": "markdown",
    "deepnote_cell_height": 178.953125
   }
  },
  {
   "cell_type": "code",
   "metadata": {
    "cell_id": "def246fe67fd4f47b64eecbd65027844",
    "tags": [],
    "deepnote_to_be_reexecuted": false,
    "source_hash": "d14e55c3",
    "execution_start": 1654159967221,
    "execution_millis": 2726,
    "deepnote_cell_type": "code",
    "deepnote_cell_height": 189
   },
   "source": "import pandas as pd\nimport pickle\nfrom sklearn.feature_extraction.text import CountVectorizer\nfrom sklearn.metrics import accuracy_score,confusion_matrix,roc_auc_score,classification_report\nimport sys\nsys.path.insert(0, '/work/twitter-nlp')\nfrom boilerplate import load_and_tokenize, pickling, open_jar",
   "execution_count": 1,
   "outputs": []
  },
  {
   "cell_type": "code",
   "metadata": {
    "cell_id": "c3741d541f904e7a8ebfd843b8986b6e",
    "tags": [],
    "deepnote_to_be_reexecuted": false,
    "source_hash": "7487a5a4",
    "execution_start": 1654159972925,
    "execution_millis": 299,
    "deepnote_cell_type": "code",
    "deepnote_cell_height": 207
   },
   "source": "train_txt_emoji = open_jar('/work/twitter-nlp/data/pickle/tweeteval/emoji/pickled_train_text.pkl')\ntrain_labels_emoji = pd.DataFrame(open_jar('/work/twitter-nlp/data/pickle/tweeteval/emoji/pickled_train_labels.pkl'))\nval_txt_emoji = open_jar('/work/twitter-nlp/data/pickle/tweeteval/emoji/pickled_val_text.pkl')\nval_labels_emoji = pd.DataFrame(open_jar('/work/twitter-nlp/data/pickle/tweeteval/emoji/pickled_val_labels.pkl'))\nX_train_txt_emoji = train_txt_emoji.copy()\nX_train_txt_emoji.extend(val_txt_emoji)\ny_train_emoji = pd.concat([train_labels_emoji,val_labels_emoji], ignore_index=True).astype(int)\nemoji_classes = pd.read_csv(\"/work/twitter-nlp/data/tweeteval/datasets/emoji/mapping.txt\", sep = \"\t\", header=None)",
   "execution_count": 2,
   "outputs": []
  },
  {
   "cell_type": "code",
   "metadata": {
    "cell_id": "3591574d4d37491f8ad21912220c9777",
    "tags": [],
    "deepnote_to_be_reexecuted": false,
    "source_hash": "b05c88db",
    "execution_start": 1654159978325,
    "execution_millis": 2,
    "deepnote_cell_type": "code",
    "deepnote_cell_height": 112.1875
   },
   "source": "print(len(X_train_txt_emoji), len(list(y_train_emoji[0])))",
   "execution_count": 3,
   "outputs": [
    {
     "name": "stdout",
     "text": "50000 50000\n",
     "output_type": "stream"
    }
   ]
  },
  {
   "cell_type": "code",
   "metadata": {
    "cell_id": "9e6ba480b15c4bd99d0f64747aa73e16",
    "tags": [],
    "deepnote_to_be_reexecuted": false,
    "source_hash": "f5c44fb0",
    "execution_start": 1654159979858,
    "execution_millis": 34,
    "deepnote_cell_type": "code",
    "deepnote_cell_height": 81
   },
   "source": "merged = pd.DataFrame(zip(X_train_txt_emoji, list(y_train_emoji[0])))",
   "execution_count": 4,
   "outputs": []
  },
  {
   "cell_type": "code",
   "metadata": {
    "cell_id": "5100a5f243b34797992825396137260b",
    "tags": [],
    "deepnote_to_be_reexecuted": false,
    "source_hash": "eb79f390",
    "execution_start": 1654159981012,
    "execution_millis": 60,
    "deepnote_cell_type": "code",
    "deepnote_cell_height": 600
   },
   "source": "merged[merged[1] == 18]",
   "execution_count": 5,
   "outputs": [
    {
     "output_type": "execute_result",
     "execution_count": 5,
     "data": {
      "application/vnd.deepnote.dataframe.v3+json": {
       "column_count": 2,
       "row_count": 1639,
       "columns": [
        {
         "name": 0,
         "dtype": "object",
         "stats": {
          "unique_count": 1639,
          "nan_count": 0,
          "categories": [
           {
            "name": "['Hyangle', 'Photography', '8212016', '__________________________#nikon_photography', '#photo', '#Sunday']",
            "count": 4
           },
           {
            "name": "['david_beatz', '@', 'Los', 'Angeles', 'California']",
            "count": 4
           },
           {
            "name": "1615 others",
            "count": 1631
           }
          ]
         }
        },
        {
         "name": 1,
         "dtype": "int64",
         "stats": {
          "unique_count": 1,
          "nan_count": 0,
          "min": "18",
          "max": "18",
          "histogram": [
           {
            "bin_start": 17.5,
            "bin_end": 17.6,
            "count": 0
           },
           {
            "bin_start": 17.6,
            "bin_end": 17.7,
            "count": 0
           },
           {
            "bin_start": 17.7,
            "bin_end": 17.8,
            "count": 0
           },
           {
            "bin_start": 17.8,
            "bin_end": 17.9,
            "count": 0
           },
           {
            "bin_start": 17.9,
            "bin_end": 18,
            "count": 0
           },
           {
            "bin_start": 18,
            "bin_end": 18.1,
            "count": 1639
           },
           {
            "bin_start": 18.1,
            "bin_end": 18.2,
            "count": 0
           },
           {
            "bin_start": 18.2,
            "bin_end": 18.3,
            "count": 0
           },
           {
            "bin_start": 18.3,
            "bin_end": 18.4,
            "count": 0
           },
           {
            "bin_start": 18.4,
            "bin_end": 18.5,
            "count": 0
           }
          ]
         }
        },
        {
         "name": "_deepnote_index_column",
         "dtype": "int64"
        }
       ],
       "rows": [
        {
         "0": "['In', 'the', 'zone', '|', '@user', '#colorsworldwide', '#RnBOnly', '@', 'The', 'Regent']",
         "1": 18,
         "_deepnote_index_column": 36
        },
        {
         "0": "['Getting', 'up', 'that', 'ice', 'wall', 'one', 'ax', 'at', 'a', 'time', 'pechoi11', '@', 'Mount', 'Shasta', 'California']",
         "1": 18,
         "_deepnote_index_column": 59
        },
        {
         "0": "['Caught', 'by', 'the', 'lens', 'of', 'Yc', 'Wong', 'photo', 'by', '8888tiger8888', 'suit', 'by', 'virginblak', '#ljifff']",
         "1": 18,
         "_deepnote_index_column": 96
        },
        {
         "0": "['Photoshooting', 'with', 'the', 'babe', '@user', '#sundayfunday', '@', 'Downtown', 'Container', 'Park']",
         "1": 18,
         "_deepnote_index_column": 108
        },
        {
         "0": "['We', 'had', 'a', 'lot', 'of', 'office', 'volunteers', 'for', 'this', 'event', 'nicolempawlak', '#teamwass', '#extramileca', '@user']",
         "1": 18,
         "_deepnote_index_column": 122
        },
        {
         "0": "['We', 'be', 'touristy', 'in', 'the', '#sisco', 'bossman', '@', 'Palace', 'of', 'Fine', 'Arts']",
         "1": 18,
         "_deepnote_index_column": 134
        },
        {
         "0": "['Forever', 'a', 'Brooklyn', 'girl', '@user', '@', 'The', 'Dragonfly']",
         "1": 18,
         "_deepnote_index_column": 138
        },
        {
         "0": "['(', 'PLDM', 'Trademark)', '@', 'Downtown', 'Sacramento']",
         "1": 18,
         "_deepnote_index_column": 140
        },
        {
         "0": "['Day', 'job', '#FilmComposer', 'amandacomander', '@', 'Los', 'Angeles', 'California']",
         "1": 18,
         "_deepnote_index_column": 144
        },
        {
         "0": "['Gotta', 'love', 'family', 'thee_counsela8', '___rht_', '@user', 'nothing', 'like', 'family', 'supporting', 'your', 'dreams']",
         "1": 18,
         "_deepnote_index_column": 161
        }
       ]
      },
      "text/plain": "                                                       0   1\n36     [In, the, zone, |, @user, #colorsworldwide, #R...  18\n59     [Getting, up, that, ice, wall, one, ax, at, a,...  18\n96     [Caught, by, the, lens, of, Yc, Wong, photo, b...  18\n108    [Photoshooting, with, the, babe, @user, #sunda...  18\n122    [We, had, a, lot, of, office, volunteers, for,...  18\n...                                                  ...  ..\n49734  [#EmptyStates, Day, 3, @user, @user, @, San, F...  18\n49740  [instant, human, just, add, coffee, lavenderch...  18\n49766  [#Day2, #, #TouristMode, #Views, @, The, Coit,...  18\n49909  [ONLINE, Americana, Hat, in, camo, or, grey, D...  18\n49968  [#dirtbikesforpresident, jwtfmx, @user, @, Jim...  18\n\n[1639 rows x 2 columns]",
      "text/html": "<div>\n<style scoped>\n    .dataframe tbody tr th:only-of-type {\n        vertical-align: middle;\n    }\n\n    .dataframe tbody tr th {\n        vertical-align: top;\n    }\n\n    .dataframe thead th {\n        text-align: right;\n    }\n</style>\n<table border=\"1\" class=\"dataframe\">\n  <thead>\n    <tr style=\"text-align: right;\">\n      <th></th>\n      <th>0</th>\n      <th>1</th>\n    </tr>\n  </thead>\n  <tbody>\n    <tr>\n      <th>36</th>\n      <td>[In, the, zone, |, @user, #colorsworldwide, #R...</td>\n      <td>18</td>\n    </tr>\n    <tr>\n      <th>59</th>\n      <td>[Getting, up, that, ice, wall, one, ax, at, a,...</td>\n      <td>18</td>\n    </tr>\n    <tr>\n      <th>96</th>\n      <td>[Caught, by, the, lens, of, Yc, Wong, photo, b...</td>\n      <td>18</td>\n    </tr>\n    <tr>\n      <th>108</th>\n      <td>[Photoshooting, with, the, babe, @user, #sunda...</td>\n      <td>18</td>\n    </tr>\n    <tr>\n      <th>122</th>\n      <td>[We, had, a, lot, of, office, volunteers, for,...</td>\n      <td>18</td>\n    </tr>\n    <tr>\n      <th>...</th>\n      <td>...</td>\n      <td>...</td>\n    </tr>\n    <tr>\n      <th>49734</th>\n      <td>[#EmptyStates, Day, 3, @user, @user, @, San, F...</td>\n      <td>18</td>\n    </tr>\n    <tr>\n      <th>49740</th>\n      <td>[instant, human, just, add, coffee, lavenderch...</td>\n      <td>18</td>\n    </tr>\n    <tr>\n      <th>49766</th>\n      <td>[#Day2, #, #TouristMode, #Views, @, The, Coit,...</td>\n      <td>18</td>\n    </tr>\n    <tr>\n      <th>49909</th>\n      <td>[ONLINE, Americana, Hat, in, camo, or, grey, D...</td>\n      <td>18</td>\n    </tr>\n    <tr>\n      <th>49968</th>\n      <td>[#dirtbikesforpresident, jwtfmx, @user, @, Jim...</td>\n      <td>18</td>\n    </tr>\n  </tbody>\n</table>\n<p>1639 rows × 2 columns</p>\n</div>"
     },
     "metadata": {}
    }
   ]
  },
  {
   "cell_type": "markdown",
   "source": "## Labeling Trumps Twitter Insults\nWe took trumps insults (provided by the New York Times) and combined those with all his other tweets. ",
   "metadata": {
    "cell_id": "bf4d360ccb6241298d2108e52ba63a22",
    "tags": [],
    "deepnote_cell_type": "markdown",
    "deepnote_cell_height": 108.390625
   }
  },
  {
   "cell_type": "code",
   "metadata": {
    "cell_id": "fcd4ab6d34eb4854961abc1bf438aed3",
    "tags": [],
    "deepnote_to_be_reexecuted": false,
    "source_hash": "c4162f1d",
    "execution_start": 1654159982059,
    "execution_millis": 66,
    "deepnote_table_state": {
     "pageSize": 10,
     "pageIndex": 0,
     "filters": [
      {
       "id": "date",
       "value": "2015-01-01",
       "type": "contains"
      }
     ],
     "sortBy": []
    },
    "deepnote_table_loading": false,
    "deepnote_cell_type": "code",
    "deepnote_cell_height": 243
   },
   "source": "# loading in trump's twitter insults\n# the insult data is a collection of all insults from 2015 to 2021 (until trump was banned)\ninsult_data = pd.read_csv(\"/work/twitter-nlp/data/trumptwitterinsults/trump_insult_tweets_2014_to_2021.csv\")\n\n# only using the tokens data, and dropping all duplicates, adding a hatespeech label (all are marked as hatespeech)\ntweets = insult_data[\"tweet\"]\ntweets = tweets.drop_duplicates()\ninsult_tokens = pd.DataFrame(columns=[\"Labels\", \"Tweets\"])\ninsult_tokens[\"Tweets\"] = tweets\ninsult_tokens[\"Labels\"] = [1 for _ in range(0, len(insult_tokens))]",
   "execution_count": 6,
   "outputs": []
  },
  {
   "cell_type": "code",
   "metadata": {
    "cell_id": "f7b809b7fd5c4109a1a0527aa5052058",
    "tags": [],
    "deepnote_to_be_reexecuted": false,
    "source_hash": "e02f6528",
    "execution_start": 1654159982865,
    "execution_millis": 299,
    "deepnote_cell_type": "code",
    "deepnote_cell_height": 243
   },
   "source": "# the standard data is a collection of all of trumps tweets from 2009 to 2021 (until trump was banned)\nstandard_data = pd.read_csv(\"/work/twitter-nlp/data/trumptwitterinsults/tweets.csv\")\n\n# shortening the data from 2015 to 2009 only, using only tweets, dropping duplcates, adding label\nstandard_data = standard_data[39087:-1]\nk_tweets = standard_data[\"text\"]\nk_tweets = k_tweets.drop_duplicates()\ncontrol_tokens = pd.DataFrame(columns=[\"Labels\", \"Tweets\"])\ncontrol_tokens[\"Tweets\"] = k_tweets\ncontrol_tokens[\"Labels\"] = [0 for _ in range(0, len(control_tokens))]",
   "execution_count": 7,
   "outputs": []
  },
  {
   "cell_type": "code",
   "metadata": {
    "cell_id": "e47c39de52a242868ada87520fc480e7",
    "tags": [],
    "deepnote_to_be_reexecuted": false,
    "source_hash": "e5590af1",
    "execution_start": 1654159983908,
    "execution_millis": 83,
    "deepnote_table_state": {
     "pageSize": 10,
     "pageIndex": 1999,
     "filters": [],
     "sortBy": []
    },
    "deepnote_table_loading": false,
    "deepnote_cell_type": "code",
    "deepnote_cell_height": 654
   },
   "source": "# combining the two df\ncombined_df = pd.concat([insult_tokens, control_tokens])\ntext = list(combined_df[\"Tweets\"])\ncombined_df",
   "execution_count": 8,
   "outputs": [
    {
     "output_type": "execute_result",
     "execution_count": 8,
     "data": {
      "application/vnd.deepnote.dataframe.v3+json": {
       "column_count": 2,
       "row_count": 23030,
       "columns": [
        {
         "name": "Labels",
         "dtype": "int64",
         "stats": {
          "unique_count": 2,
          "nan_count": 0,
          "min": "0",
          "max": "1",
          "histogram": [
           {
            "bin_start": 0,
            "bin_end": 0.1,
            "count": 17357
           },
           {
            "bin_start": 0.1,
            "bin_end": 0.2,
            "count": 0
           },
           {
            "bin_start": 0.2,
            "bin_end": 0.30000000000000004,
            "count": 0
           },
           {
            "bin_start": 0.30000000000000004,
            "bin_end": 0.4,
            "count": 0
           },
           {
            "bin_start": 0.4,
            "bin_end": 0.5,
            "count": 0
           },
           {
            "bin_start": 0.5,
            "bin_end": 0.6000000000000001,
            "count": 0
           },
           {
            "bin_start": 0.6000000000000001,
            "bin_end": 0.7000000000000001,
            "count": 0
           },
           {
            "bin_start": 0.7000000000000001,
            "bin_end": 0.8,
            "count": 0
           },
           {
            "bin_start": 0.8,
            "bin_end": 0.9,
            "count": 0
           },
           {
            "bin_start": 0.9,
            "bin_end": 1,
            "count": 5673
           }
          ]
         }
        },
        {
         "name": "Tweets",
         "dtype": "object",
         "stats": {
          "unique_count": 20799,
          "nan_count": 0,
          "categories": [
           {
            "name": ".@JebBush is a sad case. A total embarrassment to both himself and his family, he just announced he will continue to spend on Trump hit ads!",
            "count": 2
           },
           {
            "name": "Hillary Clinton doesn't have the strength or stamina to be president. Jeb Bush is a low energy individual, but Hillary is not much better!",
            "count": 2
           },
           {
            "name": "20797 others",
            "count": 23026
           }
          ]
         }
        },
        {
         "name": "_deepnote_index_column",
         "dtype": "int64"
        }
       ],
       "rows": [
        {
         "Labels": 0,
         "Tweets": "The Report of Iran capturing CIA spies is totally false. Zero truth. Just more lies and propaganda (like their shot down drone) put out by a Religious Regime that is Badly Failing and has no idea what to do. Their Economy is dead, and will get much worse. Iran is a total mess!",
         "_deepnote_index_column": 53479
        },
        {
         "Labels": 0,
         "Tweets": "....But the questions should be asked, why were all of Clinton’s people given immunity, and why were the text messages of Peter S and his lover, Lisa Page, deleted and destroyed right after they left Mueller, and after we requested them(this is Illegal)?",
         "_deepnote_index_column": 53480
        },
        {
         "Labels": 0,
         "Tweets": "Highly conflicted Robert Mueller should not be given another bite at the apple. In the end it will be bad for him and the phony Democrats in Congress who have done nothing but waste time on this ridiculous Witch Hunt. Result of the Mueller Report, NO COLLUSION, NO OBSTRUCTION!...",
         "_deepnote_index_column": 53481
        },
        {
         "Labels": 0,
         "Tweets": "Fake News Equals the Enemy of the People!",
         "_deepnote_index_column": 53482
        },
        {
         "Labels": 0,
         "Tweets": "RT @WhiteHouseCEA: The Consumer Price Index (CPI) for prescription drugs decreased 2.0 percent in June from 12 months prior according to th...",
         "_deepnote_index_column": 53483
        },
        {
         "Labels": 0,
         "Tweets": "The Mainstream Media is out of control. They constantly lie and cheat in order to get their Radical Left Democrat views out their for all to see. It has never been this bad. They have gone bonkers, &amp, no longer care what is right or wrong. This large scale false reporting is sick!",
         "_deepnote_index_column": 53484
        },
        {
         "Labels": 0,
         "Tweets": "....except for those stated by me, &amp, “reams of paper” were never given to me. It is a made up story meant to demean &amp, belittle. The Post had no sources. The facts remain the same, that we have 4 Radical Left Congresswomen who have said very bad things about Israel &amp, our Country!",
         "_deepnote_index_column": 53485
        },
        {
         "Labels": 0,
         "Tweets": "The Amazon Washington Post front page story yesterday was total Fake News. They said “Advisors wrote new talking points and handed him reams of opposition research on the four Congresswomen.” Now really, does that sound like me? What advisors, there were no talking points,....",
         "_deepnote_index_column": 53486
        },
        {
         "Labels": 0,
         "Tweets": "It is far more costly for the Federal Reserve to cut deeper if the economy actually does, in the future, turn down! Very inexpensive, in fact productive,  to move now. The Fed raised &amp, tightened far too much &amp, too fast. In other words, they missed it (Big!). Don’t miss it again!",
         "_deepnote_index_column": 53487
        },
        {
         "Labels": 0,
         "Tweets": "....as we have done, it could have been soooo much better. Interest rate costs should have been much lower, &amp, GDP &amp, our Country’s wealth accumulation much higher. Such a waste of time &amp, money. Also, very unfair that other countries manipulate their currencies and pump money in!",
         "_deepnote_index_column": 53488
        }
       ]
      },
      "text/plain": "       Labels                                             Tweets\n0           1  Can you believe this fool, Dr. Thomas Frieden ...\n2           1  Big time in U.S. today - MAKE AMERICA GREAT AG...\n3           1  Politician @SenatorCardin didn't like that I s...\n4           1  For the nonbeliever, here is a photo of @Neily...\n5           1  .@Neilyoung’s song, “Rockin’ In The Free World...\n...       ...                                                ...\n56565       0  RT @heatherjones333: 'We Have Taken Appropriat...\n56566       0  RT @RandPaul: I don’t know why @JoeBiden think...\n56567       0  RT @EliseStefanik: President @realDonaldTrump ...\n56568       0  RT @TeamTrump: LIVE: Presidential Debate #Deba...\n56569       0  Just signed an order to support the workers of...\n\n[23030 rows x 2 columns]",
      "text/html": "<div>\n<style scoped>\n    .dataframe tbody tr th:only-of-type {\n        vertical-align: middle;\n    }\n\n    .dataframe tbody tr th {\n        vertical-align: top;\n    }\n\n    .dataframe thead th {\n        text-align: right;\n    }\n</style>\n<table border=\"1\" class=\"dataframe\">\n  <thead>\n    <tr style=\"text-align: right;\">\n      <th></th>\n      <th>Labels</th>\n      <th>Tweets</th>\n    </tr>\n  </thead>\n  <tbody>\n    <tr>\n      <th>0</th>\n      <td>1</td>\n      <td>Can you believe this fool, Dr. Thomas Frieden ...</td>\n    </tr>\n    <tr>\n      <th>2</th>\n      <td>1</td>\n      <td>Big time in U.S. today - MAKE AMERICA GREAT AG...</td>\n    </tr>\n    <tr>\n      <th>3</th>\n      <td>1</td>\n      <td>Politician @SenatorCardin didn't like that I s...</td>\n    </tr>\n    <tr>\n      <th>4</th>\n      <td>1</td>\n      <td>For the nonbeliever, here is a photo of @Neily...</td>\n    </tr>\n    <tr>\n      <th>5</th>\n      <td>1</td>\n      <td>.@Neilyoung’s song, “Rockin’ In The Free World...</td>\n    </tr>\n    <tr>\n      <th>...</th>\n      <td>...</td>\n      <td>...</td>\n    </tr>\n    <tr>\n      <th>56565</th>\n      <td>0</td>\n      <td>RT @heatherjones333: 'We Have Taken Appropriat...</td>\n    </tr>\n    <tr>\n      <th>56566</th>\n      <td>0</td>\n      <td>RT @RandPaul: I don’t know why @JoeBiden think...</td>\n    </tr>\n    <tr>\n      <th>56567</th>\n      <td>0</td>\n      <td>RT @EliseStefanik: President @realDonaldTrump ...</td>\n    </tr>\n    <tr>\n      <th>56568</th>\n      <td>0</td>\n      <td>RT @TeamTrump: LIVE: Presidential Debate #Deba...</td>\n    </tr>\n    <tr>\n      <th>56569</th>\n      <td>0</td>\n      <td>Just signed an order to support the workers of...</td>\n    </tr>\n  </tbody>\n</table>\n<p>23030 rows × 2 columns</p>\n</div>"
     },
     "metadata": {}
    }
   ]
  },
  {
   "cell_type": "code",
   "metadata": {
    "cell_id": "dc6e9079d00d42e8aafa0f9b91aaf290",
    "tags": [],
    "deepnote_to_be_reexecuted": false,
    "source_hash": "6f4b84ca",
    "execution_start": 1654159984477,
    "execution_millis": 4,
    "deepnote_cell_type": "code",
    "deepnote_cell_height": 81
   },
   "source": "text = ['Hey lol', \"Hey fuck you\"]",
   "execution_count": 9,
   "outputs": []
  },
  {
   "cell_type": "code",
   "metadata": {
    "cell_id": "60966fe52d3e463da759ac7516adb131",
    "tags": [],
    "deepnote_to_be_reexecuted": false,
    "source_hash": "15585874",
    "execution_start": 1654159985243,
    "execution_millis": 161,
    "deepnote_cell_type": "code",
    "deepnote_cell_height": 245.375,
    "deepnote_output_heights": [
     40.375
    ]
   },
   "source": "classifier = pickle.load(open('/work/twitter-nlp/data/pickle/models/hate/dtc.sav', 'rb'))\ncv = CountVectorizer(max_features=5000)\nX = cv.fit_transform(text).toarray()\n# y = list(combined_df['Labels'])\n#pred = classifier.predict(X)\n#print(pred)\nX",
   "execution_count": 10,
   "outputs": [
    {
     "output_type": "execute_result",
     "execution_count": 10,
     "data": {
      "text/plain": "array([[0, 1, 1, 0],\n       [1, 1, 0, 1]])"
     },
     "metadata": {}
    }
   ]
  },
  {
   "cell_type": "code",
   "metadata": {
    "cell_id": "0dedf2174d1d4d9b98a4d7385b7829b5",
    "tags": [],
    "deepnote_to_be_reexecuted": false,
    "source_hash": "5aec8c95",
    "execution_start": 1654159985898,
    "execution_millis": 1,
    "owner_user_id": "d412078e-b60c-4eb9-a4b6-2f0edcac48d2",
    "deepnote_cell_type": "code",
    "deepnote_cell_height": 207
   },
   "source": "def classify_sentence(text):\n    X_train_full = open_jar('/work/twitter-nlp/data/tweeteval/datasets/hate/final_X_train_txt.pkl')\n    y_train_full = open_jar('/work/twitter-nlp/data/tweeteval/datasets/hate/final_y_train_txt.pkl')\n    classifier = pickle.load(open('/work/twitter-nlp/data/pickle/models/hate/dtc.sav', 'rb'))\n    cv = CountVectorizer(max_features=5000)\n    X = cv.fit_transform(text).toarray()\n    pred = classifier.predict(X)\n    return pred",
   "execution_count": 11,
   "outputs": []
  },
  {
   "cell_type": "code",
   "metadata": {
    "cell_id": "190186e907ea4a45a0fd22e488f7eedf",
    "tags": [],
    "deepnote_to_be_reexecuted": false,
    "source_hash": "7e6da0c1",
    "execution_start": 1654159992530,
    "execution_millis": 59,
    "deepnote_cell_type": "code",
    "deepnote_cell_height": 144.1875
   },
   "source": "classify_sentence([\"hey lol\"])",
   "execution_count": 16,
   "outputs": [
    {
     "output_type": "error",
     "ename": "ValueError",
     "evalue": "X has 2 features, but DecisionTreeClassifier is expecting 5000 features as input.",
     "traceback": [
      "\u001b[0;31m---------------------------------------------------------------------------\u001b[0m",
      "\u001b[0;31mValueError\u001b[0m                                Traceback (most recent call last)",
      "\u001b[0;32m<ipython-input-16-2e8ed3e75691>\u001b[0m in \u001b[0;36m<module>\u001b[0;34m\u001b[0m\n\u001b[0;32m----> 1\u001b[0;31m \u001b[0mclassify_sentence\u001b[0m\u001b[0;34m(\u001b[0m\u001b[0;34m[\u001b[0m\u001b[0;34m\"hey lol\"\u001b[0m\u001b[0;34m]\u001b[0m\u001b[0;34m)\u001b[0m\u001b[0;34m\u001b[0m\u001b[0;34m\u001b[0m\u001b[0m\n\u001b[0m",
      "\u001b[0;32m<ipython-input-11-79652861510d>\u001b[0m in \u001b[0;36mclassify_sentence\u001b[0;34m(text)\u001b[0m\n\u001b[1;32m      3\u001b[0m     \u001b[0mcv\u001b[0m \u001b[0;34m=\u001b[0m \u001b[0mCountVectorizer\u001b[0m\u001b[0;34m(\u001b[0m\u001b[0mmax_features\u001b[0m\u001b[0;34m=\u001b[0m\u001b[0;36m5000\u001b[0m\u001b[0;34m)\u001b[0m\u001b[0;34m\u001b[0m\u001b[0;34m\u001b[0m\u001b[0m\n\u001b[1;32m      4\u001b[0m     \u001b[0mX\u001b[0m \u001b[0;34m=\u001b[0m \u001b[0mcv\u001b[0m\u001b[0;34m.\u001b[0m\u001b[0mfit_transform\u001b[0m\u001b[0;34m(\u001b[0m\u001b[0mtext\u001b[0m\u001b[0;34m)\u001b[0m\u001b[0;34m.\u001b[0m\u001b[0mtoarray\u001b[0m\u001b[0;34m(\u001b[0m\u001b[0;34m)\u001b[0m\u001b[0;34m\u001b[0m\u001b[0;34m\u001b[0m\u001b[0m\n\u001b[0;32m----> 5\u001b[0;31m     \u001b[0mpred\u001b[0m \u001b[0;34m=\u001b[0m \u001b[0mclassifier\u001b[0m\u001b[0;34m.\u001b[0m\u001b[0mpredict\u001b[0m\u001b[0;34m(\u001b[0m\u001b[0mX\u001b[0m\u001b[0;34m)\u001b[0m\u001b[0;34m\u001b[0m\u001b[0;34m\u001b[0m\u001b[0m\n\u001b[0m\u001b[1;32m      6\u001b[0m     \u001b[0;32mreturn\u001b[0m \u001b[0mpred\u001b[0m\u001b[0;34m\u001b[0m\u001b[0;34m\u001b[0m\u001b[0m\n",
      "\u001b[0;32m/shared-libs/python3.7/py/lib/python3.7/site-packages/sklearn/tree/_classes.py\u001b[0m in \u001b[0;36mpredict\u001b[0;34m(self, X, check_input)\u001b[0m\n\u001b[1;32m    465\u001b[0m         \"\"\"\n\u001b[1;32m    466\u001b[0m         \u001b[0mcheck_is_fitted\u001b[0m\u001b[0;34m(\u001b[0m\u001b[0mself\u001b[0m\u001b[0;34m)\u001b[0m\u001b[0;34m\u001b[0m\u001b[0;34m\u001b[0m\u001b[0m\n\u001b[0;32m--> 467\u001b[0;31m         \u001b[0mX\u001b[0m \u001b[0;34m=\u001b[0m \u001b[0mself\u001b[0m\u001b[0;34m.\u001b[0m\u001b[0m_validate_X_predict\u001b[0m\u001b[0;34m(\u001b[0m\u001b[0mX\u001b[0m\u001b[0;34m,\u001b[0m \u001b[0mcheck_input\u001b[0m\u001b[0;34m)\u001b[0m\u001b[0;34m\u001b[0m\u001b[0;34m\u001b[0m\u001b[0m\n\u001b[0m\u001b[1;32m    468\u001b[0m         \u001b[0mproba\u001b[0m \u001b[0;34m=\u001b[0m \u001b[0mself\u001b[0m\u001b[0;34m.\u001b[0m\u001b[0mtree_\u001b[0m\u001b[0;34m.\u001b[0m\u001b[0mpredict\u001b[0m\u001b[0;34m(\u001b[0m\u001b[0mX\u001b[0m\u001b[0;34m)\u001b[0m\u001b[0;34m\u001b[0m\u001b[0;34m\u001b[0m\u001b[0m\n\u001b[1;32m    469\u001b[0m         \u001b[0mn_samples\u001b[0m \u001b[0;34m=\u001b[0m \u001b[0mX\u001b[0m\u001b[0;34m.\u001b[0m\u001b[0mshape\u001b[0m\u001b[0;34m[\u001b[0m\u001b[0;36m0\u001b[0m\u001b[0;34m]\u001b[0m\u001b[0;34m\u001b[0m\u001b[0;34m\u001b[0m\u001b[0m\n",
      "\u001b[0;32m/shared-libs/python3.7/py/lib/python3.7/site-packages/sklearn/tree/_classes.py\u001b[0m in \u001b[0;36m_validate_X_predict\u001b[0;34m(self, X, check_input)\u001b[0m\n\u001b[1;32m    431\u001b[0m         \u001b[0;34m\"\"\"Validate the training data on predict (probabilities).\"\"\"\u001b[0m\u001b[0;34m\u001b[0m\u001b[0;34m\u001b[0m\u001b[0m\n\u001b[1;32m    432\u001b[0m         \u001b[0;32mif\u001b[0m \u001b[0mcheck_input\u001b[0m\u001b[0;34m:\u001b[0m\u001b[0;34m\u001b[0m\u001b[0;34m\u001b[0m\u001b[0m\n\u001b[0;32m--> 433\u001b[0;31m             \u001b[0mX\u001b[0m \u001b[0;34m=\u001b[0m \u001b[0mself\u001b[0m\u001b[0;34m.\u001b[0m\u001b[0m_validate_data\u001b[0m\u001b[0;34m(\u001b[0m\u001b[0mX\u001b[0m\u001b[0;34m,\u001b[0m \u001b[0mdtype\u001b[0m\u001b[0;34m=\u001b[0m\u001b[0mDTYPE\u001b[0m\u001b[0;34m,\u001b[0m \u001b[0maccept_sparse\u001b[0m\u001b[0;34m=\u001b[0m\u001b[0;34m\"csr\"\u001b[0m\u001b[0;34m,\u001b[0m \u001b[0mreset\u001b[0m\u001b[0;34m=\u001b[0m\u001b[0;32mFalse\u001b[0m\u001b[0;34m)\u001b[0m\u001b[0;34m\u001b[0m\u001b[0;34m\u001b[0m\u001b[0m\n\u001b[0m\u001b[1;32m    434\u001b[0m             if issparse(X) and (\n\u001b[1;32m    435\u001b[0m                 \u001b[0mX\u001b[0m\u001b[0;34m.\u001b[0m\u001b[0mindices\u001b[0m\u001b[0;34m.\u001b[0m\u001b[0mdtype\u001b[0m \u001b[0;34m!=\u001b[0m \u001b[0mnp\u001b[0m\u001b[0;34m.\u001b[0m\u001b[0mintc\u001b[0m \u001b[0;32mor\u001b[0m \u001b[0mX\u001b[0m\u001b[0;34m.\u001b[0m\u001b[0mindptr\u001b[0m\u001b[0;34m.\u001b[0m\u001b[0mdtype\u001b[0m \u001b[0;34m!=\u001b[0m \u001b[0mnp\u001b[0m\u001b[0;34m.\u001b[0m\u001b[0mintc\u001b[0m\u001b[0;34m\u001b[0m\u001b[0;34m\u001b[0m\u001b[0m\n",
      "\u001b[0;32m/shared-libs/python3.7/py/lib/python3.7/site-packages/sklearn/base.py\u001b[0m in \u001b[0;36m_validate_data\u001b[0;34m(self, X, y, reset, validate_separately, **check_params)\u001b[0m\n\u001b[1;32m    583\u001b[0m \u001b[0;34m\u001b[0m\u001b[0m\n\u001b[1;32m    584\u001b[0m         \u001b[0;32mif\u001b[0m \u001b[0;32mnot\u001b[0m \u001b[0mno_val_X\u001b[0m \u001b[0;32mand\u001b[0m \u001b[0mcheck_params\u001b[0m\u001b[0;34m.\u001b[0m\u001b[0mget\u001b[0m\u001b[0;34m(\u001b[0m\u001b[0;34m\"ensure_2d\"\u001b[0m\u001b[0;34m,\u001b[0m \u001b[0;32mTrue\u001b[0m\u001b[0;34m)\u001b[0m\u001b[0;34m:\u001b[0m\u001b[0;34m\u001b[0m\u001b[0;34m\u001b[0m\u001b[0m\n\u001b[0;32m--> 585\u001b[0;31m             \u001b[0mself\u001b[0m\u001b[0;34m.\u001b[0m\u001b[0m_check_n_features\u001b[0m\u001b[0;34m(\u001b[0m\u001b[0mX\u001b[0m\u001b[0;34m,\u001b[0m \u001b[0mreset\u001b[0m\u001b[0;34m=\u001b[0m\u001b[0mreset\u001b[0m\u001b[0;34m)\u001b[0m\u001b[0;34m\u001b[0m\u001b[0;34m\u001b[0m\u001b[0m\n\u001b[0m\u001b[1;32m    586\u001b[0m \u001b[0;34m\u001b[0m\u001b[0m\n\u001b[1;32m    587\u001b[0m         \u001b[0;32mreturn\u001b[0m \u001b[0mout\u001b[0m\u001b[0;34m\u001b[0m\u001b[0;34m\u001b[0m\u001b[0m\n",
      "\u001b[0;32m/shared-libs/python3.7/py/lib/python3.7/site-packages/sklearn/base.py\u001b[0m in \u001b[0;36m_check_n_features\u001b[0;34m(self, X, reset)\u001b[0m\n\u001b[1;32m    399\u001b[0m         \u001b[0;32mif\u001b[0m \u001b[0mn_features\u001b[0m \u001b[0;34m!=\u001b[0m \u001b[0mself\u001b[0m\u001b[0;34m.\u001b[0m\u001b[0mn_features_in_\u001b[0m\u001b[0;34m:\u001b[0m\u001b[0;34m\u001b[0m\u001b[0;34m\u001b[0m\u001b[0m\n\u001b[1;32m    400\u001b[0m             raise ValueError(\n\u001b[0;32m--> 401\u001b[0;31m                 \u001b[0;34mf\"X has {n_features} features, but {self.__class__.__name__} \"\u001b[0m\u001b[0;34m\u001b[0m\u001b[0;34m\u001b[0m\u001b[0m\n\u001b[0m\u001b[1;32m    402\u001b[0m                 \u001b[0;34mf\"is expecting {self.n_features_in_} features as input.\"\u001b[0m\u001b[0;34m\u001b[0m\u001b[0;34m\u001b[0m\u001b[0m\n\u001b[1;32m    403\u001b[0m             )\n",
      "\u001b[0;31mValueError\u001b[0m: X has 2 features, but DecisionTreeClassifier is expecting 5000 features as input."
     ]
    }
   ]
  },
  {
   "cell_type": "code",
   "metadata": {
    "cell_id": "7d32bd586f6b4f81be3ab005f9fb4a56",
    "tags": [],
    "deepnote_to_be_reexecuted": false,
    "source_hash": "73a678ff",
    "execution_start": 1654159993203,
    "execution_millis": 22,
    "deepnote_cell_type": "code",
    "deepnote_cell_height": 162.1875
   },
   "source": "pred = classifier.predict(X)\n",
   "execution_count": 17,
   "outputs": [
    {
     "output_type": "error",
     "ename": "ValueError",
     "evalue": "X has 4 features, but DecisionTreeClassifier is expecting 5000 features as input.",
     "traceback": [
      "\u001b[0;31m---------------------------------------------------------------------------\u001b[0m",
      "\u001b[0;31mValueError\u001b[0m                                Traceback (most recent call last)",
      "\u001b[0;32m<ipython-input-17-12f390496011>\u001b[0m in \u001b[0;36m<module>\u001b[0;34m\u001b[0m\n\u001b[0;32m----> 1\u001b[0;31m \u001b[0mpred\u001b[0m \u001b[0;34m=\u001b[0m \u001b[0mclassifier\u001b[0m\u001b[0;34m.\u001b[0m\u001b[0mpredict\u001b[0m\u001b[0;34m(\u001b[0m\u001b[0mX\u001b[0m\u001b[0;34m)\u001b[0m\u001b[0;34m\u001b[0m\u001b[0;34m\u001b[0m\u001b[0m\n\u001b[0m",
      "\u001b[0;32m/shared-libs/python3.7/py/lib/python3.7/site-packages/sklearn/tree/_classes.py\u001b[0m in \u001b[0;36mpredict\u001b[0;34m(self, X, check_input)\u001b[0m\n\u001b[1;32m    465\u001b[0m         \"\"\"\n\u001b[1;32m    466\u001b[0m         \u001b[0mcheck_is_fitted\u001b[0m\u001b[0;34m(\u001b[0m\u001b[0mself\u001b[0m\u001b[0;34m)\u001b[0m\u001b[0;34m\u001b[0m\u001b[0;34m\u001b[0m\u001b[0m\n\u001b[0;32m--> 467\u001b[0;31m         \u001b[0mX\u001b[0m \u001b[0;34m=\u001b[0m \u001b[0mself\u001b[0m\u001b[0;34m.\u001b[0m\u001b[0m_validate_X_predict\u001b[0m\u001b[0;34m(\u001b[0m\u001b[0mX\u001b[0m\u001b[0;34m,\u001b[0m \u001b[0mcheck_input\u001b[0m\u001b[0;34m)\u001b[0m\u001b[0;34m\u001b[0m\u001b[0;34m\u001b[0m\u001b[0m\n\u001b[0m\u001b[1;32m    468\u001b[0m         \u001b[0mproba\u001b[0m \u001b[0;34m=\u001b[0m \u001b[0mself\u001b[0m\u001b[0;34m.\u001b[0m\u001b[0mtree_\u001b[0m\u001b[0;34m.\u001b[0m\u001b[0mpredict\u001b[0m\u001b[0;34m(\u001b[0m\u001b[0mX\u001b[0m\u001b[0;34m)\u001b[0m\u001b[0;34m\u001b[0m\u001b[0;34m\u001b[0m\u001b[0m\n\u001b[1;32m    469\u001b[0m         \u001b[0mn_samples\u001b[0m \u001b[0;34m=\u001b[0m \u001b[0mX\u001b[0m\u001b[0;34m.\u001b[0m\u001b[0mshape\u001b[0m\u001b[0;34m[\u001b[0m\u001b[0;36m0\u001b[0m\u001b[0;34m]\u001b[0m\u001b[0;34m\u001b[0m\u001b[0;34m\u001b[0m\u001b[0m\n",
      "\u001b[0;32m/shared-libs/python3.7/py/lib/python3.7/site-packages/sklearn/tree/_classes.py\u001b[0m in \u001b[0;36m_validate_X_predict\u001b[0;34m(self, X, check_input)\u001b[0m\n\u001b[1;32m    431\u001b[0m         \u001b[0;34m\"\"\"Validate the training data on predict (probabilities).\"\"\"\u001b[0m\u001b[0;34m\u001b[0m\u001b[0;34m\u001b[0m\u001b[0m\n\u001b[1;32m    432\u001b[0m         \u001b[0;32mif\u001b[0m \u001b[0mcheck_input\u001b[0m\u001b[0;34m:\u001b[0m\u001b[0;34m\u001b[0m\u001b[0;34m\u001b[0m\u001b[0m\n\u001b[0;32m--> 433\u001b[0;31m             \u001b[0mX\u001b[0m \u001b[0;34m=\u001b[0m \u001b[0mself\u001b[0m\u001b[0;34m.\u001b[0m\u001b[0m_validate_data\u001b[0m\u001b[0;34m(\u001b[0m\u001b[0mX\u001b[0m\u001b[0;34m,\u001b[0m \u001b[0mdtype\u001b[0m\u001b[0;34m=\u001b[0m\u001b[0mDTYPE\u001b[0m\u001b[0;34m,\u001b[0m \u001b[0maccept_sparse\u001b[0m\u001b[0;34m=\u001b[0m\u001b[0;34m\"csr\"\u001b[0m\u001b[0;34m,\u001b[0m \u001b[0mreset\u001b[0m\u001b[0;34m=\u001b[0m\u001b[0;32mFalse\u001b[0m\u001b[0;34m)\u001b[0m\u001b[0;34m\u001b[0m\u001b[0;34m\u001b[0m\u001b[0m\n\u001b[0m\u001b[1;32m    434\u001b[0m             if issparse(X) and (\n\u001b[1;32m    435\u001b[0m                 \u001b[0mX\u001b[0m\u001b[0;34m.\u001b[0m\u001b[0mindices\u001b[0m\u001b[0;34m.\u001b[0m\u001b[0mdtype\u001b[0m \u001b[0;34m!=\u001b[0m \u001b[0mnp\u001b[0m\u001b[0;34m.\u001b[0m\u001b[0mintc\u001b[0m \u001b[0;32mor\u001b[0m \u001b[0mX\u001b[0m\u001b[0;34m.\u001b[0m\u001b[0mindptr\u001b[0m\u001b[0;34m.\u001b[0m\u001b[0mdtype\u001b[0m \u001b[0;34m!=\u001b[0m \u001b[0mnp\u001b[0m\u001b[0;34m.\u001b[0m\u001b[0mintc\u001b[0m\u001b[0;34m\u001b[0m\u001b[0;34m\u001b[0m\u001b[0m\n",
      "\u001b[0;32m/shared-libs/python3.7/py/lib/python3.7/site-packages/sklearn/base.py\u001b[0m in \u001b[0;36m_validate_data\u001b[0;34m(self, X, y, reset, validate_separately, **check_params)\u001b[0m\n\u001b[1;32m    583\u001b[0m \u001b[0;34m\u001b[0m\u001b[0m\n\u001b[1;32m    584\u001b[0m         \u001b[0;32mif\u001b[0m \u001b[0;32mnot\u001b[0m \u001b[0mno_val_X\u001b[0m \u001b[0;32mand\u001b[0m \u001b[0mcheck_params\u001b[0m\u001b[0;34m.\u001b[0m\u001b[0mget\u001b[0m\u001b[0;34m(\u001b[0m\u001b[0;34m\"ensure_2d\"\u001b[0m\u001b[0;34m,\u001b[0m \u001b[0;32mTrue\u001b[0m\u001b[0;34m)\u001b[0m\u001b[0;34m:\u001b[0m\u001b[0;34m\u001b[0m\u001b[0;34m\u001b[0m\u001b[0m\n\u001b[0;32m--> 585\u001b[0;31m             \u001b[0mself\u001b[0m\u001b[0;34m.\u001b[0m\u001b[0m_check_n_features\u001b[0m\u001b[0;34m(\u001b[0m\u001b[0mX\u001b[0m\u001b[0;34m,\u001b[0m \u001b[0mreset\u001b[0m\u001b[0;34m=\u001b[0m\u001b[0mreset\u001b[0m\u001b[0;34m)\u001b[0m\u001b[0;34m\u001b[0m\u001b[0;34m\u001b[0m\u001b[0m\n\u001b[0m\u001b[1;32m    586\u001b[0m \u001b[0;34m\u001b[0m\u001b[0m\n\u001b[1;32m    587\u001b[0m         \u001b[0;32mreturn\u001b[0m \u001b[0mout\u001b[0m\u001b[0;34m\u001b[0m\u001b[0;34m\u001b[0m\u001b[0m\n",
      "\u001b[0;32m/shared-libs/python3.7/py/lib/python3.7/site-packages/sklearn/base.py\u001b[0m in \u001b[0;36m_check_n_features\u001b[0;34m(self, X, reset)\u001b[0m\n\u001b[1;32m    399\u001b[0m         \u001b[0;32mif\u001b[0m \u001b[0mn_features\u001b[0m \u001b[0;34m!=\u001b[0m \u001b[0mself\u001b[0m\u001b[0;34m.\u001b[0m\u001b[0mn_features_in_\u001b[0m\u001b[0;34m:\u001b[0m\u001b[0;34m\u001b[0m\u001b[0;34m\u001b[0m\u001b[0m\n\u001b[1;32m    400\u001b[0m             raise ValueError(\n\u001b[0;32m--> 401\u001b[0;31m                 \u001b[0;34mf\"X has {n_features} features, but {self.__class__.__name__} \"\u001b[0m\u001b[0;34m\u001b[0m\u001b[0;34m\u001b[0m\u001b[0m\n\u001b[0m\u001b[1;32m    402\u001b[0m                 \u001b[0;34mf\"is expecting {self.n_features_in_} features as input.\"\u001b[0m\u001b[0;34m\u001b[0m\u001b[0;34m\u001b[0m\u001b[0m\n\u001b[1;32m    403\u001b[0m             )\n",
      "\u001b[0;31mValueError\u001b[0m: X has 4 features, but DecisionTreeClassifier is expecting 5000 features as input."
     ]
    }
   ]
  },
  {
   "cell_type": "code",
   "metadata": {
    "cell_id": "efa1b8895c8742118e5c53a2f39cfbc9",
    "tags": [],
    "deepnote_to_be_reexecuted": false,
    "source_hash": "ec49968b",
    "execution_start": 1654159993847,
    "execution_millis": 15,
    "deepnote_table_state": {
     "pageSize": 10,
     "pageIndex": 8,
     "filters": [],
     "sortBy": []
    },
    "deepnote_table_loading": false,
    "deepnote_cell_type": "code",
    "deepnote_cell_height": 162.1875
   },
   "source": "combined_df[\"Predicted hs\"] = list(pred)\ncombined_df",
   "execution_count": 18,
   "outputs": [
    {
     "output_type": "error",
     "ename": "NameError",
     "evalue": "name 'pred' is not defined",
     "traceback": [
      "\u001b[0;31m---------------------------------------------------------------------------\u001b[0m",
      "\u001b[0;31mNameError\u001b[0m                                 Traceback (most recent call last)",
      "\u001b[0;32m<ipython-input-18-90c51820269f>\u001b[0m in \u001b[0;36m<module>\u001b[0;34m\u001b[0m\n\u001b[1;32m      1\u001b[0m \u001b[0m_deepnote_current_table_attrs\u001b[0m \u001b[0;34m=\u001b[0m \u001b[0;34m'''{\"pageSize\":10,\"pageIndex\":8,\"filters\":[],\"sortBy\":[]}'''\u001b[0m\u001b[0;34m\u001b[0m\u001b[0;34m\u001b[0m\u001b[0m\n\u001b[0;32m----> 2\u001b[0;31m \u001b[0mcombined_df\u001b[0m\u001b[0;34m[\u001b[0m\u001b[0;34m\"Predicted hs\"\u001b[0m\u001b[0;34m]\u001b[0m \u001b[0;34m=\u001b[0m \u001b[0mlist\u001b[0m\u001b[0;34m(\u001b[0m\u001b[0mpred\u001b[0m\u001b[0;34m)\u001b[0m\u001b[0;34m\u001b[0m\u001b[0;34m\u001b[0m\u001b[0m\n\u001b[0m\u001b[1;32m      3\u001b[0m \u001b[0mcombined_df\u001b[0m\u001b[0;34m\u001b[0m\u001b[0;34m\u001b[0m\u001b[0m\n",
      "\u001b[0;31mNameError\u001b[0m: name 'pred' is not defined"
     ]
    }
   ]
  },
  {
   "cell_type": "code",
   "metadata": {
    "cell_id": "507ebf8f687748d8ade11f0337bdc6a9",
    "tags": [],
    "deepnote_to_be_reexecuted": false,
    "source_hash": "e988ee6e",
    "execution_start": 1654159995288,
    "execution_millis": 14,
    "deepnote_cell_type": "code",
    "deepnote_cell_height": 180.1875,
    "deepnote_output_heights": [
     null,
     21.1875
    ]
   },
   "source": "acc_score = accuracy_score(y, pred)\n\nacc_score",
   "execution_count": 19,
   "outputs": [
    {
     "output_type": "error",
     "ename": "NameError",
     "evalue": "name 'y' is not defined",
     "traceback": [
      "\u001b[0;31m---------------------------------------------------------------------------\u001b[0m",
      "\u001b[0;31mNameError\u001b[0m                                 Traceback (most recent call last)",
      "\u001b[0;32m<ipython-input-19-fbef73bdc743>\u001b[0m in \u001b[0;36m<module>\u001b[0;34m\u001b[0m\n\u001b[0;32m----> 1\u001b[0;31m \u001b[0macc_score\u001b[0m \u001b[0;34m=\u001b[0m \u001b[0maccuracy_score\u001b[0m\u001b[0;34m(\u001b[0m\u001b[0my\u001b[0m\u001b[0;34m,\u001b[0m \u001b[0mpred\u001b[0m\u001b[0;34m)\u001b[0m\u001b[0;34m\u001b[0m\u001b[0;34m\u001b[0m\u001b[0m\n\u001b[0m\u001b[1;32m      2\u001b[0m \u001b[0;34m\u001b[0m\u001b[0m\n\u001b[1;32m      3\u001b[0m \u001b[0macc_score\u001b[0m\u001b[0;34m\u001b[0m\u001b[0;34m\u001b[0m\u001b[0m\n",
      "\u001b[0;31mNameError\u001b[0m: name 'y' is not defined"
     ]
    }
   ]
  },
  {
   "cell_type": "code",
   "source": "",
   "metadata": {
    "cell_id": "9b3c1e933fce42d8b77e2b989ada6052",
    "tags": [],
    "owner_user_id": "45a6018d-478f-44a5-9821-6cf675d1fe14",
    "deepnote_cell_type": "code",
    "deepnote_cell_height": 66.3125
   },
   "outputs": [],
   "execution_count": null
  },
  {
   "cell_type": "markdown",
   "source": "<a style='text-decoration:none;line-height:16px;display:flex;color:#5B5B62;padding:10px;justify-content:end;' href='https://deepnote.com?utm_source=created-in-deepnote-cell&projectId=bf1f20fb-a6c0-4ea2-8567-a5a41eea1d8a' target=\"_blank\">\n<img alt='Created in deepnote.com' style='display:inline;max-height:16px;margin:0px;margin-right:7.5px;' src='data:image/svg+xml;base64,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' > </img>\nCreated in <span style='font-weight:600;margin-left:4px;'>Deepnote</span></a>",
   "metadata": {
    "tags": [],
    "created_in_deepnote_cell": true,
    "deepnote_cell_type": "markdown"
   }
  }
 ],
 "nbformat": 4,
 "nbformat_minor": 2,
 "metadata": {
  "orig_nbformat": 2,
  "deepnote": {},
  "deepnote_notebook_id": "a3f029ac-60d1-4c99-8be1-d879d8dfa37b",
  "deepnote_execution_queue": []
 }
}