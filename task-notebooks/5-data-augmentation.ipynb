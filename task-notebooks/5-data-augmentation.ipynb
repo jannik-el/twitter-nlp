{
 "cells": [
  {
   "cell_type": "markdown",
   "source": "# 5. Data Augmentation",
   "metadata": {
    "formattedRanges": [],
    "cell_id": "b3ce63ebe8444cab9bb7902dd5347f3b",
    "tags": [],
    "is_collapsed": false,
    "deepnote_cell_type": "text-cell-h1"
   }
  },
  {
   "cell_type": "markdown",
   "source": "- [x] Run at least one experiment with an augmented dataset that includes additional data selected based on training data perplexity under a language model trained the task you’ve selected.",
   "metadata": {
    "cell_id": "73e153ec748742bb861e9764cc7f3b3f",
    "tags": [],
    "deepnote_cell_type": "markdown",
    "deepnote_cell_height": 91.765625
   }
  },
  {
   "cell_type": "code",
   "metadata": {
    "cell_id": "def246fe67fd4f47b64eecbd65027844",
    "tags": [],
    "deepnote_to_be_reexecuted": false,
    "source_hash": "f0cb7d1e",
    "execution_start": 1655291432463,
    "execution_millis": 2486,
    "deepnote_cell_type": "code",
    "deepnote_cell_height": 225
   },
   "source": "\nimport pandas as pd\nimport pickle\nfrom sklearn.feature_extraction.text import CountVectorizer\nfrom sklearn.metrics import accuracy_score,confusion_matrix,roc_auc_score,classification_report\nimport sys\nsys.path.insert(0, '/work/twitter-nlp')\nfrom boilerplate import load_and_tokenize, pickling, open_jar, func_regex\nimport numpy as np",
   "execution_count": 2,
   "outputs": []
  },
  {
   "cell_type": "markdown",
   "source": "## Labeling Trumps Twitter Insults\nWe took Trumps insults (provided by the New York Times) and combined those with all his other tweets.  <br>\n>https://www.nytimes.com/interactive/2021/01/19/upshot/trump-complete-insult-list.html <br>\n>https://www.thetrumparchive.com/faq (all Tweets from 2009 to 2020)\n\nThe idea behind this was also that Trump tweets would be very similiar to the data, which our model had been trained on. <br>\nThe most frequent unique keywords throughout the hatespeech dataset were: \n> _migrant, refugee, #buildthatwall, bitch, hoe, women_\nThese keywords are quite relevant when you look at Donald Trump's presidency, and since all the data was collected during the period of July to September 2018 and, Trump's insult tweet/_normal_ tweet dataset also included tweets from this time period, we hoped to get quite accurate and interesting results.",
   "metadata": {
    "cell_id": "bf4d360ccb6241298d2108e52ba63a22",
    "tags": [],
    "deepnote_cell_type": "markdown",
    "deepnote_cell_height": 321.109375
   }
  },
  {
   "cell_type": "code",
   "metadata": {
    "cell_id": "fcd4ab6d34eb4854961abc1bf438aed3",
    "tags": [],
    "deepnote_to_be_reexecuted": false,
    "source_hash": "c4162f1d",
    "execution_start": 1655291434959,
    "execution_millis": 88,
    "deepnote_table_state": {
     "pageSize": 10,
     "pageIndex": 0,
     "filters": [
      {
       "id": "date",
       "value": "2015-01-01",
       "type": "contains"
      }
     ],
     "sortBy": []
    },
    "deepnote_table_loading": false,
    "deepnote_cell_type": "code",
    "deepnote_cell_height": 243
   },
   "source": "# loading in trump's twitter insults\n# the insult data is a collection of all insults from 2015 to 2021 (until trump was banned)\ninsult_data = pd.read_csv(\"/work/twitter-nlp/data/trumptwitterinsults/trump_insult_tweets_2014_to_2021.csv\")\n\n# only using the tokens data, and dropping all duplicates, adding a hatespeech label (all are marked as hatespeech)\ntweets = insult_data[\"tweet\"]\ntweets = tweets.drop_duplicates()\ninsult_tokens = pd.DataFrame(columns=[\"Labels\", \"Tweets\"])\ninsult_tokens[\"Tweets\"] = tweets\ninsult_tokens[\"Labels\"] = [1 for _ in range(0, len(insult_tokens))]",
   "execution_count": 3,
   "outputs": []
  },
  {
   "cell_type": "markdown",
   "source": "We combined these with a collection of all of his tweets from 2009 to 2020, dropping duplicates, and labelling all insult tweets as 1, and the rest 0. <br>\n",
   "metadata": {
    "cell_id": "b368f1707fa14881975bf3bd0d49da47",
    "tags": [],
    "deepnote_cell_type": "markdown",
    "deepnote_cell_height": 52.375
   }
  },
  {
   "cell_type": "code",
   "metadata": {
    "cell_id": "f7b809b7fd5c4109a1a0527aa5052058",
    "tags": [],
    "deepnote_to_be_reexecuted": false,
    "source_hash": "e02f6528",
    "execution_start": 1655291435055,
    "execution_millis": 356,
    "deepnote_cell_type": "code",
    "deepnote_cell_height": 243
   },
   "source": "# the standard data is a collection of all of trumps tweets from 2009 to 2021 (until trump was banned)\nstandard_data = pd.read_csv(\"/work/twitter-nlp/data/trumptwitterinsults/tweets.csv\")\n\n# shortening the data from 2015 to 2009 only, using only tweets, dropping duplcates, adding label\nstandard_data = standard_data[39087:-1]\nk_tweets = standard_data[\"text\"]\nk_tweets = k_tweets.drop_duplicates()\ncontrol_tokens = pd.DataFrame(columns=[\"Labels\", \"Tweets\"])\ncontrol_tokens[\"Tweets\"] = k_tweets\ncontrol_tokens[\"Labels\"] = [0 for _ in range(0, len(control_tokens))]",
   "execution_count": 4,
   "outputs": []
  },
  {
   "cell_type": "code",
   "metadata": {
    "cell_id": "e47c39de52a242868ada87520fc480e7",
    "tags": [],
    "deepnote_to_be_reexecuted": false,
    "source_hash": "e5590af1",
    "execution_start": 1655291435414,
    "execution_millis": 78,
    "deepnote_table_state": {
     "pageSize": 10,
     "pageIndex": 0,
     "filters": [],
     "sortBy": [
      {
       "id": "Labels",
       "type": "asc"
      }
     ]
    },
    "deepnote_table_loading": false,
    "deepnote_cell_type": "code",
    "deepnote_cell_height": 686
   },
   "source": "# combining the two df\ncombined_df = pd.concat([insult_tokens, control_tokens])\ntext = list(combined_df[\"Tweets\"])\ncombined_df",
   "execution_count": 5,
   "outputs": [
    {
     "output_type": "execute_result",
     "execution_count": 5,
     "data": {
      "application/vnd.deepnote.dataframe.v3+json": {
       "column_count": 2,
       "row_count": 23030,
       "columns": [
        {
         "name": "Labels",
         "dtype": "int64",
         "stats": {
          "unique_count": 2,
          "nan_count": 0,
          "min": "0",
          "max": "1",
          "histogram": [
           {
            "bin_start": 0,
            "bin_end": 0.1,
            "count": 17357
           },
           {
            "bin_start": 0.1,
            "bin_end": 0.2,
            "count": 0
           },
           {
            "bin_start": 0.2,
            "bin_end": 0.30000000000000004,
            "count": 0
           },
           {
            "bin_start": 0.30000000000000004,
            "bin_end": 0.4,
            "count": 0
           },
           {
            "bin_start": 0.4,
            "bin_end": 0.5,
            "count": 0
           },
           {
            "bin_start": 0.5,
            "bin_end": 0.6000000000000001,
            "count": 0
           },
           {
            "bin_start": 0.6000000000000001,
            "bin_end": 0.7000000000000001,
            "count": 0
           },
           {
            "bin_start": 0.7000000000000001,
            "bin_end": 0.8,
            "count": 0
           },
           {
            "bin_start": 0.8,
            "bin_end": 0.9,
            "count": 0
           },
           {
            "bin_start": 0.9,
            "bin_end": 1,
            "count": 5673
           }
          ]
         }
        },
        {
         "name": "Tweets",
         "dtype": "object",
         "stats": {
          "unique_count": 20799,
          "nan_count": 0,
          "categories": [
           {
            "name": "Well, the Special Elections are over and those that want to MAKE AMERICA GREAT AGAIN are 5 and O! All the Fake News, all the money spent = 0",
            "count": 2
           },
           {
            "name": "DOJ just issued the McCabe report - which is a total disaster. He LIED! LIED! LIED! McCabe was totally controlled by Comey - McCabe is Comey!! No collusion, all made up by this den of thieves and lowlifes!",
            "count": 2
           },
           {
            "name": "20797 others",
            "count": 23026
           }
          ]
         }
        },
        {
         "name": "_deepnote_index_column",
         "dtype": "int64"
        }
       ],
       "rows": [
        {
         "Labels": 0,
         "Tweets": "Well, the Special Elections are over and those that want to MAKE AMERICA GREAT AGAIN are 5 and O! All the Fake News, all the money spent = 0",
         "_deepnote_index_column": 44939
        },
        {
         "Labels": 0,
         "Tweets": "Thank you to all of the American workers who travelled here today! This event is dedicated to YOU: the hardworking Americans who make this nation run. You love your country, you provide for your family, you have PRIDE in your work and you cherish our GREAT AMERICAN FLAG! #TaxCuts https://t.co/RwaLpCRPh5",
         "_deepnote_index_column": 48799
        },
        {
         "Labels": 0,
         "Tweets": "America’s greatest treasure is our people – and my Administration HEARS YOUR VOICE and HAS YOUR BACK. We are fighting to give every American a future of dignity, purpose and pride. AMERICAN SPIRIT is back! #TaxCuts https://t.co/oSGZe0irBf",
         "_deepnote_index_column": 48798
        },
        {
         "Labels": 0,
         "Tweets": "Would only join TPP if the deal were substantially better than the deal offered to Pres. Obama. We already have BILATERAL deals with six of the eleven nations in TPP, and are working to make a deal with the biggest of those  nations, Japan, who has hit us hard on trade for years!",
         "_deepnote_index_column": 48797
        },
        {
         "Labels": 0,
         "Tweets": "Tremendous pressure is building, like never before, for the Border Wall and an end to crime cradling Sanctuary Cities. Started the Wall in San Diego, where the people were pushing really hard to get it. They will soon be protected!",
         "_deepnote_index_column": 48796
        },
        {
         "Labels": 0,
         "Tweets": "James Comey is a proven LEAKER &amp, LIAR. Virtually everyone in Washington thought he should be fired for the terrible job he did-until he was, in fact, fired. He leaked CLASSIFIED information, for which he should be prosecuted. He lied to Congress under OATH. He is a weak and.....",
         "_deepnote_index_column": 48795
        },
        {
         "Labels": 0,
         "Tweets": "....untruthful slime ball who was, as time has proven, a terrible Director of the FBI. His handling of the Crooked Hillary Clinton case, and the events surrounding it, will go down as one of the worst “botch jobs” of history. It was my great honor to fire James Comey!",
         "_deepnote_index_column": 48794
        },
        {
         "Labels": 0,
         "Tweets": "We are bringing back our factories, we are bringing back our jobs, and we are bringing back those four beautiful words: MADE IN THE USA! https://t.co/grABSrYUBX",
         "_deepnote_index_column": 48793
        },
        {
         "Labels": 0,
         "Tweets": "DOJ just issued the McCabe report - which is a total disaster. He LIED! LIED! LIED! McCabe was totally controlled by Comey - McCabe is Comey!! No collusion, all made up by this den of thieves and lowlifes!",
         "_deepnote_index_column": 48792
        },
        {
         "Labels": 0,
         "Tweets": "Just had an Agricultural Roundtable with memembers of Congress and Governors.I will be making remarks on the large scale TAX CUTS given to American families and workers at 1:45 P.M. from the Rose Garden. Join me live: https://t.co/XAchZ3zUSe https://t.co/Dqe8QhpDAZ",
         "_deepnote_index_column": 48800
        }
       ]
      },
      "text/plain": "       Labels                                             Tweets\n0           1  Can you believe this fool, Dr. Thomas Frieden ...\n2           1  Big time in U.S. today - MAKE AMERICA GREAT AG...\n3           1  Politician @SenatorCardin didn't like that I s...\n4           1  For the nonbeliever, here is a photo of @Neily...\n5           1  .@Neilyoung’s song, “Rockin’ In The Free World...\n...       ...                                                ...\n56565       0  RT @heatherjones333: 'We Have Taken Appropriat...\n56566       0  RT @RandPaul: I don’t know why @JoeBiden think...\n56567       0  RT @EliseStefanik: President @realDonaldTrump ...\n56568       0  RT @TeamTrump: LIVE: Presidential Debate #Deba...\n56569       0  Just signed an order to support the workers of...\n\n[23030 rows x 2 columns]",
      "text/html": "<div>\n<style scoped>\n    .dataframe tbody tr th:only-of-type {\n        vertical-align: middle;\n    }\n\n    .dataframe tbody tr th {\n        vertical-align: top;\n    }\n\n    .dataframe thead th {\n        text-align: right;\n    }\n</style>\n<table border=\"1\" class=\"dataframe\">\n  <thead>\n    <tr style=\"text-align: right;\">\n      <th></th>\n      <th>Labels</th>\n      <th>Tweets</th>\n    </tr>\n  </thead>\n  <tbody>\n    <tr>\n      <th>0</th>\n      <td>1</td>\n      <td>Can you believe this fool, Dr. Thomas Frieden ...</td>\n    </tr>\n    <tr>\n      <th>2</th>\n      <td>1</td>\n      <td>Big time in U.S. today - MAKE AMERICA GREAT AG...</td>\n    </tr>\n    <tr>\n      <th>3</th>\n      <td>1</td>\n      <td>Politician @SenatorCardin didn't like that I s...</td>\n    </tr>\n    <tr>\n      <th>4</th>\n      <td>1</td>\n      <td>For the nonbeliever, here is a photo of @Neily...</td>\n    </tr>\n    <tr>\n      <th>5</th>\n      <td>1</td>\n      <td>.@Neilyoung’s song, “Rockin’ In The Free World...</td>\n    </tr>\n    <tr>\n      <th>...</th>\n      <td>...</td>\n      <td>...</td>\n    </tr>\n    <tr>\n      <th>56565</th>\n      <td>0</td>\n      <td>RT @heatherjones333: 'We Have Taken Appropriat...</td>\n    </tr>\n    <tr>\n      <th>56566</th>\n      <td>0</td>\n      <td>RT @RandPaul: I don’t know why @JoeBiden think...</td>\n    </tr>\n    <tr>\n      <th>56567</th>\n      <td>0</td>\n      <td>RT @EliseStefanik: President @realDonaldTrump ...</td>\n    </tr>\n    <tr>\n      <th>56568</th>\n      <td>0</td>\n      <td>RT @TeamTrump: LIVE: Presidential Debate #Deba...</td>\n    </tr>\n    <tr>\n      <th>56569</th>\n      <td>0</td>\n      <td>Just signed an order to support the workers of...</td>\n    </tr>\n  </tbody>\n</table>\n<p>23030 rows × 2 columns</p>\n</div>"
     },
     "metadata": {}
    }
   ]
  },
  {
   "cell_type": "markdown",
   "source": "### Classifying based on our previously trained model:",
   "metadata": {
    "formattedRanges": [],
    "cell_id": "6ffca7e815f94cc89aec1e6b5d1b2a1e",
    "tags": [],
    "is_collapsed": false,
    "deepnote_cell_type": "text-cell-h3"
   }
  },
  {
   "cell_type": "markdown",
   "source": "Then we classified these tweets, using the hatespeech model we trained in task 4.",
   "metadata": {
    "cell_id": "a15fee8967784f4cbb6128b9dba496e5",
    "tags": [],
    "deepnote_cell_type": "markdown",
    "deepnote_cell_height": 52.375
   }
  },
  {
   "cell_type": "code",
   "metadata": {
    "cell_id": "0dedf2174d1d4d9b98a4d7385b7829b5",
    "tags": [],
    "deepnote_to_be_reexecuted": false,
    "source_hash": "6b3a057c",
    "execution_start": 1655291435499,
    "execution_millis": 3,
    "deepnote_cell_type": "code",
    "deepnote_cell_height": 135
   },
   "source": "def classify_sentence(text):\n    classifier = open_jar('/work/twitter-nlp/data/pickle/models/hatespeech_model_MultinomialNB2.sav')\n    cv = open_jar('/work/twitter-nlp/data/pickle/models/hate/vectorizer.pkl')\n    return classifier.predict_proba(cv.transform([text]).toarray())",
   "execution_count": 6,
   "outputs": []
  },
  {
   "cell_type": "code",
   "metadata": {
    "cell_id": "bf714995af90437aaf3c883bb99345e2",
    "tags": [],
    "deepnote_to_be_reexecuted": false,
    "source_hash": "3a51e519",
    "execution_start": 1655291435507,
    "execution_millis": 2,
    "deepnote_cell_type": "code",
    "deepnote_cell_height": 171
   },
   "source": "def predict_list(df_column):\n    predict_list = []\n    for i in df_column:\n        line_data = classify_sentence([str(i)])\n        predict_list.append(line_data.tolist())\n    return predict_list",
   "execution_count": 7,
   "outputs": []
  },
  {
   "cell_type": "code",
   "metadata": {
    "cell_id": "cd4ce4018d304fa9aad21126aac25831",
    "tags": [],
    "deepnote_to_be_reexecuted": false,
    "source_hash": "52795c",
    "execution_start": 1655291435512,
    "execution_millis": 2,
    "deepnote_cell_type": "code",
    "deepnote_cell_height": 81
   },
   "source": "# predicted_list = predict_list(combined_df[\"Tweets\"])",
   "execution_count": 8,
   "outputs": []
  },
  {
   "cell_type": "code",
   "metadata": {
    "cell_id": "1a3a79aa60bb4800a5e310bc23a28323",
    "tags": [],
    "deepnote_to_be_reexecuted": false,
    "source_hash": "919cbd32",
    "execution_start": 1655291435559,
    "execution_millis": 1,
    "deepnote_cell_type": "code",
    "deepnote_cell_height": 81
   },
   "source": "# pickling(predicted_list, \"/work/twitter-nlp/data/pickle/classification_pickles/TrumpInsults.pkl\")",
   "execution_count": 9,
   "outputs": []
  },
  {
   "cell_type": "markdown",
   "source": "### Loading the results into the data frame:",
   "metadata": {
    "formattedRanges": [],
    "cell_id": "8ce27ba122f44bf79de81dd99902ae7a",
    "tags": [],
    "is_collapsed": false,
    "deepnote_cell_type": "text-cell-h3"
   }
  },
  {
   "cell_type": "code",
   "metadata": {
    "cell_id": "5cca12527d78455e9c28cc69861a7316",
    "tags": [],
    "deepnote_to_be_reexecuted": false,
    "source_hash": "52c1f4e5",
    "execution_start": 1655291435560,
    "execution_millis": 121,
    "deepnote_table_state": {
     "pageSize": 10,
     "pageIndex": 2302,
     "filters": [],
     "sortBy": []
    },
    "deepnote_table_loading": false,
    "deepnote_cell_type": "code",
    "deepnote_cell_height": 834
   },
   "source": "insult_predict = open_jar(\"/work/twitter-nlp/data/pickle/classification_pickles/TrumpInsults.pkl\")\n\ndef label_predictions(data):\n    results = []\n    for i in data:\n        for j in i:\n            if j[1] > j[0]:\n                results.append(1)\n            else:\n                results.append(0)\n    return results\n\ncombined_df[\"HS_Label\"] = label_predictions(insult_predict)\ncombined_df",
   "execution_count": 10,
   "outputs": [
    {
     "output_type": "execute_result",
     "execution_count": 10,
     "data": {
      "application/vnd.deepnote.dataframe.v3+json": {
       "column_count": 3,
       "row_count": 23030,
       "columns": [
        {
         "name": "Labels",
         "dtype": "int64",
         "stats": {
          "unique_count": 2,
          "nan_count": 0,
          "min": "0",
          "max": "1",
          "histogram": [
           {
            "bin_start": 0,
            "bin_end": 0.1,
            "count": 17357
           },
           {
            "bin_start": 0.1,
            "bin_end": 0.2,
            "count": 0
           },
           {
            "bin_start": 0.2,
            "bin_end": 0.30000000000000004,
            "count": 0
           },
           {
            "bin_start": 0.30000000000000004,
            "bin_end": 0.4,
            "count": 0
           },
           {
            "bin_start": 0.4,
            "bin_end": 0.5,
            "count": 0
           },
           {
            "bin_start": 0.5,
            "bin_end": 0.6000000000000001,
            "count": 0
           },
           {
            "bin_start": 0.6000000000000001,
            "bin_end": 0.7000000000000001,
            "count": 0
           },
           {
            "bin_start": 0.7000000000000001,
            "bin_end": 0.8,
            "count": 0
           },
           {
            "bin_start": 0.8,
            "bin_end": 0.9,
            "count": 0
           },
           {
            "bin_start": 0.9,
            "bin_end": 1,
            "count": 5673
           }
          ]
         }
        },
        {
         "name": "Tweets",
         "dtype": "object",
         "stats": {
          "unique_count": 20799,
          "nan_count": 0,
          "categories": [
           {
            "name": ".@JebBush is a sad case. A total embarrassment to both himself and his family, he just announced he will continue to spend on Trump hit ads!",
            "count": 2
           },
           {
            "name": "Hillary Clinton doesn't have the strength or stamina to be president. Jeb Bush is a low energy individual, but Hillary is not much better!",
            "count": 2
           },
           {
            "name": "20797 others",
            "count": 23026
           }
          ]
         }
        },
        {
         "name": "HS_Label",
         "dtype": "int64",
         "stats": {
          "unique_count": 2,
          "nan_count": 0,
          "min": "0",
          "max": "1",
          "histogram": [
           {
            "bin_start": 0,
            "bin_end": 0.1,
            "count": 17664
           },
           {
            "bin_start": 0.1,
            "bin_end": 0.2,
            "count": 0
           },
           {
            "bin_start": 0.2,
            "bin_end": 0.30000000000000004,
            "count": 0
           },
           {
            "bin_start": 0.30000000000000004,
            "bin_end": 0.4,
            "count": 0
           },
           {
            "bin_start": 0.4,
            "bin_end": 0.5,
            "count": 0
           },
           {
            "bin_start": 0.5,
            "bin_end": 0.6000000000000001,
            "count": 0
           },
           {
            "bin_start": 0.6000000000000001,
            "bin_end": 0.7000000000000001,
            "count": 0
           },
           {
            "bin_start": 0.7000000000000001,
            "bin_end": 0.8,
            "count": 0
           },
           {
            "bin_start": 0.8,
            "bin_end": 0.9,
            "count": 0
           },
           {
            "bin_start": 0.9,
            "bin_end": 1,
            "count": 5366
           }
          ]
         }
        },
        {
         "name": "_deepnote_index_column",
         "dtype": "int64"
        }
       ],
       "rows": [
        {
         "Labels": 0,
         "Tweets": "One of my greatest honors was to have gotten CHOICE approved for our great Veterans. Others have tried for decades, and failed! https://t.co/NcVbbnrT5O",
         "HS_Label": 0,
         "_deepnote_index_column": 56560
        },
        {
         "Labels": 0,
         "Tweets": "RT @heatherjones333: MAGNIFICENT TRUMP- KEEPING HIS PROMISES  🇺🇸 🇺🇸 🇺🇸BREAKING: President Trump Announces He Will Sign Phase One in China...",
         "HS_Label": 0,
         "_deepnote_index_column": 56561
        },
        {
         "Labels": 0,
         "Tweets": "RT @heatherjones333: 🔥🔥🔥🔥🔥Lindsey Graham: Trump Has World on Notice, ‘There Will Be No Benghazis on His Watch’ https://t.co/4yfHKlZlV9",
         "HS_Label": 0,
         "_deepnote_index_column": 56562
        },
        {
         "Labels": 0,
         "Tweets": "RT @heatherjones333: Congratulations Sleepy Joe! You just won Stupid Person of 2019 Award! 🏆Joe Biden: ‘We’re All Dead’ if We Don’t Stop...",
         "HS_Label": 0,
         "_deepnote_index_column": 56563
        },
        {
         "Labels": 0,
         "Tweets": "RT @heatherjones333: DEAR STUPID PEOPLE- PEACE IS A GOOD THINGPutin Calls Trump To Thank Him For Helping Russia Thwart Terrorist Attack h...",
         "HS_Label": 0,
         "_deepnote_index_column": 56564
        },
        {
         "Labels": 0,
         "Tweets": "RT @heatherjones333: 'We Have Taken Appropriate Force Protection Actions to Ensure Safety of Americans' - AH-64 Apaches Protect US Embassy...",
         "HS_Label": 0,
         "_deepnote_index_column": 56565
        },
        {
         "Labels": 0,
         "Tweets": "RT @RandPaul: I don’t know why @JoeBiden thinks he can continue to lie about this. \n\nHe wants to ban fracking and end all fossil fuels like…",
         "HS_Label": 0,
         "_deepnote_index_column": 56566
        },
        {
         "Labels": 0,
         "Tweets": "RT @EliseStefanik: President @realDonaldTrump excels at communicating directly to the American people. \n\nJoe Biden communicates to the DC B…",
         "HS_Label": 0,
         "_deepnote_index_column": 56567
        },
        {
         "Labels": 0,
         "Tweets": "RT @TeamTrump: LIVE: Presidential Debate #Debates2020\n\nText VOTE to 88022 https://t.co/UeQOquVxR2",
         "HS_Label": 0,
         "_deepnote_index_column": 56568
        },
        {
         "Labels": 0,
         "Tweets": "Just signed an order to support the workers of Delphi Corporation and make sure that we protect the pensions of all American workers! Obama-Biden FAILED American workers and FAILED the workers of Delphi. I ALWAYS put American workers FIRST!",
         "HS_Label": 0,
         "_deepnote_index_column": 56569
        }
       ]
      },
      "text/plain": "       Labels                                             Tweets  HS_Label\n0           1  Can you believe this fool, Dr. Thomas Frieden ...         0\n2           1  Big time in U.S. today - MAKE AMERICA GREAT AG...         1\n3           1  Politician @SenatorCardin didn't like that I s...         0\n4           1  For the nonbeliever, here is a photo of @Neily...         0\n5           1  .@Neilyoung’s song, “Rockin’ In The Free World...         0\n...       ...                                                ...       ...\n56565       0  RT @heatherjones333: 'We Have Taken Appropriat...         0\n56566       0  RT @RandPaul: I don’t know why @JoeBiden think...         0\n56567       0  RT @EliseStefanik: President @realDonaldTrump ...         0\n56568       0  RT @TeamTrump: LIVE: Presidential Debate #Deba...         0\n56569       0  Just signed an order to support the workers of...         0\n\n[23030 rows x 3 columns]",
      "text/html": "<div>\n<style scoped>\n    .dataframe tbody tr th:only-of-type {\n        vertical-align: middle;\n    }\n\n    .dataframe tbody tr th {\n        vertical-align: top;\n    }\n\n    .dataframe thead th {\n        text-align: right;\n    }\n</style>\n<table border=\"1\" class=\"dataframe\">\n  <thead>\n    <tr style=\"text-align: right;\">\n      <th></th>\n      <th>Labels</th>\n      <th>Tweets</th>\n      <th>HS_Label</th>\n    </tr>\n  </thead>\n  <tbody>\n    <tr>\n      <th>0</th>\n      <td>1</td>\n      <td>Can you believe this fool, Dr. Thomas Frieden ...</td>\n      <td>0</td>\n    </tr>\n    <tr>\n      <th>2</th>\n      <td>1</td>\n      <td>Big time in U.S. today - MAKE AMERICA GREAT AG...</td>\n      <td>1</td>\n    </tr>\n    <tr>\n      <th>3</th>\n      <td>1</td>\n      <td>Politician @SenatorCardin didn't like that I s...</td>\n      <td>0</td>\n    </tr>\n    <tr>\n      <th>4</th>\n      <td>1</td>\n      <td>For the nonbeliever, here is a photo of @Neily...</td>\n      <td>0</td>\n    </tr>\n    <tr>\n      <th>5</th>\n      <td>1</td>\n      <td>.@Neilyoung’s song, “Rockin’ In The Free World...</td>\n      <td>0</td>\n    </tr>\n    <tr>\n      <th>...</th>\n      <td>...</td>\n      <td>...</td>\n      <td>...</td>\n    </tr>\n    <tr>\n      <th>56565</th>\n      <td>0</td>\n      <td>RT @heatherjones333: 'We Have Taken Appropriat...</td>\n      <td>0</td>\n    </tr>\n    <tr>\n      <th>56566</th>\n      <td>0</td>\n      <td>RT @RandPaul: I don’t know why @JoeBiden think...</td>\n      <td>0</td>\n    </tr>\n    <tr>\n      <th>56567</th>\n      <td>0</td>\n      <td>RT @EliseStefanik: President @realDonaldTrump ...</td>\n      <td>0</td>\n    </tr>\n    <tr>\n      <th>56568</th>\n      <td>0</td>\n      <td>RT @TeamTrump: LIVE: Presidential Debate #Deba...</td>\n      <td>0</td>\n    </tr>\n    <tr>\n      <th>56569</th>\n      <td>0</td>\n      <td>Just signed an order to support the workers of...</td>\n      <td>0</td>\n    </tr>\n  </tbody>\n</table>\n<p>23030 rows × 3 columns</p>\n</div>"
     },
     "metadata": {}
    }
   ]
  },
  {
   "cell_type": "code",
   "metadata": {
    "cell_id": "0f70a932618d4ab1998dc5e6188b9987",
    "tags": [],
    "deepnote_to_be_reexecuted": false,
    "source_hash": "dc4b10e1",
    "execution_start": 1655291435680,
    "execution_millis": 526,
    "deepnote_cell_type": "code",
    "deepnote_cell_height": 866,
    "deepnote_output_heights": [
     499
    ]
   },
   "source": "import matplotlib.pyplot as plt\n#define data\ndata = [len(combined_df[combined_df[\"Labels\"] == 0])/len(combined_df),len(combined_df[combined_df[\"Labels\"] == 1])/len(combined_df)]\ndata2 = [len(combined_df[combined_df[\"HS_Label\"] == 0])/len(combined_df), len(combined_df[combined_df[\"HS_Label\"] == 1])/len(combined_df)]\nlabels = ['Insult', 'Not Insult']\nlabels2 = ['Hatespeech', \"Not Hatespeech\"]\nplt.rcParams['font.size'] = 16.0\nfig, ax = plt.subplots(1,2, figsize=(16,7))\n_,_,autotexts0=ax[0].pie(data, labels=labels,colors=['#00695c','#b71c1c'],explode=(0, 0.1), autopct='%1.1f%%', shadow=True)\n_,_,autotexts1=ax[1].pie(data2, labels=labels2, autopct='%1.1f%%',colors=['#00695c','#b71c1c'],explode=(0, 0.1), shadow=True)\nfor autotext in autotexts0:\n    autotext.set_color('white')\nfor autotext in autotexts1:\n    autotext.set_color('white')\nplt.tight_layout()\nfig.suptitle(\"Insult label ratio to hatespeech label ratio comparison:\"); ",
   "execution_count": 11,
   "outputs": [
    {
     "data": {
      "text/plain": "<Figure size 1152x504 with 2 Axes>",
      "image/png": "[encoded data removed]"
     },
     "metadata": {
      "image/png": {
       "width": 1059,
       "height": 497
      }
     },
     "output_type": "display_data"
    }
   ]
  },
  {
   "cell_type": "markdown",
   "source": "At first these results prove extremely promising, since the ratio's are extremely close.",
   "metadata": {
    "cell_id": "76801435e0f74bc99288591f530c3722",
    "tags": [],
    "deepnote_cell_type": "markdown",
    "deepnote_cell_height": 52.375
   }
  },
  {
   "cell_type": "code",
   "metadata": {
    "cell_id": "b0cc233120214cdeae0ab7a751c85335",
    "tags": [],
    "deepnote_to_be_reexecuted": false,
    "source_hash": "13b033d5",
    "execution_start": 1655291436230,
    "execution_millis": 1116,
    "deepnote_table_state": {
     "pageSize": 10,
     "pageIndex": 14,
     "filters": [
      {
       "id": "Agreement",
       "value": "Agree no",
       "type": "contains"
      }
     ],
     "sortBy": []
    },
    "deepnote_table_loading": false,
    "deepnote_table_invalid": false,
    "deepnote_cell_type": "code",
    "deepnote_cell_height": 920
   },
   "source": "combined_df = combined_df.reset_index(drop=True)\n\ndef agreement_func():\n    results = []\n    for i in range(0, 23030):\n        if combined_df[\"Labels\"][i] == 1 and combined_df[\"HS_Label\"][i] == 1:\n            results.append(\"Agree Hatespeech\")\n        elif combined_df[\"Labels\"][i] == 0 and combined_df[\"HS_Label\"][i] == 0:\n            results.append(\"Agree Not Hatespeech\")\n        elif combined_df[\"Labels\"][i] == 1 and combined_df[\"HS_Label\"][i] == 0:\n            results.append(\"False Negative\")\n        elif combined_df[\"Labels\"][i] == 0 and combined_df[\"HS_Label\"][i] == 1:\n            results.append(\"False Positive\")\n    return results\n\ncombined_df[\"Agreement\"] = agreement_func()\ncombined_df",
   "execution_count": 12,
   "outputs": [
    {
     "output_type": "execute_result",
     "execution_count": 12,
     "data": {
      "application/vnd.deepnote.dataframe.v3+json": {
       "column_count": 4,
       "row_count": 13587,
       "columns": [
        {
         "name": "Labels",
         "dtype": "int64",
         "stats": {
          "unique_count": 1,
          "nan_count": 0,
          "min": "0",
          "max": "0",
          "histogram": [
           {
            "bin_start": -0.5,
            "bin_end": -0.4,
            "count": 0
           },
           {
            "bin_start": -0.4,
            "bin_end": -0.3,
            "count": 0
           },
           {
            "bin_start": -0.3,
            "bin_end": -0.19999999999999996,
            "count": 0
           },
           {
            "bin_start": -0.19999999999999996,
            "bin_end": -0.09999999999999998,
            "count": 0
           },
           {
            "bin_start": -0.09999999999999998,
            "bin_end": 0,
            "count": 0
           },
           {
            "bin_start": 0,
            "bin_end": 0.10000000000000009,
            "count": 13587
           },
           {
            "bin_start": 0.10000000000000009,
            "bin_end": 0.20000000000000007,
            "count": 0
           },
           {
            "bin_start": 0.20000000000000007,
            "bin_end": 0.30000000000000004,
            "count": 0
           },
           {
            "bin_start": 0.30000000000000004,
            "bin_end": 0.4,
            "count": 0
           },
           {
            "bin_start": 0.4,
            "bin_end": 0.5,
            "count": 0
           }
          ]
         }
        },
        {
         "name": "Tweets",
         "dtype": "object",
         "stats": {
          "unique_count": 13587,
          "nan_count": 0,
          "categories": [
           {
            "name": "\"\"\"@ericleebow: @realDonaldTrump Hope you finally run for President. That should be your new year's resolution.\"\" Good thought!\"",
            "count": 1
           },
           {
            "name": "\"\"\"@archangeljf12: @realDonaldTrump Palm Beach is one of the greatest places in the World to Live!  #TrumpPOTUS2016 #HappyNewYear\"",
            "count": 1
           },
           {
            "name": "13585 others",
            "count": 13585
           }
          ]
         }
        },
        {
         "name": "HS_Label",
         "dtype": "int64",
         "stats": {
          "unique_count": 1,
          "nan_count": 0,
          "min": "0",
          "max": "0",
          "histogram": [
           {
            "bin_start": -0.5,
            "bin_end": -0.4,
            "count": 0
           },
           {
            "bin_start": -0.4,
            "bin_end": -0.3,
            "count": 0
           },
           {
            "bin_start": -0.3,
            "bin_end": -0.19999999999999996,
            "count": 0
           },
           {
            "bin_start": -0.19999999999999996,
            "bin_end": -0.09999999999999998,
            "count": 0
           },
           {
            "bin_start": -0.09999999999999998,
            "bin_end": 0,
            "count": 0
           },
           {
            "bin_start": 0,
            "bin_end": 0.10000000000000009,
            "count": 13587
           },
           {
            "bin_start": 0.10000000000000009,
            "bin_end": 0.20000000000000007,
            "count": 0
           },
           {
            "bin_start": 0.20000000000000007,
            "bin_end": 0.30000000000000004,
            "count": 0
           },
           {
            "bin_start": 0.30000000000000004,
            "bin_end": 0.4,
            "count": 0
           },
           {
            "bin_start": 0.4,
            "bin_end": 0.5,
            "count": 0
           }
          ]
         }
        },
        {
         "name": "Agreement",
         "dtype": "object",
         "stats": {
          "unique_count": 1,
          "nan_count": 0,
          "categories": [
           {
            "name": "Agree Not Hatespeech",
            "count": 13587
           }
          ]
         }
        },
        {
         "name": "_deepnote_index_column",
         "dtype": "int64"
        }
       ],
       "rows": [
        {
         "Labels": 0,
         "Tweets": "I thought that @CNN would get better after they failed so badly in their support of Hillary Clinton however, since election, they are worse!",
         "HS_Label": 0,
         "Agreement": "Agree Not Hatespeech",
         "_deepnote_index_column": 5848
        },
        {
         "Labels": 0,
         "Tweets": "The Great State of Michigan was just certified as a Trump WIN giving all of our MAKE AMERICA GREAT AGAIN supporters another victory - 306!",
         "HS_Label": 0,
         "Agreement": "Agree Not Hatespeech",
         "_deepnote_index_column": 5849
        },
        {
         "Labels": 0,
         "Tweets": ".@CNN is so embarrassed by their total  (100%) support of Hillary Clinton, and yet her loss in a landslide, that they don't know what to do.",
         "HS_Label": 0,
         "Agreement": "Agree Not Hatespeech",
         "_deepnote_index_column": 5850
        },
        {
         "Labels": 0,
         "Tweets": "\"\"\"@sdcritic:  @HighonHillcrest @jeffzeleny @CNN There is NO QUESTION THAT #voterfraud did take place, and in favor of #CorruptHillary !\"\"\"",
         "HS_Label": 0,
         "Agreement": "Agree Not Hatespeech",
         "_deepnote_index_column": 5851
        },
        {
         "Labels": 0,
         "Tweets": "\"\"\"@FiIibuster: @jeffzeleny Pathetic - you have no sufficient evidence that Donald Trump did not suffer from voter fraud, shame! Bad reporter.\"",
         "HS_Label": 0,
         "Agreement": "Agree Not Hatespeech",
         "_deepnote_index_column": 5852
        },
        {
         "Labels": 0,
         "Tweets": "\"\"\"@JoeBowman12: @jeffzeleny just another generic CNN part time wannabe journalist !\"\"  @CNN still doesn't get it. They will never learn!\"",
         "HS_Label": 0,
         "Agreement": "Agree Not Hatespeech",
         "_deepnote_index_column": 5853
        },
        {
         "Labels": 0,
         "Tweets": "\"\"\"@HighonHillcrest: @jeffzeleny what PROOF do u have DonaldTrump did not suffer from millions of FRAUD votes? Journalist? Do your job! @CNN\"\"\"",
         "HS_Label": 0,
         "Agreement": "Agree Not Hatespeech",
         "_deepnote_index_column": 5854
        },
        {
         "Labels": 0,
         "Tweets": "If Cuba is unwilling to make a better deal for the Cuban people, the Cuban/American people and the U.S. as a whole, I will terminate deal.",
         "HS_Label": 0,
         "Agreement": "Agree Not Hatespeech",
         "_deepnote_index_column": 5855
        },
        {
         "Labels": 0,
         "Tweets": "Serious voter fraud in Virginia, New Hampshire and California - so why isn't the media reporting on this? Serious bias - big problem!",
         "HS_Label": 0,
         "Agreement": "Agree Not Hatespeech",
         "_deepnote_index_column": 5856
        },
        {
         "Labels": 0,
         "Tweets": "states instead of the 15 states that I visited. I would have won even more easily and convincingly (but smaller states are forgotten)!",
         "HS_Label": 0,
         "Agreement": "Agree Not Hatespeech",
         "_deepnote_index_column": 5857
        }
       ]
      },
      "text/plain": "       Labels                                             Tweets  HS_Label  \\\n0           1  Can you believe this fool, Dr. Thomas Frieden ...         0   \n1           1  Big time in U.S. today - MAKE AMERICA GREAT AG...         1   \n2           1  Politician @SenatorCardin didn't like that I s...         0   \n3           1  For the nonbeliever, here is a photo of @Neily...         0   \n4           1  .@Neilyoung’s song, “Rockin’ In The Free World...         0   \n...       ...                                                ...       ...   \n23025       0  RT @heatherjones333: 'We Have Taken Appropriat...         0   \n23026       0  RT @RandPaul: I don’t know why @JoeBiden think...         0   \n23027       0  RT @EliseStefanik: President @realDonaldTrump ...         0   \n23028       0  RT @TeamTrump: LIVE: Presidential Debate #Deba...         0   \n23029       0  Just signed an order to support the workers of...         0   \n\n                  Agreement  \n0            False Negative  \n1          Agree Hatespeech  \n2            False Negative  \n3            False Negative  \n4            False Negative  \n...                     ...  \n23025  Agree Not Hatespeech  \n23026  Agree Not Hatespeech  \n23027  Agree Not Hatespeech  \n23028  Agree Not Hatespeech  \n23029  Agree Not Hatespeech  \n\n[23030 rows x 4 columns]",
      "text/html": "<div>\n<style scoped>\n    .dataframe tbody tr th:only-of-type {\n        vertical-align: middle;\n    }\n\n    .dataframe tbody tr th {\n        vertical-align: top;\n    }\n\n    .dataframe thead th {\n        text-align: right;\n    }\n</style>\n<table border=\"1\" class=\"dataframe\">\n  <thead>\n    <tr style=\"text-align: right;\">\n      <th></th>\n      <th>Labels</th>\n      <th>Tweets</th>\n      <th>HS_Label</th>\n      <th>Agreement</th>\n    </tr>\n  </thead>\n  <tbody>\n    <tr>\n      <th>0</th>\n      <td>1</td>\n      <td>Can you believe this fool, Dr. Thomas Frieden ...</td>\n      <td>0</td>\n      <td>False Negative</td>\n    </tr>\n    <tr>\n      <th>1</th>\n      <td>1</td>\n      <td>Big time in U.S. today - MAKE AMERICA GREAT AG...</td>\n      <td>1</td>\n      <td>Agree Hatespeech</td>\n    </tr>\n    <tr>\n      <th>2</th>\n      <td>1</td>\n      <td>Politician @SenatorCardin didn't like that I s...</td>\n      <td>0</td>\n      <td>False Negative</td>\n    </tr>\n    <tr>\n      <th>3</th>\n      <td>1</td>\n      <td>For the nonbeliever, here is a photo of @Neily...</td>\n      <td>0</td>\n      <td>False Negative</td>\n    </tr>\n    <tr>\n      <th>4</th>\n      <td>1</td>\n      <td>.@Neilyoung’s song, “Rockin’ In The Free World...</td>\n      <td>0</td>\n      <td>False Negative</td>\n    </tr>\n    <tr>\n      <th>...</th>\n      <td>...</td>\n      <td>...</td>\n      <td>...</td>\n      <td>...</td>\n    </tr>\n    <tr>\n      <th>23025</th>\n      <td>0</td>\n      <td>RT @heatherjones333: 'We Have Taken Appropriat...</td>\n      <td>0</td>\n      <td>Agree Not Hatespeech</td>\n    </tr>\n    <tr>\n      <th>23026</th>\n      <td>0</td>\n      <td>RT @RandPaul: I don’t know why @JoeBiden think...</td>\n      <td>0</td>\n      <td>Agree Not Hatespeech</td>\n    </tr>\n    <tr>\n      <th>23027</th>\n      <td>0</td>\n      <td>RT @EliseStefanik: President @realDonaldTrump ...</td>\n      <td>0</td>\n      <td>Agree Not Hatespeech</td>\n    </tr>\n    <tr>\n      <th>23028</th>\n      <td>0</td>\n      <td>RT @TeamTrump: LIVE: Presidential Debate #Deba...</td>\n      <td>0</td>\n      <td>Agree Not Hatespeech</td>\n    </tr>\n    <tr>\n      <th>23029</th>\n      <td>0</td>\n      <td>Just signed an order to support the workers of...</td>\n      <td>0</td>\n      <td>Agree Not Hatespeech</td>\n    </tr>\n  </tbody>\n</table>\n<p>23030 rows × 4 columns</p>\n</div>"
     },
     "metadata": {}
    }
   ]
  },
  {
   "cell_type": "code",
   "source": "combined_df.to_csv(\"/work/twitter-nlp/streamlit/data/trump_agreement.csv\")",
   "metadata": {
    "cell_id": "bfb574f9ef094b469175380c7225ca52",
    "tags": [],
    "deepnote_to_be_reexecuted": false,
    "source_hash": "f00c9ea7",
    "execution_start": 1655291478714,
    "execution_millis": 131,
    "deepnote_cell_type": "code",
    "deepnote_cell_height": 81
   },
   "outputs": [],
   "execution_count": 14
  },
  {
   "cell_type": "code",
   "metadata": {
    "cell_id": "abc584a1987d4d91a11b4e7d3225b7b5",
    "tags": [],
    "deepnote_to_be_reexecuted": false,
    "source_hash": "8dd3e67b",
    "execution_start": 1655216720296,
    "execution_millis": 908,
    "owner_user_id": "45a6018d-478f-44a5-9821-6cf675d1fe14",
    "deepnote_cell_type": "code",
    "deepnote_cell_height": 1009.96875,
    "deepnote_output_heights": [
     498.984375
    ]
   },
   "source": "agreement_ratio = [\n    len(combined_df[combined_df[\"Agreement\"] == \"Agree Hatespeech\"])/len(combined_df),\n    len(combined_df[combined_df[\"Agreement\"] == \"Agree Not Hatespeech\"])/len(combined_df), \n    len(combined_df[combined_df[\"Agreement\"] == \"False Positive\"])/len(combined_df), \n    len(combined_df[combined_df[\"Agreement\"] == \"False Negative\"])/len(combined_df)\n    ]\n\nfig, ax = plt.subplots(figsize=(16,7))\n_,_,autotexts=ax.pie(agreement_ratio, \nlabels = [\n    \"Hatespeech and Insult\", \n    \"Neither Hatespeech nor Insult\", \n    \"Not Insult but Hatespeech\", \n    \"Insult but not Hatespeech\"\n    ],\n    colors=['#ad9176', '#795548', '#00695c','#b71c1c'],\n    explode=(0.05,0.05,0.05,0.05), \n    autopct='%1.1f%%'\n    )\n\nfor autotext in autotexts:\n    autotext.set_color('white')\nfig.suptitle(\"Trumps twitter insults, labeled by the New York Times and our Hatespeech Model:\")\nplt.tight_layout()",
   "execution_count": null,
   "outputs": [
    {
     "data": {
      "text/plain": "<Figure size 1152x504 with 1 Axes>",
      "image/png": "[encoded data removed]"
     },
     "metadata": {
      "image/png": {
       "width": 620,
       "height": 497
      }
     },
     "output_type": "display_data"
    }
   ]
  },
  {
   "cell_type": "markdown",
   "source": "However after comparing the labeling of each tweet, one can see that our model only agree's with the trump insult labeling around two thirds of the time. <br>\nThis is not necessarily a bad thing however. An insult is not necessarily hatespeech, and vice versa. <br>",
   "metadata": {
    "cell_id": "62125a6dc058495da2c3126b5f9ced54",
    "tags": [],
    "deepnote_cell_type": "markdown",
    "deepnote_cell_height": 74.765625
   }
  },
  {
   "cell_type": "markdown",
   "source": "But we can still conclude the following interesting facts from these results:\n- 7% of all of Trumps tweets which were insults, were also hatespeech according to our model.\n- 23,3% of all of Trumps tweets (including insult tweets), were hatespeech according to our model.\n\nIn connection with the model we can also say that around 66% of the time both the labeling of the hatespeech, and our Hatespeech model labeling, agree.",
   "metadata": {
    "cell_id": "c648ea2b6c3e4a7ba8f14813d753137a",
    "tags": [],
    "deepnote_cell_type": "markdown",
    "deepnote_cell_height": 150.546875
   }
  },
  {
   "cell_type": "markdown",
   "source": "## Testing our classifier on the offensive tweets dataset",
   "metadata": {
    "formattedRanges": [],
    "cell_id": "86a306e383354895b211631a135749e5",
    "tags": [],
    "is_collapsed": false,
    "deepnote_cell_type": "text-cell-h2"
   }
  },
  {
   "cell_type": "markdown",
   "source": "We decided to also run a test on the offensive tweets dataset, which was provided alongside our hate speech dataset: \n> https://github.com/cardiffnlp/tweeteval\n\nThis dataset is based on the OLID dataset. The dataset's source was not necesarrily the reasoning for pitting it against our model, but more so since it we were interested in seeing how offensiveness and hatespeech would correlate, and how our model would react in this case.",
   "metadata": {
    "cell_id": "441e15b58ae844aca17a469c117556f2",
    "tags": [],
    "deepnote_cell_type": "markdown",
    "deepnote_cell_height": 147.546875
   }
  },
  {
   "cell_type": "code",
   "metadata": {
    "cell_id": "7a4cb1e87dfb4afa9580ba83c219537f",
    "tags": [],
    "deepnote_to_be_reexecuted": false,
    "source_hash": "7985772d",
    "execution_start": 1655216720595,
    "execution_millis": 640,
    "deepnote_cell_type": "code",
    "deepnote_cell_height": 870
   },
   "source": "# loading the data:\ndef load_file(file):\n    with open(file, mode='r') as f:\n        data = f.readlines()\n        data = [i.strip(\"\\n\") for i in data]\n    return data\n\ntrain_text = load_file(\"/work/twitter-nlp/data/tweeteval/datasets/offensive/train_text.txt\")\ntrain_labels = load_file(\"/work/twitter-nlp/data/tweeteval/datasets/offensive/train_labels.txt\")\ntrain_labels = [int(i) for i in train_labels]\n\nOffenseDF = pd.DataFrame()\nOffenseDF[\"Offense_Labels\"] = train_labels\nOffenseDF[\"Tweets\"] = train_text\n\nOffenseDF",
   "execution_count": null,
   "outputs": [
    {
     "output_type": "execute_result",
     "execution_count": 14,
     "data": {
      "application/vnd.deepnote.dataframe.v3+json": {
       "column_count": 2,
       "row_count": 11916,
       "columns": [
        {
         "name": "Offense_Labels",
         "dtype": "int64",
         "stats": {
          "unique_count": 2,
          "nan_count": 0,
          "min": "0",
          "max": "1",
          "histogram": [
           {
            "bin_start": 0,
            "bin_end": 0.1,
            "count": 7975
           },
           {
            "bin_start": 0.1,
            "bin_end": 0.2,
            "count": 0
           },
           {
            "bin_start": 0.2,
            "bin_end": 0.30000000000000004,
            "count": 0
           },
           {
            "bin_start": 0.30000000000000004,
            "bin_end": 0.4,
            "count": 0
           },
           {
            "bin_start": 0.4,
            "bin_end": 0.5,
            "count": 0
           },
           {
            "bin_start": 0.5,
            "bin_end": 0.6000000000000001,
            "count": 0
           },
           {
            "bin_start": 0.6000000000000001,
            "bin_end": 0.7000000000000001,
            "count": 0
           },
           {
            "bin_start": 0.7000000000000001,
            "bin_end": 0.8,
            "count": 0
           },
           {
            "bin_start": 0.8,
            "bin_end": 0.9,
            "count": 0
           },
           {
            "bin_start": 0.9,
            "bin_end": 1,
            "count": 3941
           }
          ]
         }
        },
        {
         "name": "Tweets",
         "dtype": "object",
         "stats": {
          "unique_count": 11883,
          "nan_count": 0,
          "categories": [
           {
            "name": "@user Looks Like The Jokes On Liberals Again.  #FortTrump #Poland #BoomingEconomy ",
            "count": 5
           },
           {
            "name": "@user Yes she is ",
            "count": 3
           },
           {
            "name": "11881 others",
            "count": 11908
           }
          ]
         }
        },
        {
         "name": "_deepnote_index_column",
         "dtype": "int64"
        }
       ],
       "rows": [
        {
         "Offense_Labels": 0,
         "Tweets": "@user Bono... who cares. Soon people will understand that they gain nothing from following a phony celebrity. Become a Leader of your people instead or help and support your fellow countrymen. ",
         "_deepnote_index_column": 0
        },
        {
         "Offense_Labels": 1,
         "Tweets": "@user Eight years the republicans denied obama’s picks. Breitbarters outrage is as phony as their fake president. ",
         "_deepnote_index_column": 1
        },
        {
         "Offense_Labels": 0,
         "Tweets": "@user Get him some line help. He is gonna be just fine. As the game went on you could see him progressing more with his reads. He brought what has been missing. The deep ball presence. Now he just needs a little more time ",
         "_deepnote_index_column": 2
        },
        {
         "Offense_Labels": 0,
         "Tweets": "@user @user She is great. Hi Fiona! ",
         "_deepnote_index_column": 3
        },
        {
         "Offense_Labels": 1,
         "Tweets": "@user She has become a parody unto herself? She has certainly taken some heat for being such an....well idiot. Could be optic too  Who know with Liberals  They're all optics.  No substance ",
         "_deepnote_index_column": 4
        },
        {
         "Offense_Labels": 0,
         "Tweets": "@user @user @user @user @user @user @user @user @user @user @user @user @user @user @user This is the VetsResistSquadron\"\" is Bullshit.. They are girl scout veterans, I have never met any other veterans or served with anyone that was a gun control advocate? Have you?\"\" ",
         "_deepnote_index_column": 5
        },
        {
         "Offense_Labels": 1,
         "Tweets": "@user Your looking more like a plant #maga #walkaway ",
         "_deepnote_index_column": 6
        },
        {
         "Offense_Labels": 0,
         "Tweets": "@user @user Lol. Except he’s the most successful president in our lifetimes. He’s undone most of the damage Obummer did and set America on the right path again. #MAGA ",
         "_deepnote_index_column": 7
        },
        {
         "Offense_Labels": 0,
         "Tweets": "@user Been a Willie fan since before most of you were born....LOVE that he is holding a rally with Beto.... Exactly WHICH fans are furious?  Could you give some specifics? ",
         "_deepnote_index_column": 8
        },
        {
         "Offense_Labels": 0,
         "Tweets": "@user Here's a link to my channel with a plethora of topics to peruse: ",
         "_deepnote_index_column": 9
        }
       ]
      },
      "text/plain": "       Offense_Labels                                             Tweets\n0                   0  @user Bono... who cares. Soon people will unde...\n1                   1  @user Eight years the republicans denied obama...\n2                   0  @user Get him some line help. He is gonna be j...\n3                   0               @user @user She is great. Hi Fiona! \n4                   1  @user She has become a parody unto herself? Sh...\n...               ...                                                ...\n11911               1   @user I wonder if they are sex traffic victims? \n11912               0  @user Do we dare say he is... better than Nyjer? \n11913               0                    @user No idea who he is. Sorry \n11914               0  #Professor Who Shot Self Over Trump Says Gun C...\n11915               1  @user @user @user Here your proof!  Our Africa...\n\n[11916 rows x 2 columns]",
      "text/html": "<div>\n<style scoped>\n    .dataframe tbody tr th:only-of-type {\n        vertical-align: middle;\n    }\n\n    .dataframe tbody tr th {\n        vertical-align: top;\n    }\n\n    .dataframe thead th {\n        text-align: right;\n    }\n</style>\n<table border=\"1\" class=\"dataframe\">\n  <thead>\n    <tr style=\"text-align: right;\">\n      <th></th>\n      <th>Offense_Labels</th>\n      <th>Tweets</th>\n    </tr>\n  </thead>\n  <tbody>\n    <tr>\n      <th>0</th>\n      <td>0</td>\n      <td>@user Bono... who cares. Soon people will unde...</td>\n    </tr>\n    <tr>\n      <th>1</th>\n      <td>1</td>\n      <td>@user Eight years the republicans denied obama...</td>\n    </tr>\n    <tr>\n      <th>2</th>\n      <td>0</td>\n      <td>@user Get him some line help. He is gonna be j...</td>\n    </tr>\n    <tr>\n      <th>3</th>\n      <td>0</td>\n      <td>@user @user She is great. Hi Fiona!</td>\n    </tr>\n    <tr>\n      <th>4</th>\n      <td>1</td>\n      <td>@user She has become a parody unto herself? Sh...</td>\n    </tr>\n    <tr>\n      <th>...</th>\n      <td>...</td>\n      <td>...</td>\n    </tr>\n    <tr>\n      <th>11911</th>\n      <td>1</td>\n      <td>@user I wonder if they are sex traffic victims?</td>\n    </tr>\n    <tr>\n      <th>11912</th>\n      <td>0</td>\n      <td>@user Do we dare say he is... better than Nyjer?</td>\n    </tr>\n    <tr>\n      <th>11913</th>\n      <td>0</td>\n      <td>@user No idea who he is. Sorry</td>\n    </tr>\n    <tr>\n      <th>11914</th>\n      <td>0</td>\n      <td>#Professor Who Shot Self Over Trump Says Gun C...</td>\n    </tr>\n    <tr>\n      <th>11915</th>\n      <td>1</td>\n      <td>@user @user @user Here your proof!  Our Africa...</td>\n    </tr>\n  </tbody>\n</table>\n<p>11916 rows × 2 columns</p>\n</div>"
     },
     "metadata": {}
    }
   ]
  },
  {
   "cell_type": "code",
   "metadata": {
    "cell_id": "41ebbfe2fadf45ed87597070ddae3014",
    "tags": [],
    "deepnote_to_be_reexecuted": false,
    "source_hash": "2a92abdd",
    "execution_start": 1655216720715,
    "execution_millis": 0,
    "deepnote_cell_type": "code",
    "deepnote_cell_height": 81
   },
   "source": "# offense_prediction = predict_list(OffenseDF[\"Tweets\"])",
   "execution_count": null,
   "outputs": []
  },
  {
   "cell_type": "code",
   "metadata": {
    "cell_id": "31fa4f75bbe24f8aba5f96a48987b25f",
    "tags": [],
    "deepnote_to_be_reexecuted": false,
    "source_hash": "1bfe720c",
    "execution_start": 1655216720715,
    "execution_millis": 1,
    "deepnote_cell_type": "code",
    "deepnote_cell_height": 81
   },
   "source": "# pickling(offense_prediction, \"/work/twitter-nlp/data/pickle/classification_pickles/OffensePrediction.pkl\")",
   "execution_count": null,
   "outputs": []
  },
  {
   "cell_type": "code",
   "metadata": {
    "cell_id": "01a122f6b2ff4705969bf1a51d40a2fd",
    "tags": [],
    "deepnote_to_be_reexecuted": false,
    "source_hash": "520ded31",
    "execution_start": 1655216720717,
    "execution_millis": 611,
    "deepnote_cell_type": "code",
    "deepnote_cell_height": 920,
    "deepnote_output_heights": [
     499
    ]
   },
   "source": "offense_predict = open_jar(\"/work/twitter-nlp/data/pickle/classification_pickles/OffensePrediction.pkl\")\nOffenseDF[\"HS_Label\"] = label_predictions(offense_predict)\n\nimport matplotlib.pyplot as plt\n#define data\ndata = [len(OffenseDF[OffenseDF[\"Offense_Labels\"] == 0])/len(OffenseDF),len(OffenseDF[OffenseDF[\"Offense_Labels\"] == 1])/len(OffenseDF)]\ndata2 = [len(OffenseDF[OffenseDF[\"HS_Label\"] == 0])/len(OffenseDF), len(OffenseDF[OffenseDF[\"HS_Label\"] == 1])/len(OffenseDF)]\nlabels = ['Offensive', 'Not Offensive']\nlabels2 = ['Hatespeech', \"Not Hatespeech\"]\n\nfig, ax = plt.subplots(1,2, figsize=(16,7))\n_,_,autotexts0=ax[0].pie(data, labels=labels, colors=['#00695c','#b71c1c'],explode=(0, 0.1), autopct='%1.1f%%', shadow=True)\n_,_,autotexts1=ax[1].pie(data2, labels=labels2, autopct='%1.1f%%',colors=['#00695c','#b71c1c'],explode=(0, 0.1), shadow=True)\nfor autotext in autotexts0:\n    autotext.set_color('white')\nfor autotext in autotexts1:\n    autotext.set_color('white')\nplt.tight_layout()\nfig.suptitle(\"Insult label ratio to hatespeech label ratio comparison:\"); ",
   "execution_count": null,
   "outputs": [
    {
     "data": {
      "text/plain": "<Figure size 1152x504 with 2 Axes>",
      "image/png": "[encoded data removed]"
     },
     "metadata": {
      "image/png": {
       "width": 1054,
       "height": 497
      }
     },
     "output_type": "display_data"
    }
   ]
  },
  {
   "cell_type": "markdown",
   "source": "In this case, the labelling do not seem to agree purely based on the ratio.",
   "metadata": {
    "cell_id": "446aa164ff2a415c80e5b25e74f7a704",
    "tags": [],
    "deepnote_cell_type": "markdown",
    "deepnote_cell_height": 52.375
   }
  },
  {
   "cell_type": "code",
   "metadata": {
    "cell_id": "2feb883ec9d34c9f93d0f3a891dfac6c",
    "tags": [],
    "deepnote_to_be_reexecuted": false,
    "source_hash": "39cf0c9",
    "execution_start": 1655216721314,
    "execution_millis": 571,
    "deepnote_cell_type": "code",
    "deepnote_cell_height": 888
   },
   "source": "OffenseDF = OffenseDF.reset_index(drop=True)\n\ndef agreement_func():\n    results = []\n    for i in range(0, 11916):\n        if OffenseDF[\"Offense_Labels\"][i] == 1 and  OffenseDF[\"HS_Label\"][i] == 1:\n            results.append(\"Agree Offense\")\n        elif OffenseDF[\"Offense_Labels\"][i] == 0 and  OffenseDF[\"HS_Label\"][i] == 0:\n            results.append(\"Agree Not Offense\")\n        elif OffenseDF[\"Offense_Labels\"][i] == 1 and OffenseDF[\"HS_Label\"][i] == 0:\n            results.append(\"False Negative\")\n        elif OffenseDF[\"Offense_Labels\"][i] == 0 and OffenseDF[\"HS_Label\"][i] == 1:\n            results.append(\"False Positive\")\n    return results\n\nOffenseDF[\"Agreement\"] = agreement_func()\nOffenseDF",
   "execution_count": null,
   "outputs": [
    {
     "output_type": "execute_result",
     "execution_count": 18,
     "data": {
      "application/vnd.deepnote.dataframe.v3+json": {
       "column_count": 4,
       "row_count": 11916,
       "columns": [
        {
         "name": "Offense_Labels",
         "dtype": "int64",
         "stats": {
          "unique_count": 2,
          "nan_count": 0,
          "min": "0",
          "max": "1",
          "histogram": [
           {
            "bin_start": 0,
            "bin_end": 0.1,
            "count": 7975
           },
           {
            "bin_start": 0.1,
            "bin_end": 0.2,
            "count": 0
           },
           {
            "bin_start": 0.2,
            "bin_end": 0.30000000000000004,
            "count": 0
           },
           {
            "bin_start": 0.30000000000000004,
            "bin_end": 0.4,
            "count": 0
           },
           {
            "bin_start": 0.4,
            "bin_end": 0.5,
            "count": 0
           },
           {
            "bin_start": 0.5,
            "bin_end": 0.6000000000000001,
            "count": 0
           },
           {
            "bin_start": 0.6000000000000001,
            "bin_end": 0.7000000000000001,
            "count": 0
           },
           {
            "bin_start": 0.7000000000000001,
            "bin_end": 0.8,
            "count": 0
           },
           {
            "bin_start": 0.8,
            "bin_end": 0.9,
            "count": 0
           },
           {
            "bin_start": 0.9,
            "bin_end": 1,
            "count": 3941
           }
          ]
         }
        },
        {
         "name": "Tweets",
         "dtype": "object",
         "stats": {
          "unique_count": 11883,
          "nan_count": 0,
          "categories": [
           {
            "name": "@user Looks Like The Jokes On Liberals Again.  #FortTrump #Poland #BoomingEconomy ",
            "count": 5
           },
           {
            "name": "@user Yes she is ",
            "count": 3
           },
           {
            "name": "11881 others",
            "count": 11908
           }
          ]
         }
        },
        {
         "name": "HS_Label",
         "dtype": "int64",
         "stats": {
          "unique_count": 2,
          "nan_count": 0,
          "min": "0",
          "max": "1",
          "histogram": [
           {
            "bin_start": 0,
            "bin_end": 0.1,
            "count": 6179
           },
           {
            "bin_start": 0.1,
            "bin_end": 0.2,
            "count": 0
           },
           {
            "bin_start": 0.2,
            "bin_end": 0.30000000000000004,
            "count": 0
           },
           {
            "bin_start": 0.30000000000000004,
            "bin_end": 0.4,
            "count": 0
           },
           {
            "bin_start": 0.4,
            "bin_end": 0.5,
            "count": 0
           },
           {
            "bin_start": 0.5,
            "bin_end": 0.6000000000000001,
            "count": 0
           },
           {
            "bin_start": 0.6000000000000001,
            "bin_end": 0.7000000000000001,
            "count": 0
           },
           {
            "bin_start": 0.7000000000000001,
            "bin_end": 0.8,
            "count": 0
           },
           {
            "bin_start": 0.8,
            "bin_end": 0.9,
            "count": 0
           },
           {
            "bin_start": 0.9,
            "bin_end": 1,
            "count": 5737
           }
          ]
         }
        },
        {
         "name": "Agreement",
         "dtype": "object",
         "stats": {
          "unique_count": 4,
          "nan_count": 0,
          "categories": [
           {
            "name": "Agree Not Offense",
            "count": 4413
           },
           {
            "name": "False Positive",
            "count": 3562
           },
           {
            "name": "2 others",
            "count": 3941
           }
          ]
         }
        },
        {
         "name": "_deepnote_index_column",
         "dtype": "int64"
        }
       ],
       "rows": [
        {
         "Offense_Labels": 0,
         "Tweets": "@user Bono... who cares. Soon people will understand that they gain nothing from following a phony celebrity. Become a Leader of your people instead or help and support your fellow countrymen. ",
         "HS_Label": 0,
         "Agreement": "Agree Not Offense",
         "_deepnote_index_column": 0
        },
        {
         "Offense_Labels": 1,
         "Tweets": "@user Eight years the republicans denied obama’s picks. Breitbarters outrage is as phony as their fake president. ",
         "HS_Label": 0,
         "Agreement": "False Negative",
         "_deepnote_index_column": 1
        },
        {
         "Offense_Labels": 0,
         "Tweets": "@user Get him some line help. He is gonna be just fine. As the game went on you could see him progressing more with his reads. He brought what has been missing. The deep ball presence. Now he just needs a little more time ",
         "HS_Label": 0,
         "Agreement": "Agree Not Offense",
         "_deepnote_index_column": 2
        },
        {
         "Offense_Labels": 0,
         "Tweets": "@user @user She is great. Hi Fiona! ",
         "HS_Label": 1,
         "Agreement": "False Positive",
         "_deepnote_index_column": 3
        },
        {
         "Offense_Labels": 1,
         "Tweets": "@user She has become a parody unto herself? She has certainly taken some heat for being such an....well idiot. Could be optic too  Who know with Liberals  They're all optics.  No substance ",
         "HS_Label": 1,
         "Agreement": "Agree Offense",
         "_deepnote_index_column": 4
        },
        {
         "Offense_Labels": 0,
         "Tweets": "@user @user @user @user @user @user @user @user @user @user @user @user @user @user @user This is the VetsResistSquadron\"\" is Bullshit.. They are girl scout veterans, I have never met any other veterans or served with anyone that was a gun control advocate? Have you?\"\" ",
         "HS_Label": 1,
         "Agreement": "False Positive",
         "_deepnote_index_column": 5
        },
        {
         "Offense_Labels": 1,
         "Tweets": "@user Your looking more like a plant #maga #walkaway ",
         "HS_Label": 1,
         "Agreement": "Agree Offense",
         "_deepnote_index_column": 6
        },
        {
         "Offense_Labels": 0,
         "Tweets": "@user @user Lol. Except he’s the most successful president in our lifetimes. He’s undone most of the damage Obummer did and set America on the right path again. #MAGA ",
         "HS_Label": 0,
         "Agreement": "Agree Not Offense",
         "_deepnote_index_column": 7
        },
        {
         "Offense_Labels": 0,
         "Tweets": "@user Been a Willie fan since before most of you were born....LOVE that he is holding a rally with Beto.... Exactly WHICH fans are furious?  Could you give some specifics? ",
         "HS_Label": 0,
         "Agreement": "Agree Not Offense",
         "_deepnote_index_column": 8
        },
        {
         "Offense_Labels": 0,
         "Tweets": "@user Here's a link to my channel with a plethora of topics to peruse: ",
         "HS_Label": 0,
         "Agreement": "Agree Not Offense",
         "_deepnote_index_column": 9
        }
       ]
      },
      "text/plain": "       Offense_Labels                                             Tweets  \\\n0                   0  @user Bono... who cares. Soon people will unde...   \n1                   1  @user Eight years the republicans denied obama...   \n2                   0  @user Get him some line help. He is gonna be j...   \n3                   0               @user @user She is great. Hi Fiona!    \n4                   1  @user She has become a parody unto herself? Sh...   \n...               ...                                                ...   \n11911               1   @user I wonder if they are sex traffic victims?    \n11912               0  @user Do we dare say he is... better than Nyjer?    \n11913               0                    @user No idea who he is. Sorry    \n11914               0  #Professor Who Shot Self Over Trump Says Gun C...   \n11915               1  @user @user @user Here your proof!  Our Africa...   \n\n       HS_Label          Agreement  \n0             0  Agree Not Offense  \n1             0     False Negative  \n2             0  Agree Not Offense  \n3             1     False Positive  \n4             1      Agree Offense  \n...         ...                ...  \n11911         0     False Negative  \n11912         0  Agree Not Offense  \n11913         1     False Positive  \n11914         0  Agree Not Offense  \n11915         1      Agree Offense  \n\n[11916 rows x 4 columns]",
      "text/html": "<div>\n<style scoped>\n    .dataframe tbody tr th:only-of-type {\n        vertical-align: middle;\n    }\n\n    .dataframe tbody tr th {\n        vertical-align: top;\n    }\n\n    .dataframe thead th {\n        text-align: right;\n    }\n</style>\n<table border=\"1\" class=\"dataframe\">\n  <thead>\n    <tr style=\"text-align: right;\">\n      <th></th>\n      <th>Offense_Labels</th>\n      <th>Tweets</th>\n      <th>HS_Label</th>\n      <th>Agreement</th>\n    </tr>\n  </thead>\n  <tbody>\n    <tr>\n      <th>0</th>\n      <td>0</td>\n      <td>@user Bono... who cares. Soon people will unde...</td>\n      <td>0</td>\n      <td>Agree Not Offense</td>\n    </tr>\n    <tr>\n      <th>1</th>\n      <td>1</td>\n      <td>@user Eight years the republicans denied obama...</td>\n      <td>0</td>\n      <td>False Negative</td>\n    </tr>\n    <tr>\n      <th>2</th>\n      <td>0</td>\n      <td>@user Get him some line help. He is gonna be j...</td>\n      <td>0</td>\n      <td>Agree Not Offense</td>\n    </tr>\n    <tr>\n      <th>3</th>\n      <td>0</td>\n      <td>@user @user She is great. Hi Fiona!</td>\n      <td>1</td>\n      <td>False Positive</td>\n    </tr>\n    <tr>\n      <th>4</th>\n      <td>1</td>\n      <td>@user She has become a parody unto herself? Sh...</td>\n      <td>1</td>\n      <td>Agree Offense</td>\n    </tr>\n    <tr>\n      <th>...</th>\n      <td>...</td>\n      <td>...</td>\n      <td>...</td>\n      <td>...</td>\n    </tr>\n    <tr>\n      <th>11911</th>\n      <td>1</td>\n      <td>@user I wonder if they are sex traffic victims?</td>\n      <td>0</td>\n      <td>False Negative</td>\n    </tr>\n    <tr>\n      <th>11912</th>\n      <td>0</td>\n      <td>@user Do we dare say he is... better than Nyjer?</td>\n      <td>0</td>\n      <td>Agree Not Offense</td>\n    </tr>\n    <tr>\n      <th>11913</th>\n      <td>0</td>\n      <td>@user No idea who he is. Sorry</td>\n      <td>1</td>\n      <td>False Positive</td>\n    </tr>\n    <tr>\n      <th>11914</th>\n      <td>0</td>\n      <td>#Professor Who Shot Self Over Trump Says Gun C...</td>\n      <td>0</td>\n      <td>Agree Not Offense</td>\n    </tr>\n    <tr>\n      <th>11915</th>\n      <td>1</td>\n      <td>@user @user @user Here your proof!  Our Africa...</td>\n      <td>1</td>\n      <td>Agree Offense</td>\n    </tr>\n  </tbody>\n</table>\n<p>11916 rows × 4 columns</p>\n</div>"
     },
     "metadata": {}
    }
   ]
  },
  {
   "cell_type": "code",
   "metadata": {
    "cell_id": "2bc93cfc57ba43459078c236dc50c9d2",
    "tags": [],
    "deepnote_to_be_reexecuted": false,
    "source_hash": "debc986f",
    "execution_start": 1655216721902,
    "execution_millis": 253,
    "deepnote_cell_type": "code",
    "deepnote_cell_height": 794,
    "deepnote_output_heights": [
     499
    ]
   },
   "source": "agreement_ratio = [\n    len(OffenseDF[OffenseDF[\"Agreement\"] == \"Agree Offense\"])/len(OffenseDF),\n    len(OffenseDF[OffenseDF[\"Agreement\"] == \"Agree Not Offense\"])/len(OffenseDF), \n    len(OffenseDF[OffenseDF[\"Agreement\"] == \"False Positive\"])/len(OffenseDF), \n    len(OffenseDF[OffenseDF[\"Agreement\"] == \"False Negative\"])/len(OffenseDF)\n    ]\nfig, ax = plt.subplots(figsize=(16,7))\n_,_,autotexts=ax.pie(agreement_ratio, labels = [\"Offensive and Hatespeech\", \"Neither Offensive nor Hatespeech\", \"Offensive but not Hatespeech\", \"Not Offensive but Hatespeech\"],colors=['#795548','#ad9176','#00695c','#b71c1c'],explode=(0.05,0.05,0.05,0.05), autopct='%1.1f%%')\nfor autotext in autotexts:\n    autotext.set_color('white')\nfig.suptitle(\"Offensive labeling to Hatespeech classification agreement ratio:\")\nplt.tight_layout()",
   "execution_count": null,
   "outputs": [
    {
     "data": {
      "text/plain": "<Figure size 1152x504 with 1 Axes>",
      "image/png": "[encoded data removed]"
     },
     "metadata": {
      "image/png": {
       "width": 664,
       "height": 497
      }
     },
     "output_type": "display_data"
    }
   ]
  },
  {
   "cell_type": "markdown",
   "source": "And it is of course even worse when looking at how each individual tweet is labeled. The ambition was however never to accurately classify offensive corpus. It can be argued that offensive tweets are not necesarrily always hatespeech. ",
   "metadata": {
    "cell_id": "b4e5893ed62847338031d20c544b1963",
    "tags": [],
    "owner_user_id": "e1e4b2ef-b70d-4b00-91da-fa585f52d0ab",
    "deepnote_cell_type": "markdown",
    "deepnote_cell_height": 74.765625
   }
  },
  {
   "cell_type": "markdown",
   "source": "### Some more examples of how our model classifies:",
   "metadata": {
    "cell_id": "af19cd729e38460892135e2b67570a3b",
    "tags": [],
    "deepnote_cell_type": "markdown",
    "deepnote_cell_height": 62
   }
  },
  {
   "cell_type": "code",
   "metadata": {
    "cell_id": "a3b6cb015da8404b9a3dc51d1bc0f224",
    "tags": [],
    "deepnote_to_be_reexecuted": false,
    "source_hash": "d8083d4",
    "execution_start": 1655216722149,
    "execution_millis": 35,
    "deepnote_cell_type": "code",
    "deepnote_cell_height": 135
   },
   "source": "def classify_and_print(sentence):\n    hatespeech_array = classify_sentence([sentence])\n    print(\"Hatespeech Probability:\", round(hatespeech_array[0][1], 2))\n    print(\"Not Hatespeech Probability:\", round(hatespeech_array[0][0], 2))",
   "execution_count": null,
   "outputs": []
  },
  {
   "cell_type": "code",
   "metadata": {
    "cell_id": "99a3697d8a4a436dada9dc793e10cec8",
    "tags": [],
    "deepnote_to_be_reexecuted": false,
    "source_hash": "184ba7ed",
    "execution_start": 1655216722184,
    "execution_millis": 344,
    "deepnote_cell_type": "code",
    "deepnote_cell_height": 144.1875
   },
   "source": "classify_and_print(\"I fucking love pizza!\")",
   "execution_count": null,
   "outputs": [
    {
     "output_type": "error",
     "ename": "AttributeError",
     "evalue": "'list' object has no attribute 'lower'",
     "traceback": [
      "\u001b[0;31m---------------------------------------------------------------------------\u001b[0m",
      "\u001b[0;31mAttributeError\u001b[0m                            Traceback (most recent call last)",
      "\u001b[0;32m<ipython-input-21-a0a15b5560e4>\u001b[0m in \u001b[0;36m<module>\u001b[0;34m\u001b[0m\n\u001b[0;32m----> 1\u001b[0;31m \u001b[0mclassify_and_print\u001b[0m\u001b[0;34m(\u001b[0m\u001b[0;34m\"I fucking love pizza!\"\u001b[0m\u001b[0;34m)\u001b[0m\u001b[0;34m\u001b[0m\u001b[0;34m\u001b[0m\u001b[0m\n\u001b[0m",
      "\u001b[0;32m<ipython-input-20-1120920903cd>\u001b[0m in \u001b[0;36mclassify_and_print\u001b[0;34m(sentence)\u001b[0m\n\u001b[1;32m      1\u001b[0m \u001b[0;32mdef\u001b[0m \u001b[0mclassify_and_print\u001b[0m\u001b[0;34m(\u001b[0m\u001b[0msentence\u001b[0m\u001b[0;34m)\u001b[0m\u001b[0;34m:\u001b[0m\u001b[0;34m\u001b[0m\u001b[0;34m\u001b[0m\u001b[0m\n\u001b[0;32m----> 2\u001b[0;31m     \u001b[0mhatespeech_array\u001b[0m \u001b[0;34m=\u001b[0m \u001b[0mclassify_sentence\u001b[0m\u001b[0;34m(\u001b[0m\u001b[0;34m[\u001b[0m\u001b[0msentence\u001b[0m\u001b[0;34m]\u001b[0m\u001b[0;34m)\u001b[0m\u001b[0;34m\u001b[0m\u001b[0;34m\u001b[0m\u001b[0m\n\u001b[0m\u001b[1;32m      3\u001b[0m     \u001b[0mprint\u001b[0m\u001b[0;34m(\u001b[0m\u001b[0;34m\"Hatespeech Probability:\"\u001b[0m\u001b[0;34m,\u001b[0m \u001b[0mround\u001b[0m\u001b[0;34m(\u001b[0m\u001b[0mhatespeech_array\u001b[0m\u001b[0;34m[\u001b[0m\u001b[0;36m0\u001b[0m\u001b[0;34m]\u001b[0m\u001b[0;34m[\u001b[0m\u001b[0;36m1\u001b[0m\u001b[0;34m]\u001b[0m\u001b[0;34m,\u001b[0m \u001b[0;36m2\u001b[0m\u001b[0;34m)\u001b[0m\u001b[0;34m)\u001b[0m\u001b[0;34m\u001b[0m\u001b[0;34m\u001b[0m\u001b[0m\n\u001b[1;32m      4\u001b[0m     \u001b[0mprint\u001b[0m\u001b[0;34m(\u001b[0m\u001b[0;34m\"Not Hatespeech Probability:\"\u001b[0m\u001b[0;34m,\u001b[0m \u001b[0mround\u001b[0m\u001b[0;34m(\u001b[0m\u001b[0mhatespeech_array\u001b[0m\u001b[0;34m[\u001b[0m\u001b[0;36m0\u001b[0m\u001b[0;34m]\u001b[0m\u001b[0;34m[\u001b[0m\u001b[0;36m0\u001b[0m\u001b[0;34m]\u001b[0m\u001b[0;34m,\u001b[0m \u001b[0;36m2\u001b[0m\u001b[0;34m)\u001b[0m\u001b[0;34m)\u001b[0m\u001b[0;34m\u001b[0m\u001b[0;34m\u001b[0m\u001b[0m\n",
      "\u001b[0;32m<ipython-input-5-e4d1c5aab14d>\u001b[0m in \u001b[0;36mclassify_sentence\u001b[0;34m(text)\u001b[0m\n\u001b[1;32m      2\u001b[0m     \u001b[0mclassifier\u001b[0m \u001b[0;34m=\u001b[0m \u001b[0mopen_jar\u001b[0m\u001b[0;34m(\u001b[0m\u001b[0;34m'/work/twitter-nlp/data/pickle/models/hatespeech_model_MultinomialNB2.sav'\u001b[0m\u001b[0;34m)\u001b[0m\u001b[0;34m\u001b[0m\u001b[0;34m\u001b[0m\u001b[0m\n\u001b[1;32m      3\u001b[0m     \u001b[0mcv\u001b[0m \u001b[0;34m=\u001b[0m \u001b[0mopen_jar\u001b[0m\u001b[0;34m(\u001b[0m\u001b[0;34m'/work/twitter-nlp/data/pickle/models/hate/vectorizer.pkl'\u001b[0m\u001b[0;34m)\u001b[0m\u001b[0;34m\u001b[0m\u001b[0;34m\u001b[0m\u001b[0m\n\u001b[0;32m----> 4\u001b[0;31m     \u001b[0;32mreturn\u001b[0m \u001b[0mclassifier\u001b[0m\u001b[0;34m.\u001b[0m\u001b[0mpredict_proba\u001b[0m\u001b[0;34m(\u001b[0m\u001b[0mcv\u001b[0m\u001b[0;34m.\u001b[0m\u001b[0mtransform\u001b[0m\u001b[0;34m(\u001b[0m\u001b[0;34m[\u001b[0m\u001b[0mtext\u001b[0m\u001b[0;34m]\u001b[0m\u001b[0;34m)\u001b[0m\u001b[0;34m.\u001b[0m\u001b[0mtoarray\u001b[0m\u001b[0;34m(\u001b[0m\u001b[0;34m)\u001b[0m\u001b[0;34m)\u001b[0m\u001b[0;34m\u001b[0m\u001b[0;34m\u001b[0m\u001b[0m\n\u001b[0m",
      "\u001b[0;32m/shared-libs/python3.7/py/lib/python3.7/site-packages/sklearn/feature_extraction/text.py\u001b[0m in \u001b[0;36mtransform\u001b[0;34m(self, raw_documents)\u001b[0m\n\u001b[1;32m   1377\u001b[0m \u001b[0;34m\u001b[0m\u001b[0m\n\u001b[1;32m   1378\u001b[0m         \u001b[0;31m# use the same matrix-building strategy as fit_transform\u001b[0m\u001b[0;34m\u001b[0m\u001b[0;34m\u001b[0m\u001b[0;34m\u001b[0m\u001b[0m\n\u001b[0;32m-> 1379\u001b[0;31m         \u001b[0m_\u001b[0m\u001b[0;34m,\u001b[0m \u001b[0mX\u001b[0m \u001b[0;34m=\u001b[0m \u001b[0mself\u001b[0m\u001b[0;34m.\u001b[0m\u001b[0m_count_vocab\u001b[0m\u001b[0;34m(\u001b[0m\u001b[0mraw_documents\u001b[0m\u001b[0;34m,\u001b[0m \u001b[0mfixed_vocab\u001b[0m\u001b[0;34m=\u001b[0m\u001b[0;32mTrue\u001b[0m\u001b[0;34m)\u001b[0m\u001b[0;34m\u001b[0m\u001b[0;34m\u001b[0m\u001b[0m\n\u001b[0m\u001b[1;32m   1380\u001b[0m         \u001b[0;32mif\u001b[0m \u001b[0mself\u001b[0m\u001b[0;34m.\u001b[0m\u001b[0mbinary\u001b[0m\u001b[0;34m:\u001b[0m\u001b[0;34m\u001b[0m\u001b[0;34m\u001b[0m\u001b[0m\n\u001b[1;32m   1381\u001b[0m             \u001b[0mX\u001b[0m\u001b[0;34m.\u001b[0m\u001b[0mdata\u001b[0m\u001b[0;34m.\u001b[0m\u001b[0mfill\u001b[0m\u001b[0;34m(\u001b[0m\u001b[0;36m1\u001b[0m\u001b[0;34m)\u001b[0m\u001b[0;34m\u001b[0m\u001b[0;34m\u001b[0m\u001b[0m\n",
      "\u001b[0;32m/shared-libs/python3.7/py/lib/python3.7/site-packages/sklearn/feature_extraction/text.py\u001b[0m in \u001b[0;36m_count_vocab\u001b[0;34m(self, raw_documents, fixed_vocab)\u001b[0m\n\u001b[1;32m   1199\u001b[0m         \u001b[0;32mfor\u001b[0m \u001b[0mdoc\u001b[0m \u001b[0;32min\u001b[0m \u001b[0mraw_documents\u001b[0m\u001b[0;34m:\u001b[0m\u001b[0;34m\u001b[0m\u001b[0;34m\u001b[0m\u001b[0m\n\u001b[1;32m   1200\u001b[0m             \u001b[0mfeature_counter\u001b[0m \u001b[0;34m=\u001b[0m \u001b[0;34m{\u001b[0m\u001b[0;34m}\u001b[0m\u001b[0;34m\u001b[0m\u001b[0;34m\u001b[0m\u001b[0m\n\u001b[0;32m-> 1201\u001b[0;31m             \u001b[0;32mfor\u001b[0m \u001b[0mfeature\u001b[0m \u001b[0;32min\u001b[0m \u001b[0manalyze\u001b[0m\u001b[0;34m(\u001b[0m\u001b[0mdoc\u001b[0m\u001b[0;34m)\u001b[0m\u001b[0;34m:\u001b[0m\u001b[0;34m\u001b[0m\u001b[0;34m\u001b[0m\u001b[0m\n\u001b[0m\u001b[1;32m   1202\u001b[0m                 \u001b[0;32mtry\u001b[0m\u001b[0;34m:\u001b[0m\u001b[0;34m\u001b[0m\u001b[0;34m\u001b[0m\u001b[0m\n\u001b[1;32m   1203\u001b[0m                     \u001b[0mfeature_idx\u001b[0m \u001b[0;34m=\u001b[0m \u001b[0mvocabulary\u001b[0m\u001b[0;34m[\u001b[0m\u001b[0mfeature\u001b[0m\u001b[0;34m]\u001b[0m\u001b[0;34m\u001b[0m\u001b[0;34m\u001b[0m\u001b[0m\n",
      "\u001b[0;32m/shared-libs/python3.7/py/lib/python3.7/site-packages/sklearn/feature_extraction/text.py\u001b[0m in \u001b[0;36m_analyze\u001b[0;34m(doc, analyzer, tokenizer, ngrams, preprocessor, decoder, stop_words)\u001b[0m\n\u001b[1;32m    111\u001b[0m     \u001b[0;32melse\u001b[0m\u001b[0;34m:\u001b[0m\u001b[0;34m\u001b[0m\u001b[0;34m\u001b[0m\u001b[0m\n\u001b[1;32m    112\u001b[0m         \u001b[0;32mif\u001b[0m \u001b[0mpreprocessor\u001b[0m \u001b[0;32mis\u001b[0m \u001b[0;32mnot\u001b[0m \u001b[0;32mNone\u001b[0m\u001b[0;34m:\u001b[0m\u001b[0;34m\u001b[0m\u001b[0;34m\u001b[0m\u001b[0m\n\u001b[0;32m--> 113\u001b[0;31m             \u001b[0mdoc\u001b[0m \u001b[0;34m=\u001b[0m \u001b[0mpreprocessor\u001b[0m\u001b[0;34m(\u001b[0m\u001b[0mdoc\u001b[0m\u001b[0;34m)\u001b[0m\u001b[0;34m\u001b[0m\u001b[0;34m\u001b[0m\u001b[0m\n\u001b[0m\u001b[1;32m    114\u001b[0m         \u001b[0;32mif\u001b[0m \u001b[0mtokenizer\u001b[0m \u001b[0;32mis\u001b[0m \u001b[0;32mnot\u001b[0m \u001b[0;32mNone\u001b[0m\u001b[0;34m:\u001b[0m\u001b[0;34m\u001b[0m\u001b[0;34m\u001b[0m\u001b[0m\n\u001b[1;32m    115\u001b[0m             \u001b[0mdoc\u001b[0m \u001b[0;34m=\u001b[0m \u001b[0mtokenizer\u001b[0m\u001b[0;34m(\u001b[0m\u001b[0mdoc\u001b[0m\u001b[0;34m)\u001b[0m\u001b[0;34m\u001b[0m\u001b[0;34m\u001b[0m\u001b[0m\n",
      "\u001b[0;32m/shared-libs/python3.7/py/lib/python3.7/site-packages/sklearn/feature_extraction/text.py\u001b[0m in \u001b[0;36m_preprocess\u001b[0;34m(doc, accent_function, lower)\u001b[0m\n\u001b[1;32m     69\u001b[0m     \"\"\"\n\u001b[1;32m     70\u001b[0m     \u001b[0;32mif\u001b[0m \u001b[0mlower\u001b[0m\u001b[0;34m:\u001b[0m\u001b[0;34m\u001b[0m\u001b[0;34m\u001b[0m\u001b[0m\n\u001b[0;32m---> 71\u001b[0;31m         \u001b[0mdoc\u001b[0m \u001b[0;34m=\u001b[0m \u001b[0mdoc\u001b[0m\u001b[0;34m.\u001b[0m\u001b[0mlower\u001b[0m\u001b[0;34m(\u001b[0m\u001b[0;34m)\u001b[0m\u001b[0;34m\u001b[0m\u001b[0;34m\u001b[0m\u001b[0m\n\u001b[0m\u001b[1;32m     72\u001b[0m     \u001b[0;32mif\u001b[0m \u001b[0maccent_function\u001b[0m \u001b[0;32mis\u001b[0m \u001b[0;32mnot\u001b[0m \u001b[0;32mNone\u001b[0m\u001b[0;34m:\u001b[0m\u001b[0;34m\u001b[0m\u001b[0;34m\u001b[0m\u001b[0m\n\u001b[1;32m     73\u001b[0m         \u001b[0mdoc\u001b[0m \u001b[0;34m=\u001b[0m \u001b[0maccent_function\u001b[0m\u001b[0;34m(\u001b[0m\u001b[0mdoc\u001b[0m\u001b[0;34m)\u001b[0m\u001b[0;34m\u001b[0m\u001b[0;34m\u001b[0m\u001b[0m\n",
      "\u001b[0;31mAttributeError\u001b[0m: 'list' object has no attribute 'lower'"
     ]
    }
   ]
  },
  {
   "cell_type": "code",
   "metadata": {
    "cell_id": "367a369162d243f2970d408dd3ece46d",
    "tags": [],
    "deepnote_to_be_reexecuted": true,
    "source_hash": "fba6d675",
    "execution_start": 1654242157104,
    "execution_millis": 58,
    "deepnote_cell_type": "code",
    "deepnote_cell_height": 130.375
   },
   "source": "classify_and_print(\"Pizza is some fucking good food\")",
   "execution_count": null,
   "outputs": [
    {
     "name": "stdout",
     "text": "Hatespeech Probability: 0.22\nNot Hatespeech Probability: 0.78\n",
     "output_type": "stream"
    }
   ]
  },
  {
   "cell_type": "code",
   "metadata": {
    "cell_id": "ae2e69c154b14d58af3a0839fde4056c",
    "tags": [],
    "deepnote_to_be_reexecuted": true,
    "source_hash": "8304e1a4",
    "execution_start": 1654242157169,
    "execution_millis": 37,
    "deepnote_cell_type": "code",
    "deepnote_cell_height": 130.375
   },
   "source": "classify_and_print(\"I would kill for a piece of pizza\")",
   "execution_count": null,
   "outputs": [
    {
     "name": "stdout",
     "text": "Hatespeech Probability: 0.44\nNot Hatespeech Probability: 0.56\n",
     "output_type": "stream"
    }
   ]
  },
  {
   "cell_type": "code",
   "metadata": {
    "cell_id": "06e905453318466b97d78a28a30113be",
    "tags": [],
    "deepnote_to_be_reexecuted": true,
    "source_hash": "143f38a5",
    "execution_start": 1654242157213,
    "execution_millis": 45,
    "deepnote_cell_type": "code",
    "deepnote_cell_height": 130.375
   },
   "source": "classify_and_print(\"Fuck pizza, fucking hate immigrant food #buildthatwall\")",
   "execution_count": null,
   "outputs": [
    {
     "name": "stdout",
     "text": "Hatespeech Probability: 0.99\nNot Hatespeech Probability: 0.01\n",
     "output_type": "stream"
    }
   ]
  },
  {
   "cell_type": "markdown",
   "source": "<a style='text-decoration:none;line-height:16px;display:flex;color:#5B5B62;padding:10px;justify-content:end;' href='https://deepnote.com?utm_source=created-in-deepnote-cell&projectId=bf1f20fb-a6c0-4ea2-8567-a5a41eea1d8a' target=\"_blank\">\n<img alt='Created in deepnote.com' style='display:inline;max-height:16px;margin:0px;margin-right:7.5px;' src='data:image/svg+xml;base64,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' > </img>\nCreated in <span style='font-weight:600;margin-left:4px;'>Deepnote</span></a>",
   "metadata": {
    "tags": [],
    "created_in_deepnote_cell": true,
    "deepnote_cell_type": "markdown"
   }
  }
 ],
 "nbformat": 4,
 "nbformat_minor": 2,
 "metadata": {
  "orig_nbformat": 2,
  "deepnote": {},
  "deepnote_notebook_id": "a3f029ac-60d1-4c99-8be1-d879d8dfa37b",
  "deepnote_execution_queue": []
 }
}