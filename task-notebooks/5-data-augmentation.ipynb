{
 "cells": [
  {
   "cell_type": "markdown",
   "source": "# 5. Data Augmentation",
   "metadata": {
    "cell_id": "b3ce63ebe8444cab9bb7902dd5347f3b",
    "tags": [],
    "is_collapsed": false,
    "deepnote_cell_type": "text-cell-h1"
   }
  },
  {
   "cell_type": "markdown",
   "source": "- [ ] Run at least one experiment with an augmented dataset that includes additional data selected based on training data perplexity under a language model trained the task you’ve selected.",
   "metadata": {
    "cell_id": "73e153ec748742bb861e9764cc7f3b3f",
    "tags": [],
    "deepnote_cell_type": "markdown",
    "deepnote_cell_height": 91.796875
   }
  },
  {
   "cell_type": "markdown",
   "source": "Possible Sources: \n\n- [ ] the training sets of the other tasks\n- [ ] the Broad Twitter Dataset (https://github.com/GateNLP/broad_twitter_corpus),\n- [ ] any other dataset we can think of (any creative ideas?)\n- [ ] Trump's offensive tweets?",
   "metadata": {
    "cell_id": "2d22f510a81443fca64942a0614ee919",
    "tags": [],
    "deepnote_cell_type": "markdown",
    "deepnote_cell_height": 179
   }
  },
  {
   "cell_type": "code",
   "metadata": {
    "cell_id": "def246fe67fd4f47b64eecbd65027844",
    "tags": [],
    "deepnote_to_be_reexecuted": false,
    "source_hash": "7eab13ef",
    "execution_start": 1654182910013,
    "execution_millis": 6454,
    "deepnote_cell_type": "code",
    "deepnote_cell_height": 207
   },
   "source": "import pandas as pd\nimport pickle\nfrom sklearn.feature_extraction.text import CountVectorizer\nfrom sklearn.metrics import accuracy_score,confusion_matrix,roc_auc_score,classification_report\nimport sys\nsys.path.insert(0, '/work/twitter-nlp')\nfrom boilerplate import load_and_tokenize, pickling, open_jar, func_regex\nimport numpy as np",
   "outputs": [],
   "execution_count": null
  },
  {
   "cell_type": "code",
   "metadata": {
    "cell_id": "c3741d541f904e7a8ebfd843b8986b6e",
    "tags": [],
    "deepnote_to_be_reexecuted": false,
    "source_hash": "7487a5a4",
    "execution_start": 1654182916520,
    "execution_millis": 590,
    "deepnote_cell_type": "code",
    "deepnote_cell_height": 207
   },
   "source": "train_txt_emoji = open_jar('/work/twitter-nlp/data/pickle/tweeteval/emoji/pickled_train_text.pkl')\ntrain_labels_emoji = pd.DataFrame(open_jar('/work/twitter-nlp/data/pickle/tweeteval/emoji/pickled_train_labels.pkl'))\nval_txt_emoji = open_jar('/work/twitter-nlp/data/pickle/tweeteval/emoji/pickled_val_text.pkl')\nval_labels_emoji = pd.DataFrame(open_jar('/work/twitter-nlp/data/pickle/tweeteval/emoji/pickled_val_labels.pkl'))\nX_train_txt_emoji = train_txt_emoji.copy()\nX_train_txt_emoji.extend(val_txt_emoji)\ny_train_emoji = pd.concat([train_labels_emoji,val_labels_emoji], ignore_index=True).astype(int)\nemoji_classes = pd.read_csv(\"/work/twitter-nlp/data/tweeteval/datasets/emoji/mapping.txt\", sep = \"\t\", header=None)",
   "outputs": [],
   "execution_count": null
  },
  {
   "cell_type": "code",
   "metadata": {
    "cell_id": "3591574d4d37491f8ad21912220c9777",
    "tags": [],
    "deepnote_to_be_reexecuted": false,
    "source_hash": "b05c88db",
    "execution_start": 1654182917116,
    "execution_millis": 5142,
    "deepnote_cell_type": "code",
    "deepnote_cell_height": 112
   },
   "source": "print(len(X_train_txt_emoji), len(list(y_train_emoji[0])))",
   "outputs": [
    {
     "name": "stdout",
     "text": "50000 50000\n",
     "output_type": "stream"
    }
   ],
   "execution_count": null
  },
  {
   "cell_type": "code",
   "metadata": {
    "cell_id": "9e6ba480b15c4bd99d0f64747aa73e16",
    "tags": [],
    "deepnote_to_be_reexecuted": false,
    "source_hash": "f5c44fb0",
    "execution_start": 1654182917173,
    "execution_millis": 155,
    "deepnote_cell_type": "code",
    "deepnote_cell_height": 81
   },
   "source": "merged = pd.DataFrame(zip(X_train_txt_emoji, list(y_train_emoji[0])))",
   "outputs": [],
   "execution_count": null
  },
  {
   "cell_type": "code",
   "metadata": {
    "cell_id": "5100a5f243b34797992825396137260b",
    "tags": [],
    "deepnote_to_be_reexecuted": false,
    "source_hash": "eb79f390",
    "execution_start": 1654182917330,
    "execution_millis": 6624,
    "deepnote_cell_type": "code",
    "deepnote_cell_height": 616.796875
   },
   "source": "merged[merged[1] == 18]",
   "outputs": [
    {
     "output_type": "execute_result",
     "execution_count": 5,
     "data": {
      "application/vnd.deepnote.dataframe.v3+json": {
       "column_count": 2,
       "row_count": 1639,
       "columns": [
        {
         "name": 0,
         "dtype": "object",
         "stats": {
          "unique_count": 1639,
          "nan_count": 0,
          "categories": [
           {
            "name": "['Hyangle', 'Photography', '8212016', '__________________________#nikon_photography', '#photo', '#Sunday']",
            "count": 4
           },
           {
            "name": "['david_beatz', '@', 'Los', 'Angeles', 'California']",
            "count": 4
           },
           {
            "name": "1615 others",
            "count": 1631
           }
          ]
         }
        },
        {
         "name": 1,
         "dtype": "int64",
         "stats": {
          "unique_count": 1,
          "nan_count": 0,
          "min": "18",
          "max": "18",
          "histogram": [
           {
            "bin_start": 17.5,
            "bin_end": 17.6,
            "count": 0
           },
           {
            "bin_start": 17.6,
            "bin_end": 17.7,
            "count": 0
           },
           {
            "bin_start": 17.7,
            "bin_end": 17.8,
            "count": 0
           },
           {
            "bin_start": 17.8,
            "bin_end": 17.9,
            "count": 0
           },
           {
            "bin_start": 17.9,
            "bin_end": 18,
            "count": 0
           },
           {
            "bin_start": 18,
            "bin_end": 18.1,
            "count": 1639
           },
           {
            "bin_start": 18.1,
            "bin_end": 18.2,
            "count": 0
           },
           {
            "bin_start": 18.2,
            "bin_end": 18.3,
            "count": 0
           },
           {
            "bin_start": 18.3,
            "bin_end": 18.4,
            "count": 0
           },
           {
            "bin_start": 18.4,
            "bin_end": 18.5,
            "count": 0
           }
          ]
         }
        },
        {
         "name": "_deepnote_index_column",
         "dtype": "int64"
        }
       ],
       "rows": [
        {
         "0": "['In', 'the', 'zone', '|', '@user', '#colorsworldwide', '#RnBOnly', '@', 'The', 'Regent']",
         "1": 18,
         "_deepnote_index_column": 36
        },
        {
         "0": "['Getting', 'up', 'that', 'ice', 'wall', 'one', 'ax', 'at', 'a', 'time', 'pechoi11', '@', 'Mount', 'Shasta', 'California']",
         "1": 18,
         "_deepnote_index_column": 59
        },
        {
         "0": "['Caught', 'by', 'the', 'lens', 'of', 'Yc', 'Wong', 'photo', 'by', '8888tiger8888', 'suit', 'by', 'virginblak', '#ljifff']",
         "1": 18,
         "_deepnote_index_column": 96
        },
        {
         "0": "['Photoshooting', 'with', 'the', 'babe', '@user', '#sundayfunday', '@', 'Downtown', 'Container', 'Park']",
         "1": 18,
         "_deepnote_index_column": 108
        },
        {
         "0": "['We', 'had', 'a', 'lot', 'of', 'office', 'volunteers', 'for', 'this', 'event', 'nicolempawlak', '#teamwass', '#extramileca', '@user']",
         "1": 18,
         "_deepnote_index_column": 122
        },
        {
         "0": "['We', 'be', 'touristy', 'in', 'the', '#sisco', 'bossman', '@', 'Palace', 'of', 'Fine', 'Arts']",
         "1": 18,
         "_deepnote_index_column": 134
        },
        {
         "0": "['Forever', 'a', 'Brooklyn', 'girl', '@user', '@', 'The', 'Dragonfly']",
         "1": 18,
         "_deepnote_index_column": 138
        },
        {
         "0": "['(', 'PLDM', 'Trademark)', '@', 'Downtown', 'Sacramento']",
         "1": 18,
         "_deepnote_index_column": 140
        },
        {
         "0": "['Day', 'job', '#FilmComposer', 'amandacomander', '@', 'Los', 'Angeles', 'California']",
         "1": 18,
         "_deepnote_index_column": 144
        },
        {
         "0": "['Gotta', 'love', 'family', 'thee_counsela8', '___rht_', '@user', 'nothing', 'like', 'family', 'supporting', 'your', 'dreams']",
         "1": 18,
         "_deepnote_index_column": 161
        }
       ]
      },
      "text/plain": "                                                       0   1\n36     [In, the, zone, |, @user, #colorsworldwide, #R...  18\n59     [Getting, up, that, ice, wall, one, ax, at, a,...  18\n96     [Caught, by, the, lens, of, Yc, Wong, photo, b...  18\n108    [Photoshooting, with, the, babe, @user, #sunda...  18\n122    [We, had, a, lot, of, office, volunteers, for,...  18\n...                                                  ...  ..\n49734  [#EmptyStates, Day, 3, @user, @user, @, San, F...  18\n49740  [instant, human, just, add, coffee, lavenderch...  18\n49766  [#Day2, #, #TouristMode, #Views, @, The, Coit,...  18\n49909  [ONLINE, Americana, Hat, in, camo, or, grey, D...  18\n49968  [#dirtbikesforpresident, jwtfmx, @user, @, Jim...  18\n\n[1639 rows x 2 columns]",
      "text/html": "<div>\n<style scoped>\n    .dataframe tbody tr th:only-of-type {\n        vertical-align: middle;\n    }\n\n    .dataframe tbody tr th {\n        vertical-align: top;\n    }\n\n    .dataframe thead th {\n        text-align: right;\n    }\n</style>\n<table border=\"1\" class=\"dataframe\">\n  <thead>\n    <tr style=\"text-align: right;\">\n      <th></th>\n      <th>0</th>\n      <th>1</th>\n    </tr>\n  </thead>\n  <tbody>\n    <tr>\n      <th>36</th>\n      <td>[In, the, zone, |, @user, #colorsworldwide, #R...</td>\n      <td>18</td>\n    </tr>\n    <tr>\n      <th>59</th>\n      <td>[Getting, up, that, ice, wall, one, ax, at, a,...</td>\n      <td>18</td>\n    </tr>\n    <tr>\n      <th>96</th>\n      <td>[Caught, by, the, lens, of, Yc, Wong, photo, b...</td>\n      <td>18</td>\n    </tr>\n    <tr>\n      <th>108</th>\n      <td>[Photoshooting, with, the, babe, @user, #sunda...</td>\n      <td>18</td>\n    </tr>\n    <tr>\n      <th>122</th>\n      <td>[We, had, a, lot, of, office, volunteers, for,...</td>\n      <td>18</td>\n    </tr>\n    <tr>\n      <th>...</th>\n      <td>...</td>\n      <td>...</td>\n    </tr>\n    <tr>\n      <th>49734</th>\n      <td>[#EmptyStates, Day, 3, @user, @user, @, San, F...</td>\n      <td>18</td>\n    </tr>\n    <tr>\n      <th>49740</th>\n      <td>[instant, human, just, add, coffee, lavenderch...</td>\n      <td>18</td>\n    </tr>\n    <tr>\n      <th>49766</th>\n      <td>[#Day2, #, #TouristMode, #Views, @, The, Coit,...</td>\n      <td>18</td>\n    </tr>\n    <tr>\n      <th>49909</th>\n      <td>[ONLINE, Americana, Hat, in, camo, or, grey, D...</td>\n      <td>18</td>\n    </tr>\n    <tr>\n      <th>49968</th>\n      <td>[#dirtbikesforpresident, jwtfmx, @user, @, Jim...</td>\n      <td>18</td>\n    </tr>\n  </tbody>\n</table>\n<p>1639 rows × 2 columns</p>\n</div>"
     },
     "metadata": {}
    }
   ],
   "execution_count": null
  },
  {
   "cell_type": "markdown",
   "source": "## Labeling Trumps Twitter Insults\nWe took trumps insults (provided by the New York Times) and combined those with all his other tweets. ",
   "metadata": {
    "cell_id": "bf4d360ccb6241298d2108e52ba63a22",
    "tags": [],
    "deepnote_cell_type": "markdown",
    "deepnote_cell_height": 108.390625
   }
  },
  {
   "cell_type": "code",
   "metadata": {
    "cell_id": "fcd4ab6d34eb4854961abc1bf438aed3",
    "tags": [],
    "deepnote_to_be_reexecuted": false,
    "source_hash": "c4162f1d",
    "execution_start": 1654182917517,
    "execution_millis": 247,
    "deepnote_table_state": {
     "pageSize": 10,
     "pageIndex": 0,
     "filters": [
      {
       "id": "date",
       "value": "2015-01-01",
       "type": "contains"
      }
     ],
     "sortBy": []
    },
    "deepnote_table_loading": false,
    "deepnote_cell_type": "code",
    "deepnote_cell_height": 243
   },
   "source": "# loading in trump's twitter insults\n# the insult data is a collection of all insults from 2015 to 2021 (until trump was banned)\ninsult_data = pd.read_csv(\"/work/twitter-nlp/data/trumptwitterinsults/trump_insult_tweets_2014_to_2021.csv\")\n\n# only using the tokens data, and dropping all duplicates, adding a hatespeech label (all are marked as hatespeech)\ntweets = insult_data[\"tweet\"]\ntweets = tweets.drop_duplicates()\ninsult_tokens = pd.DataFrame(columns=[\"Labels\", \"Tweets\"])\ninsult_tokens[\"Tweets\"] = tweets\ninsult_tokens[\"Labels\"] = [1 for _ in range(0, len(insult_tokens))]",
   "outputs": [],
   "execution_count": null
  },
  {
   "cell_type": "code",
   "metadata": {
    "cell_id": "f7b809b7fd5c4109a1a0527aa5052058",
    "tags": [],
    "deepnote_to_be_reexecuted": false,
    "source_hash": "e02f6528",
    "execution_start": 1654182917775,
    "execution_millis": 1005,
    "deepnote_cell_type": "code",
    "deepnote_cell_height": 243
   },
   "source": "# the standard data is a collection of all of trumps tweets from 2009 to 2021 (until trump was banned)\nstandard_data = pd.read_csv(\"/work/twitter-nlp/data/trumptwitterinsults/tweets.csv\")\n\n# shortening the data from 2015 to 2009 only, using only tweets, dropping duplcates, adding label\nstandard_data = standard_data[39087:-1]\nk_tweets = standard_data[\"text\"]\nk_tweets = k_tweets.drop_duplicates()\ncontrol_tokens = pd.DataFrame(columns=[\"Labels\", \"Tweets\"])\ncontrol_tokens[\"Tweets\"] = k_tweets\ncontrol_tokens[\"Labels\"] = [0 for _ in range(0, len(control_tokens))]",
   "outputs": [],
   "execution_count": null
  },
  {
   "cell_type": "code",
   "metadata": {
    "cell_id": "e47c39de52a242868ada87520fc480e7",
    "tags": [],
    "deepnote_to_be_reexecuted": false,
    "source_hash": "e5590af1",
    "execution_start": 1654182918795,
    "execution_millis": 5635,
    "deepnote_table_state": {
     "pageSize": 10,
     "pageIndex": 0,
     "filters": [],
     "sortBy": [
      {
       "id": "Labels",
       "type": "asc"
      }
     ]
    },
    "deepnote_table_loading": false,
    "deepnote_cell_type": "code",
    "deepnote_cell_height": 702.796875
   },
   "source": "# combining the two df\ncombined_df = pd.concat([insult_tokens, control_tokens])\ntext = list(combined_df[\"Tweets\"])\ncombined_df",
   "outputs": [
    {
     "output_type": "execute_result",
     "execution_count": 8,
     "data": {
      "application/vnd.deepnote.dataframe.v3+json": {
       "column_count": 2,
       "row_count": 23030,
       "columns": [
        {
         "name": "Labels",
         "dtype": "int64",
         "stats": {
          "unique_count": 2,
          "nan_count": 0,
          "min": "0",
          "max": "1",
          "histogram": [
           {
            "bin_start": 0,
            "bin_end": 0.1,
            "count": 17357
           },
           {
            "bin_start": 0.1,
            "bin_end": 0.2,
            "count": 0
           },
           {
            "bin_start": 0.2,
            "bin_end": 0.30000000000000004,
            "count": 0
           },
           {
            "bin_start": 0.30000000000000004,
            "bin_end": 0.4,
            "count": 0
           },
           {
            "bin_start": 0.4,
            "bin_end": 0.5,
            "count": 0
           },
           {
            "bin_start": 0.5,
            "bin_end": 0.6000000000000001,
            "count": 0
           },
           {
            "bin_start": 0.6000000000000001,
            "bin_end": 0.7000000000000001,
            "count": 0
           },
           {
            "bin_start": 0.7000000000000001,
            "bin_end": 0.8,
            "count": 0
           },
           {
            "bin_start": 0.8,
            "bin_end": 0.9,
            "count": 0
           },
           {
            "bin_start": 0.9,
            "bin_end": 1,
            "count": 5673
           }
          ]
         }
        },
        {
         "name": "Tweets",
         "dtype": "object",
         "stats": {
          "unique_count": 20799,
          "nan_count": 0,
          "categories": [
           {
            "name": "Well, the Special Elections are over and those that want to MAKE AMERICA GREAT AGAIN are 5 and O! All the Fake News, all the money spent = 0",
            "count": 2
           },
           {
            "name": "DOJ just issued the McCabe report - which is a total disaster. He LIED! LIED! LIED! McCabe was totally controlled by Comey - McCabe is Comey!! No collusion, all made up by this den of thieves and lowlifes!",
            "count": 2
           },
           {
            "name": "20797 others",
            "count": 23026
           }
          ]
         }
        },
        {
         "name": "_deepnote_index_column",
         "dtype": "int64"
        }
       ],
       "rows": [
        {
         "Labels": 0,
         "Tweets": "Well, the Special Elections are over and those that want to MAKE AMERICA GREAT AGAIN are 5 and O! All the Fake News, all the money spent = 0",
         "_deepnote_index_column": 44939
        },
        {
         "Labels": 0,
         "Tweets": "Thank you to all of the American workers who travelled here today! This event is dedicated to YOU: the hardworking Americans who make this nation run. You love your country, you provide for your family, you have PRIDE in your work and you cherish our GREAT AMERICAN FLAG! #TaxCuts https://t.co/RwaLpCRPh5",
         "_deepnote_index_column": 48799
        },
        {
         "Labels": 0,
         "Tweets": "America’s greatest treasure is our people – and my Administration HEARS YOUR VOICE and HAS YOUR BACK. We are fighting to give every American a future of dignity, purpose and pride. AMERICAN SPIRIT is back! #TaxCuts https://t.co/oSGZe0irBf",
         "_deepnote_index_column": 48798
        },
        {
         "Labels": 0,
         "Tweets": "Would only join TPP if the deal were substantially better than the deal offered to Pres. Obama. We already have BILATERAL deals with six of the eleven nations in TPP, and are working to make a deal with the biggest of those  nations, Japan, who has hit us hard on trade for years!",
         "_deepnote_index_column": 48797
        },
        {
         "Labels": 0,
         "Tweets": "Tremendous pressure is building, like never before, for the Border Wall and an end to crime cradling Sanctuary Cities. Started the Wall in San Diego, where the people were pushing really hard to get it. They will soon be protected!",
         "_deepnote_index_column": 48796
        },
        {
         "Labels": 0,
         "Tweets": "James Comey is a proven LEAKER &amp, LIAR. Virtually everyone in Washington thought he should be fired for the terrible job he did-until he was, in fact, fired. He leaked CLASSIFIED information, for which he should be prosecuted. He lied to Congress under OATH. He is a weak and.....",
         "_deepnote_index_column": 48795
        },
        {
         "Labels": 0,
         "Tweets": "....untruthful slime ball who was, as time has proven, a terrible Director of the FBI. His handling of the Crooked Hillary Clinton case, and the events surrounding it, will go down as one of the worst “botch jobs” of history. It was my great honor to fire James Comey!",
         "_deepnote_index_column": 48794
        },
        {
         "Labels": 0,
         "Tweets": "We are bringing back our factories, we are bringing back our jobs, and we are bringing back those four beautiful words: MADE IN THE USA! https://t.co/grABSrYUBX",
         "_deepnote_index_column": 48793
        },
        {
         "Labels": 0,
         "Tweets": "DOJ just issued the McCabe report - which is a total disaster. He LIED! LIED! LIED! McCabe was totally controlled by Comey - McCabe is Comey!! No collusion, all made up by this den of thieves and lowlifes!",
         "_deepnote_index_column": 48792
        },
        {
         "Labels": 0,
         "Tweets": "Just had an Agricultural Roundtable with memembers of Congress and Governors.I will be making remarks on the large scale TAX CUTS given to American families and workers at 1:45 P.M. from the Rose Garden. Join me live: https://t.co/XAchZ3zUSe https://t.co/Dqe8QhpDAZ",
         "_deepnote_index_column": 48800
        }
       ]
      },
      "text/plain": "       Labels                                             Tweets\n0           1  Can you believe this fool, Dr. Thomas Frieden ...\n2           1  Big time in U.S. today - MAKE AMERICA GREAT AG...\n3           1  Politician @SenatorCardin didn't like that I s...\n4           1  For the nonbeliever, here is a photo of @Neily...\n5           1  .@Neilyoung’s song, “Rockin’ In The Free World...\n...       ...                                                ...\n56565       0  RT @heatherjones333: 'We Have Taken Appropriat...\n56566       0  RT @RandPaul: I don’t know why @JoeBiden think...\n56567       0  RT @EliseStefanik: President @realDonaldTrump ...\n56568       0  RT @TeamTrump: LIVE: Presidential Debate #Deba...\n56569       0  Just signed an order to support the workers of...\n\n[23030 rows x 2 columns]",
      "text/html": "<div>\n<style scoped>\n    .dataframe tbody tr th:only-of-type {\n        vertical-align: middle;\n    }\n\n    .dataframe tbody tr th {\n        vertical-align: top;\n    }\n\n    .dataframe thead th {\n        text-align: right;\n    }\n</style>\n<table border=\"1\" class=\"dataframe\">\n  <thead>\n    <tr style=\"text-align: right;\">\n      <th></th>\n      <th>Labels</th>\n      <th>Tweets</th>\n    </tr>\n  </thead>\n  <tbody>\n    <tr>\n      <th>0</th>\n      <td>1</td>\n      <td>Can you believe this fool, Dr. Thomas Frieden ...</td>\n    </tr>\n    <tr>\n      <th>2</th>\n      <td>1</td>\n      <td>Big time in U.S. today - MAKE AMERICA GREAT AG...</td>\n    </tr>\n    <tr>\n      <th>3</th>\n      <td>1</td>\n      <td>Politician @SenatorCardin didn't like that I s...</td>\n    </tr>\n    <tr>\n      <th>4</th>\n      <td>1</td>\n      <td>For the nonbeliever, here is a photo of @Neily...</td>\n    </tr>\n    <tr>\n      <th>5</th>\n      <td>1</td>\n      <td>.@Neilyoung’s song, “Rockin’ In The Free World...</td>\n    </tr>\n    <tr>\n      <th>...</th>\n      <td>...</td>\n      <td>...</td>\n    </tr>\n    <tr>\n      <th>56565</th>\n      <td>0</td>\n      <td>RT @heatherjones333: 'We Have Taken Appropriat...</td>\n    </tr>\n    <tr>\n      <th>56566</th>\n      <td>0</td>\n      <td>RT @RandPaul: I don’t know why @JoeBiden think...</td>\n    </tr>\n    <tr>\n      <th>56567</th>\n      <td>0</td>\n      <td>RT @EliseStefanik: President @realDonaldTrump ...</td>\n    </tr>\n    <tr>\n      <th>56568</th>\n      <td>0</td>\n      <td>RT @TeamTrump: LIVE: Presidential Debate #Deba...</td>\n    </tr>\n    <tr>\n      <th>56569</th>\n      <td>0</td>\n      <td>Just signed an order to support the workers of...</td>\n    </tr>\n  </tbody>\n</table>\n<p>23030 rows × 2 columns</p>\n</div>"
     },
     "metadata": {}
    }
   ],
   "execution_count": null
  },
  {
   "cell_type": "markdown",
   "source": "### Classifying based on our previously trained model:",
   "metadata": {
    "cell_id": "6ffca7e815f94cc89aec1e6b5d1b2a1e",
    "tags": [],
    "is_collapsed": false,
    "deepnote_cell_type": "text-cell-h3"
   }
  },
  {
   "cell_type": "code",
   "metadata": {
    "cell_id": "0dedf2174d1d4d9b98a4d7385b7829b5",
    "tags": [],
    "deepnote_to_be_reexecuted": false,
    "source_hash": "edf1f105",
    "execution_start": 1654183738141,
    "execution_millis": 8,
    "deepnote_cell_type": "code",
    "deepnote_cell_height": 135
   },
   "source": "def classify_sentence(text):\n    classifier = open_jar('/work/twitter-nlp/data/pickle/models/hatespeech_model_MultinomialNB2.sav')\n    cv = open_jar('/work/twitter-nlp/data/pickle/models/hate/vectorizer.pkl')\n    return classifier.predict_proba(cv.transform(text).toarray())",
   "outputs": [],
   "execution_count": null
  },
  {
   "cell_type": "code",
   "source": "def predict_list():\n    predict_list = []\n    for i in combined_df[\"Tweets\"]:\n        line_data = classify_sentence([str(i)])\n        predict_list.append(line_data.tolist())\n    return predict_list",
   "metadata": {
    "cell_id": "bf714995af90437aaf3c883bb99345e2",
    "tags": [],
    "deepnote_to_be_reexecuted": false,
    "source_hash": "b49562ca",
    "execution_start": 1654183740973,
    "execution_millis": 15,
    "deepnote_cell_type": "code",
    "deepnote_cell_height": 171,
    "deepnote_output_heights": [
     611
    ]
   },
   "outputs": [],
   "execution_count": null
  },
  {
   "cell_type": "code",
   "source": "# predicted_list = predict_list()",
   "metadata": {
    "cell_id": "cd4ce4018d304fa9aad21126aac25831",
    "tags": [],
    "deepnote_to_be_reexecuted": false,
    "source_hash": "dad16a",
    "execution_start": 1654183780356,
    "execution_millis": 754891,
    "deepnote_cell_type": "code",
    "deepnote_cell_height": 81
   },
   "outputs": [],
   "execution_count": null
  },
  {
   "cell_type": "code",
   "source": "pickling(predicted_list, \"/work/twitter-nlp/data/pickle/classification_pickles/TrumpInsults.pkl\")",
   "metadata": {
    "cell_id": "1a3a79aa60bb4800a5e310bc23a28323",
    "tags": [],
    "deepnote_to_be_reexecuted": false,
    "source_hash": "479e9d38",
    "execution_start": 1654184572305,
    "execution_millis": 96,
    "deepnote_cell_type": "code",
    "deepnote_cell_height": 81
   },
   "outputs": [],
   "execution_count": null
  },
  {
   "cell_type": "markdown",
   "source": "### Loading the results into the data frame:",
   "metadata": {
    "cell_id": "8ce27ba122f44bf79de81dd99902ae7a",
    "tags": [],
    "is_collapsed": false,
    "deepnote_cell_type": "text-cell-h3"
   }
  },
  {
   "cell_type": "code",
   "source": "insult_predict = open_jar(\"/work/twitter-nlp/data/pickle/classification_pickles/TrumpInsults.pkl\")\n\ndef label_predictions(data):\n    results = []\n    for i in data:\n        for j in i:\n            if j[1] > j[0]:\n                results.append(1)\n            else:\n                results.append(0)\n    return results\n\ncombined_df[\"HS_Label\"] = label_predictions(insult_predict)\ncombined_df",
   "metadata": {
    "cell_id": "5cca12527d78455e9c28cc69861a7316",
    "tags": [],
    "deepnote_to_be_reexecuted": false,
    "source_hash": "52c1f4e5",
    "execution_start": 1654184579964,
    "execution_millis": 1151,
    "deepnote_table_state": {
     "pageSize": 10,
     "pageIndex": 2302,
     "filters": [],
     "sortBy": []
    },
    "deepnote_table_loading": false,
    "deepnote_cell_type": "code",
    "deepnote_cell_height": 834,
    "deepnote_output_heights": [
     611
    ]
   },
   "outputs": [
    {
     "output_type": "execute_result",
     "execution_count": 54,
     "data": {
      "application/vnd.deepnote.dataframe.v3+json": {
       "column_count": 3,
       "row_count": 23030,
       "columns": [
        {
         "name": "Labels",
         "dtype": "int64",
         "stats": {
          "unique_count": 2,
          "nan_count": 0,
          "min": "0",
          "max": "1",
          "histogram": [
           {
            "bin_start": 0,
            "bin_end": 0.1,
            "count": 17357
           },
           {
            "bin_start": 0.1,
            "bin_end": 0.2,
            "count": 0
           },
           {
            "bin_start": 0.2,
            "bin_end": 0.30000000000000004,
            "count": 0
           },
           {
            "bin_start": 0.30000000000000004,
            "bin_end": 0.4,
            "count": 0
           },
           {
            "bin_start": 0.4,
            "bin_end": 0.5,
            "count": 0
           },
           {
            "bin_start": 0.5,
            "bin_end": 0.6000000000000001,
            "count": 0
           },
           {
            "bin_start": 0.6000000000000001,
            "bin_end": 0.7000000000000001,
            "count": 0
           },
           {
            "bin_start": 0.7000000000000001,
            "bin_end": 0.8,
            "count": 0
           },
           {
            "bin_start": 0.8,
            "bin_end": 0.9,
            "count": 0
           },
           {
            "bin_start": 0.9,
            "bin_end": 1,
            "count": 5673
           }
          ]
         }
        },
        {
         "name": "Tweets",
         "dtype": "object",
         "stats": {
          "unique_count": 20799,
          "nan_count": 0,
          "categories": [
           {
            "name": ".@JebBush is a sad case. A total embarrassment to both himself and his family, he just announced he will continue to spend on Trump hit ads!",
            "count": 2
           },
           {
            "name": "Hillary Clinton doesn't have the strength or stamina to be president. Jeb Bush is a low energy individual, but Hillary is not much better!",
            "count": 2
           },
           {
            "name": "20797 others",
            "count": 23026
           }
          ]
         }
        },
        {
         "name": "HS_Label",
         "dtype": "int64",
         "stats": {
          "unique_count": 2,
          "nan_count": 0,
          "min": "0",
          "max": "1",
          "histogram": [
           {
            "bin_start": 0,
            "bin_end": 0.1,
            "count": 17664
           },
           {
            "bin_start": 0.1,
            "bin_end": 0.2,
            "count": 0
           },
           {
            "bin_start": 0.2,
            "bin_end": 0.30000000000000004,
            "count": 0
           },
           {
            "bin_start": 0.30000000000000004,
            "bin_end": 0.4,
            "count": 0
           },
           {
            "bin_start": 0.4,
            "bin_end": 0.5,
            "count": 0
           },
           {
            "bin_start": 0.5,
            "bin_end": 0.6000000000000001,
            "count": 0
           },
           {
            "bin_start": 0.6000000000000001,
            "bin_end": 0.7000000000000001,
            "count": 0
           },
           {
            "bin_start": 0.7000000000000001,
            "bin_end": 0.8,
            "count": 0
           },
           {
            "bin_start": 0.8,
            "bin_end": 0.9,
            "count": 0
           },
           {
            "bin_start": 0.9,
            "bin_end": 1,
            "count": 5366
           }
          ]
         }
        },
        {
         "name": "_deepnote_index_column",
         "dtype": "int64"
        }
       ],
       "rows": [
        {
         "Labels": 0,
         "Tweets": "One of my greatest honors was to have gotten CHOICE approved for our great Veterans. Others have tried for decades, and failed! https://t.co/NcVbbnrT5O",
         "HS_Label": 0,
         "_deepnote_index_column": 56560
        },
        {
         "Labels": 0,
         "Tweets": "RT @heatherjones333: MAGNIFICENT TRUMP- KEEPING HIS PROMISES  🇺🇸 🇺🇸 🇺🇸BREAKING: President Trump Announces He Will Sign Phase One in China...",
         "HS_Label": 0,
         "_deepnote_index_column": 56561
        },
        {
         "Labels": 0,
         "Tweets": "RT @heatherjones333: 🔥🔥🔥🔥🔥Lindsey Graham: Trump Has World on Notice, ‘There Will Be No Benghazis on His Watch’ https://t.co/4yfHKlZlV9",
         "HS_Label": 0,
         "_deepnote_index_column": 56562
        },
        {
         "Labels": 0,
         "Tweets": "RT @heatherjones333: Congratulations Sleepy Joe! You just won Stupid Person of 2019 Award! 🏆Joe Biden: ‘We’re All Dead’ if We Don’t Stop...",
         "HS_Label": 0,
         "_deepnote_index_column": 56563
        },
        {
         "Labels": 0,
         "Tweets": "RT @heatherjones333: DEAR STUPID PEOPLE- PEACE IS A GOOD THINGPutin Calls Trump To Thank Him For Helping Russia Thwart Terrorist Attack h...",
         "HS_Label": 0,
         "_deepnote_index_column": 56564
        },
        {
         "Labels": 0,
         "Tweets": "RT @heatherjones333: 'We Have Taken Appropriate Force Protection Actions to Ensure Safety of Americans' - AH-64 Apaches Protect US Embassy...",
         "HS_Label": 0,
         "_deepnote_index_column": 56565
        },
        {
         "Labels": 0,
         "Tweets": "RT @RandPaul: I don’t know why @JoeBiden thinks he can continue to lie about this. \n\nHe wants to ban fracking and end all fossil fuels like…",
         "HS_Label": 0,
         "_deepnote_index_column": 56566
        },
        {
         "Labels": 0,
         "Tweets": "RT @EliseStefanik: President @realDonaldTrump excels at communicating directly to the American people. \n\nJoe Biden communicates to the DC B…",
         "HS_Label": 0,
         "_deepnote_index_column": 56567
        },
        {
         "Labels": 0,
         "Tweets": "RT @TeamTrump: LIVE: Presidential Debate #Debates2020\n\nText VOTE to 88022 https://t.co/UeQOquVxR2",
         "HS_Label": 0,
         "_deepnote_index_column": 56568
        },
        {
         "Labels": 0,
         "Tweets": "Just signed an order to support the workers of Delphi Corporation and make sure that we protect the pensions of all American workers! Obama-Biden FAILED American workers and FAILED the workers of Delphi. I ALWAYS put American workers FIRST!",
         "HS_Label": 0,
         "_deepnote_index_column": 56569
        }
       ]
      },
      "text/plain": "       Labels                                             Tweets  HS_Label\n0           1  Can you believe this fool, Dr. Thomas Frieden ...         0\n2           1  Big time in U.S. today - MAKE AMERICA GREAT AG...         1\n3           1  Politician @SenatorCardin didn't like that I s...         0\n4           1  For the nonbeliever, here is a photo of @Neily...         0\n5           1  .@Neilyoung’s song, “Rockin’ In The Free World...         0\n...       ...                                                ...       ...\n56565       0  RT @heatherjones333: 'We Have Taken Appropriat...         0\n56566       0  RT @RandPaul: I don’t know why @JoeBiden think...         0\n56567       0  RT @EliseStefanik: President @realDonaldTrump ...         0\n56568       0  RT @TeamTrump: LIVE: Presidential Debate #Deba...         0\n56569       0  Just signed an order to support the workers of...         0\n\n[23030 rows x 3 columns]",
      "text/html": "<div>\n<style scoped>\n    .dataframe tbody tr th:only-of-type {\n        vertical-align: middle;\n    }\n\n    .dataframe tbody tr th {\n        vertical-align: top;\n    }\n\n    .dataframe thead th {\n        text-align: right;\n    }\n</style>\n<table border=\"1\" class=\"dataframe\">\n  <thead>\n    <tr style=\"text-align: right;\">\n      <th></th>\n      <th>Labels</th>\n      <th>Tweets</th>\n      <th>HS_Label</th>\n    </tr>\n  </thead>\n  <tbody>\n    <tr>\n      <th>0</th>\n      <td>1</td>\n      <td>Can you believe this fool, Dr. Thomas Frieden ...</td>\n      <td>0</td>\n    </tr>\n    <tr>\n      <th>2</th>\n      <td>1</td>\n      <td>Big time in U.S. today - MAKE AMERICA GREAT AG...</td>\n      <td>1</td>\n    </tr>\n    <tr>\n      <th>3</th>\n      <td>1</td>\n      <td>Politician @SenatorCardin didn't like that I s...</td>\n      <td>0</td>\n    </tr>\n    <tr>\n      <th>4</th>\n      <td>1</td>\n      <td>For the nonbeliever, here is a photo of @Neily...</td>\n      <td>0</td>\n    </tr>\n    <tr>\n      <th>5</th>\n      <td>1</td>\n      <td>.@Neilyoung’s song, “Rockin’ In The Free World...</td>\n      <td>0</td>\n    </tr>\n    <tr>\n      <th>...</th>\n      <td>...</td>\n      <td>...</td>\n      <td>...</td>\n    </tr>\n    <tr>\n      <th>56565</th>\n      <td>0</td>\n      <td>RT @heatherjones333: 'We Have Taken Appropriat...</td>\n      <td>0</td>\n    </tr>\n    <tr>\n      <th>56566</th>\n      <td>0</td>\n      <td>RT @RandPaul: I don’t know why @JoeBiden think...</td>\n      <td>0</td>\n    </tr>\n    <tr>\n      <th>56567</th>\n      <td>0</td>\n      <td>RT @EliseStefanik: President @realDonaldTrump ...</td>\n      <td>0</td>\n    </tr>\n    <tr>\n      <th>56568</th>\n      <td>0</td>\n      <td>RT @TeamTrump: LIVE: Presidential Debate #Deba...</td>\n      <td>0</td>\n    </tr>\n    <tr>\n      <th>56569</th>\n      <td>0</td>\n      <td>Just signed an order to support the workers of...</td>\n      <td>0</td>\n    </tr>\n  </tbody>\n</table>\n<p>23030 rows × 3 columns</p>\n</div>"
     },
     "metadata": {}
    }
   ],
   "execution_count": null
  },
  {
   "cell_type": "code",
   "source": "import matplotlib.pyplot as plt\n#define data\ndata = [len(combined_df[combined_df[\"Labels\"] == 0])/len(combined_df),len(combined_df[combined_df[\"Labels\"] == 1])/len(combined_df)]\ndata2 = [len(combined_df[combined_df[\"HS_Label\"] == 0])/len(combined_df), len(combined_df[combined_df[\"HS_Label\"] == 1])/len(combined_df)]\nlabels = ['Insult', 'Not Insult']\nlabels2 = ['Hatespeech', \"Not Hatespeech\"]\n\nfig, ax = plt.subplots(1,2, figsize=(16,7))\nax[0].pie(data, labels=labels, autopct='%1.1f%%', shadow=True)\nax[1].pie(data2, labels=labels2, autopct='%1.1f%%', shadow=True)\nplt.tight_layout()\nfig.suptitle(\"Insult label ratio to hatespeech label ratio comparison:\"); ",
   "metadata": {
    "cell_id": "0f70a932618d4ab1998dc5e6188b9987",
    "tags": [],
    "deepnote_to_be_reexecuted": false,
    "source_hash": "4a4ca064",
    "execution_start": 1654184587214,
    "execution_millis": 1194,
    "owner_user_id": "45a6018d-478f-44a5-9821-6cf675d1fe14",
    "deepnote_cell_type": "code",
    "deepnote_cell_height": 705.515625,
    "deepnote_output_heights": [
     410.53125,
     399.25
    ]
   },
   "outputs": [
    {
     "data": {
      "text/plain": "<Figure size 1152x504 with 2 Axes>",
      "image/png": "[encoded data removed]"
     },
     "metadata": {
      "image/png": {
       "width": 1054,
       "height": 497
      }
     },
     "output_type": "display_data"
    }
   ],
   "execution_count": null
  },
  {
   "cell_type": "code",
   "source": "def agreement_func():\n    results = []\n    for i in range(0, len(combined_df)):\n        if combined_df[\"Labels\"][i] == combined_df[\"HS_Label\"][i]:\n            results.append(True)\n        else:\n            results.append(False)\n    return results\n\ncombined_df[\"Agreement\"] = agreement_func()\ncombined_df",
   "metadata": {
    "cell_id": "b0cc233120214cdeae0ab7a751c85335",
    "tags": [],
    "deepnote_to_be_reexecuted": true,
    "source_hash": "b623e53d",
    "deepnote_cell_type": "code",
    "deepnote_cell_height": 246
   },
   "outputs": [],
   "execution_count": null
  },
  {
   "cell_type": "markdown",
   "source": "<a style='text-decoration:none;line-height:16px;display:flex;color:#5B5B62;padding:10px;justify-content:end;' href='https://deepnote.com?utm_source=created-in-deepnote-cell&projectId=bf1f20fb-a6c0-4ea2-8567-a5a41eea1d8a' target=\"_blank\">\n<img alt='Created in deepnote.com' style='display:inline;max-height:16px;margin:0px;margin-right:7.5px;' src='data:image/svg+xml;base64,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' > </img>\nCreated in <span style='font-weight:600;margin-left:4px;'>Deepnote</span></a>",
   "metadata": {
    "tags": [],
    "created_in_deepnote_cell": true,
    "deepnote_cell_type": "markdown"
   }
  }
 ],
 "nbformat": 4,
 "nbformat_minor": 2,
 "metadata": {
  "orig_nbformat": 2,
  "deepnote": {},
  "deepnote_notebook_id": "a3f029ac-60d1-4c99-8be1-d879d8dfa37b",
  "deepnote_execution_queue": []
 }
}