{
 "cells": [
  {
   "cell_type": "markdown",
   "source": "# NLP - First Year Project 3",
   "metadata": {
    "cell_id": "99285225d8e34542a525c8bb61325816",
    "tags": [],
    "is_collapsed": false,
    "deepnote_cell_type": "text-cell-h1"
   }
  },
  {
   "cell_type": "markdown",
   "source": "### Group E2 Authors: <br>\n- *Franciszek Michal Liszka     frli@itu.dk* <br>\n- *Gusts Gustavs Grinbergs      gugr@itu.dk* <br>\n- *Jannik Elsäßer               jels@itu.dk* <br>\n- *Juraj Septak                 juse@itu.dk* <br>\n- *Mirka Katuscakova            katu@itu.dk* <br>",
   "metadata": {
    "cell_id": "779697cd5d814609972df8aca538b70d",
    "tags": [],
    "deepnote_cell_type": "markdown",
    "deepnote_cell_height": 216
   }
  },
  {
   "cell_type": "markdown",
   "source": "The notebook is organized by the objectives of each task (the bullet/check points). <br>\n\nYou may notice that libraries are being imported multiple times, this is because the final notebook is a merged version of all task notebooks (to avoid version changes, the merging is automated, see `/work/twitter-nlp/notebooks/combine-notebooks.ipynb` for more info). We hope this will however also provide clarity as to which libraries are being imported for which code (instead of having a large import block at the beginning). <br> \n\nPlease also look at the `boilerplate.py` file. We created this file to save all the functions which we would use often throughout the project. This file is needed to run code throughout the notebook. If there are issues with python not being able to find the boilerplate.py file, please change: ` \nsys.path.insert(0, '/work/twitter-nlp')` to the correct path of the twitter-nlp unzipped repository. <br>",
   "metadata": {
    "cell_id": "93c9809133cf4445bf17a853e7bc6cbf",
    "tags": [],
    "deepnote_cell_type": "markdown",
    "deepnote_cell_height": 259.59375
   }
  },
  {
   "cell_type": "markdown",
   "source": "## Task 1: Preprocessing",
   "metadata": {
    "cell_id": "85ed366a8b68429fa79a7dbe3b63ad0d",
    "tags": [],
    "deepnote_app_coordinates": {
     "x": 0,
     "y": null,
     "w": 12,
     "h": 5
    },
    "deepnote_cell_type": "markdown",
    "deepnote_cell_height": 70
   }
  },
  {
   "cell_type": "markdown",
   "source": "Output requirement: one output line per input line, with spaces between tokens.",
   "metadata": {
    "cell_id": "782e4e07dc5e479d89b2e69ae477329b",
    "tags": [],
    "deepnote_app_coordinates": {
     "x": 0,
     "y": 6,
     "w": 12,
     "h": 5
    },
    "deepnote_cell_type": "markdown",
    "deepnote_cell_height": 52.390625
   }
  },
  {
   "cell_type": "markdown",
   "source": "- [x] Use the training set of one of the tasks you’ve chosen to work on. Set aside a part of the training set for evaluating the tokeniser so you don’t have to touch the validation data for that.",
   "metadata": {
    "cell_id": "489324d611c24131b765fba3a20a3451",
    "tags": [],
    "deepnote_app_coordinates": {
     "x": 0,
     "y": 12,
     "w": 12,
     "h": 5
    },
    "deepnote_cell_type": "markdown",
    "deepnote_cell_height": 91.796875
   }
  },
  {
   "cell_type": "markdown",
   "source": "Link to the dataset: https://github.com/cardiffnlp/tweeteval",
   "metadata": {
    "cell_id": "bbc9bb6c668045e4a9503a97ec8c9a71",
    "tags": [],
    "deepnote_app_coordinates": {
     "x": 0,
     "y": 18,
     "w": 12,
     "h": 5
    },
    "deepnote_cell_type": "markdown",
    "deepnote_cell_height": 52.390625
   }
  },
  {
   "cell_type": "code",
   "metadata": {
    "cell_id": "c10b06a03ea6456f9a3dbc28fffcdf98",
    "tags": [],
    "deepnote_to_be_reexecuted": false,
    "source_hash": "36501c89",
    "execution_start": 1654153582555,
    "execution_millis": 44,
    "deepnote_app_coordinates": {
     "x": 0,
     "y": 24,
     "w": 12,
     "h": 5
    },
    "owner_user_id": "9623fb47-3762-4ef5-9146-5aaf0f397ef0",
    "deepnote_cell_type": "code",
    "deepnote_cell_height": 261
   },
   "source": "# loading the data to test\nimport csv \nfrom collections import Counter\n\nwith open('/work/twitter-nlp/data/tweeteval/datasets/hate/train_text.txt', mode ='r') as hate_file: \n    hate_data = hate_file.readlines() \n    hate_data = [i.strip(\"\\n\") for i in hate_data]\n\nwith open('/work/twitter-nlp/data/tweeteval/datasets/emoji/train_text.txt', mode='r') as emoji_file:\n    emoji_data = emoji_file.readlines()\n    emoji_data = [i.strip(\"\\n\") for i in emoji_data]",
   "outputs": [],
   "execution_count": null
  },
  {
   "cell_type": "markdown",
   "source": "- [x] Start by taking a subset of the training data, look through it and discuss in your group what a good tokenisation of this subset should look like. Then design your initial Python implementation to match this ideal tokenisation, and run it over the portion of the training set that you didn’t hold out for tokeniser evaluation. Keep an eye on infrequently occurring tokens in the output that look like tokenisation errors.",
   "metadata": {
    "cell_id": "9ac02a469c4844779a366e1c26091ce3",
    "tags": [],
    "deepnote_app_coordinates": {
     "x": 0,
     "y": 30,
     "w": 12,
     "h": 5
    },
    "deepnote_cell_type": "markdown",
    "deepnote_cell_height": 136.59375
   }
  },
  {
   "cell_type": "markdown",
   "source": "##### Tokenisation Features we want to look out for:\n- \"..\"\n    - two or more dots (ignore spaces), mean ending of sentence or verbal pause\n- \"#topic\"\n    - one token block\n    - if at end of sentence, create new sentence with topic list (not part of the \"speech\")\n- \"@username\"\n    - one token block, shows directed speech\n- \"https:\"/\"http:\"\n    - link, ignore\n- email address\n    - remove\n\n",
   "metadata": {
    "cell_id": "a90805f1b2fd4e128ae6d389067a9d98",
    "tags": [],
    "deepnote_app_coordinates": {
     "x": 0,
     "y": 36,
     "w": 12,
     "h": 5
    },
    "deepnote_cell_type": "markdown",
    "deepnote_cell_height": 400.390625
   }
  },
  {
   "cell_type": "code",
   "metadata": {
    "cell_id": "194a9b1dac1147dc887cbbbb205c8cc7",
    "tags": [],
    "deepnote_to_be_reexecuted": false,
    "source_hash": "1b6d7811",
    "execution_start": 1654153582602,
    "execution_millis": 2,
    "deepnote_app_coordinates": {
     "x": 0,
     "y": 42,
     "w": 12,
     "h": 5
    },
    "deepnote_cell_type": "code",
    "deepnote_cell_height": 225
   },
   "source": "# doing some regex testing\nimport re\n\n# splitting the sentence up\nstring = \"test one two three four. well this is great. hahaha\"\nmatch = re.split(r'\\s+(?<!\\w\\.\\w.)(?<![A-Z][a-z]\\.)(?<=\\.|\\?)', string)\n\n#Skipping: e-mail addresses, links, spaces\nskippable_pat = re.compile(r'\\s+|https.*|www.*|http.*|[a-zA-Z0-9_.+-]+@[a-zA-Z0-9-]+\\.[a-zA-Z0-9-.]+')  ",
   "outputs": [],
   "execution_count": null
  },
  {
   "cell_type": "code",
   "metadata": {
    "cell_id": "21f49d9e0ff24a82be692f6fde4749c6",
    "tags": [],
    "deepnote_to_be_reexecuted": false,
    "source_hash": "81c39014",
    "execution_start": 1654153582610,
    "execution_millis": 1,
    "deepnote_app_coordinates": {
     "x": 0,
     "y": 48,
     "w": 12,
     "h": 5
    },
    "deepnote_cell_type": "code",
    "deepnote_cell_height": 369
   },
   "source": "def regex_tokenizer(line):\n    filter_list = ['️','', '.', ',', '', '?', '!', '\"', '~', \"-\"]\n    token_list = []\n    final_list = []\n    word = str()\n\n    split_line = re.split(r'\\s+|https.*|www.*|http.*|[a-zA-Z0-9_.+-]+@[a-zA-Z0-9-]+\\.[a-zA-Z0-9-.]+', line)\n    for i in split_line:\n        for t in i :\n            if t not in filter_list:\n                word += t\n        if len(word) > 0:\n            final_list.append(word)\n        else:\n            pass\n        word=\"\"\n    return final_list",
   "outputs": [],
   "execution_count": null
  },
  {
   "cell_type": "code",
   "metadata": {
    "cell_id": "3ca55eaa7bd34d4595d3877f37acacf6",
    "tags": [],
    "deepnote_to_be_reexecuted": false,
    "source_hash": "8cef13d8",
    "execution_start": 1654153582658,
    "execution_millis": 1363,
    "owner_user_id": "d412078e-b60c-4eb9-a4b6-2f0edcac48d2",
    "deepnote_app_coordinates": {
     "x": 0,
     "y": 54,
     "w": 12,
     "h": 5
    },
    "deepnote_cell_type": "code",
    "deepnote_cell_height": 730.796875
   },
   "source": "#testing on hate data and comparing the different tokenizers \nfrom nltk.tokenize import TweetTokenizer\ntweet_tokenizer = TweetTokenizer()\n\nfor x, i in enumerate(hate_data):\n    print(i)\n    print(regex_tokenizer(i))\n    print(tweet_tokenizer.tokenize(i))\n    print(\"\\n\")\n\n    if x == 3:\n        break\n\n#regex_tokenizer[0",
   "outputs": [
    {
     "name": "stdout",
     "text": "@user nice new signage. Are you not concerned by Beatlemania -style hysterical crowds crongregating on you… \n['@user', 'nice', 'new', 'signage', 'Are', 'you', 'not', 'concerned', 'by', 'Beatlemania', 'style', 'hysterical', 'crowds', 'crongregating', 'on', 'you…']\n['@user', 'nice', 'new', 'signage', '.', 'Are', 'you', 'not', 'concerned', 'by', 'Beatlemania', '-', 'style', 'hysterical', 'crowds', 'crongregating', 'on', 'you', '…']\n\n\nA woman who you fucked multiple times saying yo dick small is a compliment you know u hit that spot 😎 \n['A', 'woman', 'who', 'you', 'fucked', 'multiple', 'times', 'saying', 'yo', 'dick', 'small', 'is', 'a', 'compliment', 'you', 'know', 'u', 'hit', 'that', 'spot', '😎']\n['A', 'woman', 'who', 'you', 'fucked', 'multiple', 'times', 'saying', 'yo', 'dick', 'small', 'is', 'a', 'compliment', 'you', 'know', 'u', 'hit', 'that', 'spot', '😎']\n\n\n@user @user real talk do you have eyes or were they gouged out by a rapefugee? \n['@user', '@user', 'real', 'talk', 'do', 'you', 'have', 'eyes', 'or', 'were', 'they', 'gouged', 'out', 'by', 'a', 'rapefugee']\n['@user', '@user', 'real', 'talk', 'do', 'you', 'have', 'eyes', 'or', 'were', 'they', 'gouged', 'out', 'by', 'a', 'rapefugee', '?']\n\n\nyour girlfriend lookin at me like a groupie in this bitch! \n['your', 'girlfriend', 'lookin', 'at', 'me', 'like', 'a', 'groupie', 'in', 'this', 'bitch']\n['your', 'girlfriend', 'lookin', 'at', 'me', 'like', 'a', 'groupie', 'in', 'this', 'bitch', '!']\n\n\n",
     "output_type": "stream"
    }
   ],
   "execution_count": null
  },
  {
   "cell_type": "code",
   "metadata": {
    "cell_id": "a966d77b5e8a42688c7d0c13db345b2b",
    "tags": [],
    "deepnote_to_be_reexecuted": false,
    "source_hash": "e5eafb71",
    "execution_start": 1654153584025,
    "execution_millis": 7,
    "deepnote_app_coordinates": {
     "x": 0,
     "y": 60,
     "w": 12,
     "h": 5
    },
    "deepnote_cell_type": "code",
    "deepnote_cell_height": 640.796875
   },
   "source": "# and again for emoji_data\nfor x, i in enumerate(emoji_data):\n    print(i)\n    print(regex_tokenizer(i))\n    print(tweet_tokenizer.tokenize(i))\n    print(\"\\n\")\n\n    if x == 3:\n        break",
   "outputs": [
    {
     "name": "stdout",
     "text": "Sunday afternoon walking through Venice in the sun with @user ️ ️ ️ @ Abbot Kinney, Venice \n['Sunday', 'afternoon', 'walking', 'through', 'Venice', 'in', 'the', 'sun', 'with', '@user', '@', 'Abbot', 'Kinney', 'Venice']\n['Sunday', 'afternoon', 'walking', 'through', 'Venice', 'in', 'the', 'sun', 'with', '@user', '️', '️', '️', '@', 'Abbot', 'Kinney', ',', 'Venice']\n\n\nTime for some BBQ and whiskey libations. Chomp, belch, chomp! (@ Lucille's Smokehouse Bar-B-Que) \n['Time', 'for', 'some', 'BBQ', 'and', 'whiskey', 'libations', 'Chomp', 'belch', 'chomp', '(@', \"Lucille's\", 'Smokehouse', 'BarBQue)']\n['Time', 'for', 'some', 'BBQ', 'and', 'whiskey', 'libations', '.', 'Chomp', ',', 'belch', ',', 'chomp', '!', '(', '@', \"Lucille's\", 'Smokehouse', 'Bar-B-Que', ')']\n\n\nLove love love all these people ️ ️ ️ #friends #bff #celebrate #blessed #sundayfunday @ San… \n['Love', 'love', 'love', 'all', 'these', 'people', '#friends', '#bff', '#celebrate', '#blessed', '#sundayfunday', '@', 'San…']\n['Love', 'love', 'love', 'all', 'these', 'people', '️', '️', '️', '#friends', '#bff', '#celebrate', '#blessed', '#sundayfunday', '@', 'San', '…']\n\n\n️ ️ ️ ️ @ Toys\"R\"Us \n['@', 'ToysRUs']\n['️', '️', '️', '️', '@', 'Toys', '\"', 'R', '\"', 'Us']\n\n\n",
     "output_type": "stream"
    }
   ],
   "execution_count": null
  },
  {
   "cell_type": "code",
   "metadata": {
    "cell_id": "c1bc7120dd75442b9b3b657b31c704b0",
    "tags": [],
    "deepnote_to_be_reexecuted": false,
    "source_hash": "6ccb1103",
    "execution_start": 1654153584034,
    "execution_millis": 4,
    "deepnote_app_coordinates": {
     "x": 0,
     "y": 66,
     "w": 12,
     "h": 5
    },
    "deepnote_cell_type": "code",
    "deepnote_cell_height": 135
   },
   "source": "# tokenizing nltk.TweetTokenizer based on our previuosly defined filter\n\nfilter_list = ['️','', '.', ',', '', '?', '!', '\"', '~', \"-\"]\nlst = [x for x in tweet_tokenizer.tokenize(hate_data[14]) if x not in filter_list]",
   "outputs": [],
   "execution_count": null
  },
  {
   "cell_type": "code",
   "metadata": {
    "cell_id": "2628c550a6b140ce9c156b926eacbe53",
    "tags": [],
    "deepnote_to_be_reexecuted": false,
    "source_hash": "d9b01163",
    "execution_start": 1654153584049,
    "execution_millis": 43,
    "deepnote_app_coordinates": {
     "x": 0,
     "y": 72,
     "w": 12,
     "h": 5
    },
    "deepnote_cell_type": "code",
    "deepnote_cell_height": 367.78125,
    "deepnote_output_heights": [
     270.796875
    ]
   },
   "source": "lst",
   "outputs": [
    {
     "output_type": "execute_result",
     "execution_count": 7,
     "data": {
      "text/plain": "['Essential',\n 'reading',\n 'for',\n 'those',\n 'in',\n 'Scribner',\n 'Nebraska',\n 'who',\n 'are',\n 'considering',\n 'an',\n 'anti-immigrant',\n 'ballot',\n 'measure']"
     },
     "metadata": {}
    }
   ],
   "execution_count": null
  },
  {
   "cell_type": "markdown",
   "source": "- [x] Once you’re done, compare your tokeniser’s output with the baseline tokenisationyou get from the social media tokeniser in the NLTK library (nltk.tokenize.TweetTokenizer), using the data you’ve set aside for this purpose.",
   "metadata": {
    "cell_id": "93ae8c8902b54fffb6919647a253ed1e",
    "tags": [],
    "deepnote_app_coordinates": {
     "x": 0,
     "y": 78,
     "w": 12,
     "h": 5
    },
    "deepnote_cell_type": "markdown",
    "deepnote_cell_height": 91.796875
   }
  },
  {
   "cell_type": "markdown",
   "source": "Since we would be rewriting the loading, and tokenizing code a lot we decided to add this to a file `boilerplate.py` and create the function `boilerplate.load_and_tokenize(file_directory, tokenizer)`.  ",
   "metadata": {
    "cell_id": "4fda925dfaeb4806be00dd5f7e0e7415",
    "tags": [],
    "deepnote_app_coordinates": {
     "x": 0,
     "y": 84,
     "w": 12,
     "h": 5
    },
    "deepnote_cell_type": "markdown",
    "deepnote_cell_height": 74.796875
   }
  },
  {
   "cell_type": "code",
   "metadata": {
    "cell_id": "1587fe04b61b45af95d5e9439f11bfe2",
    "tags": [],
    "deepnote_to_be_reexecuted": false,
    "source_hash": "26be430",
    "execution_start": 1654153584091,
    "execution_millis": 883,
    "deepnote_cell_type": "code",
    "deepnote_cell_height": 117
   },
   "source": "import sys\nsys.path.insert(0, '/work/twitter-nlp')\nfrom boilerplate import load_and_tokenize",
   "outputs": [],
   "execution_count": null
  },
  {
   "cell_type": "code",
   "metadata": {
    "cell_id": "8743094e15ed4fe9b16ab0482e98ff10",
    "tags": [],
    "deepnote_to_be_reexecuted": false,
    "source_hash": "3ce3303b",
    "execution_start": 1654153584981,
    "execution_millis": 3643,
    "deepnote_app_coordinates": {
     "x": 0,
     "y": 90,
     "w": 12,
     "h": 5
    },
    "deepnote_cell_type": "code",
    "deepnote_cell_height": 342,
    "deepnote_output_heights": [
     null,
     40.390625
    ]
   },
   "source": "file = \"/work/twitter-nlp/data/tweeteval/datasets/hate/train_text.txt\"\ntokenizers = [\"Regex\", \"NLTKTweetModified\", \"NLTKTweet\", \"NLTKTreeBank\"]\n\nfor i in tokenizers:\n    print(i, \":\")\n    print(load_and_tokenize(file, i)[5])",
   "outputs": [
    {
     "name": "stdout",
     "text": "Regex :\n['Me', 'flirting', 'So', 'tell', 'me', 'about', 'your', 'father']\nNLTKTweetModified :\n['Me', 'flirting', 'So', 'tell', 'me', 'about', 'your', 'father', '...']\nNLTKTweet :\n['Me', 'flirting', '-', 'So', 'tell', 'me', 'about', 'your', 'father', '...']\nNLTKTreeBank :\n['Me', 'flirting-', 'So', 'tell', 'me', 'about', 'your', 'father', '...']\n",
     "output_type": "stream"
    }
   ],
   "execution_count": null
  },
  {
   "cell_type": "code",
   "metadata": {
    "cell_id": "3cb3aa1a5ecd4544a2d356e6f00b7e2d",
    "tags": [],
    "deepnote_to_be_reexecuted": false,
    "source_hash": "8828ad49",
    "execution_start": 1654153588363,
    "execution_millis": 3317,
    "deepnote_app_coordinates": {
     "x": 0,
     "y": 96,
     "w": 12,
     "h": 5
    },
    "deepnote_cell_type": "code",
    "deepnote_cell_height": 298
   },
   "source": "# comparing each tokenizer based on token lengths:\nfor i in tokenizers:\n    counter=0\n    data = load_and_tokenize(file, i)\n    for g in data:\n        no = len(g)\n        counter+=no\n    print(i, counter)",
   "outputs": [
    {
     "name": "stdout",
     "text": "Regex 185976\nNLTKTweetModified 197307\nNLTKTweet 213182\nNLTKTreeBank 218934\n",
     "output_type": "stream"
    }
   ],
   "execution_count": null
  },
  {
   "cell_type": "markdown",
   "source": "Timing each implementation to see which is best:",
   "metadata": {
    "cell_id": "7f959c0945af4748900dda531099dbf0",
    "tags": [],
    "deepnote_app_coordinates": {
     "x": 0,
     "y": 102,
     "w": 12,
     "h": 5
    },
    "deepnote_cell_type": "markdown",
    "deepnote_cell_height": 52.390625
   }
  },
  {
   "cell_type": "code",
   "metadata": {
    "cell_id": "1d700076e35346ca98aa4781d10d64e0",
    "tags": [],
    "deepnote_to_be_reexecuted": false,
    "source_hash": "ca66293d",
    "execution_start": 1654153591679,
    "execution_millis": 3449,
    "deepnote_app_coordinates": {
     "x": 0,
     "y": 108,
     "w": 12,
     "h": 5
    },
    "deepnote_cell_type": "code",
    "deepnote_cell_height": 130
   },
   "source": "%%timeit\nload_and_tokenize(file, \"Regex\")",
   "outputs": [
    {
     "name": "stdout",
     "text": "431 ms ± 11.6 ms per loop (mean ± std. dev. of 7 runs, 1 loop each)\n",
     "output_type": "stream"
    }
   ],
   "execution_count": null
  },
  {
   "cell_type": "code",
   "metadata": {
    "cell_id": "2c421272b89f41ac96c5a11943ad6207",
    "tags": [],
    "deepnote_to_be_reexecuted": false,
    "source_hash": "7605c441",
    "execution_start": 1654153595129,
    "execution_millis": 8787,
    "deepnote_app_coordinates": {
     "x": 0,
     "y": 114,
     "w": 12,
     "h": 5
    },
    "deepnote_cell_type": "code",
    "deepnote_cell_height": 130
   },
   "source": "%%timeit\nload_and_tokenize(file, \"NLTKTweetModified\")",
   "outputs": [
    {
     "name": "stdout",
     "text": "1.06 s ± 126 ms per loop (mean ± std. dev. of 7 runs, 1 loop each)\n",
     "output_type": "stream"
    }
   ],
   "execution_count": null
  },
  {
   "cell_type": "code",
   "metadata": {
    "cell_id": "140ea0f6974b45e48ea71c3cbf298812",
    "tags": [],
    "deepnote_to_be_reexecuted": false,
    "source_hash": "d4153199",
    "execution_start": 1654153603921,
    "execution_millis": 7756,
    "deepnote_app_coordinates": {
     "x": 0,
     "y": 120,
     "w": 12,
     "h": 5
    },
    "deepnote_cell_type": "code",
    "deepnote_cell_height": 130
   },
   "source": "%%timeit\nload_and_tokenize(file, \"NLTKTweet\")",
   "outputs": [
    {
     "name": "stdout",
     "text": "966 ms ± 21.5 ms per loop (mean ± std. dev. of 7 runs, 1 loop each)\n",
     "output_type": "stream"
    }
   ],
   "execution_count": null
  },
  {
   "cell_type": "code",
   "metadata": {
    "cell_id": "409714245ede43bfb20aea964db09c97",
    "tags": [],
    "deepnote_to_be_reexecuted": false,
    "source_hash": "1f6b8721",
    "execution_start": 1654153611675,
    "execution_millis": 7511,
    "deepnote_app_coordinates": {
     "x": 0,
     "y": 126,
     "w": 12,
     "h": 5
    },
    "deepnote_cell_type": "code",
    "deepnote_cell_height": 130
   },
   "source": "%%timeit\nload_and_tokenize(file, \"NLTKTreeBank\")",
   "outputs": [
    {
     "name": "stdout",
     "text": "878 ms ± 12.7 ms per loop (mean ± std. dev. of 7 runs, 1 loop each)\n",
     "output_type": "stream"
    }
   ],
   "execution_count": null
  },
  {
   "cell_type": "markdown",
   "source": "- [x] Consider using the difflib package in Python, or the diff utility in the Unix shell, to compare the output of the two tokenisers efficiently.",
   "metadata": {
    "cell_id": "93ab34ddf43c43f785ffc4b880ce91b3",
    "tags": [],
    "deepnote_app_coordinates": {
     "x": 0,
     "y": 132,
     "w": 12,
     "h": 5
    },
    "deepnote_cell_type": "markdown",
    "deepnote_cell_height": 91.796875
   }
  },
  {
   "cell_type": "markdown",
   "source": "Looking at the most common tokens in `train_text.txt`using bash scripts:",
   "metadata": {
    "cell_id": "809f10a7a84141e68f6b811710d2096a",
    "tags": [],
    "deepnote_app_coordinates": {
     "x": 0,
     "y": 138,
     "w": 12,
     "h": 5
    },
    "deepnote_cell_type": "markdown",
    "deepnote_cell_height": 52.390625
   }
  },
  {
   "cell_type": "markdown",
   "source": "```\n(venv) root@deepnote:~/work/data # tr ' ' '\\n'  <~/work/data/train_text.txt | sort | uniq -c | sort -r | head\n      9 you'd\n      9 Yes,\n      9 y\n      9 WOMAN\n      9 woman,\n      9 what?\n      9 week.\n      9 way.\n      9 Wanna\n      9 visa",
   "metadata": {
    "cell_id": "a5ffb902c35e4096be19fb5806c372ef",
    "tags": [],
    "deepnote_app_coordinates": {
     "x": 0,
     "y": 144,
     "w": 12,
     "h": 5
    },
    "deepnote_cell_type": "markdown",
    "deepnote_cell_height": 299.59375
   }
  },
  {
   "cell_type": "markdown",
   "source": "Instead of using bash scripts we decided on using dictionaries to see which words overlap most, of the top hundred most frequent words:",
   "metadata": {
    "cell_id": "934fe7c65e25493283519eba8d351bec",
    "tags": [],
    "deepnote_app_coordinates": {
     "x": 0,
     "y": 150,
     "w": 12,
     "h": 5
    },
    "deepnote_cell_type": "markdown",
    "deepnote_cell_height": 74.796875
   }
  },
  {
   "cell_type": "code",
   "metadata": {
    "cell_id": "807039bd401b4790a8ffbb1323b041e0",
    "tags": [],
    "deepnote_to_be_reexecuted": false,
    "source_hash": "90e40dbc",
    "execution_start": 1654153618673,
    "execution_millis": 3724,
    "deepnote_app_coordinates": {
     "x": 0,
     "y": 156,
     "w": 12,
     "h": 5
    },
    "deepnote_cell_type": "code",
    "deepnote_cell_height": 333
   },
   "source": "# returning all the frequent words for each tokenizer \ndef return_freq_words(tokenizer):\n    freq_word_dict = {}\n    data = load_and_tokenize(file, tokenizer)\n    for line in data:\n        for word in line:\n            freq_word_dict.setdefault(word, int())\n            freq_word_dict[word] += 1\n    sorted_dict = {key:value for key, value in sorted(freq_word_dict.items(), key=lambda x: x[1], reverse=True)}\n    return Counter(sorted_dict)\n\nregex_data = return_freq_words(\"Regex\")\nNLTKTweetModified_data = return_freq_words(\"NLTKTweetModified\")\nNLTKTweet_data = return_freq_words(\"NLTKTweet\")\nNLTKTreeBank_data = return_freq_words(\"NLTKTreeBank\")",
   "outputs": [],
   "execution_count": null
  },
  {
   "cell_type": "code",
   "metadata": {
    "cell_id": "7934c62208314887852e6cae927a546f",
    "tags": [],
    "deepnote_to_be_reexecuted": false,
    "source_hash": "bb1cc78a",
    "execution_start": 1654153622429,
    "execution_millis": 3,
    "deepnote_app_coordinates": {
     "x": 0,
     "y": 162,
     "w": 12,
     "h": 5
    },
    "deepnote_cell_type": "code",
    "deepnote_cell_height": 153
   },
   "source": "# isolating the top 100\ntop100regex = [x[0] for x in regex_data.most_common(100)]\ntop100nltktm = [x[0] for x in NLTKTweetModified_data.most_common(100)]\ntop100nltktweet = [x[0] for x in NLTKTweet_data.most_common(100)]\ntop100treebank = [x[0] for x in NLTKTreeBank_data.most_common(100)]",
   "outputs": [],
   "execution_count": null
  },
  {
   "cell_type": "code",
   "metadata": {
    "cell_id": "c1dbf5c98ef84fd4bf2539bcb4f9c9f2",
    "tags": [],
    "deepnote_to_be_reexecuted": false,
    "source_hash": "7e5d7c24",
    "execution_start": 1654153622435,
    "execution_millis": 2,
    "deepnote_app_coordinates": {
     "x": 0,
     "y": 168,
     "w": 12,
     "h": 5
    },
    "deepnote_cell_type": "code",
    "deepnote_cell_height": 189
   },
   "source": "# creating an intersection function, to show the overlapping between the top 100 words\ndef intersection(lst1, lst2):\n    \"\"\"\n    Given two lists, the function returns the number of overlap items\n    \"\"\"\n    lst3 = [val for val in lst1 if val in lst2]\n    return len(lst3)",
   "outputs": [],
   "execution_count": null
  },
  {
   "cell_type": "code",
   "metadata": {
    "cell_id": "0ba401e53d224b0c843d0788deba5e35",
    "tags": [],
    "deepnote_to_be_reexecuted": false,
    "source_hash": "9de8a5f2",
    "execution_start": 1654153622445,
    "execution_millis": 3,
    "deepnote_table_state": {
     "pageSize": 50,
     "pageIndex": 0,
     "filters": [],
     "sortBy": []
    },
    "deepnote_table_loading": false,
    "deepnote_app_coordinates": {
     "x": 0,
     "y": 174,
     "w": 12,
     "h": 5
    },
    "deepnote_cell_type": "code",
    "deepnote_cell_height": 297
   },
   "source": "# loading the intersected list length between each tokenizers top 100 words, into a dataset\nimport pandas as pd\ntop100_dict = {\"top100regex\":top100regex, \"top100nltktm\":top100nltktm, \"top100nltktweet\":top100nltktweet, \"top100treebank\":top100treebank}\nintersect_dict = {}\n\nfor i,j in top100_dict.items():\n    intersect_dict.setdefault(i, [])\n    for x,y in top100_dict.items():\n            # print(i+\" and \"+x, intersection(j,y))\n            intersect_dict[i].append(intersection(j, y))\n\nintersect_df = pd.DataFrame.from_dict(intersect_dict, orient='index')\nintersect_df.columns = [i for i in list(top100_dict.keys())]",
   "outputs": [],
   "execution_count": null
  },
  {
   "cell_type": "code",
   "metadata": {
    "cell_id": "472372088dc74eb985732346418e10b5",
    "tags": [],
    "deepnote_to_be_reexecuted": false,
    "source_hash": "88474f7f",
    "execution_start": 1654153622450,
    "execution_millis": 435,
    "is_code_hidden": false,
    "deepnote_app_coordinates": {
     "x": 0,
     "y": 180,
     "w": 12,
     "h": 5
    },
    "deepnote_app_is_code_hidden": false,
    "deepnote_cell_type": "code",
    "deepnote_cell_height": 519,
    "deepnote_output_heights": [
     350
    ]
   },
   "source": "# visualizing this as a heatmap\nimport seaborn as sns\nsns.set(rc={\"figure.figsize\":(6, 5)})\nsns.color_palette(\"viridis\", as_cmap=True)\nsns.heatmap(intersect_df, cmap=\"YlGnBu\", annot=True, fmt='g').set_title(\"Heat Map of tokens overlapping across top 100\");",
   "outputs": [
    {
     "data": {
      "text/plain": "<Figure size 432x288 with 2 Axes>",
      "image/png": "[encoded data removed]"
     },
     "metadata": {
      "needs_background": "light",
      "image/png": {
       "width": 451,
       "height": 348
      }
     },
     "output_type": "display_data"
    }
   ],
   "execution_count": null
  },
  {
   "cell_type": "markdown",
   "source": "The intersection level does not necesarrily mean anything (a higher intersection no. does not mean that it is a better tokenizer). It shows us, that the difference between each tokenizer is minimal.",
   "metadata": {
    "cell_id": "680900b36cf243b6985d1a917f7fe487",
    "tags": [],
    "deepnote_app_coordinates": {
     "x": 0,
     "y": 186,
     "w": 12,
     "h": 5
    },
    "deepnote_cell_type": "markdown",
    "deepnote_cell_height": 74.796875
   }
  },
  {
   "cell_type": "markdown",
   "source": "In conclusion, based it's speed and the results of tokenizing tweets, compared to other tokenizers, we have decided to use the regex tokenizer. It removes all symbols that are insignificant, and gives us results from which we believe we best can deduce if a tweet is hatespeech or not. ",
   "metadata": {
    "cell_id": "79699e787b354b4da190afea723d945e",
    "tags": [],
    "deepnote_app_coordinates": {
     "x": 0,
     "y": 192,
     "w": 12,
     "h": 5
    },
    "deepnote_cell_type": "markdown",
    "deepnote_cell_height": 97.1875
   }
  },
  {
   "cell_type": "markdown",
   "source": "<a style='text-decoration:none;line-height:16px;display:flex;color:#5B5B62;padding:10px;justify-content:end;' href='https://deepnote.com?utm_source=created-in-deepnote-cell&projectId=bf1f20fb-a6c0-4ea2-8567-a5a41eea1d8a' target=\"_blank\">\n<img alt='Created in deepnote.com' style='display:inline;max-height:16px;margin:0px;margin-right:7.5px;' src='data:image/svg+xml;base64,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' > </img>\nCreated in <span style='font-weight:600;margin-left:4px;'>Deepnote</span></a>",
   "metadata": {
    "tags": [],
    "created_in_deepnote_cell": true,
    "deepnote_cell_type": "markdown"
   }
  }
 ],
 "nbformat": 4,
 "nbformat_minor": 2,
 "metadata": {
  "orig_nbformat": 2,
  "deepnote": {},
  "deepnote_notebook_id": "f702f535-ca24-4827-a87c-b4275d976e9d",
  "deepnote_execution_queue": [],
  "deepnote_app_layout": "article"
 }
}