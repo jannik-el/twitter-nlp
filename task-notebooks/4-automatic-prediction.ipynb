{
 "cells": [
  {
   "cell_type": "markdown",
   "source": "# 4. Automatic Prediction",
   "metadata": {
    "cell_id": "45c8a8e3040348a7b640325ae79f99e9",
    "tags": [],
    "is_collapsed": false,
    "deepnote_cell_type": "text-cell-h1"
   }
  },
  {
   "cell_type": "markdown",
   "source": "Use&nbsp;scikit-learn&nbsp;to&nbsp;train&nbsp;a&nbsp;classifier&nbsp;for&nbsp;the&nbsp;automatic&nbsp;prediction&nbsp;of&nbsp;the&nbsp;labels&nbsp;in&nbsp;the&nbsp;two&nbsp;datasets&nbsp;you&nbsp;have&nbsp;chosen.",
   "metadata": {
    "cell_id": "758c3f9ee54b41eaa037fbc149558ea0",
    "tags": [],
    "is_collapsed": false,
    "deepnote_cell_type": "text-cell-p"
   }
  },
  {
   "cell_type": "markdown",
   "source": "- [X] Import labels, the tokenized tweets",
   "metadata": {
    "cell_id": "c34a4b814be440169457ffc4d5f2ebfd",
    "tags": [],
    "deepnote_cell_type": "markdown",
    "deepnote_cell_height": 69.390625
   }
  },
  {
   "cell_type": "code",
   "metadata": {
    "cell_id": "bbd31dda5b424f858e4aa88bcc2549da",
    "tags": [],
    "deepnote_to_be_reexecuted": false,
    "source_hash": "1c22f8bb",
    "execution_start": 1654193285025,
    "execution_millis": 11532,
    "deepnote_cell_type": "code",
    "deepnote_cell_height": 567
   },
   "source": "import pandas as pd\nimport glob\nimport numpy as np\nimport matplotlib.pyplot as plt\nfrom sklearn.tree import DecisionTreeClassifier\nfrom sklearn.model_selection import StratifiedShuffleSplit, train_test_split\nfrom sklearn.metrics import accuracy_score,confusion_matrix,roc_auc_score,classification_report\nfrom sklearn.naive_bayes import MultinomialNB, GaussianNB\nfrom sklearn.metrics import plot_confusion_matrix\nfrom sklearn.ensemble import RandomForestClassifier\nfrom sklearn.feature_extraction.text import CountVectorizer\nfrom sklearn.linear_model import SGDClassifier\nfrom sklearn.neighbors import KNeighborsClassifier\nfrom sklearn.linear_model import LinearRegression\nfrom sklearn.metrics import plot_confusion_matrix\nfrom nltk.stem import PorterStemmer\nfrom sklearn import tree\nimport random\n#import emoji\nimport warnings\nimport pickle\nimport seaborn as sns\nfrom sklearn.metrics import f1_score\nimport collections\nimport sys\nfrom nltk.stem import PorterStemmer\nsys.path.insert(0, '/work/twitter-nlp')\nfrom boilerplate import load_and_tokenize, pickling, open_jar",
   "outputs": [],
   "execution_count": null
  },
  {
   "cell_type": "code",
   "metadata": {
    "cell_id": "4403954a33fa44e6bae10790bb73e5ed",
    "tags": [],
    "deepnote_to_be_reexecuted": false,
    "source_hash": "af85b4d3",
    "execution_start": 1654193296574,
    "execution_millis": 3,
    "owner_user_id": "45a6018d-478f-44a5-9821-6cf675d1fe14",
    "deepnote_cell_type": "code",
    "deepnote_cell_height": 477
   },
   "source": "# importing data, tokenize and pickle all the data\nhate_path = \"/work/twitter-nlp/data/tweeteval/datasets/hate\"\nemoji_path = \"/work/twitter-nlp/data/tweeteval/datasets/emoji\"\n\ndef tokenize_and_pickle(path, location):\n    files = glob.glob(path + \"/*.txt\")\n    for i in files:\n        if i == \"/work/twitter-nlp/data/tweeteval/datasets/hate/mapping.txt\" or i == \"/work/twitter-nlp/data/tweeteval/datasets/emoji/mapping.txt\":\n            pass\n        else:\n            if \"hate\" in path:\n                data = load_and_tokenize(i, \"Regex\")\n                new_path = location + \"/pickled_\" + i[35:-4] + \".pkl\"\n                # print(new_path)\n                pickling(data, new_path)\n            elif \"emoji\" in path:\n                data = load_and_tokenize(i, \"Regex\")\n                new_path = location + \"/pickled_\" + i[36:-4] + \".pkl\"\n                # print(new_path)\n                pickling(data, new_path)\n            \n# tokenize_and_pickle(hate_path, location=\"/work/twitter-nlp/data/pickle/tweeteval/hate\")\n# tokenize_and_pickle(emoji_path, location=\"/work/twitter-nlp/data/pickle/tweeteval/emoji\")",
   "outputs": [],
   "execution_count": null
  },
  {
   "cell_type": "markdown",
   "source": "- [X] Split data into train - test, make stratified test-val iterable",
   "metadata": {
    "cell_id": "f0f9ef7801a54720a86bff86a9c9144e",
    "tags": [],
    "deepnote_cell_type": "markdown",
    "deepnote_cell_height": 69.390625
   }
  },
  {
   "cell_type": "code",
   "metadata": {
    "cell_id": "40c01d4f58bd4d6bb9407e47e0e0b956",
    "tags": [],
    "deepnote_to_be_reexecuted": false,
    "source_hash": "2becfaa4",
    "execution_start": 1654193296586,
    "execution_millis": 83,
    "deepnote_cell_type": "code",
    "deepnote_cell_height": 256
   },
   "source": "# hatespeech splitting of train and test groups\ntrain_txt = open_jar('/work/twitter-nlp/data/pickle/tweeteval/hate/pickled_train_text.pkl')\ntrain_labels = pd.DataFrame(open_jar('/work/twitter-nlp/data/pickle/tweeteval/hate/pickled_train_labels.pkl'))\nval_txt = open_jar('/work/twitter-nlp/data/pickle/tweeteval/hate/pickled_val_text.pkl')\nval_labels = pd.DataFrame(open_jar('/work/twitter-nlp/data/pickle/tweeteval/hate/pickled_val_labels.pkl'))\nX_train_txt = train_txt.copy()\nX_train_txt.extend(val_txt)\ny_train = pd.concat([train_labels,val_labels], ignore_index=True)\nprint(y_train.shape)",
   "outputs": [
    {
     "name": "stdout",
     "text": "(10000, 1)\n",
     "output_type": "stream"
    }
   ],
   "execution_count": null
  },
  {
   "cell_type": "code",
   "source": "#pickling(X_train_txt,'/work/twitter-nlp/data/tweeteval/datasets/hate/final_x_train_txt.pkl')\n#open_jar('/work/twitter-nlp/data/tweeteval/datasets/hate/final_x_train_txt.pkl')\n#pickling(y_train,'/work/twitter-nlp/data/tweeteval/datasets/hate/final_y_train_txt.pkl')\n#open_jar('/work/twitter-nlp/data/tweeteval/datasets/hate/final_y_train_txt.pkl')",
   "metadata": {
    "cell_id": "d7b3b8b5e15a4a2b8475160b57d38663",
    "tags": [],
    "deepnote_to_be_reexecuted": false,
    "source_hash": "4dad0",
    "execution_start": 1654193296682,
    "execution_millis": 4,
    "deepnote_cell_type": "code",
    "deepnote_cell_height": 135
   },
   "outputs": [],
   "execution_count": null
  },
  {
   "cell_type": "code",
   "metadata": {
    "cell_id": "319f64615efd453784e4b302efbe5c00",
    "tags": [],
    "deepnote_to_be_reexecuted": false,
    "source_hash": "856fc18f",
    "execution_start": 1654193296695,
    "execution_millis": 310,
    "deepnote_table_state": {
     "pageSize": 10,
     "pageIndex": 1,
     "filters": [],
     "sortBy": []
    },
    "deepnote_table_loading": false,
    "deepnote_cell_type": "code",
    "deepnote_cell_height": 274
   },
   "source": "# emoji splitting of train and test groups\ntrain_txt_emoji = open_jar('/work/twitter-nlp/data/pickle/tweeteval/emoji/pickled_train_text.pkl')\ntrain_labels_emoji = pd.DataFrame(open_jar('/work/twitter-nlp/data/pickle/tweeteval/emoji/pickled_train_labels.pkl'))\nval_txt_emoji = open_jar('/work/twitter-nlp/data/pickle/tweeteval/emoji/pickled_val_text.pkl')\nval_labels_emoji = pd.DataFrame(open_jar('/work/twitter-nlp/data/pickle/tweeteval/emoji/pickled_val_labels.pkl'))\nX_train_txt_emoji = train_txt_emoji.copy()\nX_train_txt_emoji.extend(val_txt_emoji)\ny_train_emoji = pd.concat([train_labels_emoji,val_labels_emoji], ignore_index=True).astype(int)\nprint(y_train_emoji.shape)\nemoji_classes= pd.read_csv(\"/work/twitter-nlp/data/tweeteval/datasets/emoji/mapping.txt\", sep = \"\t\", header=None)",
   "outputs": [
    {
     "name": "stdout",
     "text": "(50000, 1)\n",
     "output_type": "stream"
    }
   ],
   "execution_count": null
  },
  {
   "cell_type": "code",
   "metadata": {
    "cell_id": "a0a60b4e69e24c89b340b552db483ebb",
    "tags": [],
    "deepnote_to_be_reexecuted": false,
    "source_hash": "51e76491",
    "execution_start": 1654193297004,
    "execution_millis": 3,
    "deepnote_cell_type": "code",
    "deepnote_cell_height": 171
   },
   "source": "def unpack_tokens(data):\n    corpus_unpacked = []\n    for line in data:\n        corpus_unpacked.extend(word for word in line)\n    lowercase_transition = (map(lambda x: x.lower(), corpus_unpacked))\n    return list(lowercase_transition)",
   "outputs": [],
   "execution_count": null
  },
  {
   "cell_type": "code",
   "metadata": {
    "cell_id": "78ef371f4a7740b8accc41fc701f4fb7",
    "tags": [],
    "deepnote_to_be_reexecuted": false,
    "source_hash": "ab973de7",
    "execution_start": 1654193297046,
    "execution_millis": 21254,
    "deepnote_cell_type": "code",
    "deepnote_cell_height": 279
   },
   "source": "def get_vocabulary_size(train):\n    ps = PorterStemmer()\n    unpacked_tokens = unpack_tokens(train)\n    stemmed_tokens = []\n\n    for i in unpacked_tokens:\n        stemmed_tokens.append(ps.stem(i))\n\n    return len(stemmed_tokens)\n\nvocabulary_size_hate = get_vocabulary_size(X_train_txt)\nvocabulary_size_emoji = get_vocabulary_size(X_train_txt_emoji)",
   "outputs": [],
   "execution_count": null
  },
  {
   "cell_type": "code",
   "source": "\nps = PorterStemmer()\nstemmed_tokens = []\n\nouter = []\nfor i in X_train_txt[1:3]:\n    for x in i:\n        inner = [] \n        # inner.append(ps.stem(x))\n        # outer.append(inner)\n    # print(ps.stem(i))\n\nouter = []\n\nfor i in X_train_txt[1:3]:\n    for x in i:\n        lst = []\n        lst.append(ps.stem(x))\n\n    outer.append(lst)\n\nouter",
   "metadata": {
    "cell_id": "632cf0ce2d6b4d07947a9d5e0a277936",
    "tags": [],
    "deepnote_to_be_reexecuted": false,
    "source_hash": "3222bb08",
    "execution_start": 1654193318307,
    "execution_millis": 24,
    "deepnote_cell_type": "code",
    "deepnote_cell_height": 496.1875,
    "deepnote_output_heights": [
     21.1875
    ]
   },
   "outputs": [
    {
     "output_type": "execute_result",
     "execution_count": 8,
     "data": {
      "text/plain": "[['😎'], ['rapefuge']]"
     },
     "metadata": {}
    }
   ],
   "execution_count": null
  },
  {
   "cell_type": "code",
   "metadata": {
    "cell_id": "72d78aae0b40460bafb7d5f3d42011ca",
    "tags": [],
    "deepnote_to_be_reexecuted": false,
    "source_hash": "ce2e1650",
    "execution_start": 1654193318341,
    "execution_millis": 8,
    "deepnote_cell_type": "code",
    "deepnote_cell_height": 477
   },
   "source": "# helper function to classify hate, using the stratified shuffle split. \n# def partial_fitting_hate(classifier):\n#     global y_train\n#     cv = CountVectorizer(max_features = 209923) # vocabulary size of HateEval after stemming\n#     X_train = cv.fit_transform([' '.join(s) for s in X_train_txt]).toarray()\n#     pickling(cv,'/work/twitter-nlp/data/pickle/models/hate/vectorizer.pkl')\n#     sss = StratifiedShuffleSplit(n_splits=5, test_size=0.2, random_state=0)\n#     sss.get_n_splits(X_train, y_train)\n#     y_train_1 = y_train.copy().to_numpy().astype(int)\n#     i = 0\n\n#     for train_index, test_index in sss.split(X_train, y_train_1):\n#         X_train_s, X_val_s = X_train[train_index], X_train[test_index]\n#         y_train_s, y_val_s= y_train_1[train_index], y_train_1[test_index]\n#         if i==0:\n#             classifier.partial_fit(X_train_s, y_train_s, classes = [0,1])\n#         else:\n#             classifier.partial_fit(X_train_s, y_train_s)\n#         pred = classifier.predict(X_val_s)\n#         scores = (accuracy_score(y_val_s, pred))\n#         i += 1\n#     f1score = f1_score(y_val_s, pred)\n#     return scores, f1score, X_val_s, y_val_s",
   "outputs": [],
   "execution_count": null
  },
  {
   "cell_type": "markdown",
   "source": "- [ ] Run all classification experiments on both of the tasks you’ve chosen (one binary and one multi-class task). ",
   "metadata": {
    "cell_id": "8d071ad117974dc8b6d3708c8057f2a6",
    "tags": [],
    "deepnote_cell_type": "markdown",
    "deepnote_cell_height": 69.390625
   }
  },
  {
   "cell_type": "markdown",
   "source": "## Hatespeech Model Training:",
   "metadata": {
    "cell_id": "17bf6c7467fe4778b9b74bfd67b5ff5a",
    "tags": [],
    "deepnote_cell_type": "markdown",
    "deepnote_cell_height": 70
   }
  },
  {
   "cell_type": "code",
   "source": "warnings.filterwarnings('ignore')\ndef classify_hate(model, vocabulary_size, X_train_txt, y_train, confusion_matrix = False, tree1 = False, save_model=False, loss = 'log', alpha=0.6877):\n    is_partial = False\n    cv = CountVectorizer(max_features = vocabulary_size)\n    train = [' '.join(x) for x in X_train_txt]\n    X = cv.fit_transform(train).toarray()\n    y = list(y_train[0])\n\n    if model == 'KNN':\n        classifier = KNeighborsClassifier(n_neighbors = 5)\n    elif model == \"SGDC\":\n        classifier = SGDClassifier(loss=loss, alpha = alpha)\n        is_partial = True\n    elif model == \"MultinomialNB\":\n        classifier = MultinomialNB()\n        is_partial = True\n    elif model == \"DTC\":\n        classifier = DecisionTreeClassifier()\n    elif model == \"RF\":\n        classifier = RandomForestClassifier(n_estimators=100, criterion=\"entropy\", random_state = 0)\n    if is_partial:\n        sss = StratifiedShuffleSplit(n_splits=5, test_size=0.2, random_state=0)\n        sss.get_n_splits(X, y_train)\n        y_train_1 = y_train.copy().to_numpy().astype(int)\n        i = 0\n        for train_index, test_index in sss.split(X, y_train_1):\n            X_train_s, X_val_s = X[train_index], X[test_index]\n            y_train_s, y_val_s= y_train_1[train_index], y_train_1[test_index]\n            if i==0:\n                classifier.partial_fit(X_train_s, y_train_s, classes = [0,1])\n            else:\n                classifier.partial_fit(X_train_s, y_train_s)\n        X_test,y_test = X_val_s,y_val_s\n        pred = classifier.predict(X_val_s)\n        acc_score = accuracy_score(y_test, pred)\n        f1score = f1_score(y_val_s, pred)\n    else:               \n        X_train, X_test, y_train_1, y_test = train_test_split(\n                X, y, test_size = 0.25, random_state = 0)\n        classifier.fit(X_train, y_train_1)\n        pred = classifier.predict(X_test)\n        acc_score = accuracy_score(y_test, pred)\n        # print(set(y_test),set(pred))\n        f1score = f1_score(y_test, pred, pos_label='1')\n        # print('Our magnificent f1score: ',f1score)\n    if confusion_matrix == True:\n        plot_confusion_matrix(classifier, X_test, y_test)\n    if tree1 == True:\n        # print(\"Plotting Decision Tree...\")\n        text_representation = tree.export_text(classifier, feature_names = list(cv.get_feature_names_out()))\n        # print(text_representation)\n        fig = plt.figure(figsize=(25,20))\n        _ = tree.plot_tree(classifier, feature_names = list(cv.get_feature_names_out()), class_names=['non-hatespeech', 'hatespeech'])\n        plt.savefig(\"tree.svg\", format=\"svg\")\n\n    if save_model == True:\n        filename = '/work/twitter-nlp/data/pickle/models/hatespeech_model_MultinomialNB2.sav'\n        pickling(classifier,filename)\n\n    return f1score,acc_score\n\nclassify_hate(\"MultinomialNB\", vocabulary_size_hate, X_train_txt, y_train, confusion_matrix = True, save_model=True)",
   "metadata": {
    "cell_id": "d96eea045e33428fb6fbc0b6e3adf17a",
    "tags": [],
    "deepnote_to_be_reexecuted": false,
    "source_hash": "cc40a1d9",
    "execution_start": 1654193318371,
    "execution_millis": 8033,
    "deepnote_cell_type": "code",
    "deepnote_cell_height": 1514.1875,
    "deepnote_output_heights": [
     21.1875,
     267
    ]
   },
   "outputs": [
    {
     "output_type": "execute_result",
     "execution_count": 10,
     "data": {
      "text/plain": "(0.8659440958357103, 0.8825)"
     },
     "metadata": {}
    },
    {
     "data": {
      "text/plain": "<Figure size 432x288 with 2 Axes>",
      "image/png": "[encoded data removed]"
     },
     "metadata": {
      "needs_background": "light",
      "image/png": {
       "width": 318,
       "height": 265
      }
     },
     "output_type": "display_data"
    }
   ],
   "execution_count": null
  },
  {
   "cell_type": "code",
   "metadata": {
    "cell_id": "225dec4a89274ecdbb85b4670c413b2a",
    "tags": [],
    "deepnote_to_be_reexecuted": false,
    "source_hash": "6d36b2b5",
    "execution_start": 1654193326413,
    "execution_millis": 3,
    "deepnote_cell_type": "code",
    "deepnote_cell_height": 945
   },
   "source": "# warnings.filterwarnings('ignore')\n# def classify_hate(model, confusion_matrix = False, tree1 = False, loss = 'log', alpha=0.6877):\n#     is_partial = False\n#     global y_train\n\n#     if model == 'KNN':\n#         classifier = KNeighborsClassifier(n_neighbors = 5)\n#     elif model == \"SGDC\":\n#         classifier = SGDClassifier(loss=loss)\n#         is_partial = True\n#     elif model == \"MultinomialNB\":\n#         classifier = MultinomialNB()\n#         is_partial = True\n#     elif model == \"DTC\":\n#         classifier = DecisionTreeClassifier()\n#     elif model == \"RF\":\n#         classifier = RandomForestClassifier(n_estimators=100, criterion=\"entropy\", random_state = 0)\n#     if is_partial:\n#         acc_score,f1score,X_test,y_test = partial_fitting_hate(classifier)\n#         # print(acc_score, '\\n', f1score)\n#     else:               \n#         cv = CountVectorizer(max_features = 209923)\n#         train = [' '.join(x) for x in X_train_txt]\n#         X = cv.fit_transform(train).toarray()\n#         y = list(y_train[0])\n#         X_train, X_test, y_train_1, y_test = train_test_split(\n#                 X, y, test_size = 0.25, random_state = 0)\n#         classifier.fit(X_train, y_train_1)\n#         pred = classifier.predict(X_test)\n#         acc_score = accuracy_score(y_test, pred)\n#         # print(set(y_test),set(pred))\n#         f1score = f1_score(y_test, pred, pos_label='1')\n#         # print('Our magnificent f1score: ',f1score)\n#     if confusion_matrix == True:\n#         plot_confusion_matrix(classifier, X_test, y_test)\n#     if tree1 == True:\n#         # print(\"Plotting Decision Tree...\")\n#         text_representation = tree.export_text(classifier, feature_names = list(cv.get_feature_names_out()))\n#         # print(text_representation)\n#         fig = plt.figure(figsize=(25,20))\n#         _ = tree.plot_tree(classifier, feature_names = list(cv.get_feature_names_out()), class_names=['non-hatespeech', 'hatespeech'])\n#         plt.savefig(\"tree.svg\", format=\"svg\")\n\n#     # filename = \"/work/data/pickle/models/hate/dtc.sav\"\n#     # pickle.dump(classifier, open(filename, 'wb'))\n\n#     return f1score,acc_score\n\n# classify_hate(\"MultinomialNB\", confusion_matrix = False)",
   "outputs": [],
   "execution_count": null
  },
  {
   "cell_type": "code",
   "metadata": {
    "cell_id": "ace02ca1abb64f5ca849fa0712c9ab7f",
    "tags": [],
    "deepnote_to_be_reexecuted": false,
    "source_hash": "1fc247d4",
    "execution_start": 1654193326469,
    "execution_millis": 3560531,
    "deepnote_cell_type": "code",
    "deepnote_cell_height": 855
   },
   "source": "# #basically the one above but now only training and saving the model\n\n# def train_model(model, vocabulary_size, X_train_txt, y_train):\n    \n    \n#     is_partial=False\n#     train = [' '.join(x) for x in X_train_txt]\n#     cv = CountVectorizer(max_features = vocabulary_size)\n#     X = cv.fit_transform(train).toarray()\n\n\n#     if model == 'KNN':\n#         classifier = KNeighborsClassifier(n_neighbors = 5)\n#     elif model == \"SGDC\":\n#         classifier = SGDClassifier(loss=loss)\n#         is_partial = True\n#     elif model == \"MultinomialNB\":\n#         classifier = MultinomialNB()\n#         is_partial = True\n#     elif model == \"DTC\":\n#         classifier = DecisionTreeClassifier()\n#     elif model == \"RF\":\n#         classifier = RandomForestClassifier(n_estimators=100, criterion=\"entropy\", random_state = 0)\n#     if is_partial:\n#         sss = StratifiedShuffleSplit(n_splits=5, test_size=0.2, random_state=0)\n#         sss.get_n_splits(X, y_train)\n#         y_train_1 = y_train.copy().to_numpy().astype(int)\n#         i = 0\n#         for train_index, test_index in sss.split(X, y_train_1):\n#             X_train_s, X_val_s = X[train_index], X[test_index]\n#             y_train_s, y_val_s= y_train_1[train_index], y_train_1[test_index]\n#             if i==0:\n#                 classifier.partial_fit(X_train_s, y_train_s, classes = [0,1])\n#             else:\n#                 classifier.partial_fit(X_train_s, y_train_s)\n#     else:\n#         X_train, X_test, y_train_1, y_test = train_test_split(\n#             X, y_train, test_size = 0.25, random_state = 0)\n#         classifier.fit(X_train, y_train_1)\n#         pred = classifier.predict(X_test)\n\n#     # filename = '/work/twitter-nlp/data/pickle/models/hatespeech_model_MultinomialNB.sav'\n#     # pickling(classifier,filename)\n#     return classifier",
   "outputs": [],
   "execution_count": null
  },
  {
   "cell_type": "code",
   "metadata": {
    "cell_id": "95f10291f329407cbb69c0e61c43fbb4",
    "tags": [],
    "deepnote_to_be_reexecuted": false,
    "source_hash": "75d7b94f",
    "execution_start": 1654193326470,
    "execution_millis": 3560502,
    "deepnote_cell_type": "code",
    "deepnote_cell_height": 99
   },
   "source": "# print(type(y_train),vocabulary_size_hate)\n# train_model(\"MultinomialNB\", vocabulary_size_hate, X_train_txt, y_train)",
   "outputs": [],
   "execution_count": null
  },
  {
   "cell_type": "markdown",
   "source": "To better understand the results, we show the ratio of hatespeech, and not hatespeech below. <br/>",
   "metadata": {
    "cell_id": "515b01205ada4043873fadcc0bfd7fcb",
    "tags": [],
    "deepnote_cell_type": "markdown",
    "deepnote_cell_height": 52.390625
   }
  },
  {
   "cell_type": "code",
   "metadata": {
    "cell_id": "487ec7b4a7af4321ac0f2a1a6fef17e3",
    "tags": [],
    "deepnote_to_be_reexecuted": false,
    "source_hash": "356d4b2b",
    "execution_start": 1654193326510,
    "execution_millis": 80,
    "owner_user_id": "cf5efbeb-4e99-4984-a370-4221bb163a20",
    "deepnote_cell_type": "code",
    "deepnote_cell_height": 330,
    "deepnote_output_heights": [
     233
    ]
   },
   "source": "plt.pie(collections.Counter(list(y_train[0])).values(), labels=['Not hate speech','Hate speech'],colors=['#eab676','#2596be'],explode=(0, 0.1), autopct = lambda p:f'{p:.2f}%');",
   "outputs": [
    {
     "data": {
      "text/plain": "<Figure size 432x288 with 1 Axes>",
      "image/png": "[encoded data removed]"
     },
     "metadata": {
      "image/png": {
       "width": 231,
       "height": 231
      }
     },
     "output_type": "display_data"
    }
   ],
   "execution_count": null
  },
  {
   "cell_type": "markdown",
   "source": "Based on this we deduced that our results were acceptable. ",
   "metadata": {
    "cell_id": "1ec64681cd9b42b2881e31b4dbacff12",
    "tags": [],
    "deepnote_cell_type": "markdown",
    "deepnote_cell_height": 52.390625
   }
  },
  {
   "cell_type": "code",
   "metadata": {
    "cell_id": "987e457fd96c40d1a991740d50d6358e",
    "tags": [],
    "deepnote_to_be_reexecuted": false,
    "source_hash": "2a772628",
    "execution_start": 1654193326597,
    "execution_millis": 145413,
    "owner_user_id": "9623fb47-3762-4ef5-9146-5aaf0f397ef0",
    "deepnote_cell_type": "code",
    "deepnote_cell_height": 153
   },
   "source": "models = [\"KNN\", \"SGDC\", 'MultinomialNB','DTC', 'RF']\nli = {}\n\nfor model in models:\n    li.setdefault(model, classify_hate(model, vocabulary_size_hate, X_train_txt, y_train))",
   "outputs": [],
   "execution_count": null
  },
  {
   "cell_type": "code",
   "metadata": {
    "cell_id": "e9998f6f15de4dca9f2aad86d8917d31",
    "tags": [],
    "deepnote_to_be_reexecuted": false,
    "source_hash": "857fcffe",
    "execution_start": 1654193472011,
    "execution_millis": 137,
    "deepnote_cell_type": "code",
    "deepnote_cell_height": 195,
    "deepnote_output_heights": [
     98
    ]
   },
   "source": "li",
   "outputs": [
    {
     "output_type": "execute_result",
     "execution_count": 16,
     "data": {
      "text/plain": "{'KNN': (0.36076817558299035, 0.6272),\n 'SGDC': (0.011737089201877934, 0.579),\n 'MultinomialNB': (0.8659440958357103, 0.8825),\n 'DTC': (0.6666666666666666, 0.728),\n 'RF': (0.688924218335983, 0.7652)}"
     },
     "metadata": {}
    }
   ],
   "execution_count": null
  },
  {
   "cell_type": "markdown",
   "source": "# Hate speech functions",
   "metadata": {
    "cell_id": "d82ccf58e6ae45bc8cd8f722673bfc19",
    "tags": [],
    "deepnote_cell_type": "markdown",
    "deepnote_cell_height": 82
   }
  },
  {
   "cell_type": "markdown",
   "source": "#### Classifiers that have partial_fit() which we will be using\n- sklearn.naive_bayes.MultinomialNB\n- sklearn.naive_bayes.BernoulliNB sklearn.linear_model.Perceptron\n- sklearn.linear_model.SGDClassifier\n- sklearn.linear_model.PassiveAggressiveClassifier",
   "metadata": {
    "cell_id": "81a673498f164d05bad645684570a69b",
    "tags": [],
    "deepnote_cell_type": "markdown",
    "deepnote_cell_height": 178.59375
   }
  },
  {
   "cell_type": "markdown",
   "source": "Testing different types of loss for the SGDC classifier on the hatespeech dataset",
   "metadata": {
    "cell_id": "c2bac0fde40c4a5ca4935792c1da2ac5",
    "tags": [],
    "deepnote_cell_type": "markdown",
    "deepnote_cell_height": 52.390625
   }
  },
  {
   "cell_type": "code",
   "metadata": {
    "cell_id": "0de74ee912e44ba69cc57e17d19a3910",
    "tags": [],
    "deepnote_to_be_reexecuted": false,
    "source_hash": "c3128801",
    "execution_start": 1654193472012,
    "execution_millis": 137,
    "deepnote_cell_type": "code",
    "deepnote_cell_height": 397.78125,
    "deepnote_output_heights": [
     174.796875
    ]
   },
   "source": "# losses = ['hinge','modified_huber','log','squared_hinge','perceptron','squared_error','huber','epsilon_insensitive','squared_epsilon_insensitive']\n# scores = {s:0 for s in losses}\n# for _ in range(10):\n#     for loss in losses:\n#         print(loss)\n#         scores[loss]+=float(classify_hate('SGDC',loss=loss)[0])/10\n# scores\nopen_jar('/work/twitter-nlp/data/pickle/models/hate/loss_scores.pkl')",
   "outputs": [
    {
     "output_type": "execute_result",
     "execution_count": 17,
     "data": {
      "text/plain": "{'hinge': 0.7349062239347153,\n 'modified_huber': 0.7355510840948916,\n 'log': 0.7611404875154572,\n 'squared_hinge': 0.7372772172334918,\n 'perceptron': 0.7200106374683496,\n 'squared_error': 0.4324811728108835,\n 'huber': 0.7106919452830548,\n 'epsilon_insensitive': 0.502026632077352,\n 'squared_epsilon_insensitive': 0.42780788875914944}"
     },
     "metadata": {}
    }
   ],
   "execution_count": null
  },
  {
   "cell_type": "markdown",
   "source": "Explain this TODO",
   "metadata": {
    "cell_id": "3c5d1361f4fb4cec85036b3a84f3a126",
    "tags": [],
    "deepnote_cell_type": "markdown",
    "deepnote_cell_height": 52.390625
   }
  },
  {
   "cell_type": "code",
   "metadata": {
    "cell_id": "6e6b0a87626a44c19bd09fd4ba7a3b6d",
    "tags": [],
    "deepnote_to_be_reexecuted": false,
    "source_hash": "76f70179",
    "execution_start": 1654193472012,
    "execution_millis": 33,
    "deepnote_cell_type": "code",
    "deepnote_cell_height": 189
   },
   "source": "# alpha_scores = {max([0.0001 * s * s,0.0001]):0 for s in range(0,100,10)}\n\n\n# for _ in range(10):\n#     for i in range(0,100,10):\n#         coef = max([0.0001 * i * i,0.0001]) \n#         alpha_scores[coef]+=float(classify_hate('SGDC',alpha = coef)[0])/10",
   "outputs": [],
   "execution_count": null
  },
  {
   "cell_type": "code",
   "metadata": {
    "cell_id": "73a0eb22338b4869892409520d8fd9be",
    "tags": [],
    "deepnote_to_be_reexecuted": false,
    "source_hash": "a6427cc5",
    "execution_start": 1654193472045,
    "execution_millis": 167,
    "deepnote_cell_type": "code",
    "deepnote_cell_height": 327,
    "deepnote_output_heights": [
     194
    ]
   },
   "source": "#pickling(scores,'/work/twitter-nlp/data/pickle/models/hate/loss_scores.pkl')\nalpha_scores = open_jar('/work/twitter-nlp/data/pickle/models/hate/alpha_scores.pkl')\nalpha_scores",
   "outputs": [
    {
     "output_type": "execute_result",
     "execution_count": 19,
     "data": {
      "text/plain": "{0.6: 0.7226649458214888,\n 0.61: 0.7513427563325703,\n 0.62: 0.7326090594945454,\n 0.63: 0.7457790143602933,\n 0.64: 0.7376082590657582,\n 0.65: 0.717346505113557,\n 0.66: 0.7467129694744707,\n 0.67: 0.7483145916929301,\n 0.68: 0.7582834509352506,\n 0.69: 0.7432255177317246}"
     },
     "metadata": {}
    }
   ],
   "execution_count": null
  },
  {
   "cell_type": "markdown",
   "source": "Printing final alpha scores TODO",
   "metadata": {
    "cell_id": "9795068cda9d4351b9fd436926fff39d",
    "tags": [],
    "deepnote_cell_type": "markdown",
    "deepnote_cell_height": 52.390625
   }
  },
  {
   "cell_type": "code",
   "metadata": {
    "cell_id": "93655a99355e4a76bd6bc5ef50145af8",
    "tags": [],
    "deepnote_to_be_reexecuted": false,
    "source_hash": "e6092b2c",
    "execution_start": 1654193472047,
    "execution_millis": 165,
    "deepnote_cell_type": "code",
    "deepnote_cell_height": 363,
    "deepnote_output_heights": [
     194
    ]
   },
   "source": "alpha_scores_4 = open_jar('/work/twitter-nlp/data/pickle/models/hate/alpha_scores_3.pkl')\nalpha_scores_4\n#pickling(alpha_scores_2,'/work/twitter-nlp/data/pickle/models/hate/alpha_scores.pkl')\n#pickling(alpha_scores_3,'/work/twitter-nlp/data/pickle/models/hate/alpha_scores_2.pkl')\n#pickling(alpha_scores_4, '/work/twitter-nlp/data/pickle/models/hate/alpha_scores_3.pkl')",
   "outputs": [
    {
     "output_type": "execute_result",
     "execution_count": 20,
     "data": {
      "text/plain": "{0.687: 0.7466837827410123,\n 0.6871: 0.7321857661693683,\n 0.6872: 0.7346982418843386,\n 0.6873: 0.7509777646725955,\n 0.6874: 0.7356000977143823,\n 0.6875: 0.7416393100901192,\n 0.6876: 0.7492228693383467,\n 0.6877: 0.7553777802640925,\n 0.6878: 0.748947046902999,\n 0.6879: 0.7502418991606316}"
     },
     "metadata": {}
    }
   ],
   "execution_count": null
  },
  {
   "cell_type": "markdown",
   "source": "## Emoji Prediction Model Training:",
   "metadata": {
    "cell_id": "1311f323936d4464930cab1dbe8f67c6",
    "tags": [],
    "deepnote_cell_type": "markdown",
    "deepnote_cell_height": 70
   }
  },
  {
   "cell_type": "code",
   "metadata": {
    "cell_id": "b31e3dad47914da6b2659e0e10cc28f7",
    "tags": [],
    "deepnote_to_be_reexecuted": false,
    "source_hash": "11d94e33",
    "execution_start": 1654193472109,
    "execution_millis": 107,
    "deepnote_cell_type": "code",
    "deepnote_cell_height": 136.1875,
    "deepnote_output_heights": [
     21.1875
    ]
   },
   "source": "five_split_txt_emoji = np.array_split(X_train_txt_emoji, 5)\nlen(five_split_txt_emoji[0])",
   "outputs": [
    {
     "output_type": "execute_result",
     "execution_count": 21,
     "data": {
      "text/plain": "10000"
     },
     "metadata": {}
    }
   ],
   "execution_count": null
  },
  {
   "cell_type": "code",
   "metadata": {
    "cell_id": "dc92803867014bc585b4403c8beedc3a",
    "tags": [],
    "deepnote_to_be_reexecuted": false,
    "source_hash": "c4eaaf6c",
    "execution_start": 1654193472116,
    "execution_millis": 101,
    "deepnote_cell_type": "code",
    "deepnote_cell_height": 136.1875,
    "deepnote_output_heights": [
     21.1875
    ]
   },
   "source": "five_split_labels_emoji = np.array_split(y_train_emoji,5)\nlen(five_split_labels_emoji[0])",
   "outputs": [
    {
     "output_type": "execute_result",
     "execution_count": 22,
     "data": {
      "text/plain": "10000"
     },
     "metadata": {}
    }
   ],
   "execution_count": null
  },
  {
   "cell_type": "markdown",
   "source": "Showing ratio of labels in our dataset:",
   "metadata": {
    "cell_id": "092bfada45154aa1b746a3cef04fe39a",
    "tags": [],
    "deepnote_cell_type": "markdown",
    "deepnote_cell_height": 52.390625
   }
  },
  {
   "cell_type": "code",
   "metadata": {
    "cell_id": "739179b885f24ee3a46659ee837f5bda",
    "tags": [],
    "deepnote_to_be_reexecuted": false,
    "source_hash": "f555d805",
    "execution_start": 1654193472220,
    "execution_millis": 425,
    "deepnote_cell_type": "code",
    "deepnote_cell_height": 693,
    "deepnote_output_heights": [
     560
    ]
   },
   "source": "plt.figure(figsize=(10, 10))\nplt.pie(collections.Counter(list(y_train_emoji[0])).values(), labels=list(emoji_classes[2]), autopct = lambda p:f'{p:.2f}%');\n",
   "outputs": [
    {
     "data": {
      "text/plain": "<Figure size 720x720 with 1 Axes>",
      "image/png": "[encoded data removed]"
     },
     "metadata": {
      "image/png": {
       "width": 797,
       "height": 558
      }
     },
     "output_type": "display_data"
    }
   ],
   "execution_count": null
  },
  {
   "cell_type": "code",
   "metadata": {
    "cell_id": "322aa99ae9224c86a1a336ced9a4ef5d",
    "tags": [],
    "deepnote_to_be_reexecuted": false,
    "source_hash": "23e0d6d7",
    "execution_start": 1654193472688,
    "execution_millis": 1,
    "deepnote_cell_type": "code",
    "deepnote_cell_height": 81
   },
   "source": "lst = [x for x in list(emoji_classes[2])]",
   "outputs": [],
   "execution_count": null
  },
  {
   "cell_type": "markdown",
   "source": "Training based on different models, all in one function, and plotting confusion matrix.",
   "metadata": {
    "cell_id": "63c09f0460bb4a14afd7ff2b9b9b0dfb",
    "tags": [],
    "deepnote_cell_type": "markdown",
    "deepnote_cell_height": 52.390625
   }
  },
  {
   "cell_type": "code",
   "source": "#helper function to classify emojis, using the stratified shuffle split\ndef partial_fitting_emoji(classifier):\n    global y_train_emoji\n    cv = CountVectorizer(max_features = 5000)\n    # X_train_emoji = cv.fit_transform([' '.join(s) for s in X_train_txt_emoji]).toarray()\n    i = 0\n    for X, y in zip(five_split_txt_emoji,five_split_labels_emoji):\n        X_train_emoji = cv.fit_transform([' '.join(s) for s in X])\n        X_train, X_test, y_train, y_test = train_test_split(X_train_emoji, y, test_size = 0.25, random_state = 0)\n       # print(f'X_train {X_train}, X_test {X_test}, y_train {y_train}, y_test {y_test}')\n        a = list(np.unique(y_test))\n        a.sort()\n        #print(f'y_test:\\n {a}\\n\\n')\n        if i==0:\n            classifier.partial_fit(X_train, y_train, classes = list(emoji_classes[0]))#Get classes for emoji\n        else:\n            classifier.partial_fit(X_train, y_train)\n    \n        pred = classifier.predict(X_test)\n\n        scores = accuracy_score(y_test, pred)\n        i += 1\n    return scores, X_test, y_test, pred",
   "metadata": {
    "cell_id": "a06bd3b1892644cda50d9fe6dc0ada91",
    "tags": [],
    "deepnote_to_be_reexecuted": false,
    "source_hash": "116c1386",
    "execution_start": 1654193472689,
    "execution_millis": 1,
    "deepnote_cell_type": "code",
    "deepnote_cell_height": 477
   },
   "outputs": [],
   "execution_count": null
  },
  {
   "cell_type": "code",
   "metadata": {
    "cell_id": "0bcc41fc10d14f6998003ee85f09af2c",
    "tags": [],
    "deepnote_to_be_reexecuted": false,
    "source_hash": "42cb6dc",
    "execution_start": 1654193472691,
    "execution_millis": 21,
    "deepnote_table_state": {
     "pageSize": 10,
     "pageIndex": 22,
     "filters": [],
     "sortBy": []
    },
    "deepnote_table_loading": false,
    "deepnote_cell_type": "code",
    "deepnote_cell_height": 1062.1875
   },
   "source": "warnings.filterwarnings('ignore')\n\ndef classify_emoji(model, confusion_matrix = False, tree1 = False, save_model = False, loss='log', alpha = ):\n    is_partial = False\n    global y_train\n    if model == 'KNN':\n        classifier = KNeighborsClassifier(n_neighbors = 5)\n    elif model == \"SGDC\":\n        classifier = SGDClassifier(loss=loss)\n        is_partial = True\n    elif model == \"MultinomialNB\":\n        classifier = MultinomialNB()\n        is_partial = True\n    elif model == \"DTC\":\n        classifier = DecisionTreeClassifier()\n    elif model == 'GaussianNB':\n        classifier = GaussianNB()\n        is_partial = True\n    if is_partial:\n        acc_score, X_test,y_test, pred =  partial_fitting_emoji(classifier)\n        f1score = f1_score(y_test, pred, average='micro')\n    else:\n        cv = CountVectorizer(max_features = 5000)\n        scores = []\n        X, y = X_train_txt_emoji, y_train_emoji\n        X_train_emoji = cv.fit_transform([' '.join(s) for s in X])\n        X_train, X_test, y_train, y_test = train_test_split(X_train_emoji, y, test_size = 0.25, random_state = 0)\n        classifier.fit(X_train, y_train)\n        pred = classifier.predict(X_test)\n        f1score = f1_score(y_test,pred)\n        acc_score = accuracy_score(y_test, pred)\n        scores.append(acc_score)\n    if confusion_matrix == True:\n        _, ax = plt.subplots(figsize=(10,10))\n        plot_confusion_matrix(classifier, X_test, y_test, ax = ax)\n    if tree1 == True:\n        print(\"Plotting Decision Tree...\")\n        text_representation = tree.export_text(classifier, feature_names = list(cv.get_feature_names_out()))\n        print(text_representation)\n        fig = plt.figure(figsize=(25,20))\n        _ = tree.plot_tree(classifier, feature_names = list(cv.get_feature_names_out()), class_names=emoji_classes[1])\n        plt.savefig(\"tree.svg\", format=\"svg\")\n\n    if save_model == True:\n        filename = '/work/twitter-nlp/data/pickle/models/emoji_model.sav'\n        pickling(classifier,filename)\n\n\n    return acc_score, X_test, pred, f1score\n    \n\nacc_score, X_test,pred, f1score = classify_emoji(\"SGDC\", confusion_matrix = True)",
   "outputs": [
    {
     "output_type": "error",
     "ename": "SyntaxError",
     "evalue": "invalid syntax (<ipython-input-26-015f2fcedfac>, line 4)",
     "traceback": [
      "\u001b[0;36m  File \u001b[0;32m\"<ipython-input-26-015f2fcedfac>\"\u001b[0;36m, line \u001b[0;32m4\u001b[0m\n\u001b[0;31m    def classify_emoji(model, confusion_matrix = False, tree1 = False, save_model = False, loss='log', alpha = ):\u001b[0m\n\u001b[0m                                                                                                               ^\u001b[0m\n\u001b[0;31mSyntaxError\u001b[0m\u001b[0;31m:\u001b[0m invalid syntax\n"
     ]
    }
   ],
   "execution_count": null
  },
  {
   "cell_type": "code",
   "source": "f1score",
   "metadata": {
    "cell_id": "5e7dc838a06a439a9001368a48e16b16",
    "tags": [],
    "deepnote_to_be_reexecuted": true,
    "source_hash": "6873723f",
    "execution_start": 1654191392840,
    "execution_millis": 6,
    "deepnote_cell_type": "code",
    "deepnote_cell_height": 118.1875,
    "deepnote_output_heights": [
     21.1875
    ]
   },
   "outputs": [
    {
     "output_type": "execute_result",
     "execution_count": 44,
     "data": {
      "text/plain": "0.23079999999999998"
     },
     "metadata": {}
    }
   ],
   "execution_count": null
  },
  {
   "cell_type": "code",
   "source": "models = [\"KNN\", \"SGDC\", 'MultinomialNB','DTC', 'GaussianNB']\nli = {}\n\nfor model in models:\n    li.setdefault(model, [classify_emoji(\"SGDC\")[0], classify_emoji(\"SGDC\")[3]])",
   "metadata": {
    "cell_id": "ee139e11e6de4fbdaa8518877d73669e",
    "tags": [],
    "deepnote_to_be_reexecuted": true,
    "source_hash": "dad5633c",
    "execution_start": 1654191394757,
    "execution_millis": 23163,
    "deepnote_cell_type": "code",
    "deepnote_cell_height": 153
   },
   "outputs": [],
   "execution_count": null
  },
  {
   "cell_type": "code",
   "source": "li",
   "metadata": {
    "cell_id": "cfedc69ece294fffa028c43999b60490",
    "tags": [],
    "deepnote_to_be_reexecuted": true,
    "source_hash": "857fcffe",
    "execution_start": 1654191420356,
    "execution_millis": 27,
    "deepnote_cell_type": "code",
    "deepnote_cell_height": 195,
    "deepnote_output_heights": [
     98
    ]
   },
   "outputs": [
    {
     "output_type": "execute_result",
     "execution_count": 46,
     "data": {
      "text/plain": "{'KNN': [0.2304, 0.2328],\n 'SGDC': [0.2364, 0.2432],\n 'MultinomialNB': [0.2504, 0.254],\n 'DTC': [0.2472, 0.2492],\n 'GaussianNB': [0.2516, 0.2588]}"
     },
     "metadata": {}
    }
   ],
   "execution_count": null
  },
  {
   "cell_type": "code",
   "source": "losses = ['hinge','modified_huber','log','squared_hinge','perceptron','squared_error','huber','epsilon_insensitive','squared_epsilon_insensitive']\nscores = {s:0 for s in losses}\nfor _ in range(10):\n    for loss in losses:\n        scores[loss]+=float(classify_emoji('SGDC',loss=loss)[3])/10\nscores\n# open_jar('/work/twitter-nlp/data/pickle/models/hate/loss_scores.pkl')",
   "metadata": {
    "cell_id": "9ba627695e0b4b89b41437a03560706c",
    "tags": [],
    "deepnote_to_be_reexecuted": true,
    "source_hash": "6b4b63f",
    "execution_start": 1654191525457,
    "execution_millis": 198744,
    "deepnote_cell_type": "code",
    "deepnote_cell_height": 379.78125,
    "deepnote_output_heights": [
     174.796875
    ]
   },
   "outputs": [
    {
     "output_type": "execute_result",
     "execution_count": 48,
     "data": {
      "text/plain": "{'hinge': 0.20464000000000002,\n 'modified_huber': 0.18927999999999998,\n 'log': 0.23768,\n 'squared_hinge': 0.1848,\n 'perceptron': 0.18483999999999998,\n 'squared_error': 0.04988000000000001,\n 'huber': 0.16824,\n 'epsilon_insensitive': 0.07812,\n 'squared_epsilon_insensitive': 0.050719999999999994}"
     },
     "metadata": {}
    }
   ],
   "execution_count": null
  },
  {
   "cell_type": "markdown",
   "source": "TODO for this notebook:\n- [ ] clean up different text blocks, explain what our code is doing (see todo/comments)\n- [ ] implement porter stemmer for both datasets\n- [ ] work on the extraction text transformer\n- [ ] evaluate different classifiers on emoji ds\n- [ ] run additional tests on emoji ds\n- [ ] report results for emoji ds\n- [ ] clean up hatespeech ds results",
   "metadata": {
    "cell_id": "cdf503e004084b6186486d295a9c2544",
    "tags": [],
    "deepnote_cell_type": "markdown",
    "deepnote_cell_height": 255.1875
   }
  },
  {
   "cell_type": "markdown",
   "source": "- [ ] Evaluate your different classifiers on the validation set and report relevant evaluation metrics (accuracy, precision/recall/F-score).",
   "metadata": {
    "cell_id": "e598b39e83e34d44903663d0148beaa2",
    "tags": [],
    "deepnote_cell_type": "markdown",
    "deepnote_cell_height": 91.796875
   }
  },
  {
   "cell_type": "markdown",
   "source": "- [ ] Then run additional experiments trying to improve your initial scores by any means you can think of. Try out at least 4 different methods.\n\nAdditional preprocessing options:\n- [ ] n-gram features, lowercasing, stop word lists (see options to `sklearn.feature_extraction.text.CountVectorizer)`\n- [ ] `Counttransformations(sklearn.feature_extraction.text.TfIdfTransformer)`\n- [ ] `Theclassificationloss(lossparametertoSGDClassifier)`\n- [ ] The regularisation strength (alpha parameter to `SGDClassifier` – try varying it in exponentially spaced steps)\n- [ ] Different classifiers (e.g.,`sklearn.ensemble.RandomForestClassifieror sklearn.naive_bayes.MultinomialNB`)\n- [ ] Anything else discussed during the lessons, or implemented in scikit-learn.",
   "metadata": {
    "cell_id": "8a08a14da7554e9b9039ee6c2e6c6b9f",
    "tags": [],
    "deepnote_cell_type": "markdown",
    "deepnote_cell_height": 291.59375
   }
  },
  {
   "cell_type": "markdown",
   "source": "- [ ] For the systems that achieves the highest accuracy on the validation set, run the evaluation on the test set and report your results.",
   "metadata": {
    "cell_id": "0b47e30eb74743d3be07330a9a69d7a9",
    "tags": [],
    "deepnote_cell_type": "markdown",
    "deepnote_cell_height": 91.796875
   }
  },
  {
   "cell_type": "markdown",
   "source": "<a style='text-decoration:none;line-height:16px;display:flex;color:#5B5B62;padding:10px;justify-content:end;' href='https://deepnote.com?utm_source=created-in-deepnote-cell&projectId=bf1f20fb-a6c0-4ea2-8567-a5a41eea1d8a' target=\"_blank\">\n<img alt='Created in deepnote.com' style='display:inline;max-height:16px;margin:0px;margin-right:7.5px;' src='data:image/svg+xml;base64,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' > </img>\nCreated in <span style='font-weight:600;margin-left:4px;'>Deepnote</span></a>",
   "metadata": {
    "tags": [],
    "created_in_deepnote_cell": true,
    "deepnote_cell_type": "markdown"
   }
  }
 ],
 "nbformat": 4,
 "nbformat_minor": 2,
 "metadata": {
  "orig_nbformat": 2,
  "deepnote": {},
  "deepnote_notebook_id": "de5e6e23-5d1c-4934-8c8f-e296b76e8fed",
  "deepnote_execution_queue": []
 }
}