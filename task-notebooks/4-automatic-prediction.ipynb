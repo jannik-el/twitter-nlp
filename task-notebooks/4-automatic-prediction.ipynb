{
 "cells": [
  {
   "cell_type": "markdown",
   "source": "# 4. Automatic Prediction",
   "metadata": {
    "formattedRanges": [],
    "cell_id": "45c8a8e3040348a7b640325ae79f99e9",
    "tags": [],
    "is_collapsed": false,
    "deepnote_cell_type": "text-cell-h1"
   }
  },
  {
   "cell_type": "markdown",
   "source": "Use&nbsp;scikit-learn&nbsp;to&nbsp;train&nbsp;a&nbsp;classifier&nbsp;for&nbsp;the&nbsp;automatic&nbsp;prediction&nbsp;of&nbsp;the&nbsp;labels&nbsp;in&nbsp;the&nbsp;two&nbsp;datasets&nbsp;you&nbsp;have&nbsp;chosen.",
   "metadata": {
    "formattedRanges": [],
    "cell_id": "758c3f9ee54b41eaa037fbc149558ea0",
    "tags": [],
    "is_collapsed": false,
    "deepnote_cell_type": "text-cell-p"
   }
  },
  {
   "cell_type": "markdown",
   "source": "- [X] Import labels, the tokenized tweets",
   "metadata": {
    "cell_id": "c34a4b814be440169457ffc4d5f2ebfd",
    "tags": [],
    "deepnote_cell_type": "markdown",
    "deepnote_cell_height": 69.65625
   }
  },
  {
   "cell_type": "code",
   "metadata": {
    "cell_id": "bbd31dda5b424f858e4aa88bcc2549da",
    "tags": [],
    "deepnote_to_be_reexecuted": false,
    "source_hash": "45838c9",
    "execution_start": 1655227443632,
    "execution_millis": 2719,
    "deepnote_cell_type": "code",
    "deepnote_cell_height": 639.3125
   },
   "source": "import pandas as pd\nimport glob\nimport numpy as np\nfrom matplotlib import ticker\nimport matplotlib.pyplot as plt\nfrom sklearn.tree import DecisionTreeClassifier\nfrom sklearn.model_selection import StratifiedShuffleSplit, train_test_split\nfrom sklearn.metrics import accuracy_score,confusion_matrix,roc_auc_score,classification_report, recall_score, precision_score\nfrom sklearn.naive_bayes import MultinomialNB, GaussianNB\nfrom sklearn.feature_extraction.text import TfidfTransformer\nfrom sklearn.pipeline import Pipeline\nfrom sklearn.metrics import plot_confusion_matrix\nfrom sklearn.ensemble import RandomForestClassifier\nfrom sklearn.feature_extraction.text import CountVectorizer\nfrom sklearn.linear_model import SGDClassifier\nfrom sklearn.neighbors import KNeighborsClassifier\nfrom sklearn.linear_model import LinearRegression\nfrom sklearn.metrics import plot_confusion_matrix\nfrom nltk.stem import PorterStemmer\nfrom sklearn import tree\nimport random\n#import emoji\nimport warnings\nimport pickle\nimport seaborn as sns\nfrom sklearn.metrics import f1_score\nimport collections\nimport sys\nfrom nltk.stem import PorterStemmer\nsys.path.insert(0, '/work/twitter-nlp')\nfrom boilerplate import load_and_tokenize, pickling, open_jar\n",
   "execution_count": 1,
   "outputs": []
  },
  {
   "cell_type": "code",
   "metadata": {
    "cell_id": "4403954a33fa44e6bae10790bb73e5ed",
    "tags": [],
    "deepnote_to_be_reexecuted": false,
    "source_hash": "af85b4d3",
    "execution_start": 1655227446359,
    "execution_millis": 0,
    "deepnote_cell_type": "code",
    "deepnote_cell_height": 477.3125
   },
   "source": "# importing data, tokenize and pickle all the data\nhate_path = \"/work/twitter-nlp/data/tweeteval/datasets/hate\"\nemoji_path = \"/work/twitter-nlp/data/tweeteval/datasets/emoji\"\n\ndef tokenize_and_pickle(path, location):\n    files = glob.glob(path + \"/*.txt\")\n    for i in files:\n        if i == \"/work/twitter-nlp/data/tweeteval/datasets/hate/mapping.txt\" or i == \"/work/twitter-nlp/data/tweeteval/datasets/emoji/mapping.txt\":\n            pass\n        else:\n            if \"hate\" in path:\n                data = load_and_tokenize(i, \"Regex\")\n                new_path = location + \"/pickled_\" + i[35:-4] + \".pkl\"\n                # print(new_path)\n                pickling(data, new_path)\n            elif \"emoji\" in path:\n                data = load_and_tokenize(i, \"Regex\")\n                new_path = location + \"/pickled_\" + i[36:-4] + \".pkl\"\n                # print(new_path)\n                pickling(data, new_path)\n            \n# tokenize_and_pickle(hate_path, location=\"/work/twitter-nlp/data/pickle/tweeteval/hate\")\n# tokenize_and_pickle(emoji_path, location=\"/work/twitter-nlp/data/pickle/tweeteval/emoji\")",
   "execution_count": 2,
   "outputs": []
  },
  {
   "cell_type": "markdown",
   "source": "- [X] Split data into train - test, make stratified test-val iterable",
   "metadata": {
    "cell_id": "f0f9ef7801a54720a86bff86a9c9144e",
    "tags": [],
    "deepnote_cell_type": "markdown",
    "deepnote_cell_height": 69.65625
   }
  },
  {
   "cell_type": "code",
   "metadata": {
    "cell_id": "40c01d4f58bd4d6bb9407e47e0e0b956",
    "tags": [],
    "deepnote_to_be_reexecuted": false,
    "source_hash": "2becfaa4",
    "execution_start": 1655227446366,
    "execution_millis": 55,
    "deepnote_cell_type": "code",
    "deepnote_cell_height": 255.265625
   },
   "source": "# hatespeech splitting of train and test groups\ntrain_txt = open_jar('/work/twitter-nlp/data/pickle/tweeteval/hate/pickled_train_text.pkl')\ntrain_labels = pd.DataFrame(open_jar('/work/twitter-nlp/data/pickle/tweeteval/hate/pickled_train_labels.pkl'))\nval_txt = open_jar('/work/twitter-nlp/data/pickle/tweeteval/hate/pickled_val_text.pkl')\nval_labels = pd.DataFrame(open_jar('/work/twitter-nlp/data/pickle/tweeteval/hate/pickled_val_labels.pkl'))\nX_train_txt = train_txt.copy()\nX_train_txt.extend(val_txt)\ny_train = pd.concat([train_labels,val_labels], ignore_index=True)\nprint(y_train.shape)",
   "execution_count": 3,
   "outputs": [
    {
     "name": "stdout",
     "text": "(10000, 1)\n",
     "output_type": "stream"
    }
   ]
  },
  {
   "cell_type": "code",
   "metadata": {
    "cell_id": "d7b3b8b5e15a4a2b8475160b57d38663",
    "tags": [],
    "deepnote_to_be_reexecuted": false,
    "source_hash": "4dad0",
    "execution_start": 1655227446420,
    "execution_millis": 10,
    "deepnote_cell_type": "code",
    "deepnote_cell_height": 135.3125
   },
   "source": "#pickling(X_train_txt,'/work/twitter-nlp/data/tweeteval/datasets/hate/final_x_train_txt.pkl')\n#open_jar('/work/twitter-nlp/data/tweeteval/datasets/hate/final_x_train_txt.pkl')\n#pickling(y_train,'/work/twitter-nlp/data/tweeteval/datasets/hate/final_y_train_txt.pkl')\n#open_jar('/work/twitter-nlp/data/tweeteval/datasets/hate/final_y_train_txt.pkl')",
   "execution_count": 4,
   "outputs": []
  },
  {
   "cell_type": "code",
   "metadata": {
    "cell_id": "319f64615efd453784e4b302efbe5c00",
    "tags": [],
    "deepnote_to_be_reexecuted": false,
    "source_hash": "856fc18f",
    "execution_start": 1655227446434,
    "execution_millis": 669,
    "deepnote_table_state": {
     "pageSize": 10,
     "pageIndex": 1,
     "filters": [],
     "sortBy": []
    },
    "deepnote_table_loading": false,
    "deepnote_cell_type": "code",
    "deepnote_cell_height": 273.28125
   },
   "source": "# emoji splitting of train and test groups\ntrain_txt_emoji = open_jar('/work/twitter-nlp/data/pickle/tweeteval/emoji/pickled_train_text.pkl')\ntrain_labels_emoji = pd.DataFrame(open_jar('/work/twitter-nlp/data/pickle/tweeteval/emoji/pickled_train_labels.pkl'))\nval_txt_emoji = open_jar('/work/twitter-nlp/data/pickle/tweeteval/emoji/pickled_val_text.pkl')\nval_labels_emoji = pd.DataFrame(open_jar('/work/twitter-nlp/data/pickle/tweeteval/emoji/pickled_val_labels.pkl'))\nX_train_txt_emoji = train_txt_emoji.copy()\nX_train_txt_emoji.extend(val_txt_emoji)\ny_train_emoji = pd.concat([train_labels_emoji,val_labels_emoji], ignore_index=True).astype(int)\nprint(y_train_emoji.shape)\nemoji_classes= pd.read_csv(\"/work/twitter-nlp/data/tweeteval/datasets/emoji/mapping.txt\", sep = \"\t\", header=None)",
   "execution_count": 5,
   "outputs": [
    {
     "name": "stdout",
     "text": "(50000, 1)\n",
     "output_type": "stream"
    }
   ]
  },
  {
   "cell_type": "code",
   "metadata": {
    "cell_id": "a0a60b4e69e24c89b340b552db483ebb",
    "tags": [],
    "deepnote_to_be_reexecuted": false,
    "source_hash": "51e76491",
    "execution_start": 1655227446681,
    "execution_millis": 4,
    "deepnote_cell_type": "code",
    "deepnote_cell_height": 171.3125
   },
   "source": "def unpack_tokens(data):\n    corpus_unpacked = []\n    for line in data:\n        corpus_unpacked.extend(word for word in line)\n    lowercase_transition = (map(lambda x: x.lower(), corpus_unpacked))\n    return list(lowercase_transition)",
   "execution_count": 6,
   "outputs": []
  },
  {
   "cell_type": "code",
   "metadata": {
    "cell_id": "78ef371f4a7740b8accc41fc701f4fb7",
    "tags": [],
    "deepnote_to_be_reexecuted": false,
    "source_hash": "ab973de7",
    "execution_start": 1655227446687,
    "execution_millis": 13752,
    "deepnote_cell_type": "code",
    "deepnote_cell_height": 279.3125
   },
   "source": "def get_vocabulary_size(train):\n    ps = PorterStemmer()\n    unpacked_tokens = unpack_tokens(train)\n    stemmed_tokens = []\n\n    for i in unpacked_tokens:\n        stemmed_tokens.append(ps.stem(i))\n\n    return len(stemmed_tokens)\n\nvocabulary_size_hate = get_vocabulary_size(X_train_txt)\nvocabulary_size_emoji = get_vocabulary_size(X_train_txt_emoji)",
   "execution_count": 7,
   "outputs": []
  },
  {
   "cell_type": "code",
   "metadata": {
    "cell_id": "f412162c0b6a41feb8895331909cbb34",
    "tags": [],
    "deepnote_to_be_reexecuted": false,
    "source_hash": "a0075770",
    "execution_start": 1655227460444,
    "execution_millis": 647,
    "deepnote_cell_type": "code",
    "deepnote_cell_height": 118.296875,
    "deepnote_output_heights": [
     20.8125
    ]
   },
   "source": "vocabulary_size_emoji",
   "execution_count": 8,
   "outputs": [
    {
     "output_type": "execute_result",
     "execution_count": 8,
     "data": {
      "text/plain": "570452"
     },
     "metadata": {}
    }
   ]
  },
  {
   "cell_type": "code",
   "metadata": {
    "cell_id": "632cf0ce2d6b4d07947a9d5e0a277936",
    "tags": [],
    "deepnote_to_be_reexecuted": false,
    "source_hash": "91003f94",
    "execution_start": 1655227460505,
    "execution_millis": 3524,
    "deepnote_cell_type": "code",
    "deepnote_cell_height": 315.3125
   },
   "source": "# porter stemming the x_train_txt of the hatespeech dataset\n\ndef porter_stem():\n    ps = PorterStemmer()\n    outer = []\n\n    for i in X_train_txt:\n        inner = []\n        for x in i:\n            inner.append(ps.stem(x))\n        outer.append(inner)\n    return outer\n\nX_train_stemmed = porter_stem()",
   "execution_count": 9,
   "outputs": []
  },
  {
   "cell_type": "markdown",
   "source": "- [X] Run all classification experiments on both of the tasks you’ve chosen (one binary and one multi-class task). ",
   "metadata": {
    "cell_id": "8d071ad117974dc8b6d3708c8057f2a6",
    "tags": [],
    "deepnote_cell_type": "markdown",
    "deepnote_cell_height": 92.015625
   }
  },
  {
   "cell_type": "markdown",
   "source": "## Hatespeech Model Training:",
   "metadata": {
    "cell_id": "17bf6c7467fe4778b9b74bfd67b5ff5a",
    "tags": [],
    "deepnote_cell_type": "markdown",
    "deepnote_cell_height": 56.203125
   }
  },
  {
   "cell_type": "code",
   "metadata": {
    "cell_id": "4dc9cb6105a54e55809bc47f08ec2b96",
    "tags": [],
    "deepnote_to_be_reexecuted": false,
    "source_hash": "865de426",
    "execution_start": 1655227464037,
    "execution_millis": 4,
    "deepnote_cell_type": "code",
    "deepnote_cell_height": 99.3125
   },
   "source": "# list_of_classifiers_hate = []\n# l_o_classifiers = ['KNN','SGDC','MultinomialNB','DTC','RF']",
   "execution_count": 10,
   "outputs": []
  },
  {
   "cell_type": "code",
   "metadata": {
    "cell_id": "d96eea045e33428fb6fbc0b6e3adf17a",
    "tags": [],
    "deepnote_to_be_reexecuted": false,
    "source_hash": "3b1310a1",
    "execution_start": 1655227464048,
    "execution_millis": 6,
    "deepnote_cell_type": "code",
    "deepnote_cell_height": 1215.3125
   },
   "source": "warnings.filterwarnings('ignore')\ndef classify_hate(model, vocabulary_size, X_train_txt, y_train, confusion_matrix = False, tree1 = False, save_model=False, loss = 'log', alpha=0.0001):\n    is_partial = False\n    cv = CountVectorizer(max_features = vocabulary_size)\n    train = [' '.join(x) for x in X_train_txt]\n    X = cv.fit_transform(train).toarray()\n    y = list(y_train[0])\n\n    if model == 'KNN':\n        classifier = KNeighborsClassifier(n_neighbors = 5)\n    elif model == \"SGDC\":\n        classifier = SGDClassifier(loss=loss, alpha = alpha)\n        is_partial = True\n    elif model == \"MultinomialNB\":\n        classifier = MultinomialNB()\n        is_partial = True\n    elif model == \"DTC\":\n        classifier = DecisionTreeClassifier()\n    elif model == \"RF\":\n        classifier = RandomForestClassifier(n_estimators=100, criterion=\"entropy\", random_state = 0)\n    if is_partial:\n        sss = StratifiedShuffleSplit(n_splits=5, test_size=0.2, random_state=0)\n        sss.get_n_splits(X, y_train)\n        y_train_1 = y_train.copy().to_numpy().astype(int)\n        i = 0\n        for train_index, test_index in sss.split(X, y_train_1):\n            X_train_s, X_val_s = X[train_index], X[test_index]\n            y_train_s, y_val_s= y_train_1[train_index], y_train_1[test_index]\n            if i==0:\n                classifier.partial_fit(X_train_s, y_train_s, classes = [0,1])\n            else:\n                classifier.partial_fit(X_train_s, y_train_s)\n        X_test,y_test = X_val_s,y_val_s\n        pred = classifier.predict(X_val_s)\n        acc_score = accuracy_score(y_test, pred)\n        f1score = f1_score(y_val_s, pred)\n        recallscore = recall_score(y_test, pred)\n        precscore = precision_score(y_test, pred)\n    else:               \n        X_train, X_test, y_train_1, y_test = train_test_split(\n                X, y, test_size = 0.25, random_state = 0)\n        classifier.fit(X_train, y_train_1)\n        pred = classifier.predict(X_test)\n        acc_score = accuracy_score(y_test, pred)\n        f1score = f1_score(y_test, pred, pos_label='0')\n        recallscore = recall_score(y_test, pred, pos_label='0')\n        precscore = precision_score(y_test, pred, pos_label='0')\n    if confusion_matrix == True:\n        plot_confusion_matrix(classifier, X_test, y_test)\n    if tree1 == True:\n        # print(\"Plotting Decision Tree...\")\n        text_representation = tree.export_text(classifier, feature_names = list(cv.get_feature_names_out()))\n        # print(text_representation)\n        fig = plt.figure(figsize=(25,20))\n        _ = tree.plot_tree(classifier, feature_names = list(cv.get_feature_names_out()), class_names=['non-hatespeech', 'hatespeech'])\n        plt.savefig(\"tree.svg\", format=\"svg\")\n\n    if save_model == True:\n        filename = '/work/twitter-nlp/data/pickle/models/hatespeech_model_RF.sav'\n        pickling(classifier,filename)\n        # list_of_classifiers_hate.append(classifier)\n\n    return f1score, acc_score, recallscore, precscore\n",
   "execution_count": 11,
   "outputs": []
  },
  {
   "cell_type": "code",
   "metadata": {
    "cell_id": "3b9f2872cd634a7d82a47308eb2b086d",
    "tags": [],
    "deepnote_to_be_reexecuted": false,
    "source_hash": "17dad710",
    "execution_start": 1655227464058,
    "execution_millis": 61621,
    "deepnote_cell_type": "code",
    "deepnote_cell_height": 118.296875,
    "deepnote_output_heights": [
     20.8125
    ]
   },
   "source": "classify_hate('RF', vocabulary_size_hate, X_train_txt, y_train, confusion_matrix = False, save_model=True)",
   "execution_count": 12,
   "outputs": [
    {
     "output_type": "execute_result",
     "execution_count": 12,
     "data": {
      "text/plain": "(0.8114359139094122, 0.7652, 0.8856942496493688, 0.7486662714878483)"
     },
     "metadata": {}
    }
   ]
  },
  {
   "cell_type": "markdown",
   "source": "To better understand the results, we show the ratio of hatespeech, and not hatespeech below. <br/>",
   "metadata": {
    "cell_id": "515b01205ada4043873fadcc0bfd7fcb",
    "tags": [],
    "deepnote_cell_type": "markdown",
    "deepnote_cell_height": 75.03125
   }
  },
  {
   "cell_type": "code",
   "source": "y_train[0]",
   "metadata": {
    "cell_id": "8123e858ff2844cf881040915bc86e5b",
    "tags": [],
    "deepnote_to_be_reexecuted": true,
    "source_hash": "848d4281",
    "deepnote_cell_type": "code",
    "deepnote_cell_height": 66.3125
   },
   "outputs": [],
   "execution_count": null
  },
  {
   "cell_type": "code",
   "metadata": {
    "cell_id": "487ec7b4a7af4321ac0f2a1a6fef17e3",
    "tags": [],
    "deepnote_to_be_reexecuted": false,
    "source_hash": "96c2ec08",
    "execution_start": 1655227525676,
    "execution_millis": 114,
    "deepnote_cell_type": "code",
    "deepnote_cell_height": 349.3125,
    "deepnote_output_heights": [
     232.984375
    ]
   },
   "source": "plt.rcParams['font.size'] = 11.0\nplt.pie(collections.Counter(list(y_train[0])).values(), labels=['Not hate speech','Hate speech'],colors=['#eab676','#2596be'],explode=(0, 0.1), autopct = lambda p:f'{p:.2f}%');",
   "execution_count": 13,
   "outputs": [
    {
     "data": {
      "text/plain": "<Figure size 432x288 with 1 Axes>",
      "image/png": "[encoded data removed]"
     },
     "metadata": {
      "image/png": {
       "width": 231,
       "height": 231
      }
     },
     "output_type": "display_data"
    }
   ]
  },
  {
   "cell_type": "markdown",
   "source": "Based on this we deduced that our results were acceptable. ",
   "metadata": {
    "cell_id": "1ec64681cd9b42b2881e31b4dbacff12",
    "tags": [],
    "deepnote_cell_type": "markdown",
    "deepnote_cell_height": 52.671875
   }
  },
  {
   "cell_type": "code",
   "metadata": {
    "cell_id": "987e457fd96c40d1a991740d50d6358e",
    "tags": [],
    "deepnote_to_be_reexecuted": false,
    "source_hash": "22b4ac21",
    "execution_start": 1655227525831,
    "execution_millis": 6,
    "deepnote_cell_type": "code",
    "deepnote_cell_height": 207.3125
   },
   "source": "# for evaluating each model \n\ndef eval_models():\n    models = [\"KNN\", \"SGDC\", 'MultinomialNB','DTC', 'RF']\n    li = {}\n    for model in models:\n        li.setdefault(model, classify_hate(model, vocabulary_size_hate, X_train_txt, y_train))\n    return li",
   "execution_count": 14,
   "outputs": []
  },
  {
   "cell_type": "markdown",
   "source": "# Hate speech functions",
   "metadata": {
    "cell_id": "d82ccf58e6ae45bc8cd8f722673bfc19",
    "tags": [],
    "deepnote_cell_type": "markdown",
    "deepnote_cell_height": 60.90625
   }
  },
  {
   "cell_type": "markdown",
   "source": "Testing different types of loss for the SGDC classifier on the hatespeech dataset",
   "metadata": {
    "cell_id": "c2bac0fde40c4a5ca4935792c1da2ac5",
    "tags": [],
    "deepnote_cell_type": "markdown",
    "deepnote_cell_height": 52.671875
   }
  },
  {
   "cell_type": "code",
   "metadata": {
    "cell_id": "0de74ee912e44ba69cc57e17d19a3910",
    "tags": [],
    "deepnote_to_be_reexecuted": false,
    "source_hash": "8810014c",
    "execution_start": 1655227525842,
    "execution_millis": 7,
    "deepnote_cell_type": "code",
    "deepnote_cell_height": 448.875,
    "deepnote_output_heights": [
     171.390625
    ]
   },
   "source": "def test_losses():\n    losses = ['hinge','modified_huber','log','squared_hinge','perceptron','squared_error','huber','epsilon_insensitive','squared_epsilon_insensitive']\n    scores = {s:0 for s in losses}\n    for _ in range(10):\n        for loss in losses:\n            print(loss)\n            scores[loss]+=float(classify_hate('SGDC',loss=loss)[0])/10\n    return scores\n\n# test_losses()\nopen_jar('/work/twitter-nlp/data/pickle/models/hate/loss_scores.pkl')",
   "execution_count": 15,
   "outputs": [
    {
     "output_type": "execute_result",
     "execution_count": 15,
     "data": {
      "text/plain": "{'hinge': 0.7349062239347153,\n 'modified_huber': 0.7355510840948916,\n 'log': 0.7611404875154572,\n 'squared_hinge': 0.7372772172334918,\n 'perceptron': 0.7200106374683496,\n 'squared_error': 0.4324811728108835,\n 'huber': 0.7106919452830548,\n 'epsilon_insensitive': 0.502026632077352,\n 'squared_epsilon_insensitive': 0.42780788875914944}"
     },
     "metadata": {}
    }
   ]
  },
  {
   "cell_type": "markdown",
   "source": "Testing impact of parameter alpha on the overall performance of the SGDC classifier:",
   "metadata": {
    "cell_id": "3c5d1361f4fb4cec85036b3a84f3a126",
    "tags": [],
    "deepnote_cell_type": "markdown",
    "deepnote_cell_height": 52.671875
   }
  },
  {
   "cell_type": "code",
   "metadata": {
    "cell_id": "6e6b0a87626a44c19bd09fd4ba7a3b6d",
    "tags": [],
    "deepnote_to_be_reexecuted": false,
    "source_hash": "58af0a0",
    "execution_start": 1655227525852,
    "execution_millis": 4,
    "deepnote_cell_type": "code",
    "deepnote_cell_height": 387.3125
   },
   "source": "def alpha_sgdc_test():\n    alpha_scores = {max([0.0001 * s * s,0.0001]):0 for s in range(0,100,10)}\n\n    for _ in range(10):\n        for i in range(0,100,10):\n            coef = max([0.0001 * i * i,0.0001]) \n            alpha_scores[coef] += float(classify_hate(\n                'SGDC',\n                vocabulary_size_hate, \n                X_train_txt, \n                y_train, \n                loss='log', \n                alpha = coef\n                )[0])/10\n    \n    pickling(alpha_scores,'/work/twitter-nlp/data/pickle/models/hate/alpha_scores.pkl')\n    \n# alpha_sgdc_test()",
   "execution_count": 16,
   "outputs": []
  },
  {
   "cell_type": "code",
   "metadata": {
    "cell_id": "73a0eb22338b4869892409520d8fd9be",
    "tags": [],
    "deepnote_to_be_reexecuted": false,
    "source_hash": "301e27fa",
    "execution_start": 1655227525858,
    "execution_millis": 3,
    "deepnote_cell_type": "code",
    "deepnote_cell_height": 99.3125
   },
   "source": "alpha_scores = open_jar('/work/twitter-nlp/data/pickle/models/hate/alpha_scores.pkl')\n# alpha_scores",
   "execution_count": 17,
   "outputs": []
  },
  {
   "cell_type": "markdown",
   "source": "Printing final alpha scores TODO",
   "metadata": {
    "cell_id": "9795068cda9d4351b9fd436926fff39d",
    "tags": [],
    "deepnote_cell_type": "markdown",
    "deepnote_cell_height": 52.671875
   }
  },
  {
   "cell_type": "code",
   "metadata": {
    "cell_id": "a011f98ce9e046a6b15cbdf976c10f4d",
    "tags": [],
    "deepnote_to_be_reexecuted": false,
    "source_hash": "776dce78",
    "execution_start": 1655227525931,
    "execution_millis": 7333,
    "deepnote_cell_type": "code",
    "deepnote_cell_height": 81.3125
   },
   "source": "multi=classify_hate(\"MultinomialNB\", vocabulary_size_hate, X_train_txt, y_train)",
   "execution_count": 18,
   "outputs": []
  },
  {
   "cell_type": "code",
   "metadata": {
    "cell_id": "8f490fece1834206af02f98366a6ee04",
    "tags": [],
    "deepnote_to_be_reexecuted": false,
    "source_hash": "bde4742f",
    "execution_start": 1655227533297,
    "execution_millis": 8141,
    "deepnote_cell_type": "code",
    "deepnote_cell_height": 81.3125
   },
   "source": "sgd=classify_hate(\"SGDC\", vocabulary_size_hate, X_train_txt, y_train)",
   "execution_count": 19,
   "outputs": []
  },
  {
   "cell_type": "code",
   "metadata": {
    "cell_id": "3e8f805eccea4cd6a1d9e19455a7de15",
    "tags": [],
    "deepnote_to_be_reexecuted": false,
    "source_hash": "aa61affb",
    "execution_start": 1655227541493,
    "execution_millis": 20984,
    "deepnote_cell_type": "code",
    "deepnote_cell_height": 81.3125
   },
   "source": "knn=classify_hate(\"KNN\", vocabulary_size_hate, X_train_txt, y_train)",
   "execution_count": 20,
   "outputs": []
  },
  {
   "cell_type": "code",
   "metadata": {
    "cell_id": "299fffba23a04a7db830244cc303358c",
    "tags": [],
    "deepnote_to_be_reexecuted": false,
    "source_hash": "32d87214",
    "execution_start": 1655227562493,
    "execution_millis": 31898,
    "deepnote_cell_type": "code",
    "deepnote_cell_height": 81.3125
   },
   "source": "dtc=classify_hate('DTC', vocabulary_size_hate, X_train_txt, y_train)",
   "execution_count": 21,
   "outputs": []
  },
  {
   "cell_type": "code",
   "metadata": {
    "cell_id": "09b67def161d4e8c9f1bb49d5ab487fb",
    "tags": [],
    "deepnote_to_be_reexecuted": false,
    "source_hash": "adede5af",
    "execution_start": 1655227594392,
    "execution_millis": 59664,
    "deepnote_cell_type": "code",
    "deepnote_cell_height": 81.3125
   },
   "source": "rf=classify_hate('RF', vocabulary_size_hate, X_train_txt, y_train)",
   "execution_count": 22,
   "outputs": []
  },
  {
   "cell_type": "code",
   "source": "multi",
   "metadata": {
    "cell_id": "67354214af634fc4a10293f599daaee1",
    "tags": [],
    "deepnote_to_be_reexecuted": false,
    "source_hash": "57867fe6",
    "execution_start": 1655227654059,
    "execution_millis": 6,
    "deepnote_cell_type": "code",
    "deepnote_cell_height": 118.296875,
    "deepnote_output_heights": [
     20.8125
    ]
   },
   "outputs": [
    {
     "output_type": "execute_result",
     "execution_count": 23,
     "data": {
      "text/plain": "(0.8659440958357103, 0.8825, 0.9014251781472684, 0.8331503841931943)"
     },
     "metadata": {}
    }
   ],
   "execution_count": 23
  },
  {
   "cell_type": "code",
   "source": "lol = [multi, sgd, knn, dtc, rf]\ndf = pd.DataFrame.from_records(lol, columns =['F1 score', 'Accuracy Score', 'Recall Score', 'Precision Score'])",
   "metadata": {
    "cell_id": "76ff278cebec410b8a0cdb98c79c0958",
    "tags": [],
    "deepnote_to_be_reexecuted": false,
    "source_hash": "af45a125",
    "execution_start": 1655227654066,
    "execution_millis": 5,
    "deepnote_cell_type": "code",
    "deepnote_cell_height": 99.3125
   },
   "outputs": [],
   "execution_count": 24
  },
  {
   "cell_type": "code",
   "source": "",
   "metadata": {
    "cell_id": "acb4e311204642379f56824ea08a3da4",
    "tags": [],
    "deepnote_to_be_reexecuted": false,
    "source_hash": "b623e53d",
    "execution_start": 1655227654074,
    "execution_millis": 0,
    "deepnote_cell_type": "code",
    "deepnote_cell_height": 81.3125
   },
   "outputs": [],
   "execution_count": 24
  },
  {
   "cell_type": "code",
   "source": "df.to_csv('/work/twitter-nlp/streamlit/data/hs_scores.csv')",
   "metadata": {
    "cell_id": "9b20800689f8479db398b2b5f78a91b1",
    "tags": [],
    "deepnote_to_be_reexecuted": false,
    "source_hash": "bdebd2f4",
    "execution_start": 1655227654075,
    "execution_millis": 265,
    "deepnote_cell_type": "code",
    "deepnote_cell_height": 81.3125
   },
   "outputs": [],
   "execution_count": 25
  },
  {
   "cell_type": "code",
   "metadata": {
    "cell_id": "f8f11294c29b41acb10c5feb6f53292a",
    "tags": [],
    "deepnote_to_be_reexecuted": false,
    "source_hash": "307964ea",
    "execution_start": 1655227654355,
    "execution_millis": 619,
    "deepnote_cell_type": "code",
    "deepnote_cell_height": 543.453125,
    "deepnote_output_heights": [
     265.96875
    ]
   },
   "source": "fig, axes = plt.subplots(figsize=(9, 4))\nx = [1,2,3,4]\naxes.plot(x,multi,label='MultinomialNB', marker='o')\naxes.plot(x,sgd,label='SGD Classifier', marker='o')\naxes.plot(x,knn,label='K-Nearest neighbors', marker='o')\naxes.plot(x,dtc,label='Decision Tree', marker='o')\naxes.plot(x,rf,label='Random Forest', marker='o')\naxes.set_xticks([1,2,3,4])\naxes.set_xticklabels([\"F1 Score\", \"Accuracy Score\", \"Recall Score\", \"Precision Score\"]), \naxes.set_title(\"Hatespeech Different Model Scores\")\naxes.legend();",
   "execution_count": 26,
   "outputs": [
    {
     "data": {
      "text/plain": "<Figure size 648x288 with 1 Axes>",
      "image/png": "[encoded data removed]"
     },
     "metadata": {
      "needs_background": "light",
      "image/png": {
       "width": 560,
       "height": 264
      }
     },
     "output_type": "display_data"
    }
   ]
  },
  {
   "cell_type": "markdown",
   "source": "## Emoji Prediction Model Training:",
   "metadata": {
    "cell_id": "1311f323936d4464930cab1dbe8f67c6",
    "tags": [],
    "deepnote_cell_type": "markdown",
    "deepnote_cell_height": 56.203125
   }
  },
  {
   "cell_type": "code",
   "metadata": {
    "cell_id": "b31e3dad47914da6b2659e0e10cc28f7",
    "tags": [],
    "deepnote_to_be_reexecuted": false,
    "source_hash": "11d94e33",
    "execution_start": 1655227654989,
    "execution_millis": 4,
    "deepnote_cell_type": "code",
    "deepnote_cell_height": 136.296875,
    "deepnote_output_heights": [
     20.8125
    ]
   },
   "source": "five_split_txt_emoji = np.array_split(X_train_txt_emoji, 5)\nlen(five_split_txt_emoji[0])",
   "execution_count": 27,
   "outputs": [
    {
     "output_type": "execute_result",
     "execution_count": 27,
     "data": {
      "text/plain": "10000"
     },
     "metadata": {}
    }
   ]
  },
  {
   "cell_type": "code",
   "metadata": {
    "cell_id": "dc92803867014bc585b4403c8beedc3a",
    "tags": [],
    "deepnote_to_be_reexecuted": false,
    "source_hash": "357b80d",
    "execution_start": 1655227654998,
    "execution_millis": 5,
    "deepnote_cell_type": "code",
    "deepnote_cell_height": 240.5625
   },
   "source": "five_split_labels_emoji = np.array_split(y_train_emoji,5)\ntest = len(five_split_labels_emoji[0])\nfor i in range(5):\n    print(test == len(five_split_labels_emoji[i]) and test == len(five_split_txt_emoji[i]))",
   "execution_count": 28,
   "outputs": [
    {
     "name": "stdout",
     "text": "True\nTrue\nTrue\nTrue\nTrue\n",
     "output_type": "stream"
    }
   ]
  },
  {
   "cell_type": "markdown",
   "source": "Showing ratio of labels in our emoji dataset:",
   "metadata": {
    "cell_id": "092bfada45154aa1b746a3cef04fe39a",
    "tags": [],
    "deepnote_cell_type": "markdown",
    "deepnote_cell_height": 52.671875
   }
  },
  {
   "cell_type": "code",
   "metadata": {
    "cell_id": "739179b885f24ee3a46659ee837f5bda",
    "tags": [],
    "deepnote_to_be_reexecuted": false,
    "source_hash": "8999fdfa",
    "execution_start": 1655227655051,
    "execution_millis": 611,
    "deepnote_cell_type": "code",
    "deepnote_cell_height": 544.296875,
    "deepnote_output_heights": [
     391.90625
    ]
   },
   "source": "plt.rcParams['font.size'] = 11.0\nplt.figure(figsize=(10, 10))\nplt.pie(collections.Counter(list(y_train_emoji[0])).values(), labels=list(emoji_classes[2]), autopct = lambda p:f'{p:.2f}%');\n",
   "execution_count": 29,
   "outputs": [
    {
     "data": {
      "text/plain": "<Figure size 720x720 with 1 Axes>",
      "image/png": "[encoded data removed]"
     },
     "metadata": {
      "image/png": {
       "width": 830,
       "height": 558
      }
     },
     "output_type": "display_data"
    }
   ]
  },
  {
   "cell_type": "markdown",
   "source": "Training based on different models, all in one function, and plotting confusion matrix.",
   "metadata": {
    "cell_id": "63c09f0460bb4a14afd7ff2b9b9b0dfb",
    "tags": [],
    "deepnote_cell_type": "markdown",
    "deepnote_cell_height": 52.671875
   }
  },
  {
   "cell_type": "markdown",
   "source": "- [x] Evaluate your different classifiers on the validation set and report relevant evaluation metrics (accuracy, precision/recall/F-score).\n\n(see above for hatespeech scores)",
   "metadata": {
    "cell_id": "e598b39e83e34d44903663d0148beaa2",
    "tags": [],
    "deepnote_cell_type": "markdown",
    "deepnote_cell_height": 114.375
   }
  },
  {
   "cell_type": "code",
   "metadata": {
    "cell_id": "a06bd3b1892644cda50d9fe6dc0ada91",
    "tags": [],
    "deepnote_to_be_reexecuted": false,
    "source_hash": "846934ff",
    "execution_start": 1655227655670,
    "execution_millis": 1,
    "deepnote_cell_type": "code",
    "deepnote_cell_height": 423.3125
   },
   "source": "#helper function to classify emojis, using the stratified shuffle split\ndef partial_fitting_emoji(classifier):\n    global y_train_emoji\n    cv = CountVectorizer(max_features = 570452)\n    i = 0\n    for X, y in zip(five_split_txt_emoji,five_split_labels_emoji):\n        if i == 0:\n            X = cv.fit_transform([' '.join(s) for s in X]).toarray()\n        else:\n            X = cv.transform([' '.join(s) for s in X]).toarray()\n        X_train, X_test, y_train, y_test = train_test_split(X, y, test_size = 0.2, random_state = 0)\n        y_train, y_test = y_train.reset_index(drop=True), y_test.reset_index(drop=True)\n        if i==0:\n            classifier.partial_fit(X_train, y_train, classes = list(emoji_classes[0]))#Get classes for emoji\n        else:\n            classifier.partial_fit(X_train, y_train)\n        pred = classifier.predict(X_test)\n        scores = accuracy_score(y_test, pred)\n        i += 1\n    return scores, X_test, y_test, pred",
   "execution_count": 30,
   "outputs": []
  },
  {
   "cell_type": "code",
   "metadata": {
    "cell_id": "0bcc41fc10d14f6998003ee85f09af2c",
    "tags": [],
    "deepnote_to_be_reexecuted": false,
    "source_hash": "3c431f80",
    "execution_start": 1655227655729,
    "execution_millis": 15922,
    "deepnote_table_state": {
     "pageSize": 10,
     "pageIndex": 22,
     "filters": [],
     "sortBy": []
    },
    "deepnote_table_loading": false,
    "deepnote_cell_type": "code",
    "deepnote_cell_height": 1108.296875,
    "deepnote_output_heights": [
     20.8125
    ]
   },
   "source": "warnings.filterwarnings('ignore')\n\ndef classify_emoji(model, confusion_matrix = False, tree1 = False, save_model = False, loss='log', alpha = 0.0001):\n    is_partial = False\n    global y_train\n    if model == 'KNN':\n        classifier = KNeighborsClassifier(n_neighbors = 5)\n    elif model == \"SGDC\":\n        classifier = SGDClassifier(loss=loss, alpha=alpha)\n        is_partial = True\n    elif model == \"MultinomialNB\":\n        classifier = MultinomialNB()\n        is_partial = True\n    elif model == \"DTC\":\n        classifier = DecisionTreeClassifier()\n    elif model == 'GaussianNB':\n        classifier = GaussianNB()\n        is_partial = True\n    if is_partial:\n        acc_score, X_test,y_test, pred =  partial_fitting_emoji(classifier)\n        f1score = f1_score(y_test, pred, average='weighted')\n        recallscore = recall_score(y_test, pred, average='weighted')\n        precscore = precision_score(y_test, pred, average='weighted')\n    else:\n        cv = CountVectorizer(max_features = 570452)\n        scores = []\n        X, y = X_train_txt_emoji, y_train_emoji\n        X_train_emoji = cv.fit_transform([' '.join(s) for s in X])\n        pickling(cv,'/work/twitter-nlp/data/pickle/models/emoji/vectorizer_normal.pkl')\n        X_train, X_test, y_train, y_test = train_test_split(X_train_emoji, y, test_size = 0.25, random_state = 0)\n        y_train, y_test = y_train.reset_index(drop=True), y_test.reset_index(drop=True)\n        classifier.fit(X_train, y_train)\n        pred = classifier.predict(X_test)\n        f1score = f1_score(y_test,pred, average='weighted')\n        acc_score = accuracy_score(y_test, pred)\n        scores.append(acc_score)\n        recallscore = recall_score(y_test, pred, average='weighted')\n        precscore = precision_score(y_test, pred, average='weighted')\n    if confusion_matrix == True:\n        _, ax = plt.subplots(figsize=(10,10))\n        plot_confusion_matrix(classifier, X_test, y_test, ax = ax)\n    if tree1 == True:\n        print(\"Plotting Decision Tree...\")\n        text_representation = tree.export_text(classifier, feature_names = list(cv.get_feature_names_out()))\n        print(text_representation)\n        fig = plt.figure(figsize=(25,20))\n        _ = tree.plot_tree(classifier, feature_names = list(cv.get_feature_names_out()), class_names=emoji_classes[1])\n        plt.savefig(\"tree.svg\", format=\"svg\")\n\n    if save_model == True:\n        filename = '/work/twitter-nlp/data/pickle/models/emoji_KNN.sav'\n        pickling(classifier,filename)\n\n    return f1score,acc_score, recallscore, precscore\n    \nclassify_emoji(\"KNN\", confusion_matrix = False, save_model=True)",
   "execution_count": 31,
   "outputs": [
    {
     "output_type": "execute_result",
     "execution_count": 31,
     "data": {
      "text/plain": "(0.13797294044617345, 0.18792, 0.18792, 0.16311681521981702)"
     },
     "metadata": {}
    }
   ]
  },
  {
   "cell_type": "code",
   "metadata": {
    "cell_id": "ee139e11e6de4fbdaa8518877d73669e",
    "tags": [],
    "deepnote_to_be_reexecuted": false,
    "source_hash": "c8bdc832",
    "execution_start": 1655227671654,
    "execution_millis": 0,
    "deepnote_cell_type": "code",
    "deepnote_cell_height": 207.3125
   },
   "source": "def eval_emoji_models():\n    models = [\"KNN\", \"SGDC\", 'MultinomialNB','DTC', 'GaussianNB']\n    li = {}\n\n    for model in models:\n        acc_score, X_test,pred, f1score = classify_emoji(model)\n        li.setdefault(model, [acc_score, f1score])\n    return li",
   "execution_count": 32,
   "outputs": []
  },
  {
   "cell_type": "code",
   "metadata": {
    "cell_id": "cfedc69ece294fffa028c43999b60490",
    "tags": [],
    "deepnote_to_be_reexecuted": false,
    "source_hash": "9af6e1fd",
    "execution_start": 1655227671663,
    "execution_millis": 177873,
    "deepnote_cell_type": "code",
    "deepnote_cell_height": 211.296875,
    "deepnote_output_heights": [
     96.109375
    ]
   },
   "source": "li = eval_emoji_models()\nli",
   "outputs": [],
   "execution_count": null
  },
  {
   "cell_type": "code",
   "metadata": {
    "cell_id": "9ba627695e0b4b89b41437a03560706c",
    "tags": [],
    "deepnote_to_be_reexecuted": true,
    "source_hash": "a5f8cad6",
    "execution_start": 1655221916813,
    "execution_millis": 0,
    "deepnote_cell_type": "code",
    "deepnote_cell_height": 243.3125
   },
   "source": "def test_losses_emoji():\n    losses = ['hinge','modified_huber','log','squared_hinge','perceptron','squared_error','huber','epsilon_insensitive','squared_epsilon_insensitive']\n    scores = {s:0 for s in losses}\n    for _ in range(10):\n        for loss in losses:\n            scores[loss]+=float(classify_emoji('SGDC',loss=loss)[1])/10\n    return scores\n\n# scores = test_losses_emoji()\n# pickling(scores, '/work/twitter-nlp/data/pickle/models/emoji/log_scores.pkl')",
   "outputs": [],
   "execution_count": null
  },
  {
   "cell_type": "code",
   "metadata": {
    "cell_id": "b306a6c46ca64b2491e568079aa00e65",
    "tags": [],
    "deepnote_to_be_reexecuted": true,
    "source_hash": "3ba286ed",
    "execution_start": 1655221916814,
    "execution_millis": 3,
    "deepnote_cell_type": "code",
    "deepnote_cell_height": 268.875,
    "deepnote_output_heights": [
     171.390625
    ]
   },
   "source": "open_jar('/work/twitter-nlp/data/pickle/models/emoji/log_scores.pkl')",
   "outputs": [
    {
     "output_type": "execute_result",
     "execution_count": 32,
     "data": {
      "text/plain": "{'hinge': 0.2046,\n 'modified_huber': 0.18683999999999998,\n 'log': 0.23804,\n 'squared_hinge': 0.17944000000000002,\n 'perceptron': 0.1884,\n 'squared_error': 0.05008,\n 'huber': 0.16172000000000003,\n 'epsilon_insensitive': 0.07924,\n 'squared_epsilon_insensitive': 0.04632}"
     },
     "metadata": {}
    }
   ],
   "execution_count": null
  },
  {
   "cell_type": "code",
   "metadata": {
    "cell_id": "f997887321c1497ea54e2d3186927dc4",
    "tags": [],
    "deepnote_to_be_reexecuted": true,
    "source_hash": "c06e432b",
    "execution_start": 1655221916815,
    "execution_millis": 40,
    "deepnote_cell_type": "code",
    "deepnote_cell_height": 261.3125
   },
   "source": "def alpha_sgdc_test_emoji():\n    alpha_scores = {max([0.0001 * s * s,0.0001]):0 for s in range(0,100,10)}\n\n    for _ in range(10):\n        for i in range(0,100,10):\n            coef = max([0.0001 * i * i,0.0001]) \n            alpha_scores[coef]+=float(classify_emoji('SGDC', loss='log', alpha = coef)[1])/10\n    return alpha_scores\n\n# alpha_scores = alpha_sgdc_test_emoji()\n# pickling(alpha_scores,'/work/twitter-nlp/data/pickle/models/emoji/alpha_scores.pkl')",
   "outputs": [],
   "execution_count": null
  },
  {
   "cell_type": "markdown",
   "source": "- [x] For the system that achieves the highest accuracy on the validation set, run the evaluation on the test set and report your results.",
   "metadata": {
    "cell_id": "0b47e30eb74743d3be07330a9a69d7a9",
    "tags": [],
    "deepnote_cell_type": "markdown",
    "deepnote_cell_height": 92.015625
   }
  },
  {
   "cell_type": "code",
   "metadata": {
    "cell_id": "4e8f13339dec4b62b0d708c49788d0c9",
    "tags": [],
    "deepnote_to_be_reexecuted": true,
    "source_hash": "83851d9b",
    "execution_start": 1655221916855,
    "execution_millis": 967,
    "owner_user_id": "9623fb47-3762-4ef5-9146-5aaf0f397ef0",
    "deepnote_cell_type": "code",
    "deepnote_cell_height": 396.3125
   },
   "source": "def classify_sentence(text):\n    classifier = open_jar('/work/twitter-nlp/data/pickle/models/hatespeech_model_MultinomialNB2.sav')\n    cv = open_jar('/work/twitter-nlp/data/pickle/models/hate/vectorizer.pkl')\n    return classifier.predict_proba(cv.transform([text]).toarray())\n\ndef predict_list(df_column):\n    predict_list = []\n    for i in df_column:\n        line_data = classify_sentence([str(i)])\n        predict_list.append(line_data.tolist())\n    return predict_list\n\nx_test_txt = open_jar('/work/twitter-nlp/data/pickle/tweeteval/hate/pickled_test_text.pkl')\n\nresults = predict_list(x_test_txt)",
   "outputs": [
    {
     "output_type": "error",
     "ename": "AttributeError",
     "evalue": "'list' object has no attribute 'lower'",
     "traceback": [
      "\u001b[0;31m---------------------------------------------------------------------------\u001b[0m",
      "\u001b[0;31mAttributeError\u001b[0m                            Traceback (most recent call last)",
      "\u001b[0;32m<ipython-input-34-3fa80cc71e95>\u001b[0m in \u001b[0;36m<module>\u001b[0;34m\u001b[0m\n\u001b[1;32m     13\u001b[0m \u001b[0mx_test_txt\u001b[0m \u001b[0;34m=\u001b[0m \u001b[0mopen_jar\u001b[0m\u001b[0;34m(\u001b[0m\u001b[0;34m'/work/twitter-nlp/data/pickle/tweeteval/hate/pickled_test_text.pkl'\u001b[0m\u001b[0;34m)\u001b[0m\u001b[0;34m\u001b[0m\u001b[0;34m\u001b[0m\u001b[0m\n\u001b[1;32m     14\u001b[0m \u001b[0;34m\u001b[0m\u001b[0m\n\u001b[0;32m---> 15\u001b[0;31m \u001b[0mresults\u001b[0m \u001b[0;34m=\u001b[0m \u001b[0mpredict_list\u001b[0m\u001b[0;34m(\u001b[0m\u001b[0mx_test_txt\u001b[0m\u001b[0;34m)\u001b[0m\u001b[0;34m\u001b[0m\u001b[0;34m\u001b[0m\u001b[0m\n\u001b[0m",
      "\u001b[0;32m<ipython-input-34-3fa80cc71e95>\u001b[0m in \u001b[0;36mpredict_list\u001b[0;34m(df_column)\u001b[0m\n\u001b[1;32m      7\u001b[0m     \u001b[0mpredict_list\u001b[0m \u001b[0;34m=\u001b[0m \u001b[0;34m[\u001b[0m\u001b[0;34m]\u001b[0m\u001b[0;34m\u001b[0m\u001b[0;34m\u001b[0m\u001b[0m\n\u001b[1;32m      8\u001b[0m     \u001b[0;32mfor\u001b[0m \u001b[0mi\u001b[0m \u001b[0;32min\u001b[0m \u001b[0mdf_column\u001b[0m\u001b[0;34m:\u001b[0m\u001b[0;34m\u001b[0m\u001b[0;34m\u001b[0m\u001b[0m\n\u001b[0;32m----> 9\u001b[0;31m         \u001b[0mline_data\u001b[0m \u001b[0;34m=\u001b[0m \u001b[0mclassify_sentence\u001b[0m\u001b[0;34m(\u001b[0m\u001b[0;34m[\u001b[0m\u001b[0mstr\u001b[0m\u001b[0;34m(\u001b[0m\u001b[0mi\u001b[0m\u001b[0;34m)\u001b[0m\u001b[0;34m]\u001b[0m\u001b[0;34m)\u001b[0m\u001b[0;34m\u001b[0m\u001b[0;34m\u001b[0m\u001b[0m\n\u001b[0m\u001b[1;32m     10\u001b[0m         \u001b[0mpredict_list\u001b[0m\u001b[0;34m.\u001b[0m\u001b[0mappend\u001b[0m\u001b[0;34m(\u001b[0m\u001b[0mline_data\u001b[0m\u001b[0;34m.\u001b[0m\u001b[0mtolist\u001b[0m\u001b[0;34m(\u001b[0m\u001b[0;34m)\u001b[0m\u001b[0;34m)\u001b[0m\u001b[0;34m\u001b[0m\u001b[0;34m\u001b[0m\u001b[0m\n\u001b[1;32m     11\u001b[0m     \u001b[0;32mreturn\u001b[0m \u001b[0mpredict_list\u001b[0m\u001b[0;34m\u001b[0m\u001b[0;34m\u001b[0m\u001b[0m\n",
      "\u001b[0;32m<ipython-input-34-3fa80cc71e95>\u001b[0m in \u001b[0;36mclassify_sentence\u001b[0;34m(text)\u001b[0m\n\u001b[1;32m      2\u001b[0m     \u001b[0mclassifier\u001b[0m \u001b[0;34m=\u001b[0m \u001b[0mopen_jar\u001b[0m\u001b[0;34m(\u001b[0m\u001b[0;34m'/work/twitter-nlp/data/pickle/models/hatespeech_model_MultinomialNB2.sav'\u001b[0m\u001b[0;34m)\u001b[0m\u001b[0;34m\u001b[0m\u001b[0;34m\u001b[0m\u001b[0m\n\u001b[1;32m      3\u001b[0m     \u001b[0mcv\u001b[0m \u001b[0;34m=\u001b[0m \u001b[0mopen_jar\u001b[0m\u001b[0;34m(\u001b[0m\u001b[0;34m'/work/twitter-nlp/data/pickle/models/hate/vectorizer.pkl'\u001b[0m\u001b[0;34m)\u001b[0m\u001b[0;34m\u001b[0m\u001b[0;34m\u001b[0m\u001b[0m\n\u001b[0;32m----> 4\u001b[0;31m     \u001b[0;32mreturn\u001b[0m \u001b[0mclassifier\u001b[0m\u001b[0;34m.\u001b[0m\u001b[0mpredict_proba\u001b[0m\u001b[0;34m(\u001b[0m\u001b[0mcv\u001b[0m\u001b[0;34m.\u001b[0m\u001b[0mtransform\u001b[0m\u001b[0;34m(\u001b[0m\u001b[0;34m[\u001b[0m\u001b[0mtext\u001b[0m\u001b[0;34m]\u001b[0m\u001b[0;34m)\u001b[0m\u001b[0;34m.\u001b[0m\u001b[0mtoarray\u001b[0m\u001b[0;34m(\u001b[0m\u001b[0;34m)\u001b[0m\u001b[0;34m)\u001b[0m\u001b[0;34m\u001b[0m\u001b[0;34m\u001b[0m\u001b[0m\n\u001b[0m\u001b[1;32m      5\u001b[0m \u001b[0;34m\u001b[0m\u001b[0m\n\u001b[1;32m      6\u001b[0m \u001b[0;32mdef\u001b[0m \u001b[0mpredict_list\u001b[0m\u001b[0;34m(\u001b[0m\u001b[0mdf_column\u001b[0m\u001b[0;34m)\u001b[0m\u001b[0;34m:\u001b[0m\u001b[0;34m\u001b[0m\u001b[0;34m\u001b[0m\u001b[0m\n",
      "\u001b[0;32m/shared-libs/python3.7/py/lib/python3.7/site-packages/sklearn/feature_extraction/text.py\u001b[0m in \u001b[0;36mtransform\u001b[0;34m(self, raw_documents)\u001b[0m\n\u001b[1;32m   1377\u001b[0m \u001b[0;34m\u001b[0m\u001b[0m\n\u001b[1;32m   1378\u001b[0m         \u001b[0;31m# use the same matrix-building strategy as fit_transform\u001b[0m\u001b[0;34m\u001b[0m\u001b[0;34m\u001b[0m\u001b[0;34m\u001b[0m\u001b[0m\n\u001b[0;32m-> 1379\u001b[0;31m         \u001b[0m_\u001b[0m\u001b[0;34m,\u001b[0m \u001b[0mX\u001b[0m \u001b[0;34m=\u001b[0m \u001b[0mself\u001b[0m\u001b[0;34m.\u001b[0m\u001b[0m_count_vocab\u001b[0m\u001b[0;34m(\u001b[0m\u001b[0mraw_documents\u001b[0m\u001b[0;34m,\u001b[0m \u001b[0mfixed_vocab\u001b[0m\u001b[0;34m=\u001b[0m\u001b[0;32mTrue\u001b[0m\u001b[0;34m)\u001b[0m\u001b[0;34m\u001b[0m\u001b[0;34m\u001b[0m\u001b[0m\n\u001b[0m\u001b[1;32m   1380\u001b[0m         \u001b[0;32mif\u001b[0m \u001b[0mself\u001b[0m\u001b[0;34m.\u001b[0m\u001b[0mbinary\u001b[0m\u001b[0;34m:\u001b[0m\u001b[0;34m\u001b[0m\u001b[0;34m\u001b[0m\u001b[0m\n\u001b[1;32m   1381\u001b[0m             \u001b[0mX\u001b[0m\u001b[0;34m.\u001b[0m\u001b[0mdata\u001b[0m\u001b[0;34m.\u001b[0m\u001b[0mfill\u001b[0m\u001b[0;34m(\u001b[0m\u001b[0;36m1\u001b[0m\u001b[0;34m)\u001b[0m\u001b[0;34m\u001b[0m\u001b[0;34m\u001b[0m\u001b[0m\n",
      "\u001b[0;32m/shared-libs/python3.7/py/lib/python3.7/site-packages/sklearn/feature_extraction/text.py\u001b[0m in \u001b[0;36m_count_vocab\u001b[0;34m(self, raw_documents, fixed_vocab)\u001b[0m\n\u001b[1;32m   1199\u001b[0m         \u001b[0;32mfor\u001b[0m \u001b[0mdoc\u001b[0m \u001b[0;32min\u001b[0m \u001b[0mraw_documents\u001b[0m\u001b[0;34m:\u001b[0m\u001b[0;34m\u001b[0m\u001b[0;34m\u001b[0m\u001b[0m\n\u001b[1;32m   1200\u001b[0m             \u001b[0mfeature_counter\u001b[0m \u001b[0;34m=\u001b[0m \u001b[0;34m{\u001b[0m\u001b[0;34m}\u001b[0m\u001b[0;34m\u001b[0m\u001b[0;34m\u001b[0m\u001b[0m\n\u001b[0;32m-> 1201\u001b[0;31m             \u001b[0;32mfor\u001b[0m \u001b[0mfeature\u001b[0m \u001b[0;32min\u001b[0m \u001b[0manalyze\u001b[0m\u001b[0;34m(\u001b[0m\u001b[0mdoc\u001b[0m\u001b[0;34m)\u001b[0m\u001b[0;34m:\u001b[0m\u001b[0;34m\u001b[0m\u001b[0;34m\u001b[0m\u001b[0m\n\u001b[0m\u001b[1;32m   1202\u001b[0m                 \u001b[0;32mtry\u001b[0m\u001b[0;34m:\u001b[0m\u001b[0;34m\u001b[0m\u001b[0;34m\u001b[0m\u001b[0m\n\u001b[1;32m   1203\u001b[0m                     \u001b[0mfeature_idx\u001b[0m \u001b[0;34m=\u001b[0m \u001b[0mvocabulary\u001b[0m\u001b[0;34m[\u001b[0m\u001b[0mfeature\u001b[0m\u001b[0;34m]\u001b[0m\u001b[0;34m\u001b[0m\u001b[0;34m\u001b[0m\u001b[0m\n",
      "\u001b[0;32m/shared-libs/python3.7/py/lib/python3.7/site-packages/sklearn/feature_extraction/text.py\u001b[0m in \u001b[0;36m_analyze\u001b[0;34m(doc, analyzer, tokenizer, ngrams, preprocessor, decoder, stop_words)\u001b[0m\n\u001b[1;32m    111\u001b[0m     \u001b[0;32melse\u001b[0m\u001b[0;34m:\u001b[0m\u001b[0;34m\u001b[0m\u001b[0;34m\u001b[0m\u001b[0m\n\u001b[1;32m    112\u001b[0m         \u001b[0;32mif\u001b[0m \u001b[0mpreprocessor\u001b[0m \u001b[0;32mis\u001b[0m \u001b[0;32mnot\u001b[0m \u001b[0;32mNone\u001b[0m\u001b[0;34m:\u001b[0m\u001b[0;34m\u001b[0m\u001b[0;34m\u001b[0m\u001b[0m\n\u001b[0;32m--> 113\u001b[0;31m             \u001b[0mdoc\u001b[0m \u001b[0;34m=\u001b[0m \u001b[0mpreprocessor\u001b[0m\u001b[0;34m(\u001b[0m\u001b[0mdoc\u001b[0m\u001b[0;34m)\u001b[0m\u001b[0;34m\u001b[0m\u001b[0;34m\u001b[0m\u001b[0m\n\u001b[0m\u001b[1;32m    114\u001b[0m         \u001b[0;32mif\u001b[0m \u001b[0mtokenizer\u001b[0m \u001b[0;32mis\u001b[0m \u001b[0;32mnot\u001b[0m \u001b[0;32mNone\u001b[0m\u001b[0;34m:\u001b[0m\u001b[0;34m\u001b[0m\u001b[0;34m\u001b[0m\u001b[0m\n\u001b[1;32m    115\u001b[0m             \u001b[0mdoc\u001b[0m \u001b[0;34m=\u001b[0m \u001b[0mtokenizer\u001b[0m\u001b[0;34m(\u001b[0m\u001b[0mdoc\u001b[0m\u001b[0;34m)\u001b[0m\u001b[0;34m\u001b[0m\u001b[0;34m\u001b[0m\u001b[0m\n",
      "\u001b[0;32m/shared-libs/python3.7/py/lib/python3.7/site-packages/sklearn/feature_extraction/text.py\u001b[0m in \u001b[0;36m_preprocess\u001b[0;34m(doc, accent_function, lower)\u001b[0m\n\u001b[1;32m     69\u001b[0m     \"\"\"\n\u001b[1;32m     70\u001b[0m     \u001b[0;32mif\u001b[0m \u001b[0mlower\u001b[0m\u001b[0;34m:\u001b[0m\u001b[0;34m\u001b[0m\u001b[0;34m\u001b[0m\u001b[0m\n\u001b[0;32m---> 71\u001b[0;31m         \u001b[0mdoc\u001b[0m \u001b[0;34m=\u001b[0m \u001b[0mdoc\u001b[0m\u001b[0;34m.\u001b[0m\u001b[0mlower\u001b[0m\u001b[0;34m(\u001b[0m\u001b[0;34m)\u001b[0m\u001b[0;34m\u001b[0m\u001b[0;34m\u001b[0m\u001b[0m\n\u001b[0m\u001b[1;32m     72\u001b[0m     \u001b[0;32mif\u001b[0m \u001b[0maccent_function\u001b[0m \u001b[0;32mis\u001b[0m \u001b[0;32mnot\u001b[0m \u001b[0;32mNone\u001b[0m\u001b[0;34m:\u001b[0m\u001b[0;34m\u001b[0m\u001b[0;34m\u001b[0m\u001b[0m\n\u001b[1;32m     73\u001b[0m         \u001b[0mdoc\u001b[0m \u001b[0;34m=\u001b[0m \u001b[0maccent_function\u001b[0m\u001b[0;34m(\u001b[0m\u001b[0mdoc\u001b[0m\u001b[0;34m)\u001b[0m\u001b[0;34m\u001b[0m\u001b[0;34m\u001b[0m\u001b[0m\n",
      "\u001b[0;31mAttributeError\u001b[0m: 'list' object has no attribute 'lower'"
     ]
    }
   ],
   "execution_count": null
  },
  {
   "cell_type": "code",
   "metadata": {
    "cell_id": "3418f07447b44378b80f08135fa28b8f",
    "tags": [],
    "deepnote_to_be_reexecuted": true,
    "source_hash": "6025585b",
    "execution_start": 1654256975453,
    "execution_millis": 6913,
    "owner_user_id": "cf5efbeb-4e99-4984-a370-4221bb163a20",
    "deepnote_cell_type": "code",
    "deepnote_cell_height": 853.921875,
    "deepnote_output_heights": [
     378.453125
    ]
   },
   "source": "saved_models_emoji = ['DTC','KNN','SGDC','MultinomialNB']\nresults_emoji = []\ncv_sss = open_jar('/work/twitter-nlp/data/pickle/models/emoji/vectorizer_sss.pkl')\ncv_norm = open_jar('/work/twitter-nlp/data/pickle/models/emoji/vectorizer_normal.pkl')\nX_test = open_jar('/work/twitter-nlp/data/pickle/tweeteval/hate/pickled_test_text.pkl')\n\ny_test = pd.DataFrame([s[0] for s in open_jar('/work/twitter-nlp/data/pickle/tweeteval/hate/pickled_test_labels.pkl')]).astype(int)\nfor model in saved_models_emoji:\n        if model in ['KNN', 'DTC']:\n            cv = cv_norm\n        else:\n            cv = cv_sss\n        X_test_m = cv.transform([' '.join(s) for s in X_test])\n        classifier = open_jar(f'/work/twitter-nlp/data/pickle/models/emoji_{model}.sav')\n        pred = pd.DataFrame(classifier.predict(X_test_m)).astype(int)\n        acc_score = accuracy_score(y_test, pred)\n        f1score = f1_score(y_test, pred, average='weighted')\n        recallscore = recall_score(y_test, pred,average='weighted')\n        precscore = precision_score(y_test, pred,average='weighted')\n        results_emoji.append((model,(acc_score,f1score,recallscore,precscore)))\n\nresults_emoji",
   "execution_count": null,
   "outputs": [
    {
     "output_type": "execute_result",
     "execution_count": 49,
     "data": {
      "text/plain": "[('DTC',\n  (0.132996632996633,\n   0.20795490362374788,\n   0.132996632996633,\n   0.4980992584291152)),\n ('KNN',\n  (0.29865319865319867,\n   0.3640764086347502,\n   0.29865319865319867,\n   0.5248333482219302)),\n ('SGDC',\n  (0.04579124579124579,\n   0.08274947250311648,\n   0.04579124579124579,\n   0.5227260393927061)),\n ('MultinomialNB',\n  (0.09393939393939393,\n   0.15021756688423357,\n   0.09393939393939393,\n   0.5175689086358813))]"
     },
     "metadata": {}
    }
   ]
  },
  {
   "cell_type": "code",
   "metadata": {
    "cell_id": "0129e7605c414f2c92b83d0810443410",
    "tags": [],
    "deepnote_to_be_reexecuted": true,
    "source_hash": "e114a682",
    "execution_start": 1654245910392,
    "execution_millis": 736,
    "owner_user_id": "d412078e-b60c-4eb9-a4b6-2f0edcac48d2",
    "deepnote_cell_type": "code",
    "deepnote_cell_height": 960.328125,
    "deepnote_output_heights": [
     null,
     472.578125
    ]
   },
   "source": "saved_models_hate = ['DTC','KNN','SGDC','MultinomialNB2','RF']\nresults_hate = []\ncv = open_jar('/work/twitter-nlp/data/pickle/models/hate/vectorizer.pkl')\nX_test = open_jar('/work/twitter-nlp/data/pickle/tweeteval/hate/pickled_test_text.pkl')\nX_test = cv.transform([' '.join(s) for s in X_test])\ny_test = pd.DataFrame([s[0] for s in open_jar('/work/twitter-nlp/data/pickle/tweeteval/hate/pickled_test_labels.pkl')]).astype(int)\nfor model in saved_models_hate:\n        classifier = open_jar(f'/work/twitter-nlp/data/pickle/models/hatespeech_model_{model}.sav')\n        pred = pd.DataFrame(classifier.predict(X_test)).astype(int)\n        acc_score = accuracy_score(y_test, pred)\n        f1score = f1_score(y_test, pred,pos_label=0)\n        recallscore = recall_score(y_test, pred,pos_label=0)\n        precscore = precision_score(y_test, pred,pos_label=0)\n        results.append((model,(acc_score,f1score,recallscore,precscore)))\n\nresults",
   "execution_count": null,
   "outputs": [
    {
     "name": "stdout",
     "text": "{0} <class 'pandas.core.series.Series'> {0} <class 'pandas.core.series.Series'>\n{0} <class 'pandas.core.series.Series'> {0} <class 'pandas.core.series.Series'>\n{0} <class 'pandas.core.series.Series'> {0} <class 'pandas.core.series.Series'>\n{0} <class 'pandas.core.series.Series'> {0} <class 'pandas.core.series.Series'>\n{0} <class 'pandas.core.series.Series'> {0} <class 'pandas.core.series.Series'>\n",
     "output_type": "stream"
    },
    {
     "output_type": "execute_result",
     "execution_count": 47,
     "data": {
      "text/plain": "[('DTC',\n  (0.4632996632996633,\n   0.2921847246891652,\n   0.19150174621653085,\n   0.6161048689138576)),\n ('KNN',\n  (0.5154882154882154,\n   0.3910283537875582,\n   0.2689173457508731,\n   0.7162790697674418)),\n ('SGDC',\n  (0.5292929292929293,\n   0.45813953488372094,\n   0.3440046565774156,\n   0.685614849187935)),\n ('MultinomialNB2',\n  (0.4754208754208754,\n   0.2317554240631164,\n   0.13678696158323633,\n   0.7580645161290323)),\n ('RF',\n  (0.47003367003367,\n   0.24326923076923074,\n   0.14726426076833526,\n   0.6988950276243094))]"
     },
     "metadata": {}
    }
   ]
  },
  {
   "cell_type": "code",
   "metadata": {
    "cell_id": "dcd36bcb95394568b4fd3b37708caba5",
    "tags": [],
    "deepnote_to_be_reexecuted": true,
    "source_hash": "4af9fcbe",
    "execution_start": 1654243594620,
    "execution_millis": 1,
    "deepnote_cell_type": "code",
    "deepnote_cell_height": 261.3125
   },
   "source": "def label_predictions(data):\n    results = []\n    for i in data:\n        for j in i:\n            if j[1] > j[0]:\n                results.append(1)\n            else:\n                results.append(0)\n    return results\n\nlabeled_data = label_predictions(results)",
   "execution_count": null,
   "outputs": []
  },
  {
   "cell_type": "code",
   "metadata": {
    "cell_id": "b74f2fff779d475eb86727dd521a7fcb",
    "tags": [],
    "deepnote_to_be_reexecuted": true,
    "source_hash": "88046c13",
    "execution_start": 1654243594621,
    "execution_millis": 1,
    "deepnote_cell_type": "code",
    "deepnote_cell_height": 135.3125
   },
   "source": "import itertools\ny_truth = open_jar(\"/work/twitter-nlp/data/pickle/tweeteval/hate/pickled_test_labels.pkl\")\ny_truth = list(itertools.chain(*y_truth))\n# labeled_data[0]",
   "execution_count": null,
   "outputs": []
  },
  {
   "cell_type": "code",
   "metadata": {
    "cell_id": "29bfcf63bdbc450c8c27cb7071fc8fe5",
    "tags": [],
    "deepnote_to_be_reexecuted": true,
    "source_hash": "c012ceef",
    "execution_start": 1654243594624,
    "execution_millis": 23,
    "deepnote_cell_type": "code",
    "deepnote_cell_height": 297.3125
   },
   "source": "y_truth = open_jar(\"/work/twitter-nlp/data/pickle/tweeteval/hate/pickled_test_labels.pkl\")\nagreements = []\n\nfor i in range(len(labeled_data)):\n    # print(labeled_data[i], y_truth[i])\n    if labeled_data[i] == 1 and y_truth[i] == ['1']:\n        agreements.append(\"Both Agree\")\n    elif labeled_data[i] == 0 and y_truth[i] == ['0']:\n        agreements.append(\"Both Agree\")\n    elif labeled_data[i] == 1 and y_truth[i] == ['0']:\n        agreements.append(\"False Positive\")\n    elif labeled_data[i] == 0 and y_truth[i] == ['1']:\n        agreements.append(\"False Negative\")",
   "execution_count": null,
   "outputs": []
  },
  {
   "cell_type": "code",
   "metadata": {
    "cell_id": "67d02c32601e4f09b6268f6a1abc9904",
    "tags": [],
    "deepnote_to_be_reexecuted": true,
    "source_hash": "7b5b4d84",
    "execution_start": 1654243594651,
    "execution_millis": 1019,
    "deepnote_cell_type": "code",
    "deepnote_cell_height": 521.296875,
    "deepnote_output_heights": [
     20.8125,
     335.40625
    ]
   },
   "source": "import seaborn as sns\nfig, ax = plt.subplots(figsize=(10, 6))\nsns.histplot(agreements)",
   "execution_count": null,
   "outputs": [
    {
     "output_type": "execute_result",
     "execution_count": 37,
     "data": {
      "text/plain": "<AxesSubplot:ylabel='Count'>"
     },
     "metadata": {}
    },
    {
     "data": {
      "text/plain": "<Figure size 720x432 with 1 Axes>",
      "image/png": "[encoded data removed]"
     },
     "metadata": {
      "needs_background": "light",
      "image/png": {
       "width": 621,
       "height": 357
      }
     },
     "output_type": "display_data"
    }
   ]
  },
  {
   "cell_type": "code",
   "metadata": {
    "cell_id": "9ef5b8b215bf4a86a4ae65982b44333d",
    "tags": [],
    "deepnote_to_be_reexecuted": true,
    "source_hash": "7a7a7df5",
    "execution_start": 1654243595126,
    "execution_millis": 2,
    "deepnote_cell_type": "code",
    "deepnote_cell_height": 99.3125
   },
   "source": "y_test_1 = open_jar(\"/work/twitter-nlp/data/pickle/tweeteval/hate/pickled_test_labels.pkl\")\ny_test = [item for sublist in y_test_1 for item in sublist]",
   "execution_count": null,
   "outputs": []
  },
  {
   "cell_type": "code",
   "metadata": {
    "cell_id": "8a9fc5a12e8f4dd6a8520c31c78c93a6",
    "tags": [],
    "deepnote_to_be_reexecuted": true,
    "source_hash": "6aa0b400",
    "execution_start": 1654243595156,
    "execution_millis": 1738966,
    "deepnote_cell_type": "code",
    "deepnote_cell_height": 99.3125
   },
   "source": "labeled_data = label_predictions(results)\nx = [int(x) == int(y) for (x, y) in zip(labeled_data, y_test)]",
   "execution_count": null,
   "outputs": []
  },
  {
   "cell_type": "code",
   "metadata": {
    "cell_id": "9d8a861dc33b43ddb368b4d774212577",
    "tags": [],
    "deepnote_to_be_reexecuted": true,
    "source_hash": "5a5faa9c",
    "execution_start": 1654243595165,
    "execution_millis": 1737448,
    "deepnote_cell_type": "code",
    "deepnote_cell_height": 136.296875,
    "deepnote_output_heights": [
     20.8125
    ]
   },
   "source": "y = sum(x)\ny/len(labeled_data)",
   "execution_count": null,
   "outputs": [
    {
     "output_type": "execute_result",
     "execution_count": 40,
     "data": {
      "text/plain": "0.4754208754208754"
     },
     "metadata": {}
    }
   ]
  },
  {
   "cell_type": "markdown",
   "source": "- [x] Then run additional experiments trying to improve your initial scores by any means you can think of. Try out at least 4 different methods.\n\nAdditional preprocessing options:\n- [x] n-gram features, lowercasing, stop word lists (see options to `sklearn.feature_extraction.text.CountVectorizer)`\n- [ ] `Counttransformations(sklearn.feature_extraction.text.TfIdfTransformer)`\n- [x] `Theclassificationloss(lossparametertoSGDClassifier)`\n- [x] The regularisation strength (alpha parameter to `SGDClassifier` – try varying it in exponentially spaced steps)\n- [x] Different classifiers (e.g.,`sklearn.ensemble.RandomForestClassifieror sklearn.naive_bayes.MultinomialNB`)\n- [x] Anything else discussed during the lessons, or implemented in scikit-learn.",
   "metadata": {
    "cell_id": "8a08a14da7554e9b9039ee6c2e6c6b9f",
    "tags": [],
    "owner_user_id": "e1e4b2ef-b70d-4b00-91da-fa585f52d0ab",
    "deepnote_cell_type": "markdown",
    "deepnote_cell_height": 403.203125
   }
  },
  {
   "cell_type": "markdown",
   "source": "",
   "metadata": {
    "cell_id": "cfa883a7fff24cdcb1f9ef790a3dc924",
    "tags": [],
    "deepnote_cell_type": "markdown",
    "deepnote_cell_height": 46.3125
   }
  },
  {
   "cell_type": "markdown",
   "source": "<a style='text-decoration:none;line-height:16px;display:flex;color:#5B5B62;padding:10px;justify-content:end;' href='https://deepnote.com?utm_source=created-in-deepnote-cell&projectId=bf1f20fb-a6c0-4ea2-8567-a5a41eea1d8a' target=\"_blank\">\n<img alt='Created in deepnote.com' style='display:inline;max-height:16px;margin:0px;margin-right:7.5px;' src='data:image/svg+xml;base64,PD94bWwgdmVyc2lvbj0iMS4wIiBlbmNvZGluZz0iVVRGLTgiPz4KPHN2ZyB3aWR0aD0iODBweCIgaGVpZ2h0PSI4MHB4IiB2aWV3Qm94PSIwIDAgODAgODAiIHZlcnNpb249IjEuMSIgeG1sbnM9Imh0dHA6Ly93d3cudzMub3JnLzIwMDAvc3ZnIiB4bWxuczp4bGluaz0iaHR0cDovL3d3dy53My5vcmcvMTk5OS94bGluayI+CiAgICA8IS0tIEdlbmVyYXRvcjogU2tldGNoIDU0LjEgKDc2NDkwKSAtIGh0dHBzOi8vc2tldGNoYXBwLmNvbSAtLT4KICAgIDx0aXRsZT5Hcm91cCAzPC90aXRsZT4KICAgIDxkZXNjPkNyZWF0ZWQgd2l0aCBTa2V0Y2guPC9kZXNjPgogICAgPGcgaWQ9IkxhbmRpbmciIHN0cm9rZT0ibm9uZSIgc3Ryb2tlLXdpZHRoPSIxIiBmaWxsPSJub25lIiBmaWxsLXJ1bGU9ImV2ZW5vZGQiPgogICAgICAgIDxnIGlkPSJBcnRib2FyZCIgdHJhbnNmb3JtPSJ0cmFuc2xhdGUoLTEyMzUuMDAwMDAwLCAtNzkuMDAwMDAwKSI+CiAgICAgICAgICAgIDxnIGlkPSJHcm91cC0zIiB0cmFuc2Zvcm09InRyYW5zbGF0ZSgxMjM1LjAwMDAwMCwgNzkuMDAwMDAwKSI+CiAgICAgICAgICAgICAgICA8cG9seWdvbiBpZD0iUGF0aC0yMCIgZmlsbD0iIzAyNjVCNCIgcG9pbnRzPSIyLjM3NjIzNzYyIDgwIDM4LjA0NzY2NjcgODAgNTcuODIxNzgyMiA3My44MDU3NTkyIDU3LjgyMTc4MjIgMzIuNzU5MjczOSAzOS4xNDAyMjc4IDMxLjY4MzE2ODMiPjwvcG9seWdvbj4KICAgICAgICAgICAgICAgIDxwYXRoIGQ9Ik0zNS4wMDc3MTgsODAgQzQyLjkwNjIwMDcsNzYuNDU0OTM1OCA0Ny41NjQ5MTY3LDcxLjU0MjI2NzEgNDguOTgzODY2LDY1LjI2MTk5MzkgQzUxLjExMjI4OTksNTUuODQxNTg0MiA0MS42NzcxNzk1LDQ5LjIxMjIyODQgMjUuNjIzOTg0Niw0OS4yMTIyMjg0IEMyNS40ODQ5Mjg5LDQ5LjEyNjg0NDggMjkuODI2MTI5Niw0My4yODM4MjQ4IDM4LjY0NzU4NjksMzEuNjgzMTY4MyBMNzIuODcxMjg3MSwzMi41NTQ0MjUgTDY1LjI4MDk3Myw2Ny42NzYzNDIxIEw1MS4xMTIyODk5LDc3LjM3NjE0NCBMMzUuMDA3NzE4LDgwIFoiIGlkPSJQYXRoLTIyIiBmaWxsPSIjMDAyODY4Ij48L3BhdGg+CiAgICAgICAgICAgICAgICA8cGF0aCBkPSJNMCwzNy43MzA0NDA1IEwyNy4xMTQ1MzcsMC4yNTcxMTE0MzYgQzYyLjM3MTUxMjMsLTEuOTkwNzE3MDEgODAsMTAuNTAwMzkyNyA4MCwzNy43MzA0NDA1IEM4MCw2NC45NjA0ODgyIDY0Ljc3NjUwMzgsNzkuMDUwMzQxNCAzNC4zMjk1MTEzLDgwIEM0Ny4wNTUzNDg5LDc3LjU2NzA4MDggNTMuNDE4MjY3Nyw3MC4zMTM2MTAzIDUzLjQxODI2NzcsNTguMjM5NTg4NSBDNTMuNDE4MjY3Nyw0MC4xMjg1NTU3IDM2LjMwMzk1NDQsMzcuNzMwNDQwNSAyNS4yMjc0MTcsMzcuNzMwNDQwNSBDMTcuODQzMDU4NiwzNy43MzA0NDA1IDkuNDMzOTE5NjYsMzcuNzMwNDQwNSAwLDM3LjczMDQ0MDUgWiIgaWQ9IlBhdGgtMTkiIGZpbGw9IiMzNzkzRUYiPjwvcGF0aD4KICAgICAgICAgICAgPC9nPgogICAgICAgIDwvZz4KICAgIDwvZz4KPC9zdmc+' > </img>\nCreated in <span style='font-weight:600;margin-left:4px;'>Deepnote</span></a>",
   "metadata": {
    "tags": [],
    "created_in_deepnote_cell": true,
    "deepnote_cell_type": "markdown"
   }
  }
 ],
 "nbformat": 4,
 "nbformat_minor": 2,
 "metadata": {
  "orig_nbformat": 2,
  "deepnote": {},
  "deepnote_notebook_id": "de5e6e23-5d1c-4934-8c8f-e296b76e8fed",
  "deepnote_execution_queue": [
   {
    "cellId": "cfedc69ece294fffa028c43999b60490",
    "sessionId": "f796ee11-5d28-445a-afbe-75c52cdbe9fd",
    "msgId": "1bd5f894-0b59-411e-bad2-e6d30e8a6ac5"
   },
   {
    "cellId": "9ba627695e0b4b89b41437a03560706c",
    "sessionId": "f796ee11-5d28-445a-afbe-75c52cdbe9fd",
    "msgId": "30b62d87-bdea-4d38-8540-e1f82822e9bc"
   },
   {
    "cellId": "b306a6c46ca64b2491e568079aa00e65",
    "sessionId": "f796ee11-5d28-445a-afbe-75c52cdbe9fd",
    "msgId": "db35b6cf-88f1-49bb-90a5-a7eb33113c6a"
   },
   {
    "cellId": "f997887321c1497ea54e2d3186927dc4",
    "sessionId": "f796ee11-5d28-445a-afbe-75c52cdbe9fd",
    "msgId": "dd287084-ac08-4d46-9f28-2dd2e251f215"
   },
   {
    "cellId": "4e8f13339dec4b62b0d708c49788d0c9",
    "sessionId": "f796ee11-5d28-445a-afbe-75c52cdbe9fd",
    "msgId": "eab31db6-be34-4fb6-89b7-43eb68f7763e"
   },
   {
    "cellId": "3418f07447b44378b80f08135fa28b8f",
    "sessionId": "f796ee11-5d28-445a-afbe-75c52cdbe9fd",
    "msgId": "a538d782-1575-4f58-9359-c19a3bee6ac3"
   },
   {
    "cellId": "0129e7605c414f2c92b83d0810443410",
    "sessionId": "f796ee11-5d28-445a-afbe-75c52cdbe9fd",
    "msgId": "850d5b11-26ef-41d8-87cc-c40ed4bc607e"
   },
   {
    "cellId": "dcd36bcb95394568b4fd3b37708caba5",
    "sessionId": "f796ee11-5d28-445a-afbe-75c52cdbe9fd",
    "msgId": "02d29fe8-12cb-48c8-9fcf-255e178b3d73"
   },
   {
    "cellId": "b74f2fff779d475eb86727dd521a7fcb",
    "sessionId": "f796ee11-5d28-445a-afbe-75c52cdbe9fd",
    "msgId": "b7286154-7ae6-461c-8a87-8c6bb3192302"
   },
   {
    "cellId": "29bfcf63bdbc450c8c27cb7071fc8fe5",
    "sessionId": "f796ee11-5d28-445a-afbe-75c52cdbe9fd",
    "msgId": "7066d39f-1c5e-486a-afac-b6b82ff5bb3e"
   },
   {
    "cellId": "67d02c32601e4f09b6268f6a1abc9904",
    "sessionId": "f796ee11-5d28-445a-afbe-75c52cdbe9fd",
    "msgId": "a83a97be-0e03-469f-9ffd-4daaa4854ffd"
   },
   {
    "cellId": "9ef5b8b215bf4a86a4ae65982b44333d",
    "sessionId": "f796ee11-5d28-445a-afbe-75c52cdbe9fd",
    "msgId": "d2088063-1669-4818-a49f-db5e2ed8ea6e"
   },
   {
    "cellId": "8a9fc5a12e8f4dd6a8520c31c78c93a6",
    "sessionId": "f796ee11-5d28-445a-afbe-75c52cdbe9fd",
    "msgId": "d80b8b41-100f-45f9-a84c-098a4e7189fa"
   },
   {
    "cellId": "9d8a861dc33b43ddb368b4d774212577",
    "sessionId": "f796ee11-5d28-445a-afbe-75c52cdbe9fd",
    "msgId": "44b0ff67-476e-4bae-b3e2-b3c6bb03d109"
   },
   {
    "cellId": "8123e858ff2844cf881040915bc86e5b",
    "sessionId": "f796ee11-5d28-445a-afbe-75c52cdbe9fd",
    "msgId": "b565e400-c420-47d9-860d-0467d518fd30"
   }
  ]
 }
}