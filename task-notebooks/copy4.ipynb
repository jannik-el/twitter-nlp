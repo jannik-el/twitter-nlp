{
 "cells": [
  {
   "cell_type": "markdown",
   "source": "# 4. Automatic Prediction",
   "metadata": {
    "tags": [],
    "is_collapsed": false,
    "cell_id": "3078c90c-914f-4937-9818-09834cd12932",
    "deepnote_cell_type": "text-cell-h1"
   }
  },
  {
   "cell_type": "markdown",
   "source": "Use&nbsp;scikit-learn&nbsp;to&nbsp;train&nbsp;a&nbsp;classifier&nbsp;for&nbsp;the&nbsp;automatic&nbsp;prediction&nbsp;of&nbsp;the&nbsp;labels&nbsp;in&nbsp;the&nbsp;two&nbsp;datasets&nbsp;you&nbsp;have&nbsp;chosen.",
   "metadata": {
    "tags": [],
    "is_collapsed": false,
    "cell_id": "00001-4a68cf06-ba7e-4e58-8cc0-8e48a9e18cf4",
    "deepnote_cell_type": "text-cell-p"
   }
  },
  {
   "cell_type": "markdown",
   "source": "- [X] Import labels, the tokenized tweets",
   "metadata": {
    "tags": [],
    "cell_id": "00002-741654f5-b5c4-4597-ad00-2ca428a6549b",
    "deepnote_cell_type": "markdown",
    "deepnote_cell_height": 69.328125
   }
  },
  {
   "cell_type": "code",
   "metadata": {
    "tags": [],
    "deepnote_to_be_reexecuted": false,
    "source_hash": "18c217fa",
    "execution_start": 1654174756451,
    "execution_millis": 2415,
    "cell_id": "00003-11ea25ff-eb3f-4e15-b512-740ccac223be",
    "deepnote_cell_type": "code",
    "deepnote_cell_height": 566.9375
   },
   "source": "import pandas as pd\nimport glob\nimport numpy as np\nimport matplotlib.pyplot as plt\nfrom sklearn.tree import DecisionTreeClassifier\nfrom sklearn.model_selection import StratifiedShuffleSplit, train_test_split\nfrom sklearn.metrics import accuracy_score,confusion_matrix,roc_auc_score,classification_report\nfrom sklearn.naive_bayes import MultinomialNB, GaussianNB\nfrom sklearn.metrics import plot_confusion_matrix\nfrom sklearn.ensemble import RandomForestClassifier\nfrom sklearn.feature_extraction.text import CountVectorizer\nfrom sklearn.linear_model import SGDClassifier\nfrom sklearn.neighbors import KNeighborsClassifier\nfrom sklearn.linear_model import LinearRegression\nfrom sklearn.metrics import plot_confusion_matrix\nfrom nltk.stem import PorterStemmer\nfrom sklearn import tree\nimport random\nimport emoji\nimport warnings\nimport pickle\nimport seaborn as sns\nfrom sklearn.metrics import f1_score\nimport collections\nimport sys\nfrom nltk.stem import PorterStemmer\nsys.path.insert(0, '/work/twitter-nlp')\nfrom boilerplate import load_and_tokenize, pickling, open_jar",
   "outputs": [],
   "execution_count": null
  },
  {
   "cell_type": "code",
   "metadata": {
    "tags": [],
    "deepnote_to_be_reexecuted": false,
    "source_hash": "af85b4d3",
    "execution_start": 1654174758876,
    "execution_millis": 5,
    "cell_id": "00004-16a77514-4b16-4109-b323-d4053b464cc8",
    "deepnote_cell_type": "code",
    "deepnote_cell_height": 476.9375
   },
   "source": "# importing data, tokenize and pickle all the data\nhate_path = \"/work/twitter-nlp/data/tweeteval/datasets/hate\"\nemoji_path = \"/work/twitter-nlp/data/tweeteval/datasets/emoji\"\n\ndef tokenize_and_pickle(path, location):\n    files = glob.glob(path + \"/*.txt\")\n    for i in files:\n        if i == \"/work/twitter-nlp/data/tweeteval/datasets/hate/mapping.txt\" or i == \"/work/twitter-nlp/data/tweeteval/datasets/emoji/mapping.txt\":\n            pass\n        else:\n            if \"hate\" in path:\n                data = load_and_tokenize(i, \"Regex\")\n                new_path = location + \"/pickled_\" + i[35:-4] + \".pkl\"\n                # print(new_path)\n                pickling(data, new_path)\n            elif \"emoji\" in path:\n                data = load_and_tokenize(i, \"Regex\")\n                new_path = location + \"/pickled_\" + i[36:-4] + \".pkl\"\n                # print(new_path)\n                pickling(data, new_path)\n            \n# tokenize_and_pickle(hate_path, location=\"/work/twitter-nlp/data/pickle/tweeteval/hate\")\n# tokenize_and_pickle(emoji_path, location=\"/work/twitter-nlp/data/pickle/tweeteval/emoji\")",
   "outputs": [],
   "execution_count": null
  },
  {
   "cell_type": "markdown",
   "source": "- [X] Split data into train - test, make stratified test-val iterable",
   "metadata": {
    "tags": [],
    "cell_id": "00005-bc94e5fe-28e6-42a3-a54e-367fe530f381",
    "deepnote_cell_type": "markdown",
    "deepnote_cell_height": 69.328125
   }
  },
  {
   "cell_type": "code",
   "metadata": {
    "tags": [],
    "deepnote_to_be_reexecuted": false,
    "source_hash": "2becfaa4",
    "execution_start": 1654174758892,
    "execution_millis": 77,
    "cell_id": "00006-e4ec91bb-430e-4f36-b524-31756855c049",
    "deepnote_cell_type": "code",
    "deepnote_cell_height": 255.921875
   },
   "source": "# hatespeech splitting of train and test groups\ntrain_txt = open_jar('/work/twitter-nlp/data/pickle/tweeteval/hate/pickled_train_text.pkl')\ntrain_labels = pd.DataFrame(open_jar('/work/twitter-nlp/data/pickle/tweeteval/hate/pickled_train_labels.pkl'))\nval_txt = open_jar('/work/twitter-nlp/data/pickle/tweeteval/hate/pickled_val_text.pkl')\nval_labels = pd.DataFrame(open_jar('/work/twitter-nlp/data/pickle/tweeteval/hate/pickled_val_labels.pkl'))\nX_train_txt = train_txt.copy()\nX_train_txt.extend(val_txt)\ny_train = pd.concat([train_labels,val_labels], ignore_index=True)\nprint(y_train.shape)",
   "outputs": [
    {
     "name": "stdout",
     "text": "(10000, 1)\n",
     "output_type": "stream"
    }
   ],
   "execution_count": null
  },
  {
   "cell_type": "code",
   "metadata": {
    "tags": [],
    "deepnote_to_be_reexecuted": false,
    "source_hash": "4dad0",
    "execution_start": 1654174758971,
    "execution_millis": 5,
    "cell_id": "00007-d96563d7-d00b-4fdf-8f8e-dde2251d0564",
    "deepnote_cell_type": "code",
    "deepnote_cell_height": 134.921875
   },
   "source": "#pickling(X_train_txt,'/work/twitter-nlp/data/tweeteval/datasets/hate/final_x_train_txt.pkl')\n#open_jar('/work/twitter-nlp/data/tweeteval/datasets/hate/final_x_train_txt.pkl')\n#pickling(y_train,'/work/twitter-nlp/data/tweeteval/datasets/hate/final_y_train_txt.pkl')\n#open_jar('/work/twitter-nlp/data/tweeteval/datasets/hate/final_y_train_txt.pkl')",
   "outputs": [],
   "execution_count": null
  },
  {
   "cell_type": "code",
   "metadata": {
    "tags": [],
    "deepnote_to_be_reexecuted": false,
    "source_hash": "856fc18f",
    "execution_start": 1654174758981,
    "execution_millis": 227,
    "deepnote_table_state": {
     "pageSize": 10,
     "pageIndex": 1,
     "filters": [],
     "sortBy": []
    },
    "deepnote_table_loading": false,
    "cell_id": "00008-e610c205-388b-4e7a-93b5-0a698aff05ce",
    "deepnote_cell_type": "code",
    "deepnote_cell_height": 273.9375
   },
   "source": "# emoji splitting of train and test groups\ntrain_txt_emoji = open_jar('/work/twitter-nlp/data/pickle/tweeteval/emoji/pickled_train_text.pkl')\ntrain_labels_emoji = pd.DataFrame(open_jar('/work/twitter-nlp/data/pickle/tweeteval/emoji/pickled_train_labels.pkl'))\nval_txt_emoji = open_jar('/work/twitter-nlp/data/pickle/tweeteval/emoji/pickled_val_text.pkl')\nval_labels_emoji = pd.DataFrame(open_jar('/work/twitter-nlp/data/pickle/tweeteval/emoji/pickled_val_labels.pkl'))\nX_train_txt_emoji = train_txt_emoji.copy()\nX_train_txt_emoji.extend(val_txt_emoji)\ny_train_emoji = pd.concat([train_labels_emoji,val_labels_emoji], ignore_index=True).astype(int)\nprint(y_train_emoji.shape)\nemoji_classes= pd.read_csv(\"/work/twitter-nlp/data/tweeteval/datasets/emoji/mapping.txt\", sep = \"\t\", header=None)",
   "outputs": [
    {
     "name": "stdout",
     "text": "(50000, 1)\n",
     "output_type": "stream"
    }
   ],
   "execution_count": null
  },
  {
   "cell_type": "code",
   "metadata": {
    "tags": [],
    "deepnote_to_be_reexecuted": false,
    "source_hash": "51e76491",
    "execution_start": 1654174759211,
    "execution_millis": 5,
    "cell_id": "00009-7510280b-7fa2-473b-94f8-c91de1ddce0a",
    "deepnote_cell_type": "code",
    "deepnote_cell_height": 170.9375
   },
   "source": "def unpack_tokens(data):\n    corpus_unpacked = []\n    for line in data:\n        corpus_unpacked.extend(word for word in line)\n    lowercase_transition = (map(lambda x: x.lower(), corpus_unpacked))\n    return list(lowercase_transition)",
   "outputs": [],
   "execution_count": null
  },
  {
   "cell_type": "code",
   "metadata": {
    "tags": [],
    "deepnote_to_be_reexecuted": false,
    "source_hash": "ab973de7",
    "execution_start": 1654174759218,
    "execution_millis": 12755,
    "cell_id": "00010-ca319410-ab65-4ca5-bcee-d4f9d0683d2e",
    "deepnote_cell_type": "code",
    "deepnote_cell_height": 278.921875
   },
   "source": "def get_vocabulary_size(train):\n    ps = PorterStemmer()\n    unpacked_tokens = unpack_tokens(train)\n    stemmed_tokens = []\n\n    for i in unpacked_tokens:\n        stemmed_tokens.append(ps.stem(i))\n\n    return len(stemmed_tokens)\n\nvocabulary_size_hate = get_vocabulary_size(X_train_txt)\nvocabulary_size_emoji = get_vocabulary_size(X_train_txt_emoji)",
   "outputs": [],
   "execution_count": null
  },
  {
   "cell_type": "code",
   "metadata": {
    "tags": [],
    "deepnote_to_be_reexecuted": false,
    "source_hash": "7aa8bc20",
    "execution_start": 1654174771980,
    "execution_millis": 3,
    "cell_id": "00011-61cab2c8-9ca1-42df-b6ab-b9affe3c3d0a",
    "deepnote_cell_type": "code",
    "deepnote_cell_height": 458.921875
   },
   "source": "\n# ps = PorterStemmer()\n# stemmed_tokens = []\n\n# outer = []\n# for i in X_train_txt[1:3]:\n#     for x in i:\n#         inner = [] \n#         # inner.append(ps.stem(x))\n#         # outer.append(inner)\n#     # print(ps.stem(i))\n\n# outer = []\n\n# for i in X_train_txt[1:3]:\n#     for x in i:\n#         lst = []\n#         lst.append(ps.stem(x))\n\n#     outer.append(lst)\n\n# outer",
   "outputs": [],
   "execution_count": null
  },
  {
   "cell_type": "code",
   "metadata": {
    "tags": [],
    "deepnote_to_be_reexecuted": false,
    "source_hash": "ee6c8fc4",
    "execution_start": 1654174771992,
    "execution_millis": 3,
    "cell_id": "00012-a5465df1-234d-4e43-ba34-60629ecbd04f",
    "deepnote_cell_type": "code",
    "deepnote_cell_height": 476.9375
   },
   "source": "# helper function to classify hate, using the stratified shuffle split. \ndef partial_fitting_hate(classifier):\n    global y_train\n    cv = CountVectorizer(max_features = 209923) # vocabulary size of HateEval after stemming\n    X_train = cv.fit_transform([' '.join(s) for s in X_train_txt]).toarray()\n    pickling(cv,'/work/twitter-nlp/data/pickle/models/hate/vectorizer.pkl')\n    sss = StratifiedShuffleSplit(n_splits=5, test_size=0.2, random_state=0)\n    sss.get_n_splits(X_train, y_train)\n    y_train_1 = y_train.copy().to_numpy().astype(int)\n    i = 0\n\n    for train_index, test_index in sss.split(X_train, y_train_1):\n        X_train_s, X_val_s = X_train[train_index], X_train[test_index]\n        y_train_s, y_val_s= y_train_1[train_index], y_train_1[test_index]\n        if i==0:\n            classifier.partial_fit(X_train_s, y_train_s, classes = [0,1])\n        else:\n            classifier.partial_fit(X_train_s, y_train_s)\n        pred = classifier.predict(X_val_s)\n        scores = (accuracy_score(y_val_s, pred))\n        i += 1\n    f1score = f1_score(y_val_s, pred)\n    return scores, f1score, X_val_s, y_val_s",
   "outputs": [],
   "execution_count": null
  },
  {
   "cell_type": "code",
   "metadata": {
    "tags": [],
    "deepnote_to_be_reexecuted": false,
    "source_hash": "43e9b1f6",
    "execution_start": 1654174772002,
    "execution_millis": 4,
    "cell_id": "00013-d6bca032-2812-4c34-aeb4-74bbe7503c65",
    "deepnote_cell_type": "code",
    "deepnote_cell_height": 476.9375
   },
   "source": "# helper function to classify emojis, using the stratified shuffle split\ndef partial_fitting_emoji(classifier):\n    global y_train_emoji\n    cv = CountVectorizer(max_features = 5000)\n    # X_train_emoji = cv.fit_transform([' '.join(s) for s in X_train_txt_emoji]).toarray()\n    i = 0\n    for X, y in zip(five_split_txt_emoji,five_split_labels_emoji):\n        X_train_emoji = cv.fit_transform([' '.join(s) for s in X])\n        X_train, X_test, y_train, y_test = train_test_split(X_train_emoji, y, test_size = 0.25, random_state = 0)\n       # print(f'X_train {X_train}, X_test {X_test}, y_train {y_train}, y_test {y_test}')\n        a = list(np.unique(y_test))\n        a.sort()\n        #print(f'y_test:\\n {a}\\n\\n')\n        if i==0:\n            classifier.partial_fit(X_train, y_train, classes = list(emoji_classes[0]))#Get classes for emoji\n        else:\n            classifier.partial_fit(X_train, y_train)\n    \n        pred = classifier.predict(X_test)\n\n        scores = accuracy_score(y_test, pred)\n        i += 1\n    return scores, X_test, y_test, pred",
   "outputs": [],
   "execution_count": null
  },
  {
   "cell_type": "code",
   "source": "# Input this as the alpha paramater,modify the string as you see which alpha performs better\n#for i in np.arange(0, 1, 0.01):\n    # print(round(i, 2))",
   "metadata": {
    "cell_id": "1c44690197fa45f68efc7a6615d4f547",
    "tags": [],
    "deepnote_to_be_reexecuted": false,
    "source_hash": "b4e5c5d",
    "execution_start": 1654174772009,
    "execution_millis": 2,
    "owner_user_id": "cf5efbeb-4e99-4984-a370-4221bb163a20",
    "deepnote_cell_type": "code",
    "deepnote_cell_height": 116.9375
   },
   "outputs": [],
   "execution_count": null
  },
  {
   "cell_type": "markdown",
   "source": "- [ ] Run all classification experiments on both of the tasks you’ve chosen (one binary and one multi-class task). ",
   "metadata": {
    "tags": [],
    "cell_id": "00014-f79f14a9-66be-4122-bcbb-cd90f72009d0",
    "deepnote_cell_type": "markdown",
    "deepnote_cell_height": 69.328125
   }
  },
  {
   "cell_type": "markdown",
   "source": "## Hatespeech Model Training:",
   "metadata": {
    "tags": [],
    "cell_id": "00015-523a375f-1189-48f5-8667-066d930005bd",
    "deepnote_cell_type": "markdown",
    "deepnote_cell_height": 69.9375
   }
  },
  {
   "cell_type": "code",
   "metadata": {
    "tags": [],
    "deepnote_to_be_reexecuted": false,
    "source_hash": "df595eca",
    "execution_start": 1654174772059,
    "execution_millis": 0,
    "cell_id": "00016-68257e9d-b7e0-49a5-b6ee-883ff0477a94",
    "deepnote_cell_type": "code",
    "deepnote_cell_height": 1196.9375,
    "deepnote_output_heights": [
     null,
     267
    ]
   },
   "source": "warnings.filterwarnings('ignore')\ndef classify(model, vocabulary_size, X_train_txt, y_train, confusion_matrix = False, tree1 = False, save_model = False, loss = 'log', alpha=0.0001):\n    \n    is_partial = False\n    train = [' '.join(x) for x in X_train_txt]\n    cv = CountVectorizer(max_features = vocabulary_size)\n    X = cv.fit_transform(train).toarray()\n\n    if model == 'KNN':\n        classifier = KNeighborsClassifier(n_neighbors = 5)\n    elif model == \"SGDC\":\n        classifier = SGDClassifier(loss=loss)\n        is_partial = True\n    elif model == \"MultinomialNB\":\n        classifier = MultinomialNB()\n        is_partial = True\n    elif model == \"DTC\":\n        classifier = DecisionTreeClassifier()\n    elif model == \"RF\":\n        classifier = RandomForestClassifier(n_estimators=100, criterion=\"entropy\", random_state = 0)\n    \n    if is_partial:\n        sss = StratifiedShuffleSplit(n_splits=5, test_size=0.2, random_state=0)\n        sss.get_n_splits(X, y_train)\n        y_train_1 = y_train.copy().to_numpy().astype(int)\n        i = 0\n        for train_index, test_index in sss.split(X, y_train_1):\n            X_train_s, X_val_s = X[train_index], X[test_index]\n            y_train_s, y_val_s= y_train_1[train_index], y_train_1[test_index]\n            if i==0:\n                classifier.partial_fit(X_train_s, y_train_s, classes = [0,1])\n            else:\n                classifier.partial_fit(X_train_s, y_train_s)\n        X_test,y_test = X_val_s,y_val_s\n        pred = classifier.predict(X_val_s)\n        acc_score = accuracy_score(y_test, pred)\n        f1score = f1_score(y_val_s, pred)\n    else:\n        X_train, X_test, y_train_1, y_test = train_test_split(\n            X, y_train, test_size = 0.25, random_state = 0)\n        classifier.fit(X_train, y_train_1)\n        pred = classifier.predict(X_test)\n        acc_score = accuracy_score(y_test, pred)\n        f1score = f1_score(y_test, pred, pos_label='1')\n\n    \n    if confusion_matrix == True:\n        plot_confusion_matrix(classifier, X_test, y_test)\n    if tree1 == True:\n        print(\"Plotting Decision Tree...\")\n        text_representation = tree.export_text(classifier, feature_names = list(cv.get_feature_names_out()))\n        # print(text_representation)\n        fig = plt.figure(figsize=(25,20))\n        _ = tree.plot_tree(classifier, feature_names = list(cv.get_feature_names_out()), class_names=['non-hatespeech', 'hatespeech'])\n        plt.savefig(\"tree.svg\", format=\"svg\")\n\n    if save_model == True:\n        filename = '/work/twitter-nlp/data/pickle/models/hatespeech_model_MultinomialNB.sav'\n        pickling(classifier,filename)\n\n    return f1score,acc_score\n\n#classify_hate(\"MultinomialNB\", vocabulary_size_hate, X_train_txt, y_train, confusion_matrix = True)",
   "outputs": [],
   "execution_count": null
  },
  {
   "cell_type": "code",
   "source": "classify(\"MultinomialNB\", vocabulary_size_hate, X_train_txt, y_train, confusion_matrix = True)",
   "metadata": {
    "cell_id": "28f8e0b8153c47be9821e6105fc3dc69",
    "tags": [],
    "deepnote_to_be_reexecuted": false,
    "source_hash": "b1f7b726",
    "execution_start": 1654174772060,
    "execution_millis": 7992,
    "deepnote_cell_type": "code",
    "deepnote_cell_height": 416.078125,
    "deepnote_output_heights": [
     21.1875,
     266.984375
    ]
   },
   "outputs": [
    {
     "output_type": "execute_result",
     "execution_count": 13,
     "data": {
      "text/plain": "(0.8659440958357103, 0.8825)"
     },
     "metadata": {}
    },
    {
     "data": {
      "text/plain": "<Figure size 432x288 with 2 Axes>",
      "image/png": "[encoded data removed]"
     },
     "metadata": {
      "needs_background": "light",
      "image/png": {
       "width": 318,
       "height": 265
      }
     },
     "output_type": "display_data"
    }
   ],
   "execution_count": null
  },
  {
   "cell_type": "code",
   "source": "classify(\"MultinomialNB\", vocabulary_size_emoji, X_train_txt_emoji, y_train_emoji, confusion_matrix = True)",
   "metadata": {
    "cell_id": "25347ce036d34abe93c63b4c16b8288e",
    "tags": [],
    "deepnote_to_be_reexecuted": false,
    "source_hash": "f7ffd917",
    "execution_start": 1654174780102,
    "execution_millis": 166,
    "deepnote_cell_type": "code",
    "deepnote_cell_height": 225.0625
   },
   "outputs": [
    {
     "output_type": "error",
     "ename": "KernelInterrupted",
     "evalue": "Execution interrupted by the Jupyter kernel.",
     "traceback": [
      "\u001b[0;31m---------------------------------------------------------------------------\u001b[0m",
      "\u001b[0;31mKernelInterrupted\u001b[0m: Execution interrupted by the Jupyter kernel."
     ]
    }
   ],
   "execution_count": null
  },
  {
   "cell_type": "markdown",
   "source": "To better understand the results, we show the ratio of hatespeech, and not hatespeech below. <br/>",
   "metadata": {
    "tags": [],
    "cell_id": "00020-b94f16e9-2a35-485b-acf2-a78c600288b3",
    "owner_user_id": "9623fb47-3762-4ef5-9146-5aaf0f397ef0",
    "deepnote_cell_type": "markdown",
    "deepnote_cell_height": 52.328125
   }
  },
  {
   "cell_type": "code",
   "metadata": {
    "tags": [],
    "deepnote_to_be_reexecuted": true,
    "source_hash": "356d4b2b",
    "execution_start": 1654174056908,
    "execution_millis": 203,
    "cell_id": "00021-47bd3ea7-83d5-4e9b-b3d0-89feadc93127",
    "deepnote_cell_type": "code",
    "deepnote_cell_height": 329.890625,
    "deepnote_output_heights": [
     232.96875
    ]
   },
   "source": "plt.pie(collections.Counter(list(y_train[0])).values(), labels=['Not hate speech','Hate speech'],colors=['#eab676','#2596be'],explode=(0, 0.1), autopct = lambda p:f'{p:.2f}%');",
   "outputs": [
    {
     "data": {
      "text/plain": "<Figure size 432x288 with 1 Axes>",
      "image/png": "[encoded data removed]"
     },
     "metadata": {
      "image/png": {
       "width": 231,
       "height": 231
      }
     },
     "output_type": "display_data"
    }
   ],
   "execution_count": null
  },
  {
   "cell_type": "markdown",
   "source": "Based on this we deduced that our results were acceptable. ",
   "metadata": {
    "tags": [],
    "cell_id": "00022-bdf05719-d4fd-4ba0-84b8-dff6883fcf33",
    "deepnote_cell_type": "markdown",
    "deepnote_cell_height": 52.328125
   }
  },
  {
   "cell_type": "code",
   "metadata": {
    "tags": [],
    "deepnote_to_be_reexecuted": true,
    "source_hash": "f55554b6",
    "execution_start": 1654174057122,
    "execution_millis": 441,
    "cell_id": "00023-52eb6e70-9dd6-42ba-bb75-25b6e89f5b78",
    "deepnote_cell_type": "code",
    "deepnote_cell_height": 216.125
   },
   "source": "models = [\"KNN\", \"SGDC\", 'MultinomialNB','DTC', 'RF']\nli = {}\n\nfor model in models:\n    li.setdefault(model, classify_hate(model))",
   "outputs": [
    {
     "output_type": "error",
     "ename": "TypeError",
     "evalue": "classify_hate() missing 3 required positional arguments: 'vocabulary_size', 'X_train_txt', and 'y_train'",
     "traceback": [
      "\u001b[0;31m---------------------------------------------------------------------------\u001b[0m",
      "\u001b[0;31mTypeError\u001b[0m                                 Traceback (most recent call last)",
      "\u001b[0;32m<ipython-input-14-23dc6e6c95d4>\u001b[0m in \u001b[0;36m<module>\u001b[0;34m\u001b[0m\n\u001b[1;32m      3\u001b[0m \u001b[0;34m\u001b[0m\u001b[0m\n\u001b[1;32m      4\u001b[0m \u001b[0;32mfor\u001b[0m \u001b[0mmodel\u001b[0m \u001b[0;32min\u001b[0m \u001b[0mmodels\u001b[0m\u001b[0;34m:\u001b[0m\u001b[0;34m\u001b[0m\u001b[0;34m\u001b[0m\u001b[0m\n\u001b[0;32m----> 5\u001b[0;31m     \u001b[0mli\u001b[0m\u001b[0;34m.\u001b[0m\u001b[0msetdefault\u001b[0m\u001b[0;34m(\u001b[0m\u001b[0mmodel\u001b[0m\u001b[0;34m,\u001b[0m \u001b[0mclassify_hate\u001b[0m\u001b[0;34m(\u001b[0m\u001b[0mmodel\u001b[0m\u001b[0;34m)\u001b[0m\u001b[0;34m)\u001b[0m\u001b[0;34m\u001b[0m\u001b[0;34m\u001b[0m\u001b[0m\n\u001b[0m",
      "\u001b[0;31mTypeError\u001b[0m: classify_hate() missing 3 required positional arguments: 'vocabulary_size', 'X_train_txt', and 'y_train'"
     ]
    }
   ],
   "execution_count": null
  },
  {
   "cell_type": "code",
   "metadata": {
    "tags": [],
    "deepnote_to_be_reexecuted": true,
    "source_hash": "857fcffe",
    "execution_start": 1654157662943,
    "execution_millis": 3,
    "cell_id": "00024-30c18eba-ae06-48f1-864f-f34ae0593a7a",
    "deepnote_cell_type": "code",
    "deepnote_cell_height": 194.921875,
    "deepnote_output_heights": [
     98.015625
    ]
   },
   "source": "li",
   "execution_count": null,
   "outputs": [
    {
     "output_type": "execute_result",
     "execution_count": 15,
     "data": {
      "text/plain": "{'KNN': (0.3612456747404844, 0.6308),\n 'SGDC': (0.7569091934574167, 0.7845),\n 'MultinomialNB': (0.7847663012117714, 0.8135),\n 'DTC': (0.6734793187347933, 0.7316),\n 'RF': (0.70020964360587, 0.7712)}"
     },
     "metadata": {}
    }
   ]
  },
  {
   "cell_type": "markdown",
   "source": "# Hate speech functions",
   "metadata": {
    "tags": [],
    "cell_id": "00025-8f3f2b0d-9e28-4586-a11a-c34ff6421cf3",
    "deepnote_cell_type": "markdown",
    "deepnote_cell_height": 81.9375
   }
  },
  {
   "cell_type": "markdown",
   "source": "#### Classifiers that have partial_fit() which we will be using\n- sklearn.naive_bayes.MultinomialNB\n- sklearn.naive_bayes.BernoulliNB sklearn.linear_model.Perceptron\n- sklearn.linear_model.SGDClassifier\n- sklearn.linear_model.PassiveAggressiveClassifier",
   "metadata": {
    "tags": [],
    "cell_id": "00026-94787cba-72ea-4b3a-afa8-bd7c839fd318",
    "deepnote_cell_type": "markdown",
    "deepnote_cell_height": 178.5
   }
  },
  {
   "cell_type": "markdown",
   "source": "Testing different types of loss for the SGDC classifier on the hatespeech dataset",
   "metadata": {
    "tags": [],
    "cell_id": "00027-204cdcb6-d61e-46e3-ae8c-1c09281539d7",
    "deepnote_cell_type": "markdown",
    "deepnote_cell_height": 52.328125
   }
  },
  {
   "cell_type": "code",
   "metadata": {
    "tags": [],
    "deepnote_to_be_reexecuted": true,
    "source_hash": "c3128801",
    "execution_start": 1654174075613,
    "execution_millis": 2,
    "cell_id": "00028-ddebefd3-a411-424d-88c1-74abbceb214a",
    "deepnote_cell_type": "code",
    "deepnote_cell_height": 394.296875,
    "deepnote_output_heights": [
     174.828125
    ]
   },
   "source": "# losses = ['hinge','modified_huber','log','squared_hinge','perceptron','squared_error','huber','epsilon_insensitive','squared_epsilon_insensitive']\n# scores = {s:0 for s in losses}\n# for _ in range(10):\n#     for loss in losses:\n#         print(loss)\n#         scores[loss]+=float(classify_hate('SGDC',loss=loss)[0])/10\n# scores\nopen_jar('/work/twitter-nlp/data/pickle/models/hate/loss_scores.pkl')",
   "outputs": [
    {
     "output_type": "execute_result",
     "execution_count": 15,
     "data": {
      "text/plain": "{'hinge': 0.7349062239347153,\n 'modified_huber': 0.7355510840948916,\n 'log': 0.7611404875154572,\n 'squared_hinge': 0.7372772172334918,\n 'perceptron': 0.7200106374683496,\n 'squared_error': 0.4324811728108835,\n 'huber': 0.7106919452830548,\n 'epsilon_insensitive': 0.502026632077352,\n 'squared_epsilon_insensitive': 0.42780788875914944}"
     },
     "metadata": {}
    }
   ],
   "execution_count": null
  },
  {
   "cell_type": "markdown",
   "source": "Explain this TODO",
   "metadata": {
    "tags": [],
    "cell_id": "00029-aa9227cb-32fd-4949-bf52-b4a8308c2987",
    "deepnote_cell_type": "markdown",
    "deepnote_cell_height": 52.328125
   }
  },
  {
   "cell_type": "code",
   "metadata": {
    "tags": [],
    "deepnote_to_be_reexecuted": true,
    "source_hash": "76f70179",
    "execution_start": 1654157663043,
    "execution_millis": 40,
    "cell_id": "00030-0f106a72-dfe5-4a7f-a8f9-4e616e578375",
    "deepnote_cell_type": "code",
    "deepnote_cell_height": 188.921875
   },
   "source": "# alpha_scores = {max([0.0001 * s * s,0.0001]):0 for s in range(0,100,10)}\n\n\n# for _ in range(10):\n#     for i in range(0,100,10):\n#         coef = max([0.0001 * i * i,0.0001]) \n#         alpha_scores[coef]+=float(classify_hate('SGDC',alpha = coef)[0])/10",
   "execution_count": null,
   "outputs": []
  },
  {
   "cell_type": "code",
   "metadata": {
    "tags": [],
    "deepnote_to_be_reexecuted": true,
    "source_hash": "a6427cc5",
    "execution_start": 1654157664457,
    "execution_millis": 5,
    "cell_id": "00031-ce85a132-072f-4ce8-ad5d-129080a7a8c7",
    "deepnote_cell_type": "code",
    "deepnote_cell_height": 323.125,
    "deepnote_output_heights": [
     194.03125
    ]
   },
   "source": "#pickling(scores,'/work/twitter-nlp/data/pickle/models/hate/loss_scores.pkl')\nalpha_scores = open_jar('/work/twitter-nlp/data/pickle/models/hate/alpha_scores.pkl')\nalpha_scores",
   "execution_count": null,
   "outputs": [
    {
     "output_type": "execute_result",
     "execution_count": 22,
     "data": {
      "text/plain": "{0.6: 0.7226649458214888,\n 0.61: 0.7513427563325703,\n 0.62: 0.7326090594945454,\n 0.63: 0.7457790143602933,\n 0.64: 0.7376082590657582,\n 0.65: 0.717346505113557,\n 0.66: 0.7467129694744707,\n 0.67: 0.7483145916929301,\n 0.68: 0.7582834509352506,\n 0.69: 0.7432255177317246}"
     },
     "metadata": {}
    }
   ]
  },
  {
   "cell_type": "markdown",
   "source": "Printing final alpha scores TODO",
   "metadata": {
    "tags": [],
    "cell_id": "00032-34010ea0-331f-48de-b09d-805714757106",
    "deepnote_cell_type": "markdown",
    "deepnote_cell_height": 52.328125
   }
  },
  {
   "cell_type": "code",
   "metadata": {
    "tags": [],
    "deepnote_to_be_reexecuted": true,
    "source_hash": "e6092b2c",
    "execution_start": 1654157664512,
    "execution_millis": 3,
    "cell_id": "00033-c1692538-6c1a-4d52-b972-8217d5599d56",
    "deepnote_cell_type": "code",
    "deepnote_cell_height": 359.140625,
    "deepnote_output_heights": [
     194.03125
    ]
   },
   "source": "alpha_scores_4 = open_jar('/work/twitter-nlp/data/pickle/models/hate/alpha_scores_3.pkl')\nalpha_scores_4\n#pickling(alpha_scores_2,'/work/twitter-nlp/data/pickle/models/hate/alpha_scores.pkl')\n#pickling(alpha_scores_3,'/work/twitter-nlp/data/pickle/models/hate/alpha_scores_2.pkl')\n#pickling(alpha_scores_4, '/work/twitter-nlp/data/pickle/models/hate/alpha_scores_3.pkl')",
   "execution_count": null,
   "outputs": [
    {
     "output_type": "execute_result",
     "execution_count": 24,
     "data": {
      "text/plain": "{0.687: 0.7466837827410123,\n 0.6871: 0.7321857661693683,\n 0.6872: 0.7346982418843386,\n 0.6873: 0.7509777646725955,\n 0.6874: 0.7356000977143823,\n 0.6875: 0.7416393100901192,\n 0.6876: 0.7492228693383467,\n 0.6877: 0.7553777802640925,\n 0.6878: 0.748947046902999,\n 0.6879: 0.7502418991606316}"
     },
     "metadata": {}
    }
   ]
  },
  {
   "cell_type": "markdown",
   "source": "## Emoji Prediction Model Training:",
   "metadata": {
    "tags": [],
    "cell_id": "00034-aaac5ce2-714a-4005-9228-7efb64cb37f0",
    "deepnote_cell_type": "markdown",
    "deepnote_cell_height": 69.9375
   }
  },
  {
   "cell_type": "code",
   "metadata": {
    "tags": [],
    "deepnote_to_be_reexecuted": true,
    "source_hash": "11d94e33",
    "execution_start": 1654165047926,
    "execution_millis": 21,
    "cell_id": "00035-2705bc70-9a2f-4e6d-86d6-3817dd29777c",
    "deepnote_cell_type": "code",
    "deepnote_cell_height": 135.71875,
    "deepnote_output_heights": [
     21.1875
    ]
   },
   "source": "five_split_txt_emoji = np.array_split(X_train_txt_emoji, 5)\nlen(five_split_txt_emoji[0])",
   "execution_count": null,
   "outputs": [
    {
     "output_type": "execute_result",
     "execution_count": 21,
     "data": {
      "text/plain": "10000"
     },
     "metadata": {}
    }
   ]
  },
  {
   "cell_type": "code",
   "metadata": {
    "tags": [],
    "deepnote_to_be_reexecuted": true,
    "source_hash": "c4eaaf6c",
    "execution_start": 1654165047957,
    "execution_millis": 20,
    "cell_id": "00036-36503eca-ade3-49fe-8351-4a3777910094",
    "deepnote_cell_type": "code",
    "deepnote_cell_height": 136.09375,
    "deepnote_output_heights": [
     21.1875
    ]
   },
   "source": "five_split_labels_emoji = np.array_split(y_train_emoji,5)\nlen(five_split_labels_emoji[0])",
   "execution_count": null,
   "outputs": [
    {
     "output_type": "execute_result",
     "execution_count": 22,
     "data": {
      "text/plain": "10000"
     },
     "metadata": {}
    }
   ]
  },
  {
   "cell_type": "markdown",
   "source": "Showing ratio of labels in our dataset:",
   "metadata": {
    "tags": [],
    "cell_id": "00037-edaac5d5-7e34-4654-95c3-d32d72db85bf",
    "deepnote_cell_type": "markdown",
    "deepnote_cell_height": 52.328125
   }
  },
  {
   "cell_type": "code",
   "metadata": {
    "tags": [],
    "deepnote_to_be_reexecuted": true,
    "source_hash": "f555d805",
    "execution_start": 1654168863210,
    "execution_millis": 80,
    "cell_id": "00038-f0f5f348-b131-44d5-b564-a65ec6702877",
    "deepnote_cell_type": "code",
    "deepnote_cell_height": 232.296875,
    "deepnote_output_heights": [
     null,
     21.1875
    ]
   },
   "source": "plt.figure(figsize=(10, 10))\nplt.pie(collections.Counter(list(y_train_emoji[0])).values(), labels=list(emoji_classes[2]), autopct = lambda p:f'{p:.2f}%');\n",
   "outputs": [
    {
     "output_type": "error",
     "ename": "NameError",
     "evalue": "name 'y_train_emoji' is not defined",
     "traceback": [
      "\u001b[0;31m---------------------------------------------------------------------------\u001b[0m",
      "\u001b[0;31mNameError\u001b[0m                                 Traceback (most recent call last)",
      "\u001b[0;32m<ipython-input-4-2ce514dd7d28>\u001b[0m in \u001b[0;36m<module>\u001b[0;34m\u001b[0m\n\u001b[1;32m      1\u001b[0m \u001b[0mplt\u001b[0m\u001b[0;34m.\u001b[0m\u001b[0mfigure\u001b[0m\u001b[0;34m(\u001b[0m\u001b[0mfigsize\u001b[0m\u001b[0;34m=\u001b[0m\u001b[0;34m(\u001b[0m\u001b[0;36m10\u001b[0m\u001b[0;34m,\u001b[0m \u001b[0;36m10\u001b[0m\u001b[0;34m)\u001b[0m\u001b[0;34m)\u001b[0m\u001b[0;34m\u001b[0m\u001b[0;34m\u001b[0m\u001b[0m\n\u001b[0;32m----> 2\u001b[0;31m \u001b[0mplt\u001b[0m\u001b[0;34m.\u001b[0m\u001b[0mpie\u001b[0m\u001b[0;34m(\u001b[0m\u001b[0mcollections\u001b[0m\u001b[0;34m.\u001b[0m\u001b[0mCounter\u001b[0m\u001b[0;34m(\u001b[0m\u001b[0mlist\u001b[0m\u001b[0;34m(\u001b[0m\u001b[0my_train_emoji\u001b[0m\u001b[0;34m[\u001b[0m\u001b[0;36m0\u001b[0m\u001b[0;34m]\u001b[0m\u001b[0;34m)\u001b[0m\u001b[0;34m)\u001b[0m\u001b[0;34m.\u001b[0m\u001b[0mvalues\u001b[0m\u001b[0;34m(\u001b[0m\u001b[0;34m)\u001b[0m\u001b[0;34m,\u001b[0m \u001b[0mlabels\u001b[0m\u001b[0;34m=\u001b[0m\u001b[0mlist\u001b[0m\u001b[0;34m(\u001b[0m\u001b[0memoji_classes\u001b[0m\u001b[0;34m[\u001b[0m\u001b[0;36m2\u001b[0m\u001b[0;34m]\u001b[0m\u001b[0;34m)\u001b[0m\u001b[0;34m,\u001b[0m \u001b[0mautopct\u001b[0m \u001b[0;34m=\u001b[0m \u001b[0;32mlambda\u001b[0m \u001b[0mp\u001b[0m\u001b[0;34m:\u001b[0m\u001b[0;34mf'{p:.2f}%'\u001b[0m\u001b[0;34m)\u001b[0m\u001b[0;34m;\u001b[0m\u001b[0;34m\u001b[0m\u001b[0;34m\u001b[0m\u001b[0m\n\u001b[0m",
      "\u001b[0;31mNameError\u001b[0m: name 'y_train_emoji' is not defined"
     ]
    },
    {
     "data": {
      "text/plain": "<Figure size 720x720 with 0 Axes>"
     },
     "metadata": {},
     "output_type": "display_data"
    }
   ],
   "execution_count": null
  },
  {
   "cell_type": "code",
   "metadata": {
    "tags": [],
    "deepnote_to_be_reexecuted": true,
    "source_hash": "23e0d6d7",
    "execution_start": 1654165061664,
    "execution_millis": 3,
    "cell_id": "00039-5631c97d-7407-4eb4-ab19-b18dd1e7ee9d",
    "deepnote_cell_type": "code",
    "deepnote_cell_height": 80.9375
   },
   "source": "lst = [x for x in list(emoji_classes[2])]",
   "execution_count": null,
   "outputs": []
  },
  {
   "cell_type": "markdown",
   "source": "Training based on different models, all in one function, and plotting confusion matrix.",
   "metadata": {
    "tags": [],
    "cell_id": "00040-5d96f9b7-7ec3-445a-8085-6fb82b461061",
    "deepnote_cell_type": "markdown",
    "deepnote_cell_height": 52.328125
   }
  },
  {
   "cell_type": "code",
   "metadata": {
    "tags": [],
    "deepnote_to_be_reexecuted": true,
    "source_hash": "44b2fa9f",
    "execution_start": 1654157665459,
    "execution_millis": 3896,
    "deepnote_table_state": {
     "pageSize": 10,
     "pageIndex": 22,
     "filters": [],
     "sortBy": []
    },
    "deepnote_table_loading": false,
    "owner_user_id": "e1e4b2ef-b70d-4b00-91da-fa585f52d0ab",
    "cell_id": "00041-787731a7-ab10-46db-80ef-ac4f808a3ee8",
    "deepnote_cell_type": "code",
    "deepnote_cell_height": 1778.140625,
    "deepnote_output_heights": [
     null,
     564.984375
    ]
   },
   "source": "warnings.filterwarnings('ignore')\n\ndef classify_emoji(model, confusion_matrix = False, tree1 = False):\n    is_partial = False\n    global y_train\n    if model == 'KNN':\n        classifier = KNeighborsClassifier(n_neighbors = 5)\n    elif model == \"SGDC\":\n        classifier = SGDClassifier(loss='log')\n        is_partial = True\n    elif model == \"MultinomialNB\":\n        classifier = MultinomialNB()\n        is_partial = True\n    elif model == \"DTC\":\n        classifier = DecisionTreeClassifier()\n    elif model == 'GaussianNB':\n        classifier = GaussianNB()\n        is_partial = True\n    if is_partial:\n        acc_score, X_test,y_test, pred =  partial_fitting_emoji(classifier)\n        f1score = f1_score(y_test, pred, average=None)\n    else:\n        cv = CountVectorizer(max_features = 5000)\n        scores = []\n        X, y = X_train_txt_emoji, y_train_emoji\n        X_train_emoji = cv.fit_transform([' '.join(s) for s in X])\n        X_train, X_test, y_train, y_test = train_test_split(X_train_emoji, y, test_size = 0.25, random_state = 0)\n        classifier.fit(X_train, y_train)\n        pred = classifier.predict(X_test)\n        f1score = f1_score(y_test,pred)\n        acc_score = accuracy_score(y_test, pred)\n        scores.append(acc_score)\n    if confusion_matrix == True:\n        _, ax = plt.subplots(figsize=(10,10))\n        plot_confusion_matrix(classifier, X_test, y_test, ax = ax)\n    if tree1 == True:\n        print(\"Plotting Decision Tree...\")\n        text_representation = tree.export_text(classifier, feature_names = list(cv.get_feature_names_out()))\n        print(text_representation)\n        fig = plt.figure(figsize=(25,20))\n        _ = tree.plot_tree(classifier, feature_names = list(cv.get_feature_names_out()), class_names=emoji_classes[1])\n        plt.savefig(\"tree.svg\", format=\"svg\")\n    return acc_score, X_test, pred, f1score\n    \n\nacc_score,X_test,pred, f1score = classify_emoji(\"SGDC\", confusion_matrix = True)\n\n#pred_df = pd.DataFrame(pred)\n#pred_df\nprint(acc_score,'\\n')\nkeys = [val for val in range(0,20)]\nf1_lst = [x for x in f1score]\nprint(dict(zip(keys,f1_lst)))\n\n# for i in range(5):\n#     indx = random.randint(0,len(pred))\n#     print('Our shitty predictions _________________')\n#     print(X_test[indx],pred[indx])",
   "execution_count": null,
   "outputs": [
    {
     "name": "stdout",
     "text": "0.2272 \n\n{0: 0.36661911554921545, 1: 0.21523178807947016, 2: 0.26247689463955637, 3: 0.10847457627118645, 4: 0.24822695035460987, 5: 0.08256880733944956, 6: 0.1229050279329609, 7: 0.07692307692307691, 8: 0.05454545454545455, 9: 0.046511627906976744, 10: 0.07246376811594203, 11: 0.32075471698113206, 12: 0.19130434782608696, 13: 0.047058823529411764, 14: 0.02040816326530612, 15: 0.0, 16: 0.0, 17: 0.59375, 18: 0.17194570135746606, 19: 0.0}\n",
     "output_type": "stream"
    },
    {
     "data": {
      "text/plain": "<Figure size 720x720 with 2 Axes>",
      "image/png": "[encoded data removed]"
     },
     "metadata": {
      "needs_background": "light",
      "image/png": {
       "width": 575,
       "height": 563
      }
     },
     "output_type": "display_data"
    }
   ]
  },
  {
   "cell_type": "markdown",
   "source": "TODO for this notebook:\n- [ ] clean up different text blocks, explain what our code is doing (see todo/comments)\n- [ ] implement porter stemmer for both datasets\n- [ ] work on the extraction text transformer\n- [ ] evaluate different classifiers on emoji ds\n- [ ] run additional tests on emoji ds\n- [ ] report results for emoji ds\n- [ ] clean up hatespeech ds results",
   "metadata": {
    "tags": [],
    "cell_id": "00042-e87ea434-391a-4263-bf1d-795e6924cde6",
    "deepnote_cell_type": "markdown",
    "deepnote_cell_height": 255.0625
   }
  },
  {
   "cell_type": "markdown",
   "source": "- [ ] Evaluate your different classifiers on the validation set and report relevant evaluation metrics (accuracy, precision/recall/F-score).",
   "metadata": {
    "tags": [],
    "cell_id": "00043-89605cdc-8dec-4aba-af16-9de9ef8ef970",
    "deepnote_cell_type": "markdown",
    "deepnote_cell_height": 91.71875
   }
  },
  {
   "cell_type": "markdown",
   "source": "- [ ] Then run additional experiments trying to improve your initial scores by any means you can think of. Try out at least 4 different methods.\n\nAdditional preprocessing options:\n- [ ] n-gram features, lowercasing, stop word lists (see options to `sklearn.feature_extraction.text.CountVectorizer)`\n- [ ] `Counttransformations(sklearn.feature_extraction.text.TfIdfTransformer)`\n- [ ] `Theclassificationloss(lossparametertoSGDClassifier)`\n- [ ] The regularisation strength (alpha parameter to `SGDClassifier` – try varying it in exponentially spaced steps)\n- [ ] Different classifiers (e.g.,`sklearn.ensemble.RandomForestClassifieror sklearn.naive_bayes.MultinomialNB`)\n- [ ] Anything else discussed during the lessons, or implemented in scikit-learn.",
   "metadata": {
    "tags": [],
    "cell_id": "00044-05b9ff03-495c-4ef1-b9dd-d5434598d283",
    "deepnote_cell_type": "markdown",
    "deepnote_cell_height": 291.46875
   }
  },
  {
   "cell_type": "markdown",
   "source": "- [ ] For the systems that achieves the highest accuracy on the validation set, run the evaluation on the test set and report your results.",
   "metadata": {
    "tags": [],
    "cell_id": "00045-fdd1cae7-7e0a-42da-8470-f7d57dcf6a59",
    "deepnote_cell_type": "markdown",
    "deepnote_cell_height": 91.71875
   }
  },
  {
   "cell_type": "markdown",
   "source": "<a style='text-decoration:none;line-height:16px;display:flex;color:#5B5B62;padding:10px;justify-content:end;' href='https://deepnote.com?utm_source=created-in-deepnote-cell&projectId=bf1f20fb-a6c0-4ea2-8567-a5a41eea1d8a' target=\"_blank\">\n<img alt='Created in deepnote.com' style='display:inline;max-height:16px;margin:0px;margin-right:7.5px;' src='data:image/svg+xml;base64,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' > </img>\nCreated in <span style='font-weight:600;margin-left:4px;'>Deepnote</span></a>",
   "metadata": {
    "tags": [],
    "created_in_deepnote_cell": true,
    "deepnote_cell_type": "markdown"
   }
  }
 ],
 "nbformat": 4,
 "nbformat_minor": 2,
 "metadata": {
  "orig_nbformat": 2,
  "deepnote": {},
  "deepnote_notebook_id": "ff296d03-e6ea-44bf-8503-409b6a9bc9de",
  "deepnote_execution_queue": []
 }
}